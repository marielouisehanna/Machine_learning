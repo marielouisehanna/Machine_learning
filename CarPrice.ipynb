{
 "cells": [
  {
   "cell_type": "code",
   "id": "initial_id",
   "metadata": {
    "collapsed": true,
    "ExecuteTime": {
     "end_time": "2025-03-03T16:47:01.402033Z",
     "start_time": "2025-03-03T16:47:01.377772Z"
    }
   },
   "source": [
    "import pandas as pd\n",
    "import numpy as np\n",
    "import pprint\n",
    "import json\n",
    "import matplotlib.pyplot as plt\n",
    "\n",
    "from sklearn.preprocessing import StandardScaler\n",
    "from sklearn.metrics import r2_score\n",
    "import tensorflow as tf\n",
    "import tensorflow_docs as tfdocs\n",
    "from tensorflow import keras\n",
    "from tensorflow.keras import layers, activations\n",
    "from sklearn.model_selection import train_test_split\n",
    "from sklearn.preprocessing import MinMaxScaler\n",
    "from tensorflow.keras.models import Sequential, Model\n",
    "from tensorflow.keras.layers import Dense, Dropout, Input\n",
    "from tensorflow.keras.optimizers import Adam\n",
    "from tensorflow.keras.callbacks import EarlyStopping"
   ],
   "outputs": [],
   "execution_count": 46
  },
  {
   "metadata": {
    "ExecuteTime": {
     "end_time": "2025-03-03T15:01:59.604147Z",
     "start_time": "2025-03-03T15:01:59.578086Z"
    }
   },
   "cell_type": "code",
   "source": "keras.__version__",
   "id": "29faabfdf2f06ee1",
   "outputs": [
    {
     "data": {
      "text/plain": [
       "'3.8.0'"
      ]
     },
     "execution_count": 2,
     "metadata": {},
     "output_type": "execute_result"
    }
   ],
   "execution_count": 2
  },
  {
   "metadata": {
    "ExecuteTime": {
     "end_time": "2025-03-03T15:02:00.429062Z",
     "start_time": "2025-03-03T15:02:00.263311Z"
    }
   },
   "cell_type": "code",
   "source": [
    "dataset = pd.read_csv('car_price_prediction.csv')\n",
    "\n",
    "dataset.sample(10)"
   ],
   "id": "425dab7b3b4840b0",
   "outputs": [
    {
     "data": {
      "text/plain": [
       "             ID  Price  Levy   Manufacturer        Model  Prod. year  \\\n",
       "4399   45795980  21012     -            KIA     Optima X        2012   \n",
       "761    45815241   3763  1053  MERCEDES-BENZ       ML 350        2014   \n",
       "17728  43889777  97219     -          LEXUS       GX 460        2015   \n",
       "3416   45762786    314  1017  MERCEDES-BENZ      GLA 250        2017   \n",
       "5808   45804539  22063   836        HYUNDAI       Tucson        2010   \n",
       "5874   45801836  14834   687        HYUNDAI      Elantra        2010   \n",
       "7820   44397830  32302     -           AUDI  Q5 Prestige        2010   \n",
       "11543  45804503  22947   836        HYUNDAI       Tucson        2010   \n",
       "5972   45507111  15950     -         TOYOTA      Prius C        2013   \n",
       "15361  45646179    282  1598  MERCEDES-BENZ       ML 350        2008   \n",
       "\n",
       "        Category Leather interior Fuel type Engine volume    Mileage  \\\n",
       "4399       Sedan              Yes    Petrol     2.0 Turbo  155000 km   \n",
       "761         Jeep              Yes    Petrol           3.5   94362 km   \n",
       "17728       Jeep              Yes    Petrol           4.6   57000 km   \n",
       "3416        Jeep              Yes    Petrol             2   46413 km   \n",
       "5808        Jeep              Yes    Diesel             2  216751 km   \n",
       "5874       Sedan              Yes    Petrol           1.6   87640 km   \n",
       "7820        Jeep              Yes    Petrol           3.2  182011 km   \n",
       "11543       Jeep              Yes    Diesel             2  199356 km   \n",
       "5972   Hatchback               No    Hybrid           1.5   91200 km   \n",
       "15361       Jeep              Yes    Diesel             3  213998 km   \n",
       "\n",
       "       Cylinders Gear box type Drive wheels   Doors       Wheel  \\\n",
       "4399        12.0     Tiptronic        Front  04-May  Left wheel   \n",
       "761          6.0     Automatic         Rear  04-May  Left wheel   \n",
       "17728        8.0     Automatic          4x4  04-May  Left wheel   \n",
       "3416         4.0     Automatic          4x4  04-May  Left wheel   \n",
       "5808         4.0     Automatic        Front  04-May  Left wheel   \n",
       "5874         4.0     Automatic        Front  04-May  Left wheel   \n",
       "7820         6.0     Tiptronic          4x4  04-May  Left wheel   \n",
       "11543        4.0     Automatic        Front  04-May  Left wheel   \n",
       "5972         2.0     Automatic        Front  04-May  Left wheel   \n",
       "15361        6.0     Automatic          4x4  04-May  Left wheel   \n",
       "\n",
       "               Color  Airbags  \n",
       "4399   Carnelian red       12  \n",
       "761            White       12  \n",
       "17728          White       12  \n",
       "3416            Blue        0  \n",
       "5808          Silver        4  \n",
       "5874            Grey        4  \n",
       "7820           Black       12  \n",
       "11543          White        4  \n",
       "5972            Grey        6  \n",
       "15361         Silver       12  "
      ],
      "text/html": [
       "<div>\n",
       "<style scoped>\n",
       "    .dataframe tbody tr th:only-of-type {\n",
       "        vertical-align: middle;\n",
       "    }\n",
       "\n",
       "    .dataframe tbody tr th {\n",
       "        vertical-align: top;\n",
       "    }\n",
       "\n",
       "    .dataframe thead th {\n",
       "        text-align: right;\n",
       "    }\n",
       "</style>\n",
       "<table border=\"1\" class=\"dataframe\">\n",
       "  <thead>\n",
       "    <tr style=\"text-align: right;\">\n",
       "      <th></th>\n",
       "      <th>ID</th>\n",
       "      <th>Price</th>\n",
       "      <th>Levy</th>\n",
       "      <th>Manufacturer</th>\n",
       "      <th>Model</th>\n",
       "      <th>Prod. year</th>\n",
       "      <th>Category</th>\n",
       "      <th>Leather interior</th>\n",
       "      <th>Fuel type</th>\n",
       "      <th>Engine volume</th>\n",
       "      <th>Mileage</th>\n",
       "      <th>Cylinders</th>\n",
       "      <th>Gear box type</th>\n",
       "      <th>Drive wheels</th>\n",
       "      <th>Doors</th>\n",
       "      <th>Wheel</th>\n",
       "      <th>Color</th>\n",
       "      <th>Airbags</th>\n",
       "    </tr>\n",
       "  </thead>\n",
       "  <tbody>\n",
       "    <tr>\n",
       "      <th>4399</th>\n",
       "      <td>45795980</td>\n",
       "      <td>21012</td>\n",
       "      <td>-</td>\n",
       "      <td>KIA</td>\n",
       "      <td>Optima X</td>\n",
       "      <td>2012</td>\n",
       "      <td>Sedan</td>\n",
       "      <td>Yes</td>\n",
       "      <td>Petrol</td>\n",
       "      <td>2.0 Turbo</td>\n",
       "      <td>155000 km</td>\n",
       "      <td>12.0</td>\n",
       "      <td>Tiptronic</td>\n",
       "      <td>Front</td>\n",
       "      <td>04-May</td>\n",
       "      <td>Left wheel</td>\n",
       "      <td>Carnelian red</td>\n",
       "      <td>12</td>\n",
       "    </tr>\n",
       "    <tr>\n",
       "      <th>761</th>\n",
       "      <td>45815241</td>\n",
       "      <td>3763</td>\n",
       "      <td>1053</td>\n",
       "      <td>MERCEDES-BENZ</td>\n",
       "      <td>ML 350</td>\n",
       "      <td>2014</td>\n",
       "      <td>Jeep</td>\n",
       "      <td>Yes</td>\n",
       "      <td>Petrol</td>\n",
       "      <td>3.5</td>\n",
       "      <td>94362 km</td>\n",
       "      <td>6.0</td>\n",
       "      <td>Automatic</td>\n",
       "      <td>Rear</td>\n",
       "      <td>04-May</td>\n",
       "      <td>Left wheel</td>\n",
       "      <td>White</td>\n",
       "      <td>12</td>\n",
       "    </tr>\n",
       "    <tr>\n",
       "      <th>17728</th>\n",
       "      <td>43889777</td>\n",
       "      <td>97219</td>\n",
       "      <td>-</td>\n",
       "      <td>LEXUS</td>\n",
       "      <td>GX 460</td>\n",
       "      <td>2015</td>\n",
       "      <td>Jeep</td>\n",
       "      <td>Yes</td>\n",
       "      <td>Petrol</td>\n",
       "      <td>4.6</td>\n",
       "      <td>57000 km</td>\n",
       "      <td>8.0</td>\n",
       "      <td>Automatic</td>\n",
       "      <td>4x4</td>\n",
       "      <td>04-May</td>\n",
       "      <td>Left wheel</td>\n",
       "      <td>White</td>\n",
       "      <td>12</td>\n",
       "    </tr>\n",
       "    <tr>\n",
       "      <th>3416</th>\n",
       "      <td>45762786</td>\n",
       "      <td>314</td>\n",
       "      <td>1017</td>\n",
       "      <td>MERCEDES-BENZ</td>\n",
       "      <td>GLA 250</td>\n",
       "      <td>2017</td>\n",
       "      <td>Jeep</td>\n",
       "      <td>Yes</td>\n",
       "      <td>Petrol</td>\n",
       "      <td>2</td>\n",
       "      <td>46413 km</td>\n",
       "      <td>4.0</td>\n",
       "      <td>Automatic</td>\n",
       "      <td>4x4</td>\n",
       "      <td>04-May</td>\n",
       "      <td>Left wheel</td>\n",
       "      <td>Blue</td>\n",
       "      <td>0</td>\n",
       "    </tr>\n",
       "    <tr>\n",
       "      <th>5808</th>\n",
       "      <td>45804539</td>\n",
       "      <td>22063</td>\n",
       "      <td>836</td>\n",
       "      <td>HYUNDAI</td>\n",
       "      <td>Tucson</td>\n",
       "      <td>2010</td>\n",
       "      <td>Jeep</td>\n",
       "      <td>Yes</td>\n",
       "      <td>Diesel</td>\n",
       "      <td>2</td>\n",
       "      <td>216751 km</td>\n",
       "      <td>4.0</td>\n",
       "      <td>Automatic</td>\n",
       "      <td>Front</td>\n",
       "      <td>04-May</td>\n",
       "      <td>Left wheel</td>\n",
       "      <td>Silver</td>\n",
       "      <td>4</td>\n",
       "    </tr>\n",
       "    <tr>\n",
       "      <th>5874</th>\n",
       "      <td>45801836</td>\n",
       "      <td>14834</td>\n",
       "      <td>687</td>\n",
       "      <td>HYUNDAI</td>\n",
       "      <td>Elantra</td>\n",
       "      <td>2010</td>\n",
       "      <td>Sedan</td>\n",
       "      <td>Yes</td>\n",
       "      <td>Petrol</td>\n",
       "      <td>1.6</td>\n",
       "      <td>87640 km</td>\n",
       "      <td>4.0</td>\n",
       "      <td>Automatic</td>\n",
       "      <td>Front</td>\n",
       "      <td>04-May</td>\n",
       "      <td>Left wheel</td>\n",
       "      <td>Grey</td>\n",
       "      <td>4</td>\n",
       "    </tr>\n",
       "    <tr>\n",
       "      <th>7820</th>\n",
       "      <td>44397830</td>\n",
       "      <td>32302</td>\n",
       "      <td>-</td>\n",
       "      <td>AUDI</td>\n",
       "      <td>Q5 Prestige</td>\n",
       "      <td>2010</td>\n",
       "      <td>Jeep</td>\n",
       "      <td>Yes</td>\n",
       "      <td>Petrol</td>\n",
       "      <td>3.2</td>\n",
       "      <td>182011 km</td>\n",
       "      <td>6.0</td>\n",
       "      <td>Tiptronic</td>\n",
       "      <td>4x4</td>\n",
       "      <td>04-May</td>\n",
       "      <td>Left wheel</td>\n",
       "      <td>Black</td>\n",
       "      <td>12</td>\n",
       "    </tr>\n",
       "    <tr>\n",
       "      <th>11543</th>\n",
       "      <td>45804503</td>\n",
       "      <td>22947</td>\n",
       "      <td>836</td>\n",
       "      <td>HYUNDAI</td>\n",
       "      <td>Tucson</td>\n",
       "      <td>2010</td>\n",
       "      <td>Jeep</td>\n",
       "      <td>Yes</td>\n",
       "      <td>Diesel</td>\n",
       "      <td>2</td>\n",
       "      <td>199356 km</td>\n",
       "      <td>4.0</td>\n",
       "      <td>Automatic</td>\n",
       "      <td>Front</td>\n",
       "      <td>04-May</td>\n",
       "      <td>Left wheel</td>\n",
       "      <td>White</td>\n",
       "      <td>4</td>\n",
       "    </tr>\n",
       "    <tr>\n",
       "      <th>5972</th>\n",
       "      <td>45507111</td>\n",
       "      <td>15950</td>\n",
       "      <td>-</td>\n",
       "      <td>TOYOTA</td>\n",
       "      <td>Prius C</td>\n",
       "      <td>2013</td>\n",
       "      <td>Hatchback</td>\n",
       "      <td>No</td>\n",
       "      <td>Hybrid</td>\n",
       "      <td>1.5</td>\n",
       "      <td>91200 km</td>\n",
       "      <td>2.0</td>\n",
       "      <td>Automatic</td>\n",
       "      <td>Front</td>\n",
       "      <td>04-May</td>\n",
       "      <td>Left wheel</td>\n",
       "      <td>Grey</td>\n",
       "      <td>6</td>\n",
       "    </tr>\n",
       "    <tr>\n",
       "      <th>15361</th>\n",
       "      <td>45646179</td>\n",
       "      <td>282</td>\n",
       "      <td>1598</td>\n",
       "      <td>MERCEDES-BENZ</td>\n",
       "      <td>ML 350</td>\n",
       "      <td>2008</td>\n",
       "      <td>Jeep</td>\n",
       "      <td>Yes</td>\n",
       "      <td>Diesel</td>\n",
       "      <td>3</td>\n",
       "      <td>213998 km</td>\n",
       "      <td>6.0</td>\n",
       "      <td>Automatic</td>\n",
       "      <td>4x4</td>\n",
       "      <td>04-May</td>\n",
       "      <td>Left wheel</td>\n",
       "      <td>Silver</td>\n",
       "      <td>12</td>\n",
       "    </tr>\n",
       "  </tbody>\n",
       "</table>\n",
       "</div>"
      ]
     },
     "execution_count": 3,
     "metadata": {},
     "output_type": "execute_result"
    }
   ],
   "execution_count": 3
  },
  {
   "metadata": {
    "ExecuteTime": {
     "end_time": "2025-03-03T15:02:00.680517Z",
     "start_time": "2025-03-03T15:02:00.653793Z"
    }
   },
   "cell_type": "code",
   "source": "dataset.shape",
   "id": "bd30cd4554c7ffb5",
   "outputs": [
    {
     "data": {
      "text/plain": [
       "(19237, 18)"
      ]
     },
     "execution_count": 4,
     "metadata": {},
     "output_type": "execute_result"
    }
   ],
   "execution_count": 4
  },
  {
   "metadata": {
    "ExecuteTime": {
     "end_time": "2025-03-03T15:02:00.912493Z",
     "start_time": "2025-03-03T15:02:00.871741Z"
    }
   },
   "cell_type": "code",
   "source": "dataset.isna().sum()",
   "id": "49336ba54989323f",
   "outputs": [
    {
     "data": {
      "text/plain": [
       "ID                  0\n",
       "Price               0\n",
       "Levy                0\n",
       "Manufacturer        0\n",
       "Model               0\n",
       "Prod. year          0\n",
       "Category            0\n",
       "Leather interior    0\n",
       "Fuel type           0\n",
       "Engine volume       0\n",
       "Mileage             0\n",
       "Cylinders           0\n",
       "Gear box type       0\n",
       "Drive wheels        0\n",
       "Doors               0\n",
       "Wheel               0\n",
       "Color               0\n",
       "Airbags             0\n",
       "dtype: int64"
      ]
     },
     "execution_count": 5,
     "metadata": {},
     "output_type": "execute_result"
    }
   ],
   "execution_count": 5
  },
  {
   "metadata": {
    "ExecuteTime": {
     "end_time": "2025-03-03T15:02:01.520253Z",
     "start_time": "2025-03-03T15:02:01.485184Z"
    }
   },
   "cell_type": "code",
   "source": "dataset[['Levy', 'Engine volume', 'Cylinders']].describe()",
   "id": "148495071da2aabe",
   "outputs": [
    {
     "data": {
      "text/plain": [
       "          Cylinders\n",
       "count  19237.000000\n",
       "mean       4.582991\n",
       "std        1.199933\n",
       "min        1.000000\n",
       "25%        4.000000\n",
       "50%        4.000000\n",
       "75%        4.000000\n",
       "max       16.000000"
      ],
      "text/html": [
       "<div>\n",
       "<style scoped>\n",
       "    .dataframe tbody tr th:only-of-type {\n",
       "        vertical-align: middle;\n",
       "    }\n",
       "\n",
       "    .dataframe tbody tr th {\n",
       "        vertical-align: top;\n",
       "    }\n",
       "\n",
       "    .dataframe thead th {\n",
       "        text-align: right;\n",
       "    }\n",
       "</style>\n",
       "<table border=\"1\" class=\"dataframe\">\n",
       "  <thead>\n",
       "    <tr style=\"text-align: right;\">\n",
       "      <th></th>\n",
       "      <th>Cylinders</th>\n",
       "    </tr>\n",
       "  </thead>\n",
       "  <tbody>\n",
       "    <tr>\n",
       "      <th>count</th>\n",
       "      <td>19237.000000</td>\n",
       "    </tr>\n",
       "    <tr>\n",
       "      <th>mean</th>\n",
       "      <td>4.582991</td>\n",
       "    </tr>\n",
       "    <tr>\n",
       "      <th>std</th>\n",
       "      <td>1.199933</td>\n",
       "    </tr>\n",
       "    <tr>\n",
       "      <th>min</th>\n",
       "      <td>1.000000</td>\n",
       "    </tr>\n",
       "    <tr>\n",
       "      <th>25%</th>\n",
       "      <td>4.000000</td>\n",
       "    </tr>\n",
       "    <tr>\n",
       "      <th>50%</th>\n",
       "      <td>4.000000</td>\n",
       "    </tr>\n",
       "    <tr>\n",
       "      <th>75%</th>\n",
       "      <td>4.000000</td>\n",
       "    </tr>\n",
       "    <tr>\n",
       "      <th>max</th>\n",
       "      <td>16.000000</td>\n",
       "    </tr>\n",
       "  </tbody>\n",
       "</table>\n",
       "</div>"
      ]
     },
     "execution_count": 6,
     "metadata": {},
     "output_type": "execute_result"
    }
   ],
   "execution_count": 6
  },
  {
   "metadata": {
    "ExecuteTime": {
     "end_time": "2025-03-03T15:02:02.407856Z",
     "start_time": "2025-03-03T15:02:02.386894Z"
    }
   },
   "cell_type": "code",
   "source": "dataset['Manufacturer'].value_counts()",
   "id": "fc5047cb43209456",
   "outputs": [
    {
     "data": {
      "text/plain": [
       "Manufacturer\n",
       "HYUNDAI          3769\n",
       "TOYOTA           3662\n",
       "MERCEDES-BENZ    2076\n",
       "FORD             1111\n",
       "CHEVROLET        1069\n",
       "                 ... \n",
       "LAMBORGHINI         1\n",
       "PONTIAC             1\n",
       "SATURN              1\n",
       "ASTON MARTIN        1\n",
       "GREATWALL           1\n",
       "Name: count, Length: 65, dtype: int64"
      ]
     },
     "execution_count": 7,
     "metadata": {},
     "output_type": "execute_result"
    }
   ],
   "execution_count": 7
  },
  {
   "metadata": {
    "ExecuteTime": {
     "end_time": "2025-03-03T15:02:03.630420Z",
     "start_time": "2025-03-03T15:02:03.200765Z"
    }
   },
   "cell_type": "code",
   "source": [
    "plt.figure(figsize=(10, 8))\n",
    "\n",
    "dataset.boxplot('Price')\n",
    "\n",
    "plt.show()"
   ],
   "id": "a29aa43cf19cf295",
   "outputs": [
    {
     "data": {
      "text/plain": [
       "<Figure size 1000x800 with 1 Axes>"
      ],
      "image/png": "[encoded data removed]"
     },
     "metadata": {},
     "output_type": "display_data"
    }
   ],
   "execution_count": 8
  },
  {
   "metadata": {
    "ExecuteTime": {
     "end_time": "2025-03-03T15:02:04.499680Z",
     "start_time": "2025-03-03T15:02:03.926571Z"
    }
   },
   "cell_type": "code",
   "source": [
    "plt.figure(figsize=(10, 8))\n",
    "\n",
    "dataset['Price'].plot.kde()\n",
    "\n",
    "plt.show()"
   ],
   "id": "12a280c7f55509e",
   "outputs": [
    {
     "data": {
      "text/plain": [
       "<Figure size 1000x800 with 1 Axes>"
      ],
      "image/png": "[encoded data removed]"
     },
     "metadata": {},
     "output_type": "display_data"
    }
   ],
   "execution_count": 9
  },
  {
   "metadata": {
    "ExecuteTime": {
     "end_time": "2025-03-03T15:02:05.772929Z",
     "start_time": "2025-03-03T15:02:04.879401Z"
    }
   },
   "cell_type": "code",
   "source": [
    "plt.figure(figsize=(10, 8))\n",
    "\n",
    "plt.scatter(dataset['Manufacturer'], dataset['Price'], s=200)\n",
    "\n",
    "plt.xlabel('Manufacturer', fontsize=20)\n",
    "plt.ylabel('Car costs in function of Manufacturer', fontsize=20)\n",
    "plt.show()"
   ],
   "id": "80d153d2fa4502e9",
   "outputs": [
    {
     "data": {
      "text/plain": [
       "<Figure size 1000x800 with 1 Axes>"
      ],
      "image/png": "[encoded data removed]"
     },
     "metadata": {},
     "output_type": "display_data"
    }
   ],
   "execution_count": 10
  },
  {
   "metadata": {
    "ExecuteTime": {
     "end_time": "2025-03-03T15:02:05.896661Z",
     "start_time": "2025-03-03T15:02:05.841964Z"
    }
   },
   "cell_type": "code",
   "source": "dataset['Levy'] = pd.to_numeric(dataset['Levy'], errors='coerce').fillna(0)",
   "id": "5703bbee0372370d",
   "outputs": [],
   "execution_count": 11
  },
  {
   "metadata": {
    "ExecuteTime": {
     "end_time": "2025-03-03T15:02:06.051208Z",
     "start_time": "2025-03-03T15:02:05.949333Z"
    }
   },
   "cell_type": "code",
   "source": "dataset['Engine volume'] = dataset['Engine volume'].str.extract(r'(\\d+\\.?\\d*)').astype(float)",
   "id": "f74d4a18f2a60947",
   "outputs": [],
   "execution_count": 12
  },
  {
   "metadata": {
    "ExecuteTime": {
     "end_time": "2025-03-03T15:02:06.128538Z",
     "start_time": "2025-03-03T15:02:06.102622Z"
    }
   },
   "cell_type": "code",
   "source": "dataset['Mileage'] = dataset['Mileage'].str.replace(' km', '').astype(int)",
   "id": "75e3e92086467a68",
   "outputs": [],
   "execution_count": 13
  },
  {
   "metadata": {
    "ExecuteTime": {
     "end_time": "2025-03-03T15:02:06.332174Z",
     "start_time": "2025-03-03T15:02:06.203890Z"
    }
   },
   "cell_type": "code",
   "source": [
    "categorical_features = [\n",
    "    'Manufacturer', 'Model', 'Category', 'Leather interior',\n",
    "    'Fuel type', 'Gear box type', 'Drive wheels', 'Doors', 'Wheel', 'Color'\n",
    "]\n",
    "dataset = pd.get_dummies(dataset, columns=categorical_features, drop_first=True)"
   ],
   "id": "10232d04781ffb7f",
   "outputs": [],
   "execution_count": 14
  },
  {
   "metadata": {
    "ExecuteTime": {
     "end_time": "2025-03-03T15:02:06.488121Z",
     "start_time": "2025-03-03T15:02:06.463676Z"
    }
   },
   "cell_type": "code",
   "source": [
    "numeric_features = ['Levy', 'Prod. year', 'Engine volume', 'Mileage', 'Cylinders', 'Airbags']\n",
    "scaler = MinMaxScaler()\n",
    "dataset[numeric_features] = scaler.fit_transform(dataset[numeric_features])"
   ],
   "id": "7ee21a7fb39063ab",
   "outputs": [],
   "execution_count": 15
  },
  {
   "metadata": {
    "ExecuteTime": {
     "end_time": "2025-03-03T15:02:06.626755Z",
     "start_time": "2025-03-03T15:02:06.584975Z"
    }
   },
   "cell_type": "code",
   "source": [
    "X = dataset.drop(columns=['ID', 'Price'])\n",
    "y = dataset['Price']"
   ],
   "id": "ccb0917ba21ccf1f",
   "outputs": [],
   "execution_count": 16
  },
  {
   "metadata": {
    "ExecuteTime": {
     "end_time": "2025-03-03T15:02:06.795609Z",
     "start_time": "2025-03-03T15:02:06.655131Z"
    }
   },
   "cell_type": "code",
   "source": "X_train, X_test, y_train, y_test = train_test_split(X, y, test_size=0.2, random_state=42)",
   "id": "90a85211603ccdc0",
   "outputs": [],
   "execution_count": 17
  },
  {
   "metadata": {
    "ExecuteTime": {
     "end_time": "2025-03-03T15:02:07.246332Z",
     "start_time": "2025-03-03T15:02:06.984618Z"
    }
   },
   "cell_type": "code",
   "source": [
    "base_model = Sequential([\n",
    "    Dense(64, activation='relu', input_shape=(X_train.shape[1],)),\n",
    "    Dense(32, activation='relu'),\n",
    "    Dense(1)  # Single output for regression\n",
    "])\n",
    "base_model.compile(optimizer='adam', loss='mean_squared_error', metrics=['mae'])\n"
   ],
   "id": "df583244cc29a0b0",
   "outputs": [
    {
     "name": "stderr",
     "output_type": "stream",
     "text": [
      "C:\\Users\\Lenovo\\AppData\\Local\\Programs\\Python\\Python310\\lib\\site-packages\\keras\\src\\layers\\core\\dense.py:87: UserWarning: Do not pass an `input_shape`/`input_dim` argument to a layer. When using Sequential models, prefer using an `Input(shape)` object as the first layer in the model instead.\n",
      "  super().__init__(activity_regularizer=activity_regularizer, **kwargs)\n"
     ]
    }
   ],
   "execution_count": 18
  },
  {
   "metadata": {
    "ExecuteTime": {
     "end_time": "2025-03-03T15:02:07.528944Z",
     "start_time": "2025-03-03T15:02:07.517516Z"
    }
   },
   "cell_type": "code",
   "source": "",
   "id": "903b458ee2629f23",
   "outputs": [],
   "execution_count": null
  },
  {
   "metadata": {
    "ExecuteTime": {
     "end_time": "2025-03-03T15:04:29.793420Z",
     "start_time": "2025-03-03T15:02:07.552082Z"
    }
   },
   "cell_type": "code",
   "source": [
    "base_history = base_model.fit(\n",
    "    X_train, y_train,\n",
    "    validation_split=0.2,\n",
    "    epochs=50,\n",
    "    batch_size=32,\n",
    "    verbose=1\n",
    ")"
   ],
   "id": "9a294f26197f71f0",
   "outputs": [
    {
     "name": "stdout",
     "output_type": "stream",
     "text": [
      "Epoch 1/50\n",
      "\u001B[1m385/385\u001B[0m \u001B[32m━━━━━━━━━━━━━━━━━━━━\u001B[0m\u001B[37m\u001B[0m \u001B[1m6s\u001B[0m 8ms/step - loss: 171055775744.0000 - mae: 24031.3242 - val_loss: 507119456.0000 - val_mae: 14700.4287\n",
      "Epoch 2/50\n",
      "\u001B[1m385/385\u001B[0m \u001B[32m━━━━━━━━━━━━━━━━━━━━\u001B[0m\u001B[37m\u001B[0m \u001B[1m3s\u001B[0m 8ms/step - loss: 197606604800.0000 - mae: 21972.8496 - val_loss: 357471488.0000 - val_mae: 11536.9668\n",
      "Epoch 3/50\n",
      "\u001B[1m385/385\u001B[0m \u001B[32m━━━━━━━━━━━━━━━━━━━━\u001B[0m\u001B[37m\u001B[0m \u001B[1m3s\u001B[0m 7ms/step - loss: 51751329792.0000 - mae: 13448.5156 - val_loss: 301027552.0000 - val_mae: 11187.5254\n",
      "Epoch 4/50\n",
      "\u001B[1m385/385\u001B[0m \u001B[32m━━━━━━━━━━━━━━━━━━━━\u001B[0m\u001B[37m\u001B[0m \u001B[1m3s\u001B[0m 8ms/step - loss: 1281487488.0000 - mae: 11665.2373 - val_loss: 289127040.0000 - val_mae: 11254.2354\n",
      "Epoch 5/50\n",
      "\u001B[1m385/385\u001B[0m \u001B[32m━━━━━━━━━━━━━━━━━━━━\u001B[0m\u001B[37m\u001B[0m \u001B[1m3s\u001B[0m 7ms/step - loss: 74120454144.0000 - mae: 14108.5439 - val_loss: 280035136.0000 - val_mae: 11128.3887\n",
      "Epoch 6/50\n",
      "\u001B[1m385/385\u001B[0m \u001B[32m━━━━━━━━━━━━━━━━━━━━\u001B[0m\u001B[37m\u001B[0m \u001B[1m3s\u001B[0m 7ms/step - loss: 31085862912.0000 - mae: 12724.3877 - val_loss: 272441152.0000 - val_mae: 10939.6387\n",
      "Epoch 7/50\n",
      "\u001B[1m385/385\u001B[0m \u001B[32m━━━━━━━━━━━━━━━━━━━━\u001B[0m\u001B[37m\u001B[0m \u001B[1m3s\u001B[0m 7ms/step - loss: 124013256704.0000 - mae: 15997.1445 - val_loss: 265890048.0000 - val_mae: 10741.8857\n",
      "Epoch 8/50\n",
      "\u001B[1m385/385\u001B[0m \u001B[32m━━━━━━━━━━━━━━━━━━━━\u001B[0m\u001B[37m\u001B[0m \u001B[1m3s\u001B[0m 7ms/step - loss: 31879565312.0000 - mae: 12291.4121 - val_loss: 261076416.0000 - val_mae: 10682.1934\n",
      "Epoch 9/50\n",
      "\u001B[1m385/385\u001B[0m \u001B[32m━━━━━━━━━━━━━━━━━━━━\u001B[0m\u001B[37m\u001B[0m \u001B[1m3s\u001B[0m 7ms/step - loss: 12950839296.0000 - mae: 10938.2705 - val_loss: 257217344.0000 - val_mae: 10649.9160\n",
      "Epoch 10/50\n",
      "\u001B[1m385/385\u001B[0m \u001B[32m━━━━━━━━━━━━━━━━━━━━\u001B[0m\u001B[37m\u001B[0m \u001B[1m3s\u001B[0m 7ms/step - loss: 29265680384.0000 - mae: 11806.7773 - val_loss: 253261376.0000 - val_mae: 10537.6436\n",
      "Epoch 11/50\n",
      "\u001B[1m385/385\u001B[0m \u001B[32m━━━━━━━━━━━━━━━━━━━━\u001B[0m\u001B[37m\u001B[0m \u001B[1m3s\u001B[0m 7ms/step - loss: 38904729600.0000 - mae: 12402.7275 - val_loss: 249716224.0000 - val_mae: 10412.4844\n",
      "Epoch 12/50\n",
      "\u001B[1m385/385\u001B[0m \u001B[32m━━━━━━━━━━━━━━━━━━━━\u001B[0m\u001B[37m\u001B[0m \u001B[1m3s\u001B[0m 7ms/step - loss: 10460534784.0000 - mae: 10874.5205 - val_loss: 247779904.0000 - val_mae: 10432.9541\n",
      "Epoch 13/50\n",
      "\u001B[1m385/385\u001B[0m \u001B[32m━━━━━━━━━━━━━━━━━━━━\u001B[0m\u001B[37m\u001B[0m \u001B[1m2s\u001B[0m 6ms/step - loss: 94882840576.0000 - mae: 14240.8359 - val_loss: 244596528.0000 - val_mae: 10282.9404\n",
      "Epoch 14/50\n",
      "\u001B[1m385/385\u001B[0m \u001B[32m━━━━━━━━━━━━━━━━━━━━\u001B[0m\u001B[37m\u001B[0m \u001B[1m2s\u001B[0m 6ms/step - loss: 43525394432.0000 - mae: 12057.3145 - val_loss: 243080624.0000 - val_mae: 10303.4492\n",
      "Epoch 15/50\n",
      "\u001B[1m385/385\u001B[0m \u001B[32m━━━━━━━━━━━━━━━━━━━━\u001B[0m\u001B[37m\u001B[0m \u001B[1m3s\u001B[0m 7ms/step - loss: 202209476608.0000 - mae: 18349.1484 - val_loss: 240500576.0000 - val_mae: 10185.0791\n",
      "Epoch 16/50\n",
      "\u001B[1m385/385\u001B[0m \u001B[32m━━━━━━━━━━━━━━━━━━━━\u001B[0m\u001B[37m\u001B[0m \u001B[1m3s\u001B[0m 7ms/step - loss: 86779535360.0000 - mae: 13470.2354 - val_loss: 238863744.0000 - val_mae: 10166.9648\n",
      "Epoch 17/50\n",
      "\u001B[1m385/385\u001B[0m \u001B[32m━━━━━━━━━━━━━━━━━━━━\u001B[0m\u001B[37m\u001B[0m \u001B[1m3s\u001B[0m 7ms/step - loss: 220864364544.0000 - mae: 18626.9570 - val_loss: 236953776.0000 - val_mae: 10099.6719\n",
      "Epoch 18/50\n",
      "\u001B[1m385/385\u001B[0m \u001B[32m━━━━━━━━━━━━━━━━━━━━\u001B[0m\u001B[37m\u001B[0m \u001B[1m3s\u001B[0m 7ms/step - loss: 82239610880.0000 - mae: 13165.5410 - val_loss: 235515456.0000 - val_mae: 10086.1895\n",
      "Epoch 19/50\n",
      "\u001B[1m385/385\u001B[0m \u001B[32m━━━━━━━━━━━━━━━━━━━━\u001B[0m\u001B[37m\u001B[0m \u001B[1m3s\u001B[0m 7ms/step - loss: 16389178368.0000 - mae: 10579.7266 - val_loss: 234648320.0000 - val_mae: 10119.9268\n",
      "Epoch 20/50\n",
      "\u001B[1m385/385\u001B[0m \u001B[32m━━━━━━━━━━━━━━━━━━━━\u001B[0m\u001B[37m\u001B[0m \u001B[1m3s\u001B[0m 7ms/step - loss: 309983477760.0000 - mae: 21973.0137 - val_loss: 232937904.0000 - val_mae: 10057.6328\n",
      "Epoch 21/50\n",
      "\u001B[1m385/385\u001B[0m \u001B[32m━━━━━━━━━━━━━━━━━━━━\u001B[0m\u001B[37m\u001B[0m \u001B[1m3s\u001B[0m 7ms/step - loss: 23003834368.0000 - mae: 10579.3340 - val_loss: 232473312.0000 - val_mae: 10104.8164\n",
      "Epoch 22/50\n",
      "\u001B[1m385/385\u001B[0m \u001B[32m━━━━━━━━━━━━━━━━━━━━\u001B[0m\u001B[37m\u001B[0m \u001B[1m3s\u001B[0m 7ms/step - loss: 48831651840.0000 - mae: 12220.5518 - val_loss: 230714720.0000 - val_mae: 10018.9453\n",
      "Epoch 23/50\n",
      "\u001B[1m385/385\u001B[0m \u001B[32m━━━━━━━━━━━━━━━━━━━━\u001B[0m\u001B[37m\u001B[0m \u001B[1m3s\u001B[0m 7ms/step - loss: 63755804672.0000 - mae: 12620.1182 - val_loss: 229521504.0000 - val_mae: 9978.2207\n",
      "Epoch 24/50\n",
      "\u001B[1m385/385\u001B[0m \u001B[32m━━━━━━━━━━━━━━━━━━━━\u001B[0m\u001B[37m\u001B[0m \u001B[1m3s\u001B[0m 7ms/step - loss: 100581646336.0000 - mae: 13968.9062 - val_loss: 228832096.0000 - val_mae: 9991.7607\n",
      "Epoch 25/50\n",
      "\u001B[1m385/385\u001B[0m \u001B[32m━━━━━━━━━━━━━━━━━━━━\u001B[0m\u001B[37m\u001B[0m \u001B[1m3s\u001B[0m 7ms/step - loss: 20408002560.0000 - mae: 10419.8789 - val_loss: 228709872.0000 - val_mae: 10043.1260\n",
      "Epoch 26/50\n",
      "\u001B[1m385/385\u001B[0m \u001B[32m━━━━━━━━━━━━━━━━━━━━\u001B[0m\u001B[37m\u001B[0m \u001B[1m3s\u001B[0m 7ms/step - loss: 238086701056.0000 - mae: 18886.8164 - val_loss: 227388864.0000 - val_mae: 9975.1973\n",
      "Epoch 27/50\n",
      "\u001B[1m385/385\u001B[0m \u001B[32m━━━━━━━━━━━━━━━━━━━━\u001B[0m\u001B[37m\u001B[0m \u001B[1m3s\u001B[0m 7ms/step - loss: 90861264896.0000 - mae: 13234.0830 - val_loss: 226569040.0000 - val_mae: 9942.0156\n",
      "Epoch 28/50\n",
      "\u001B[1m385/385\u001B[0m \u001B[32m━━━━━━━━━━━━━━━━━━━━\u001B[0m\u001B[37m\u001B[0m \u001B[1m3s\u001B[0m 7ms/step - loss: 53847375872.0000 - mae: 12093.8164 - val_loss: 226170032.0000 - val_mae: 9955.2031\n",
      "Epoch 29/50\n",
      "\u001B[1m385/385\u001B[0m \u001B[32m━━━━━━━━━━━━━━━━━━━━\u001B[0m\u001B[37m\u001B[0m \u001B[1m3s\u001B[0m 7ms/step - loss: 10851233792.0000 - mae: 10314.1064 - val_loss: 226384144.0000 - val_mae: 10014.8008\n",
      "Epoch 30/50\n",
      "\u001B[1m385/385\u001B[0m \u001B[32m━━━━━━━━━━━━━━━━━━━━\u001B[0m\u001B[37m\u001B[0m \u001B[1m3s\u001B[0m 7ms/step - loss: 48733999104.0000 - mae: 11674.9385 - val_loss: 225505104.0000 - val_mae: 9961.7500\n",
      "Epoch 31/50\n",
      "\u001B[1m385/385\u001B[0m \u001B[32m━━━━━━━━━━━━━━━━━━━━\u001B[0m\u001B[37m\u001B[0m \u001B[1m3s\u001B[0m 8ms/step - loss: 28850628608.0000 - mae: 11224.2549 - val_loss: 225084240.0000 - val_mae: 9951.8750\n",
      "Epoch 32/50\n",
      "\u001B[1m385/385\u001B[0m \u001B[32m━━━━━━━━━━━━━━━━━━━━\u001B[0m\u001B[37m\u001B[0m \u001B[1m3s\u001B[0m 7ms/step - loss: 50893348864.0000 - mae: 11767.2676 - val_loss: 225066160.0000 - val_mae: 9981.4707\n",
      "Epoch 33/50\n",
      "\u001B[1m385/385\u001B[0m \u001B[32m━━━━━━━━━━━━━━━━━━━━\u001B[0m\u001B[37m\u001B[0m \u001B[1m3s\u001B[0m 7ms/step - loss: 21862928384.0000 - mae: 10358.0088 - val_loss: 225057168.0000 - val_mae: 9999.9805\n",
      "Epoch 34/50\n",
      "\u001B[1m385/385\u001B[0m \u001B[32m━━━━━━━━━━━━━━━━━━━━\u001B[0m\u001B[37m\u001B[0m \u001B[1m3s\u001B[0m 7ms/step - loss: 23627788288.0000 - mae: 10817.6582 - val_loss: 224769120.0000 - val_mae: 9988.9023\n",
      "Epoch 35/50\n",
      "\u001B[1m385/385\u001B[0m \u001B[32m━━━━━━━━━━━━━━━━━━━━\u001B[0m\u001B[37m\u001B[0m \u001B[1m3s\u001B[0m 7ms/step - loss: 116313759744.0000 - mae: 14241.3965 - val_loss: 224251920.0000 - val_mae: 9954.4590\n",
      "Epoch 36/50\n",
      "\u001B[1m385/385\u001B[0m \u001B[32m━━━━━━━━━━━━━━━━━━━━\u001B[0m\u001B[37m\u001B[0m \u001B[1m3s\u001B[0m 7ms/step - loss: 38739820544.0000 - mae: 11525.2725 - val_loss: 224227568.0000 - val_mae: 9961.4473\n",
      "Epoch 37/50\n",
      "\u001B[1m385/385\u001B[0m \u001B[32m━━━━━━━━━━━━━━━━━━━━\u001B[0m\u001B[37m\u001B[0m \u001B[1m3s\u001B[0m 8ms/step - loss: 49358651392.0000 - mae: 11528.9023 - val_loss: 224383616.0000 - val_mae: 9986.5508\n",
      "Epoch 38/50\n",
      "\u001B[1m385/385\u001B[0m \u001B[32m━━━━━━━━━━━━━━━━━━━━\u001B[0m\u001B[37m\u001B[0m \u001B[1m3s\u001B[0m 7ms/step - loss: 8584037376.0000 - mae: 10331.5391 - val_loss: 224660032.0000 - val_mae: 10012.6260\n",
      "Epoch 39/50\n",
      "\u001B[1m385/385\u001B[0m \u001B[32m━━━━━━━━━━━━━━━━━━━━\u001B[0m\u001B[37m\u001B[0m \u001B[1m3s\u001B[0m 7ms/step - loss: 29214146560.0000 - mae: 10855.8711 - val_loss: 224646656.0000 - val_mae: 10011.1123\n",
      "Epoch 40/50\n",
      "\u001B[1m385/385\u001B[0m \u001B[32m━━━━━━━━━━━━━━━━━━━━\u001B[0m\u001B[37m\u001B[0m \u001B[1m3s\u001B[0m 7ms/step - loss: 23836221440.0000 - mae: 10617.6201 - val_loss: 225009568.0000 - val_mae: 10037.5312\n",
      "Epoch 41/50\n",
      "\u001B[1m385/385\u001B[0m \u001B[32m━━━━━━━━━━━━━━━━━━━━\u001B[0m\u001B[37m\u001B[0m \u001B[1m3s\u001B[0m 7ms/step - loss: 52319907840.0000 - mae: 11844.4043 - val_loss: 224458784.0000 - val_mae: 9987.2656\n",
      "Epoch 42/50\n",
      "\u001B[1m385/385\u001B[0m \u001B[32m━━━━━━━━━━━━━━━━━━━━\u001B[0m\u001B[37m\u001B[0m \u001B[1m3s\u001B[0m 7ms/step - loss: 97735966720.0000 - mae: 13395.7441 - val_loss: 224506880.0000 - val_mae: 9988.7793\n",
      "Epoch 43/50\n",
      "\u001B[1m385/385\u001B[0m \u001B[32m━━━━━━━━━━━━━━━━━━━━\u001B[0m\u001B[37m\u001B[0m \u001B[1m3s\u001B[0m 7ms/step - loss: 2620796672.0000 - mae: 9580.6904 - val_loss: 225476416.0000 - val_mae: 10078.9736\n",
      "Epoch 44/50\n",
      "\u001B[1m385/385\u001B[0m \u001B[32m━━━━━━━━━━━━━━━━━━━━\u001B[0m\u001B[37m\u001B[0m \u001B[1m3s\u001B[0m 7ms/step - loss: 14676703232.0000 - mae: 10147.8965 - val_loss: 225452448.0000 - val_mae: 10043.5215\n",
      "Epoch 45/50\n",
      "\u001B[1m385/385\u001B[0m \u001B[32m━━━━━━━━━━━━━━━━━━━━\u001B[0m\u001B[37m\u001B[0m \u001B[1m3s\u001B[0m 7ms/step - loss: 11938888704.0000 - mae: 10273.3955 - val_loss: 225727248.0000 - val_mae: 10055.1064\n",
      "Epoch 46/50\n",
      "\u001B[1m385/385\u001B[0m \u001B[32m━━━━━━━━━━━━━━━━━━━━\u001B[0m\u001B[37m\u001B[0m \u001B[1m3s\u001B[0m 8ms/step - loss: 22132617216.0000 - mae: 10580.0430 - val_loss: 225778352.0000 - val_mae: 10048.4014\n",
      "Epoch 47/50\n",
      "\u001B[1m385/385\u001B[0m \u001B[32m━━━━━━━━━━━━━━━━━━━━\u001B[0m\u001B[37m\u001B[0m \u001B[1m3s\u001B[0m 7ms/step - loss: 13803933696.0000 - mae: 10357.7930 - val_loss: 226106272.0000 - val_mae: 10058.4463\n",
      "Epoch 48/50\n",
      "\u001B[1m385/385\u001B[0m \u001B[32m━━━━━━━━━━━━━━━━━━━━\u001B[0m\u001B[37m\u001B[0m \u001B[1m3s\u001B[0m 7ms/step - loss: 3461238016.0000 - mae: 9792.3086 - val_loss: 227139008.0000 - val_mae: 10128.7393\n",
      "Epoch 49/50\n",
      "\u001B[1m385/385\u001B[0m \u001B[32m━━━━━━━━━━━━━━━━━━━━\u001B[0m\u001B[37m\u001B[0m \u001B[1m3s\u001B[0m 7ms/step - loss: 4992292352.0000 - mae: 9806.7793 - val_loss: 227582688.0000 - val_mae: 10131.4355\n",
      "Epoch 50/50\n",
      "\u001B[1m385/385\u001B[0m \u001B[32m━━━━━━━━━━━━━━━━━━━━\u001B[0m\u001B[37m\u001B[0m \u001B[1m3s\u001B[0m 7ms/step - loss: 74345422848.0000 - mae: 12536.9238 - val_loss: 226688752.0000 - val_mae: 10045.6660\n"
     ]
    }
   ],
   "execution_count": 19
  },
  {
   "metadata": {
    "ExecuteTime": {
     "end_time": "2025-03-03T15:07:11.380846Z",
     "start_time": "2025-03-03T15:07:10.448204Z"
    }
   },
   "cell_type": "code",
   "source": [
    "base_loss, base_mae = base_model.evaluate(X_test, y_test, verbose=0)\n",
    "print(f\"Base Model - Mean Absolute Error: {base_mae}\")"
   ],
   "id": "a6175036e76708ca",
   "outputs": [
    {
     "name": "stdout",
     "output_type": "stream",
     "text": [
      "Base Model - Mean Absolute Error: 9715.6025390625\n"
     ]
    }
   ],
   "execution_count": 20
  },
  {
   "metadata": {
    "ExecuteTime": {
     "end_time": "2025-03-03T16:33:40.487292Z",
     "start_time": "2025-03-03T16:33:40.463593Z"
    }
   },
   "cell_type": "code",
   "source": [
    "# Strategy 2: Enhanced Model\n",
    "# -------------------------\n",
    "# Build an enhanced regression model with custom layers\n",
    "def build_custom_model(input_shape):\n",
    "    inputs = Input(shape=(input_shape,))  # Ensure input shape is in tuple format\n",
    "    x = Dense(128, activation='relu')(inputs)\n",
    "    x = Dropout(0.3)(x)\n",
    "    x = Dense(64, activation='relu')(x)\n",
    "    x = Dense(32, activation='relu')(x)\n",
    "    outputs = Dense(1)(x)\n",
    "    return Model(inputs, outputs)"
   ],
   "id": "84c48361a7a531f7",
   "outputs": [],
   "execution_count": 27
  },
  {
   "metadata": {
    "ExecuteTime": {
     "end_time": "2025-03-03T16:33:45.677281Z",
     "start_time": "2025-03-03T16:33:45.549445Z"
    }
   },
   "cell_type": "code",
   "source": [
    "# Create the custom model\n",
    "input_dim = X_train.shape[1]  # Ensure X_train is properly defined\n",
    "enhanced_model = build_custom_model(input_dim)"
   ],
   "id": "87d6f0f6fbd02b91",
   "outputs": [],
   "execution_count": 28
  },
  {
   "metadata": {
    "ExecuteTime": {
     "end_time": "2025-03-03T16:33:50.902321Z",
     "start_time": "2025-03-03T16:33:50.863644Z"
    }
   },
   "cell_type": "code",
   "source": "enhanced_model.compile(optimizer=Adam(learning_rate=0.001), loss='mean_squared_error', metrics=['mae'])",
   "id": "8c454e7ea18bf3d4",
   "outputs": [],
   "execution_count": 29
  },
  {
   "metadata": {
    "ExecuteTime": {
     "end_time": "2025-03-03T16:33:53.595936Z",
     "start_time": "2025-03-03T16:33:53.582100Z"
    }
   },
   "cell_type": "code",
   "source": "early_stopping = EarlyStopping(monitor='val_loss', patience=10, restore_best_weights=True)",
   "id": "36618b2cb986c742",
   "outputs": [],
   "execution_count": 30
  },
  {
   "metadata": {
    "ExecuteTime": {
     "end_time": "2025-03-03T16:35:07.173405Z",
     "start_time": "2025-03-03T16:33:58.449303Z"
    }
   },
   "cell_type": "code",
   "source": [
    "enhanced_history = enhanced_model.fit(\n",
    "    X_train, y_train,\n",
    "    validation_split=0.2,\n",
    "    epochs=100,\n",
    "    batch_size=32,\n",
    "    callbacks=[early_stopping],\n",
    "    verbose=1\n",
    ")"
   ],
   "id": "b81b836ea577e3fe",
   "outputs": [
    {
     "name": "stdout",
     "output_type": "stream",
     "text": [
      "Epoch 1/100\n",
      "\u001B[1m385/385\u001B[0m \u001B[32m━━━━━━━━━━━━━━━━━━━━\u001B[0m\u001B[37m\u001B[0m \u001B[1m7s\u001B[0m 10ms/step - loss: 25421250560.0000 - mae: 16785.4043 - val_loss: 285806464.0000 - val_mae: 11213.1641\n",
      "Epoch 2/100\n",
      "\u001B[1m385/385\u001B[0m \u001B[32m━━━━━━━━━━━━━━━━━━━━\u001B[0m\u001B[37m\u001B[0m \u001B[1m4s\u001B[0m 9ms/step - loss: 9430792192.0000 - mae: 11434.1182 - val_loss: 261147184.0000 - val_mae: 10834.9951\n",
      "Epoch 3/100\n",
      "\u001B[1m385/385\u001B[0m \u001B[32m━━━━━━━━━━━━━━━━━━━━\u001B[0m\u001B[37m\u001B[0m \u001B[1m3s\u001B[0m 9ms/step - loss: 12058804224.0000 - mae: 11650.2988 - val_loss: 248202352.0000 - val_mae: 10464.7783\n",
      "Epoch 4/100\n",
      "\u001B[1m385/385\u001B[0m \u001B[32m━━━━━━━━━━━━━━━━━━━━\u001B[0m\u001B[37m\u001B[0m \u001B[1m3s\u001B[0m 9ms/step - loss: 63792582656.0000 - mae: 12959.8496 - val_loss: 238792064.0000 - val_mae: 10082.3486\n",
      "Epoch 5/100\n",
      "\u001B[1m385/385\u001B[0m \u001B[32m━━━━━━━━━━━━━━━━━━━━\u001B[0m\u001B[37m\u001B[0m \u001B[1m3s\u001B[0m 9ms/step - loss: 8178610688.0000 - mae: 10889.3340 - val_loss: 236715712.0000 - val_mae: 10291.4189\n",
      "Epoch 6/100\n",
      "\u001B[1m385/385\u001B[0m \u001B[32m━━━━━━━━━━━━━━━━━━━━\u001B[0m\u001B[37m\u001B[0m \u001B[1m3s\u001B[0m 9ms/step - loss: 2589005056.0000 - mae: 10418.2451 - val_loss: 236245760.0000 - val_mae: 10454.4297\n",
      "Epoch 7/100\n",
      "\u001B[1m385/385\u001B[0m \u001B[32m━━━━━━━━━━━━━━━━━━━━\u001B[0m\u001B[37m\u001B[0m \u001B[1m3s\u001B[0m 9ms/step - loss: 10298310656.0000 - mae: 10772.3379 - val_loss: 229512112.0000 - val_mae: 10136.4883\n",
      "Epoch 8/100\n",
      "\u001B[1m385/385\u001B[0m \u001B[32m━━━━━━━━━━━━━━━━━━━━\u001B[0m\u001B[37m\u001B[0m \u001B[1m3s\u001B[0m 8ms/step - loss: 18081421312.0000 - mae: 10549.3145 - val_loss: 225083904.0000 - val_mae: 9920.6494\n",
      "Epoch 9/100\n",
      "\u001B[1m385/385\u001B[0m \u001B[32m━━━━━━━━━━━━━━━━━━━━\u001B[0m\u001B[37m\u001B[0m \u001B[1m3s\u001B[0m 8ms/step - loss: 145995661312.0000 - mae: 15605.0068 - val_loss: 222729264.0000 - val_mae: 9847.2822\n",
      "Epoch 10/100\n",
      "\u001B[1m385/385\u001B[0m \u001B[32m━━━━━━━━━━━━━━━━━━━━\u001B[0m\u001B[37m\u001B[0m \u001B[1m3s\u001B[0m 8ms/step - loss: 148016005120.0000 - mae: 15624.9668 - val_loss: 221660576.0000 - val_mae: 9801.6602\n",
      "Epoch 11/100\n",
      "\u001B[1m385/385\u001B[0m \u001B[32m━━━━━━━━━━━━━━━━━━━━\u001B[0m\u001B[37m\u001B[0m \u001B[1m3s\u001B[0m 8ms/step - loss: 42163712000.0000 - mae: 11293.1074 - val_loss: 222698864.0000 - val_mae: 9896.7256\n",
      "Epoch 12/100\n",
      "\u001B[1m385/385\u001B[0m \u001B[32m━━━━━━━━━━━━━━━━━━━━\u001B[0m\u001B[37m\u001B[0m \u001B[1m3s\u001B[0m 8ms/step - loss: 19396057088.0000 - mae: 10554.4951 - val_loss: 223577264.0000 - val_mae: 9852.4531\n",
      "Epoch 13/100\n",
      "\u001B[1m385/385\u001B[0m \u001B[32m━━━━━━━━━━━━━━━━━━━━\u001B[0m\u001B[37m\u001B[0m \u001B[1m3s\u001B[0m 8ms/step - loss: 93659176960.0000 - mae: 13348.9893 - val_loss: 223521904.0000 - val_mae: 9811.6904\n",
      "Epoch 14/100\n",
      "\u001B[1m385/385\u001B[0m \u001B[32m━━━━━━━━━━━━━━━━━━━━\u001B[0m\u001B[37m\u001B[0m \u001B[1m3s\u001B[0m 8ms/step - loss: 29344681984.0000 - mae: 10893.6182 - val_loss: 226408960.0000 - val_mae: 9883.3027\n",
      "Epoch 15/100\n",
      "\u001B[1m385/385\u001B[0m \u001B[32m━━━━━━━━━━━━━━━━━━━━\u001B[0m\u001B[37m\u001B[0m \u001B[1m3s\u001B[0m 8ms/step - loss: 1787570432.0000 - mae: 9657.0859 - val_loss: 232345792.0000 - val_mae: 10156.4863\n",
      "Epoch 16/100\n",
      "\u001B[1m385/385\u001B[0m \u001B[32m━━━━━━━━━━━━━━━━━━━━\u001B[0m\u001B[37m\u001B[0m \u001B[1m3s\u001B[0m 8ms/step - loss: 66716758016.0000 - mae: 12492.1426 - val_loss: 231114496.0000 - val_mae: 9885.7764\n",
      "Epoch 17/100\n",
      "\u001B[1m385/385\u001B[0m \u001B[32m━━━━━━━━━━━━━━━━━━━━\u001B[0m\u001B[37m\u001B[0m \u001B[1m3s\u001B[0m 7ms/step - loss: 11397166080.0000 - mae: 9870.2295 - val_loss: 237377712.0000 - val_mae: 10020.2451\n",
      "Epoch 18/100\n",
      "\u001B[1m385/385\u001B[0m \u001B[32m━━━━━━━━━━━━━━━━━━━━\u001B[0m\u001B[37m\u001B[0m \u001B[1m3s\u001B[0m 8ms/step - loss: 9289672704.0000 - mae: 9658.1211 - val_loss: 244721104.0000 - val_mae: 10196.8389\n",
      "Epoch 19/100\n",
      "\u001B[1m385/385\u001B[0m \u001B[32m━━━━━━━━━━━━━━━━━━━━\u001B[0m\u001B[37m\u001B[0m \u001B[1m3s\u001B[0m 8ms/step - loss: 42000994304.0000 - mae: 11153.6416 - val_loss: 244573904.0000 - val_mae: 10099.8301\n",
      "Epoch 20/100\n",
      "\u001B[1m385/385\u001B[0m \u001B[32m━━━━━━━━━━━━━━━━━━━━\u001B[0m\u001B[37m\u001B[0m \u001B[1m3s\u001B[0m 8ms/step - loss: 5444765696.0000 - mae: 9769.1309 - val_loss: 251999888.0000 - val_mae: 10247.0322\n"
     ]
    }
   ],
   "execution_count": 31
  },
  {
   "metadata": {
    "ExecuteTime": {
     "end_time": "2025-03-03T16:37:16.726582Z",
     "start_time": "2025-03-03T16:37:15.905803Z"
    }
   },
   "cell_type": "code",
   "source": [
    "enhanced_loss, enhanced_mae = enhanced_model.evaluate(X_test, y_test, verbose=0)\n",
    "print(f\"Enhanced Model - Mean Absolute Error: {enhanced_mae}\")"
   ],
   "id": "508612f82fcc1749",
   "outputs": [
    {
     "name": "stdout",
     "output_type": "stream",
     "text": [
      "Enhanced Model - Mean Absolute Error: 9558.044921875\n"
     ]
    }
   ],
   "execution_count": 32
  },
  {
   "metadata": {
    "ExecuteTime": {
     "end_time": "2025-03-03T16:37:22.792060Z",
     "start_time": "2025-03-03T16:37:22.284318Z"
    }
   },
   "cell_type": "code",
   "source": [
    "plt.figure(figsize=(12, 6))\n",
    "plt.plot(base_history.history['loss'], label='Base Model - Training Loss')\n",
    "plt.plot(base_history.history['val_loss'], label='Base Model - Validation Loss')\n",
    "plt.plot(enhanced_history.history['loss'], label='Enhanced Model - Training Loss')\n",
    "plt.plot(enhanced_history.history['val_loss'], label='Enhanced Model - Validation Loss')\n",
    "plt.xlabel('Epochs')\n",
    "plt.ylabel('Loss')\n",
    "plt.legend()\n",
    "plt.title('Comparison of Training and Validation Loss')\n",
    "plt.show()"
   ],
   "id": "bd11b4f4a75ec38d",
   "outputs": [
    {
     "data": {
      "text/plain": [
       "<Figure size 1200x600 with 1 Axes>"
      ],
      "image/png": "[encoded data removed]"
     },
     "metadata": {},
     "output_type": "display_data"
    }
   ],
   "execution_count": 33
  },
  {
   "metadata": {
    "ExecuteTime": {
     "end_time": "2025-03-03T16:37:44.292329Z",
     "start_time": "2025-03-03T16:37:44.256912Z"
    }
   },
   "cell_type": "code",
   "source": [
    "print(f\"Base Model MAE: {base_mae}\")\n",
    "print(f\"Enhanced Model MAE: {enhanced_mae}\")"
   ],
   "id": "b4a0b1233b69c326",
   "outputs": [
    {
     "name": "stdout",
     "output_type": "stream",
     "text": [
      "Base Model MAE: 9715.6025390625\n",
      "Enhanced Model MAE: 9558.044921875\n"
     ]
    }
   ],
   "execution_count": 34
  },
  {
   "metadata": {
    "ExecuteTime": {
     "end_time": "2025-03-03T16:37:48.984162Z",
     "start_time": "2025-03-03T16:37:48.943860Z"
    }
   },
   "cell_type": "code",
   "source": [
    "class MyDense(layers.Layer):\n",
    "\n",
    "    def __init__(self, units, activation=None, **kwargs):\n",
    "\n",
    "        super(MyDense, self).__init__(**kwargs)\n",
    "\n",
    "        self.units = units\n",
    "        self.activation = activations.get(activation)\n",
    "\n",
    "    def build(self, input_shape):\n",
    "        input_dim = input_shape[-1]\n",
    "\n",
    "        self.kernel = self.add_weight(shape=(input_dim, self.units))\n",
    "\n",
    "    def call(self, inputs):\n",
    "        output = tf.matmul(inputs, self.kernel)\n",
    "\n",
    "        if self.activation is not None:\n",
    "            output = self.activation(output)\n",
    "\n",
    "        return output\n",
    "\n",
    "    def compute_output_shape(self, input_shape):\n",
    "        output_shape = list(input_shape)\n",
    "        output_shape[-1] = self.units\n",
    "\n",
    "        return tuple(output_shape)\n",
    "\n",
    "    def get_config(self):\n",
    "        config = super(MyDense, self).get_config()\n",
    "\n",
    "        current_config = {\n",
    "            'units': self.units,\n",
    "            'activation': activations.serialize(self.activation)\n",
    "        }\n",
    "\n",
    "        config.update(current_config)\n",
    "\n",
    "        return config"
   ],
   "id": "2bb17530c3a1f36e",
   "outputs": [],
   "execution_count": 35
  },
  {
   "metadata": {
    "ExecuteTime": {
     "end_time": "2025-03-03T16:41:10.998825Z",
     "start_time": "2025-03-03T16:41:10.967076Z"
    }
   },
   "cell_type": "code",
   "source": [
    "def build_model():\n",
    "\n",
    "    model = tf.keras.Sequential([\n",
    "        MyDense(64, activation='elu', input_shape=[X_train.shape[1]]),\n",
    "        MyDense(32, activation='elu'),\n",
    "\n",
    "        layers.Dropout(0.2),\n",
    "\n",
    "        MyDense(16, activation='elu'),\n",
    "        MyDense(1)\n",
    "    ])\n",
    "\n",
    "    optimizer = tf.keras.optimizers.RMSprop(0.001)\n",
    "\n",
    "    model.compile(loss='mse',\n",
    "                  optimizer=optimizer,\n",
    "                  metrics=['mae', 'mse'])\n",
    "    return model"
   ],
   "id": "eb3bb47890afbd1",
   "outputs": [],
   "execution_count": 40
  },
  {
   "metadata": {
    "ExecuteTime": {
     "end_time": "2025-03-03T16:41:15.010974Z",
     "start_time": "2025-03-03T16:41:14.863239Z"
    }
   },
   "cell_type": "code",
   "source": [
    "sequential_model = build_model()\n",
    "\n",
    "sequential_model.summary()"
   ],
   "id": "bbaf15802a99f4ef",
   "outputs": [
    {
     "name": "stderr",
     "output_type": "stream",
     "text": [
      "C:\\Users\\Lenovo\\AppData\\Local\\Temp\\ipykernel_2548\\3431049347.py:5: UserWarning: Do not pass an `input_shape`/`input_dim` argument to a layer. When using Sequential models, prefer using an `Input(shape)` object as the first layer in the model instead.\n",
      "  super(MyDense, self).__init__(**kwargs)\n"
     ]
    },
    {
     "data": {
      "text/plain": [
       "\u001B[1mModel: \"sequential_1\"\u001B[0m\n"
      ],
      "text/html": [
       "<pre style=\"white-space:pre;overflow-x:auto;line-height:normal;font-family:Menlo,'DejaVu Sans Mono',consolas,'Courier New',monospace\"><span style=\"font-weight: bold\">Model: \"sequential_1\"</span>\n",
       "</pre>\n"
      ]
     },
     "metadata": {},
     "output_type": "display_data"
    },
    {
     "data": {
      "text/plain": [
       "┏━━━━━━━━━━━━━━━━━━━━━━━━━━━━━━━━━┳━━━━━━━━━━━━━━━━━━━━━━━━┳━━━━━━━━━━━━━━━┓\n",
       "┃\u001B[1m \u001B[0m\u001B[1mLayer (type)                   \u001B[0m\u001B[1m \u001B[0m┃\u001B[1m \u001B[0m\u001B[1mOutput Shape          \u001B[0m\u001B[1m \u001B[0m┃\u001B[1m \u001B[0m\u001B[1m      Param #\u001B[0m\u001B[1m \u001B[0m┃\n",
       "┡━━━━━━━━━━━━━━━━━━━━━━━━━━━━━━━━━╇━━━━━━━━━━━━━━━━━━━━━━━━╇━━━━━━━━━━━━━━━┩\n",
       "│ my_dense (\u001B[38;5;33mMyDense\u001B[0m)              │ (\u001B[38;5;45mNone\u001B[0m, \u001B[38;5;34m64\u001B[0m)             │       \u001B[38;5;34m108,736\u001B[0m │\n",
       "├─────────────────────────────────┼────────────────────────┼───────────────┤\n",
       "│ my_dense_1 (\u001B[38;5;33mMyDense\u001B[0m)            │ (\u001B[38;5;45mNone\u001B[0m, \u001B[38;5;34m32\u001B[0m)             │         \u001B[38;5;34m2,048\u001B[0m │\n",
       "├─────────────────────────────────┼────────────────────────┼───────────────┤\n",
       "│ dropout_1 (\u001B[38;5;33mDropout\u001B[0m)             │ (\u001B[38;5;45mNone\u001B[0m, \u001B[38;5;34m32\u001B[0m)             │             \u001B[38;5;34m0\u001B[0m │\n",
       "├─────────────────────────────────┼────────────────────────┼───────────────┤\n",
       "│ my_dense_2 (\u001B[38;5;33mMyDense\u001B[0m)            │ (\u001B[38;5;45mNone\u001B[0m, \u001B[38;5;34m16\u001B[0m)             │           \u001B[38;5;34m512\u001B[0m │\n",
       "├─────────────────────────────────┼────────────────────────┼───────────────┤\n",
       "│ my_dense_3 (\u001B[38;5;33mMyDense\u001B[0m)            │ (\u001B[38;5;45mNone\u001B[0m, \u001B[38;5;34m1\u001B[0m)              │            \u001B[38;5;34m16\u001B[0m │\n",
       "└─────────────────────────────────┴────────────────────────┴───────────────┘\n"
      ],
      "text/html": [
       "<pre style=\"white-space:pre;overflow-x:auto;line-height:normal;font-family:Menlo,'DejaVu Sans Mono',consolas,'Courier New',monospace\">┏━━━━━━━━━━━━━━━━━━━━━━━━━━━━━━━━━┳━━━━━━━━━━━━━━━━━━━━━━━━┳━━━━━━━━━━━━━━━┓\n",
       "┃<span style=\"font-weight: bold\"> Layer (type)                    </span>┃<span style=\"font-weight: bold\"> Output Shape           </span>┃<span style=\"font-weight: bold\">       Param # </span>┃\n",
       "┡━━━━━━━━━━━━━━━━━━━━━━━━━━━━━━━━━╇━━━━━━━━━━━━━━━━━━━━━━━━╇━━━━━━━━━━━━━━━┩\n",
       "│ my_dense (<span style=\"color: #0087ff; text-decoration-color: #0087ff\">MyDense</span>)              │ (<span style=\"color: #00d7ff; text-decoration-color: #00d7ff\">None</span>, <span style=\"color: #00af00; text-decoration-color: #00af00\">64</span>)             │       <span style=\"color: #00af00; text-decoration-color: #00af00\">108,736</span> │\n",
       "├─────────────────────────────────┼────────────────────────┼───────────────┤\n",
       "│ my_dense_1 (<span style=\"color: #0087ff; text-decoration-color: #0087ff\">MyDense</span>)            │ (<span style=\"color: #00d7ff; text-decoration-color: #00d7ff\">None</span>, <span style=\"color: #00af00; text-decoration-color: #00af00\">32</span>)             │         <span style=\"color: #00af00; text-decoration-color: #00af00\">2,048</span> │\n",
       "├─────────────────────────────────┼────────────────────────┼───────────────┤\n",
       "│ dropout_1 (<span style=\"color: #0087ff; text-decoration-color: #0087ff\">Dropout</span>)             │ (<span style=\"color: #00d7ff; text-decoration-color: #00d7ff\">None</span>, <span style=\"color: #00af00; text-decoration-color: #00af00\">32</span>)             │             <span style=\"color: #00af00; text-decoration-color: #00af00\">0</span> │\n",
       "├─────────────────────────────────┼────────────────────────┼───────────────┤\n",
       "│ my_dense_2 (<span style=\"color: #0087ff; text-decoration-color: #0087ff\">MyDense</span>)            │ (<span style=\"color: #00d7ff; text-decoration-color: #00d7ff\">None</span>, <span style=\"color: #00af00; text-decoration-color: #00af00\">16</span>)             │           <span style=\"color: #00af00; text-decoration-color: #00af00\">512</span> │\n",
       "├─────────────────────────────────┼────────────────────────┼───────────────┤\n",
       "│ my_dense_3 (<span style=\"color: #0087ff; text-decoration-color: #0087ff\">MyDense</span>)            │ (<span style=\"color: #00d7ff; text-decoration-color: #00d7ff\">None</span>, <span style=\"color: #00af00; text-decoration-color: #00af00\">1</span>)              │            <span style=\"color: #00af00; text-decoration-color: #00af00\">16</span> │\n",
       "└─────────────────────────────────┴────────────────────────┴───────────────┘\n",
       "</pre>\n"
      ]
     },
     "metadata": {},
     "output_type": "display_data"
    },
    {
     "data": {
      "text/plain": [
       "\u001B[1m Total params: \u001B[0m\u001B[38;5;34m111,312\u001B[0m (434.81 KB)\n"
      ],
      "text/html": [
       "<pre style=\"white-space:pre;overflow-x:auto;line-height:normal;font-family:Menlo,'DejaVu Sans Mono',consolas,'Courier New',monospace\"><span style=\"font-weight: bold\"> Total params: </span><span style=\"color: #00af00; text-decoration-color: #00af00\">111,312</span> (434.81 KB)\n",
       "</pre>\n"
      ]
     },
     "metadata": {},
     "output_type": "display_data"
    },
    {
     "data": {
      "text/plain": [
       "\u001B[1m Trainable params: \u001B[0m\u001B[38;5;34m111,312\u001B[0m (434.81 KB)\n"
      ],
      "text/html": [
       "<pre style=\"white-space:pre;overflow-x:auto;line-height:normal;font-family:Menlo,'DejaVu Sans Mono',consolas,'Courier New',monospace\"><span style=\"font-weight: bold\"> Trainable params: </span><span style=\"color: #00af00; text-decoration-color: #00af00\">111,312</span> (434.81 KB)\n",
       "</pre>\n"
      ]
     },
     "metadata": {},
     "output_type": "display_data"
    },
    {
     "data": {
      "text/plain": [
       "\u001B[1m Non-trainable params: \u001B[0m\u001B[38;5;34m0\u001B[0m (0.00 B)\n"
      ],
      "text/html": [
       "<pre style=\"white-space:pre;overflow-x:auto;line-height:normal;font-family:Menlo,'DejaVu Sans Mono',consolas,'Courier New',monospace\"><span style=\"font-weight: bold\"> Non-trainable params: </span><span style=\"color: #00af00; text-decoration-color: #00af00\">0</span> (0.00 B)\n",
       "</pre>\n"
      ]
     },
     "metadata": {},
     "output_type": "display_data"
    }
   ],
   "execution_count": 41
  },
  {
   "metadata": {
    "ExecuteTime": {
     "end_time": "2025-03-03T15:08:44.266320Z",
     "start_time": "2025-03-03T15:08:44.211204Z"
    }
   },
   "cell_type": "code",
   "source": "",
   "id": "a191fb638b18d456",
   "outputs": [],
   "execution_count": 23
  },
  {
   "metadata": {
    "ExecuteTime": {
     "end_time": "2025-03-03T16:43:16.604263Z",
     "start_time": "2025-03-03T16:43:16.581734Z"
    }
   },
   "cell_type": "code",
   "source": "sequential_model.layers",
   "id": "48a7f86d61b2d4c0",
   "outputs": [
    {
     "data": {
      "text/plain": [
       "[<MyDense name=my_dense, built=True>,\n",
       " <MyDense name=my_dense_1, built=True>,\n",
       " <Dropout name=dropout_1, built=True>,\n",
       " <MyDense name=my_dense_2, built=True>,\n",
       " <MyDense name=my_dense_3, built=True>]"
      ]
     },
     "execution_count": 42,
     "metadata": {},
     "output_type": "execute_result"
    }
   ],
   "execution_count": 42
  },
  {
   "metadata": {
    "ExecuteTime": {
     "end_time": "2025-03-03T16:55:18.194397Z",
     "start_time": "2025-03-03T16:48:57.982557Z"
    }
   },
   "cell_type": "code",
   "source": [
    "n_epochs = 1000\n",
    "\n",
    "# Use EarlyStopping to prevent overfitting\n",
    "early_stopping = tf.keras.callbacks.EarlyStopping(monitor='val_loss', patience=10, restore_best_weights=True)\n",
    "\n",
    "# Train the model\n",
    "training_hist = sequential_model.fit(\n",
    "    X_train, y_train,\n",
    "    epochs=n_epochs,\n",
    "    validation_split=0.2,\n",
    "    verbose=1,  # Show progress bar instead of 'tfdocs.modeling.EpochDots()'\n",
    "    callbacks=[early_stopping]  # Replace EpochDots with EarlyStopping\n",
    ")\n"
   ],
   "id": "5ad4409202baf83d",
   "outputs": [
    {
     "name": "stdout",
     "output_type": "stream",
     "text": [
      "Epoch 1/1000\n",
      "\u001B[1m385/385\u001B[0m \u001B[32m━━━━━━━━━━━━━━━━━━━━\u001B[0m\u001B[37m\u001B[0m \u001B[1m6s\u001B[0m 8ms/step - loss: 9311600640.0000 - mae: 17664.8340 - mse: 9311600640.0000 - val_loss: 486046528.0000 - val_mae: 14226.6455 - val_mse: 486046528.0000\n",
      "Epoch 2/1000\n",
      "\u001B[1m385/385\u001B[0m \u001B[32m━━━━━━━━━━━━━━━━━━━━\u001B[0m\u001B[37m\u001B[0m \u001B[1m3s\u001B[0m 7ms/step - loss: 109212827648.0000 - mae: 17412.4922 - mse: 109212827648.0000 - val_loss: 300152768.0000 - val_mae: 11464.4082 - val_mse: 300152768.0000\n",
      "Epoch 3/1000\n",
      "\u001B[1m385/385\u001B[0m \u001B[32m━━━━━━━━━━━━━━━━━━━━\u001B[0m\u001B[37m\u001B[0m \u001B[1m3s\u001B[0m 7ms/step - loss: 30053738496.0000 - mae: 13050.8955 - mse: 30053738496.0000 - val_loss: 282670784.0000 - val_mae: 11166.9287 - val_mse: 282670784.0000\n",
      "Epoch 4/1000\n",
      "\u001B[1m385/385\u001B[0m \u001B[32m━━━━━━━━━━━━━━━━━━━━\u001B[0m\u001B[37m\u001B[0m \u001B[1m3s\u001B[0m 7ms/step - loss: 85487755264.0000 - mae: 14653.3408 - mse: 85487755264.0000 - val_loss: 265039376.0000 - val_mae: 10546.7139 - val_mse: 265039376.0000\n",
      "Epoch 5/1000\n",
      "\u001B[1m385/385\u001B[0m \u001B[32m━━━━━━━━━━━━━━━━━━━━\u001B[0m\u001B[37m\u001B[0m \u001B[1m3s\u001B[0m 7ms/step - loss: 12613100544.0000 - mae: 11461.7686 - mse: 12613100544.0000 - val_loss: 249729200.0000 - val_mae: 10239.0439 - val_mse: 249729200.0000\n",
      "Epoch 6/1000\n",
      "\u001B[1m385/385\u001B[0m \u001B[32m━━━━━━━━━━━━━━━━━━━━\u001B[0m\u001B[37m\u001B[0m \u001B[1m3s\u001B[0m 8ms/step - loss: 66483867648.0000 - mae: 12772.1572 - mse: 66483867648.0000 - val_loss: 241424336.0000 - val_mae: 10055.4092 - val_mse: 241424336.0000\n",
      "Epoch 7/1000\n",
      "\u001B[1m385/385\u001B[0m \u001B[32m━━━━━━━━━━━━━━━━━━━━\u001B[0m\u001B[37m\u001B[0m \u001B[1m3s\u001B[0m 8ms/step - loss: 32679317504.0000 - mae: 11707.1895 - mse: 32679317504.0000 - val_loss: 235692416.0000 - val_mae: 9831.7109 - val_mse: 235692416.0000\n",
      "Epoch 8/1000\n",
      "\u001B[1m385/385\u001B[0m \u001B[32m━━━━━━━━━━━━━━━━━━━━\u001B[0m\u001B[37m\u001B[0m \u001B[1m3s\u001B[0m 8ms/step - loss: 102338183168.0000 - mae: 13959.0918 - mse: 102338183168.0000 - val_loss: 231584784.0000 - val_mae: 9741.8496 - val_mse: 231584784.0000\n",
      "Epoch 9/1000\n",
      "\u001B[1m385/385\u001B[0m \u001B[32m━━━━━━━━━━━━━━━━━━━━\u001B[0m\u001B[37m\u001B[0m \u001B[1m4s\u001B[0m 9ms/step - loss: 8075140096.0000 - mae: 10104.9600 - mse: 8075140096.0000 - val_loss: 228276704.0000 - val_mae: 9791.1328 - val_mse: 228276704.0000\n",
      "Epoch 10/1000\n",
      "\u001B[1m385/385\u001B[0m \u001B[32m━━━━━━━━━━━━━━━━━━━━\u001B[0m\u001B[37m\u001B[0m \u001B[1m3s\u001B[0m 8ms/step - loss: 129427488768.0000 - mae: 14720.1729 - mse: 129427488768.0000 - val_loss: 225872192.0000 - val_mae: 9710.1143 - val_mse: 225872192.0000\n",
      "Epoch 11/1000\n",
      "\u001B[1m385/385\u001B[0m \u001B[32m━━━━━━━━━━━━━━━━━━━━\u001B[0m\u001B[37m\u001B[0m \u001B[1m3s\u001B[0m 8ms/step - loss: 112214474752.0000 - mae: 14523.3730 - mse: 112214474752.0000 - val_loss: 223990032.0000 - val_mae: 9639.3057 - val_mse: 223990032.0000\n",
      "Epoch 12/1000\n",
      "\u001B[1m385/385\u001B[0m \u001B[32m━━━━━━━━━━━━━━━━━━━━\u001B[0m\u001B[37m\u001B[0m \u001B[1m3s\u001B[0m 8ms/step - loss: 192482410496.0000 - mae: 17388.5664 - mse: 192482410496.0000 - val_loss: 222369824.0000 - val_mae: 9633.0869 - val_mse: 222369824.0000\n",
      "Epoch 13/1000\n",
      "\u001B[1m385/385\u001B[0m \u001B[32m━━━━━━━━━━━━━━━━━━━━\u001B[0m\u001B[37m\u001B[0m \u001B[1m3s\u001B[0m 8ms/step - loss: 44159434752.0000 - mae: 11407.3242 - mse: 44159434752.0000 - val_loss: 221460752.0000 - val_mae: 9721.0596 - val_mse: 221460752.0000\n",
      "Epoch 14/1000\n",
      "\u001B[1m385/385\u001B[0m \u001B[32m━━━━━━━━━━━━━━━━━━━━\u001B[0m\u001B[37m\u001B[0m \u001B[1m3s\u001B[0m 8ms/step - loss: 25726967808.0000 - mae: 10795.5625 - mse: 25726967808.0000 - val_loss: 219996560.0000 - val_mae: 9678.5049 - val_mse: 219996560.0000\n",
      "Epoch 15/1000\n",
      "\u001B[1m385/385\u001B[0m \u001B[32m━━━━━━━━━━━━━━━━━━━━\u001B[0m\u001B[37m\u001B[0m \u001B[1m3s\u001B[0m 8ms/step - loss: 14200991744.0000 - mae: 10597.1787 - mse: 14200991744.0000 - val_loss: 218318560.0000 - val_mae: 9587.1270 - val_mse: 218318560.0000\n",
      "Epoch 16/1000\n",
      "\u001B[1m385/385\u001B[0m \u001B[32m━━━━━━━━━━━━━━━━━━━━\u001B[0m\u001B[37m\u001B[0m \u001B[1m3s\u001B[0m 7ms/step - loss: 6072045056.0000 - mae: 9780.5469 - mse: 6072045056.0000 - val_loss: 217719152.0000 - val_mae: 9626.6299 - val_mse: 217719152.0000\n",
      "Epoch 17/1000\n",
      "\u001B[1m385/385\u001B[0m \u001B[32m━━━━━━━━━━━━━━━━━━━━\u001B[0m\u001B[37m\u001B[0m \u001B[1m3s\u001B[0m 7ms/step - loss: 25237055488.0000 - mae: 10687.4844 - mse: 25237055488.0000 - val_loss: 216923008.0000 - val_mae: 9614.7871 - val_mse: 216923008.0000\n",
      "Epoch 18/1000\n",
      "\u001B[1m385/385\u001B[0m \u001B[32m━━━━━━━━━━━━━━━━━━━━\u001B[0m\u001B[37m\u001B[0m \u001B[1m3s\u001B[0m 8ms/step - loss: 159530352640.0000 - mae: 15719.6934 - mse: 159530352640.0000 - val_loss: 215692928.0000 - val_mae: 9499.0791 - val_mse: 215692928.0000\n",
      "Epoch 19/1000\n",
      "\u001B[1m385/385\u001B[0m \u001B[32m━━━━━━━━━━━━━━━━━━━━\u001B[0m\u001B[37m\u001B[0m \u001B[1m3s\u001B[0m 7ms/step - loss: 5977358336.0000 - mae: 9830.1689 - mse: 5977358336.0000 - val_loss: 214539952.0000 - val_mae: 9467.1680 - val_mse: 214539952.0000\n",
      "Epoch 20/1000\n",
      "\u001B[1m385/385\u001B[0m \u001B[32m━━━━━━━━━━━━━━━━━━━━\u001B[0m\u001B[37m\u001B[0m \u001B[1m3s\u001B[0m 8ms/step - loss: 71961681920.0000 - mae: 12414.4551 - mse: 71961681920.0000 - val_loss: 215186176.0000 - val_mae: 9617.7178 - val_mse: 215186176.0000\n",
      "Epoch 21/1000\n",
      "\u001B[1m385/385\u001B[0m \u001B[32m━━━━━━━━━━━━━━━━━━━━\u001B[0m\u001B[37m\u001B[0m \u001B[1m3s\u001B[0m 7ms/step - loss: 34463821824.0000 - mae: 11048.5889 - mse: 34463821824.0000 - val_loss: 213708624.0000 - val_mae: 9517.3994 - val_mse: 213708624.0000\n",
      "Epoch 22/1000\n",
      "\u001B[1m385/385\u001B[0m \u001B[32m━━━━━━━━━━━━━━━━━━━━\u001B[0m\u001B[37m\u001B[0m \u001B[1m3s\u001B[0m 8ms/step - loss: 9771925504.0000 - mae: 9961.4824 - mse: 9771925504.0000 - val_loss: 212699024.0000 - val_mae: 9484.1523 - val_mse: 212699024.0000\n",
      "Epoch 23/1000\n",
      "\u001B[1m385/385\u001B[0m \u001B[32m━━━━━━━━━━━━━━━━━━━━\u001B[0m\u001B[37m\u001B[0m \u001B[1m3s\u001B[0m 8ms/step - loss: 1564940288.0000 - mae: 9802.7012 - mse: 1564940288.0000 - val_loss: 211484944.0000 - val_mae: 9355.3955 - val_mse: 211484944.0000\n",
      "Epoch 24/1000\n",
      "\u001B[1m385/385\u001B[0m \u001B[32m━━━━━━━━━━━━━━━━━━━━\u001B[0m\u001B[37m\u001B[0m \u001B[1m3s\u001B[0m 8ms/step - loss: 9864851456.0000 - mae: 9670.3525 - mse: 9864851456.0000 - val_loss: 211044704.0000 - val_mae: 9345.0947 - val_mse: 211044704.0000\n",
      "Epoch 25/1000\n",
      "\u001B[1m385/385\u001B[0m \u001B[32m━━━━━━━━━━━━━━━━━━━━\u001B[0m\u001B[37m\u001B[0m \u001B[1m3s\u001B[0m 8ms/step - loss: 105994272768.0000 - mae: 13318.9336 - mse: 105994272768.0000 - val_loss: 210487024.0000 - val_mae: 9313.8369 - val_mse: 210487024.0000\n",
      "Epoch 26/1000\n",
      "\u001B[1m385/385\u001B[0m \u001B[32m━━━━━━━━━━━━━━━━━━━━\u001B[0m\u001B[37m\u001B[0m \u001B[1m3s\u001B[0m 8ms/step - loss: 16637881344.0000 - mae: 10361.1895 - mse: 16637881344.0000 - val_loss: 209983760.0000 - val_mae: 9338.3252 - val_mse: 209983760.0000\n",
      "Epoch 27/1000\n",
      "\u001B[1m385/385\u001B[0m \u001B[32m━━━━━━━━━━━━━━━━━━━━\u001B[0m\u001B[37m\u001B[0m \u001B[1m3s\u001B[0m 8ms/step - loss: 46106021888.0000 - mae: 11064.3057 - mse: 46106021888.0000 - val_loss: 209278032.0000 - val_mae: 9265.3936 - val_mse: 209278032.0000\n",
      "Epoch 28/1000\n",
      "\u001B[1m385/385\u001B[0m \u001B[32m━━━━━━━━━━━━━━━━━━━━\u001B[0m\u001B[37m\u001B[0m \u001B[1m3s\u001B[0m 7ms/step - loss: 60256821248.0000 - mae: 11664.3145 - mse: 60256821248.0000 - val_loss: 209153872.0000 - val_mae: 9334.3291 - val_mse: 209153872.0000\n",
      "Epoch 29/1000\n",
      "\u001B[1m385/385\u001B[0m \u001B[32m━━━━━━━━━━━━━━━━━━━━\u001B[0m\u001B[37m\u001B[0m \u001B[1m3s\u001B[0m 7ms/step - loss: 159601229824.0000 - mae: 15490.6826 - mse: 159601229824.0000 - val_loss: 209880528.0000 - val_mae: 9440.3047 - val_mse: 209880528.0000\n",
      "Epoch 30/1000\n",
      "\u001B[1m385/385\u001B[0m \u001B[32m━━━━━━━━━━━━━━━━━━━━\u001B[0m\u001B[37m\u001B[0m \u001B[1m3s\u001B[0m 7ms/step - loss: 25241968640.0000 - mae: 10164.7998 - mse: 25241968640.0000 - val_loss: 208638992.0000 - val_mae: 9381.9326 - val_mse: 208638992.0000\n",
      "Epoch 31/1000\n",
      "\u001B[1m385/385\u001B[0m \u001B[32m━━━━━━━━━━━━━━━━━━━━\u001B[0m\u001B[37m\u001B[0m \u001B[1m3s\u001B[0m 7ms/step - loss: 46919454720.0000 - mae: 11249.0195 - mse: 46919454720.0000 - val_loss: 207403600.0000 - val_mae: 9287.8457 - val_mse: 207403600.0000\n",
      "Epoch 32/1000\n",
      "\u001B[1m385/385\u001B[0m \u001B[32m━━━━━━━━━━━━━━━━━━━━\u001B[0m\u001B[37m\u001B[0m \u001B[1m2s\u001B[0m 6ms/step - loss: 28948459520.0000 - mae: 10167.4307 - mse: 28948459520.0000 - val_loss: 207536624.0000 - val_mae: 9272.2549 - val_mse: 207536624.0000\n",
      "Epoch 33/1000\n",
      "\u001B[1m385/385\u001B[0m \u001B[32m━━━━━━━━━━━━━━━━━━━━\u001B[0m\u001B[37m\u001B[0m \u001B[1m2s\u001B[0m 5ms/step - loss: 114354348032.0000 - mae: 13547.2148 - mse: 114354348032.0000 - val_loss: 206740912.0000 - val_mae: 9266.0947 - val_mse: 206740912.0000\n",
      "Epoch 34/1000\n",
      "\u001B[1m385/385\u001B[0m \u001B[32m━━━━━━━━━━━━━━━━━━━━\u001B[0m\u001B[37m\u001B[0m \u001B[1m3s\u001B[0m 7ms/step - loss: 22606653440.0000 - mae: 10184.3350 - mse: 22606653440.0000 - val_loss: 207322096.0000 - val_mae: 9345.8965 - val_mse: 207322096.0000\n",
      "Epoch 35/1000\n",
      "\u001B[1m385/385\u001B[0m \u001B[32m━━━━━━━━━━━━━━━━━━━━\u001B[0m\u001B[37m\u001B[0m \u001B[1m3s\u001B[0m 7ms/step - loss: 14358740992.0000 - mae: 9597.0596 - mse: 14358740992.0000 - val_loss: 206225392.0000 - val_mae: 9252.2109 - val_mse: 206225392.0000\n",
      "Epoch 36/1000\n",
      "\u001B[1m385/385\u001B[0m \u001B[32m━━━━━━━━━━━━━━━━━━━━\u001B[0m\u001B[37m\u001B[0m \u001B[1m3s\u001B[0m 7ms/step - loss: 12048089088.0000 - mae: 9600.6143 - mse: 12048089088.0000 - val_loss: 205774544.0000 - val_mae: 9259.8516 - val_mse: 205774544.0000\n",
      "Epoch 37/1000\n",
      "\u001B[1m385/385\u001B[0m \u001B[32m━━━━━━━━━━━━━━━━━━━━\u001B[0m\u001B[37m\u001B[0m \u001B[1m3s\u001B[0m 7ms/step - loss: 162080817152.0000 - mae: 15181.4990 - mse: 162080817152.0000 - val_loss: 206344400.0000 - val_mae: 9317.5742 - val_mse: 206344400.0000\n",
      "Epoch 38/1000\n",
      "\u001B[1m385/385\u001B[0m \u001B[32m━━━━━━━━━━━━━━━━━━━━\u001B[0m\u001B[37m\u001B[0m \u001B[1m3s\u001B[0m 7ms/step - loss: 103211106304.0000 - mae: 12933.6094 - mse: 103211106304.0000 - val_loss: 204830400.0000 - val_mae: 9222.9912 - val_mse: 204830400.0000\n",
      "Epoch 39/1000\n",
      "\u001B[1m385/385\u001B[0m \u001B[32m━━━━━━━━━━━━━━━━━━━━\u001B[0m\u001B[37m\u001B[0m \u001B[1m2s\u001B[0m 6ms/step - loss: 24842389504.0000 - mae: 10166.5303 - mse: 24842389504.0000 - val_loss: 204476960.0000 - val_mae: 9114.1191 - val_mse: 204476960.0000\n",
      "Epoch 40/1000\n",
      "\u001B[1m385/385\u001B[0m \u001B[32m━━━━━━━━━━━━━━━━━━━━\u001B[0m\u001B[37m\u001B[0m \u001B[1m3s\u001B[0m 8ms/step - loss: 75157102592.0000 - mae: 11886.5117 - mse: 75157102592.0000 - val_loss: 203252192.0000 - val_mae: 9100.0615 - val_mse: 203252192.0000\n",
      "Epoch 41/1000\n",
      "\u001B[1m385/385\u001B[0m \u001B[32m━━━━━━━━━━━━━━━━━━━━\u001B[0m\u001B[37m\u001B[0m \u001B[1m3s\u001B[0m 7ms/step - loss: 9913545728.0000 - mae: 9228.4004 - mse: 9913545728.0000 - val_loss: 202870656.0000 - val_mae: 9101.3359 - val_mse: 202870656.0000\n",
      "Epoch 42/1000\n",
      "\u001B[1m385/385\u001B[0m \u001B[32m━━━━━━━━━━━━━━━━━━━━\u001B[0m\u001B[37m\u001B[0m \u001B[1m3s\u001B[0m 7ms/step - loss: 22539479040.0000 - mae: 9699.6201 - mse: 22539479040.0000 - val_loss: 202580528.0000 - val_mae: 9109.3125 - val_mse: 202580528.0000\n",
      "Epoch 43/1000\n",
      "\u001B[1m385/385\u001B[0m \u001B[32m━━━━━━━━━━━━━━━━━━━━\u001B[0m\u001B[37m\u001B[0m \u001B[1m3s\u001B[0m 8ms/step - loss: 7777306112.0000 - mae: 9340.2949 - mse: 7777306112.0000 - val_loss: 202540080.0000 - val_mae: 9165.5391 - val_mse: 202540080.0000\n",
      "Epoch 44/1000\n",
      "\u001B[1m385/385\u001B[0m \u001B[32m━━━━━━━━━━━━━━━━━━━━\u001B[0m\u001B[37m\u001B[0m \u001B[1m3s\u001B[0m 7ms/step - loss: 46419959808.0000 - mae: 10692.3721 - mse: 46419959808.0000 - val_loss: 202269088.0000 - val_mae: 9161.6289 - val_mse: 202269088.0000\n",
      "Epoch 45/1000\n",
      "\u001B[1m385/385\u001B[0m \u001B[32m━━━━━━━━━━━━━━━━━━━━\u001B[0m\u001B[37m\u001B[0m \u001B[1m3s\u001B[0m 7ms/step - loss: 47481753600.0000 - mae: 10817.3594 - mse: 47481753600.0000 - val_loss: 203401216.0000 - val_mae: 9256.6338 - val_mse: 203401216.0000\n",
      "Epoch 46/1000\n",
      "\u001B[1m385/385\u001B[0m \u001B[32m━━━━━━━━━━━━━━━━━━━━\u001B[0m\u001B[37m\u001B[0m \u001B[1m3s\u001B[0m 8ms/step - loss: 20283305984.0000 - mae: 9783.4150 - mse: 20283305984.0000 - val_loss: 200034368.0000 - val_mae: 8999.3564 - val_mse: 200034368.0000\n",
      "Epoch 47/1000\n",
      "\u001B[1m385/385\u001B[0m \u001B[32m━━━━━━━━━━━━━━━━━━━━\u001B[0m\u001B[37m\u001B[0m \u001B[1m3s\u001B[0m 7ms/step - loss: 1817809280.0000 - mae: 9025.0166 - mse: 1817809280.0000 - val_loss: 199268080.0000 - val_mae: 9023.4014 - val_mse: 199268080.0000\n",
      "Epoch 48/1000\n",
      "\u001B[1m385/385\u001B[0m \u001B[32m━━━━━━━━━━━━━━━━━━━━\u001B[0m\u001B[37m\u001B[0m \u001B[1m3s\u001B[0m 8ms/step - loss: 162000404480.0000 - mae: 14727.1777 - mse: 162000404480.0000 - val_loss: 200020128.0000 - val_mae: 9102.8477 - val_mse: 200020128.0000\n",
      "Epoch 49/1000\n",
      "\u001B[1m385/385\u001B[0m \u001B[32m━━━━━━━━━━━━━━━━━━━━\u001B[0m\u001B[37m\u001B[0m \u001B[1m3s\u001B[0m 8ms/step - loss: 29301303296.0000 - mae: 9993.2549 - mse: 29301303296.0000 - val_loss: 198449296.0000 - val_mae: 8997.2021 - val_mse: 198449296.0000\n",
      "Epoch 50/1000\n",
      "\u001B[1m385/385\u001B[0m \u001B[32m━━━━━━━━━━━━━━━━━━━━\u001B[0m\u001B[37m\u001B[0m \u001B[1m3s\u001B[0m 7ms/step - loss: 25419268096.0000 - mae: 9515.5352 - mse: 25419268096.0000 - val_loss: 199074336.0000 - val_mae: 9095.7061 - val_mse: 199074336.0000\n",
      "Epoch 51/1000\n",
      "\u001B[1m385/385\u001B[0m \u001B[32m━━━━━━━━━━━━━━━━━━━━\u001B[0m\u001B[37m\u001B[0m \u001B[1m3s\u001B[0m 7ms/step - loss: 73104990208.0000 - mae: 11583.1885 - mse: 73104990208.0000 - val_loss: 197530992.0000 - val_mae: 8969.6016 - val_mse: 197530992.0000\n",
      "Epoch 52/1000\n",
      "\u001B[1m385/385\u001B[0m \u001B[32m━━━━━━━━━━━━━━━━━━━━\u001B[0m\u001B[37m\u001B[0m \u001B[1m3s\u001B[0m 7ms/step - loss: 69878120448.0000 - mae: 11163.6709 - mse: 69878120448.0000 - val_loss: 196929824.0000 - val_mae: 8908.6494 - val_mse: 196929824.0000\n",
      "Epoch 53/1000\n",
      "\u001B[1m385/385\u001B[0m \u001B[32m━━━━━━━━━━━━━━━━━━━━\u001B[0m\u001B[37m\u001B[0m \u001B[1m3s\u001B[0m 7ms/step - loss: 15062187008.0000 - mae: 9683.0117 - mse: 15062187008.0000 - val_loss: 195218928.0000 - val_mae: 8893.5674 - val_mse: 195218928.0000\n",
      "Epoch 54/1000\n",
      "\u001B[1m385/385\u001B[0m \u001B[32m━━━━━━━━━━━━━━━━━━━━\u001B[0m\u001B[37m\u001B[0m \u001B[1m3s\u001B[0m 7ms/step - loss: 35645661184.0000 - mae: 9980.5879 - mse: 35645661184.0000 - val_loss: 195397696.0000 - val_mae: 8952.7295 - val_mse: 195397696.0000\n",
      "Epoch 55/1000\n",
      "\u001B[1m385/385\u001B[0m \u001B[32m━━━━━━━━━━━━━━━━━━━━\u001B[0m\u001B[37m\u001B[0m \u001B[1m3s\u001B[0m 8ms/step - loss: 188094070784.0000 - mae: 15639.0322 - mse: 188094070784.0000 - val_loss: 196239376.0000 - val_mae: 9046.5127 - val_mse: 196239376.0000\n",
      "Epoch 56/1000\n",
      "\u001B[1m385/385\u001B[0m \u001B[32m━━━━━━━━━━━━━━━━━━━━\u001B[0m\u001B[37m\u001B[0m \u001B[1m2s\u001B[0m 6ms/step - loss: 13268108288.0000 - mae: 9132.8262 - mse: 13268108288.0000 - val_loss: 194123296.0000 - val_mae: 8854.8613 - val_mse: 194123296.0000\n",
      "Epoch 57/1000\n",
      "\u001B[1m385/385\u001B[0m \u001B[32m━━━━━━━━━━━━━━━━━━━━\u001B[0m\u001B[37m\u001B[0m \u001B[1m3s\u001B[0m 7ms/step - loss: 15802871808.0000 - mae: 8951.9658 - mse: 15802871808.0000 - val_loss: 197365120.0000 - val_mae: 9106.6719 - val_mse: 197365120.0000\n",
      "Epoch 58/1000\n",
      "\u001B[1m385/385\u001B[0m \u001B[32m━━━━━━━━━━━━━━━━━━━━\u001B[0m\u001B[37m\u001B[0m \u001B[1m3s\u001B[0m 7ms/step - loss: 91680448512.0000 - mae: 12041.8135 - mse: 91680448512.0000 - val_loss: 192829952.0000 - val_mae: 8810.3398 - val_mse: 192829952.0000\n",
      "Epoch 59/1000\n",
      "\u001B[1m385/385\u001B[0m \u001B[32m━━━━━━━━━━━━━━━━━━━━\u001B[0m\u001B[37m\u001B[0m \u001B[1m3s\u001B[0m 6ms/step - loss: 2510929152.0000 - mae: 8423.3164 - mse: 2510929152.0000 - val_loss: 194740864.0000 - val_mae: 9002.3232 - val_mse: 194740864.0000\n",
      "Epoch 60/1000\n",
      "\u001B[1m385/385\u001B[0m \u001B[32m━━━━━━━━━━━━━━━━━━━━\u001B[0m\u001B[37m\u001B[0m \u001B[1m2s\u001B[0m 6ms/step - loss: 88977702912.0000 - mae: 12066.4180 - mse: 88977702912.0000 - val_loss: 192146912.0000 - val_mae: 8799.1748 - val_mse: 192146912.0000\n",
      "Epoch 61/1000\n",
      "\u001B[1m385/385\u001B[0m \u001B[32m━━━━━━━━━━━━━━━━━━━━\u001B[0m\u001B[37m\u001B[0m \u001B[1m3s\u001B[0m 7ms/step - loss: 492909088.0000 - mae: 8235.0088 - mse: 492909088.0000 - val_loss: 192448720.0000 - val_mae: 8861.9971 - val_mse: 192448720.0000\n",
      "Epoch 62/1000\n",
      "\u001B[1m385/385\u001B[0m \u001B[32m━━━━━━━━━━━━━━━━━━━━\u001B[0m\u001B[37m\u001B[0m \u001B[1m3s\u001B[0m 7ms/step - loss: 64750747648.0000 - mae: 10893.8711 - mse: 64750747648.0000 - val_loss: 191236704.0000 - val_mae: 8781.6260 - val_mse: 191236704.0000\n",
      "Epoch 63/1000\n",
      "\u001B[1m385/385\u001B[0m \u001B[32m━━━━━━━━━━━━━━━━━━━━\u001B[0m\u001B[37m\u001B[0m \u001B[1m2s\u001B[0m 6ms/step - loss: 8950793216.0000 - mae: 8505.3506 - mse: 8950793216.0000 - val_loss: 190415872.0000 - val_mae: 8767.6953 - val_mse: 190415872.0000\n",
      "Epoch 64/1000\n",
      "\u001B[1m385/385\u001B[0m \u001B[32m━━━━━━━━━━━━━━━━━━━━\u001B[0m\u001B[37m\u001B[0m \u001B[1m3s\u001B[0m 7ms/step - loss: 29644111872.0000 - mae: 9511.8232 - mse: 29644111872.0000 - val_loss: 189243104.0000 - val_mae: 8645.5488 - val_mse: 189243104.0000\n",
      "Epoch 65/1000\n",
      "\u001B[1m385/385\u001B[0m \u001B[32m━━━━━━━━━━━━━━━━━━━━\u001B[0m\u001B[37m\u001B[0m \u001B[1m3s\u001B[0m 7ms/step - loss: 214012329984.0000 - mae: 16550.8555 - mse: 214012329984.0000 - val_loss: 188374688.0000 - val_mae: 8686.3408 - val_mse: 188374688.0000\n",
      "Epoch 66/1000\n",
      "\u001B[1m385/385\u001B[0m \u001B[32m━━━━━━━━━━━━━━━━━━━━\u001B[0m\u001B[37m\u001B[0m \u001B[1m3s\u001B[0m 7ms/step - loss: 282158333952.0000 - mae: 18875.0977 - mse: 282158333952.0000 - val_loss: 189705344.0000 - val_mae: 8822.7646 - val_mse: 189705344.0000\n",
      "Epoch 67/1000\n",
      "\u001B[1m385/385\u001B[0m \u001B[32m━━━━━━━━━━━━━━━━━━━━\u001B[0m\u001B[37m\u001B[0m \u001B[1m3s\u001B[0m 7ms/step - loss: 8299971584.0000 - mae: 8421.3838 - mse: 8299971584.0000 - val_loss: 187624560.0000 - val_mae: 8617.0918 - val_mse: 187624560.0000\n",
      "Epoch 68/1000\n",
      "\u001B[1m385/385\u001B[0m \u001B[32m━━━━━━━━━━━━━━━━━━━━\u001B[0m\u001B[37m\u001B[0m \u001B[1m3s\u001B[0m 7ms/step - loss: 13873711104.0000 - mae: 8928.0576 - mse: 13873711104.0000 - val_loss: 187104192.0000 - val_mae: 8518.6572 - val_mse: 187104192.0000\n",
      "Epoch 69/1000\n",
      "\u001B[1m385/385\u001B[0m \u001B[32m━━━━━━━━━━━━━━━━━━━━\u001B[0m\u001B[37m\u001B[0m \u001B[1m3s\u001B[0m 7ms/step - loss: 116480057344.0000 - mae: 12532.7881 - mse: 116480057344.0000 - val_loss: 188211152.0000 - val_mae: 8704.5361 - val_mse: 188211152.0000\n",
      "Epoch 70/1000\n",
      "\u001B[1m385/385\u001B[0m \u001B[32m━━━━━━━━━━━━━━━━━━━━\u001B[0m\u001B[37m\u001B[0m \u001B[1m3s\u001B[0m 7ms/step - loss: 47431692288.0000 - mae: 9997.4609 - mse: 47431692288.0000 - val_loss: 186423472.0000 - val_mae: 8598.6318 - val_mse: 186423472.0000\n",
      "Epoch 71/1000\n",
      "\u001B[1m385/385\u001B[0m \u001B[32m━━━━━━━━━━━━━━━━━━━━\u001B[0m\u001B[37m\u001B[0m \u001B[1m3s\u001B[0m 7ms/step - loss: 125242949632.0000 - mae: 12829.7119 - mse: 125242949632.0000 - val_loss: 188297024.0000 - val_mae: 8748.8516 - val_mse: 188297024.0000\n",
      "Epoch 72/1000\n",
      "\u001B[1m385/385\u001B[0m \u001B[32m━━━━━━━━━━━━━━━━━━━━\u001B[0m\u001B[37m\u001B[0m \u001B[1m3s\u001B[0m 7ms/step - loss: 41052405760.0000 - mae: 9749.1260 - mse: 41052405760.0000 - val_loss: 184694032.0000 - val_mae: 8459.3945 - val_mse: 184694032.0000\n",
      "Epoch 73/1000\n",
      "\u001B[1m385/385\u001B[0m \u001B[32m━━━━━━━━━━━━━━━━━━━━\u001B[0m\u001B[37m\u001B[0m \u001B[1m3s\u001B[0m 8ms/step - loss: 11913313280.0000 - mae: 8450.9033 - mse: 11913313280.0000 - val_loss: 185532048.0000 - val_mae: 8587.6143 - val_mse: 185532048.0000\n",
      "Epoch 74/1000\n",
      "\u001B[1m385/385\u001B[0m \u001B[32m━━━━━━━━━━━━━━━━━━━━\u001B[0m\u001B[37m\u001B[0m \u001B[1m3s\u001B[0m 7ms/step - loss: 29634863104.0000 - mae: 9220.3408 - mse: 29634863104.0000 - val_loss: 188778304.0000 - val_mae: 8755.7432 - val_mse: 188778304.0000\n",
      "Epoch 75/1000\n",
      "\u001B[1m385/385\u001B[0m \u001B[32m━━━━━━━━━━━━━━━━━━━━\u001B[0m\u001B[37m\u001B[0m \u001B[1m3s\u001B[0m 8ms/step - loss: 144357359616.0000 - mae: 13495.6270 - mse: 144357359616.0000 - val_loss: 184348384.0000 - val_mae: 8533.0771 - val_mse: 184348384.0000\n",
      "Epoch 76/1000\n",
      "\u001B[1m385/385\u001B[0m \u001B[32m━━━━━━━━━━━━━━━━━━━━\u001B[0m\u001B[37m\u001B[0m \u001B[1m3s\u001B[0m 8ms/step - loss: 41628565504.0000 - mae: 9609.8721 - mse: 41628565504.0000 - val_loss: 186687360.0000 - val_mae: 8667.0186 - val_mse: 186687360.0000\n",
      "Epoch 77/1000\n",
      "\u001B[1m385/385\u001B[0m \u001B[32m━━━━━━━━━━━━━━━━━━━━\u001B[0m\u001B[37m\u001B[0m \u001B[1m3s\u001B[0m 8ms/step - loss: 38357815296.0000 - mae: 9287.1865 - mse: 38357815296.0000 - val_loss: 185862480.0000 - val_mae: 8618.4082 - val_mse: 185862480.0000\n",
      "Epoch 78/1000\n",
      "\u001B[1m385/385\u001B[0m \u001B[32m━━━━━━━━━━━━━━━━━━━━\u001B[0m\u001B[37m\u001B[0m \u001B[1m3s\u001B[0m 7ms/step - loss: 88080605184.0000 - mae: 11341.9248 - mse: 88080605184.0000 - val_loss: 184090432.0000 - val_mae: 8493.7070 - val_mse: 184090432.0000\n",
      "Epoch 79/1000\n",
      "\u001B[1m385/385\u001B[0m \u001B[32m━━━━━━━━━━━━━━━━━━━━\u001B[0m\u001B[37m\u001B[0m \u001B[1m3s\u001B[0m 8ms/step - loss: 28322285568.0000 - mae: 9187.8701 - mse: 28322285568.0000 - val_loss: 181624256.0000 - val_mae: 8388.1133 - val_mse: 181624256.0000\n",
      "Epoch 80/1000\n",
      "\u001B[1m385/385\u001B[0m \u001B[32m━━━━━━━━━━━━━━━━━━━━\u001B[0m\u001B[37m\u001B[0m \u001B[1m3s\u001B[0m 8ms/step - loss: 91010056192.0000 - mae: 11501.6680 - mse: 91010056192.0000 - val_loss: 181381968.0000 - val_mae: 8355.4609 - val_mse: 181381968.0000\n",
      "Epoch 81/1000\n",
      "\u001B[1m385/385\u001B[0m \u001B[32m━━━━━━━━━━━━━━━━━━━━\u001B[0m\u001B[37m\u001B[0m \u001B[1m3s\u001B[0m 8ms/step - loss: 40169472000.0000 - mae: 9578.6836 - mse: 40169472000.0000 - val_loss: 186328032.0000 - val_mae: 8662.7412 - val_mse: 186328032.0000\n",
      "Epoch 82/1000\n",
      "\u001B[1m385/385\u001B[0m \u001B[32m━━━━━━━━━━━━━━━━━━━━\u001B[0m\u001B[37m\u001B[0m \u001B[1m3s\u001B[0m 8ms/step - loss: 19597459456.0000 - mae: 8486.6553 - mse: 19597459456.0000 - val_loss: 182152800.0000 - val_mae: 8433.9795 - val_mse: 182152800.0000\n",
      "Epoch 83/1000\n",
      "\u001B[1m385/385\u001B[0m \u001B[32m━━━━━━━━━━━━━━━━━━━━\u001B[0m\u001B[37m\u001B[0m \u001B[1m3s\u001B[0m 8ms/step - loss: 93956636672.0000 - mae: 11620.4805 - mse: 93956636672.0000 - val_loss: 183068112.0000 - val_mae: 8487.0674 - val_mse: 183068112.0000\n",
      "Epoch 84/1000\n",
      "\u001B[1m385/385\u001B[0m \u001B[32m━━━━━━━━━━━━━━━━━━━━\u001B[0m\u001B[37m\u001B[0m \u001B[1m3s\u001B[0m 8ms/step - loss: 2006308864.0000 - mae: 7995.9058 - mse: 2006308864.0000 - val_loss: 181689888.0000 - val_mae: 8427.7373 - val_mse: 181689888.0000\n",
      "Epoch 85/1000\n",
      "\u001B[1m385/385\u001B[0m \u001B[32m━━━━━━━━━━━━━━━━━━━━\u001B[0m\u001B[37m\u001B[0m \u001B[1m3s\u001B[0m 7ms/step - loss: 52673441792.0000 - mae: 9828.2646 - mse: 52673441792.0000 - val_loss: 181308944.0000 - val_mae: 8391.9268 - val_mse: 181308944.0000\n",
      "Epoch 86/1000\n",
      "\u001B[1m385/385\u001B[0m \u001B[32m━━━━━━━━━━━━━━━━━━━━\u001B[0m\u001B[37m\u001B[0m \u001B[1m3s\u001B[0m 8ms/step - loss: 6865503744.0000 - mae: 8159.1377 - mse: 6865503744.0000 - val_loss: 181651744.0000 - val_mae: 8358.0938 - val_mse: 181651744.0000\n",
      "Epoch 87/1000\n",
      "\u001B[1m385/385\u001B[0m \u001B[32m━━━━━━━━━━━━━━━━━━━━\u001B[0m\u001B[37m\u001B[0m \u001B[1m3s\u001B[0m 8ms/step - loss: 15073514496.0000 - mae: 8537.6416 - mse: 15073514496.0000 - val_loss: 181596656.0000 - val_mae: 8386.5684 - val_mse: 181596656.0000\n",
      "Epoch 88/1000\n",
      "\u001B[1m385/385\u001B[0m \u001B[32m━━━━━━━━━━━━━━━━━━━━\u001B[0m\u001B[37m\u001B[0m \u001B[1m3s\u001B[0m 7ms/step - loss: 42868174848.0000 - mae: 9510.5527 - mse: 42868174848.0000 - val_loss: 186190208.0000 - val_mae: 8626.3115 - val_mse: 186190208.0000\n",
      "Epoch 89/1000\n",
      "\u001B[1m385/385\u001B[0m \u001B[32m━━━━━━━━━━━━━━━━━━━━\u001B[0m\u001B[37m\u001B[0m \u001B[1m3s\u001B[0m 8ms/step - loss: 45105172480.0000 - mae: 9544.2256 - mse: 45105172480.0000 - val_loss: 180611984.0000 - val_mae: 8386.0410 - val_mse: 180611984.0000\n",
      "Epoch 90/1000\n",
      "\u001B[1m385/385\u001B[0m \u001B[32m━━━━━━━━━━━━━━━━━━━━\u001B[0m\u001B[37m\u001B[0m \u001B[1m3s\u001B[0m 7ms/step - loss: 7766668288.0000 - mae: 7946.2075 - mse: 7766668288.0000 - val_loss: 180601040.0000 - val_mae: 8287.0654 - val_mse: 180601040.0000\n",
      "Epoch 91/1000\n",
      "\u001B[1m385/385\u001B[0m \u001B[32m━━━━━━━━━━━━━━━━━━━━\u001B[0m\u001B[37m\u001B[0m \u001B[1m3s\u001B[0m 8ms/step - loss: 15845712896.0000 - mae: 8270.6924 - mse: 15845712896.0000 - val_loss: 179857632.0000 - val_mae: 8295.3076 - val_mse: 179857632.0000\n",
      "Epoch 92/1000\n",
      "\u001B[1m385/385\u001B[0m \u001B[32m━━━━━━━━━━━━━━━━━━━━\u001B[0m\u001B[37m\u001B[0m \u001B[1m3s\u001B[0m 7ms/step - loss: 138982834176.0000 - mae: 13352.8643 - mse: 138982834176.0000 - val_loss: 181887168.0000 - val_mae: 8433.8721 - val_mse: 181887168.0000\n",
      "Epoch 93/1000\n",
      "\u001B[1m385/385\u001B[0m \u001B[32m━━━━━━━━━━━━━━━━━━━━\u001B[0m\u001B[37m\u001B[0m \u001B[1m3s\u001B[0m 7ms/step - loss: 104154587136.0000 - mae: 11825.7158 - mse: 104154587136.0000 - val_loss: 178741136.0000 - val_mae: 8232.1025 - val_mse: 178741136.0000\n",
      "Epoch 94/1000\n",
      "\u001B[1m385/385\u001B[0m \u001B[32m━━━━━━━━━━━━━━━━━━━━\u001B[0m\u001B[37m\u001B[0m \u001B[1m3s\u001B[0m 8ms/step - loss: 462763168.0000 - mae: 7701.8833 - mse: 462763168.0000 - val_loss: 183548384.0000 - val_mae: 8457.5781 - val_mse: 183548384.0000\n",
      "Epoch 95/1000\n",
      "\u001B[1m385/385\u001B[0m \u001B[32m━━━━━━━━━━━━━━━━━━━━\u001B[0m\u001B[37m\u001B[0m \u001B[1m3s\u001B[0m 8ms/step - loss: 20395089920.0000 - mae: 8376.0293 - mse: 20395089920.0000 - val_loss: 179458928.0000 - val_mae: 8276.9404 - val_mse: 179458928.0000\n",
      "Epoch 96/1000\n",
      "\u001B[1m385/385\u001B[0m \u001B[32m━━━━━━━━━━━━━━━━━━━━\u001B[0m\u001B[37m\u001B[0m \u001B[1m3s\u001B[0m 8ms/step - loss: 84751147008.0000 - mae: 10922.7822 - mse: 84751147008.0000 - val_loss: 177223632.0000 - val_mae: 8107.3340 - val_mse: 177223632.0000\n",
      "Epoch 97/1000\n",
      "\u001B[1m385/385\u001B[0m \u001B[32m━━━━━━━━━━━━━━━━━━━━\u001B[0m\u001B[37m\u001B[0m \u001B[1m3s\u001B[0m 7ms/step - loss: 981150080.0000 - mae: 7739.3877 - mse: 981150080.0000 - val_loss: 178684656.0000 - val_mae: 8271.4795 - val_mse: 178684656.0000\n",
      "Epoch 98/1000\n",
      "\u001B[1m385/385\u001B[0m \u001B[32m━━━━━━━━━━━━━━━━━━━━\u001B[0m\u001B[37m\u001B[0m \u001B[1m3s\u001B[0m 8ms/step - loss: 68869505024.0000 - mae: 10297.8086 - mse: 68869505024.0000 - val_loss: 182984032.0000 - val_mae: 8434.2129 - val_mse: 182984032.0000\n",
      "Epoch 99/1000\n",
      "\u001B[1m385/385\u001B[0m \u001B[32m━━━━━━━━━━━━━━━━━━━━\u001B[0m\u001B[37m\u001B[0m \u001B[1m3s\u001B[0m 8ms/step - loss: 202165633024.0000 - mae: 15270.7842 - mse: 202165633024.0000 - val_loss: 178091616.0000 - val_mae: 8168.7642 - val_mse: 178091616.0000\n",
      "Epoch 100/1000\n",
      "\u001B[1m385/385\u001B[0m \u001B[32m━━━━━━━━━━━━━━━━━━━━\u001B[0m\u001B[37m\u001B[0m \u001B[1m3s\u001B[0m 8ms/step - loss: 188080586752.0000 - mae: 14887.5049 - mse: 188080586752.0000 - val_loss: 183837040.0000 - val_mae: 8425.4277 - val_mse: 183837040.0000\n",
      "Epoch 101/1000\n",
      "\u001B[1m385/385\u001B[0m \u001B[32m━━━━━━━━━━━━━━━━━━━━\u001B[0m\u001B[37m\u001B[0m \u001B[1m3s\u001B[0m 8ms/step - loss: 60574920704.0000 - mae: 9769.1641 - mse: 60574920704.0000 - val_loss: 179346560.0000 - val_mae: 8188.3208 - val_mse: 179346560.0000\n",
      "Epoch 102/1000\n",
      "\u001B[1m385/385\u001B[0m \u001B[32m━━━━━━━━━━━━━━━━━━━━\u001B[0m\u001B[37m\u001B[0m \u001B[1m3s\u001B[0m 7ms/step - loss: 42829836288.0000 - mae: 9135.5205 - mse: 42829836288.0000 - val_loss: 181179424.0000 - val_mae: 8280.3252 - val_mse: 181179424.0000\n",
      "Epoch 103/1000\n",
      "\u001B[1m385/385\u001B[0m \u001B[32m━━━━━━━━━━━━━━━━━━━━\u001B[0m\u001B[37m\u001B[0m \u001B[1m3s\u001B[0m 8ms/step - loss: 1151234944.0000 - mae: 7665.6519 - mse: 1151234944.0000 - val_loss: 177927584.0000 - val_mae: 8093.9731 - val_mse: 177927584.0000\n",
      "Epoch 104/1000\n",
      "\u001B[1m385/385\u001B[0m \u001B[32m━━━━━━━━━━━━━━━━━━━━\u001B[0m\u001B[37m\u001B[0m \u001B[1m3s\u001B[0m 7ms/step - loss: 45076787200.0000 - mae: 9299.7021 - mse: 45076787200.0000 - val_loss: 177404256.0000 - val_mae: 8106.4014 - val_mse: 177404256.0000\n",
      "Epoch 105/1000\n",
      "\u001B[1m385/385\u001B[0m \u001B[32m━━━━━━━━━━━━━━━━━━━━\u001B[0m\u001B[37m\u001B[0m \u001B[1m3s\u001B[0m 6ms/step - loss: 19767191552.0000 - mae: 8125.5068 - mse: 19767191552.0000 - val_loss: 177588480.0000 - val_mae: 8052.9614 - val_mse: 177588480.0000\n",
      "Epoch 106/1000\n",
      "\u001B[1m385/385\u001B[0m \u001B[32m━━━━━━━━━━━━━━━━━━━━\u001B[0m\u001B[37m\u001B[0m \u001B[1m3s\u001B[0m 7ms/step - loss: 16383254528.0000 - mae: 8073.5059 - mse: 16383254528.0000 - val_loss: 176346704.0000 - val_mae: 8045.8423 - val_mse: 176346704.0000\n",
      "Epoch 107/1000\n",
      "\u001B[1m385/385\u001B[0m \u001B[32m━━━━━━━━━━━━━━━━━━━━\u001B[0m\u001B[37m\u001B[0m \u001B[1m3s\u001B[0m 6ms/step - loss: 64075886592.0000 - mae: 9768.9424 - mse: 64075886592.0000 - val_loss: 178639760.0000 - val_mae: 8105.2788 - val_mse: 178639760.0000\n",
      "Epoch 108/1000\n",
      "\u001B[1m385/385\u001B[0m \u001B[32m━━━━━━━━━━━━━━━━━━━━\u001B[0m\u001B[37m\u001B[0m \u001B[1m3s\u001B[0m 6ms/step - loss: 111056183296.0000 - mae: 11800.3828 - mse: 111056183296.0000 - val_loss: 179600816.0000 - val_mae: 8159.4126 - val_mse: 179600816.0000\n",
      "Epoch 109/1000\n",
      "\u001B[1m385/385\u001B[0m \u001B[32m━━━━━━━━━━━━━━━━━━━━\u001B[0m\u001B[37m\u001B[0m \u001B[1m2s\u001B[0m 6ms/step - loss: 58547286016.0000 - mae: 9687.1562 - mse: 58547286016.0000 - val_loss: 179239936.0000 - val_mae: 8127.2847 - val_mse: 179239936.0000\n",
      "Epoch 110/1000\n",
      "\u001B[1m385/385\u001B[0m \u001B[32m━━━━━━━━━━━━━━━━━━━━\u001B[0m\u001B[37m\u001B[0m \u001B[1m3s\u001B[0m 7ms/step - loss: 12277178368.0000 - mae: 7947.9722 - mse: 12277178368.0000 - val_loss: 179318480.0000 - val_mae: 8151.5527 - val_mse: 179318480.0000\n",
      "Epoch 111/1000\n",
      "\u001B[1m385/385\u001B[0m \u001B[32m━━━━━━━━━━━━━━━━━━━━\u001B[0m\u001B[37m\u001B[0m \u001B[1m3s\u001B[0m 7ms/step - loss: 26593273856.0000 - mae: 8577.5850 - mse: 26593273856.0000 - val_loss: 175717408.0000 - val_mae: 7978.1929 - val_mse: 175717408.0000\n",
      "Epoch 112/1000\n",
      "\u001B[1m385/385\u001B[0m \u001B[32m━━━━━━━━━━━━━━━━━━━━\u001B[0m\u001B[37m\u001B[0m \u001B[1m2s\u001B[0m 6ms/step - loss: 23837523968.0000 - mae: 8360.3018 - mse: 23837523968.0000 - val_loss: 176364832.0000 - val_mae: 7994.0122 - val_mse: 176364832.0000\n",
      "Epoch 113/1000\n",
      "\u001B[1m385/385\u001B[0m \u001B[32m━━━━━━━━━━━━━━━━━━━━\u001B[0m\u001B[37m\u001B[0m \u001B[1m3s\u001B[0m 6ms/step - loss: 11884844032.0000 - mae: 7606.3545 - mse: 11884844032.0000 - val_loss: 179885936.0000 - val_mae: 8120.5601 - val_mse: 179885936.0000\n",
      "Epoch 114/1000\n",
      "\u001B[1m385/385\u001B[0m \u001B[32m━━━━━━━━━━━━━━━━━━━━\u001B[0m\u001B[37m\u001B[0m \u001B[1m3s\u001B[0m 7ms/step - loss: 69425815552.0000 - mae: 10178.0459 - mse: 69425815552.0000 - val_loss: 179790720.0000 - val_mae: 8106.4521 - val_mse: 179790720.0000\n",
      "Epoch 115/1000\n",
      "\u001B[1m385/385\u001B[0m \u001B[32m━━━━━━━━━━━━━━━━━━━━\u001B[0m\u001B[37m\u001B[0m \u001B[1m3s\u001B[0m 7ms/step - loss: 144352280576.0000 - mae: 12962.4346 - mse: 144352280576.0000 - val_loss: 178588752.0000 - val_mae: 8088.6499 - val_mse: 178588752.0000\n",
      "Epoch 116/1000\n",
      "\u001B[1m385/385\u001B[0m \u001B[32m━━━━━━━━━━━━━━━━━━━━\u001B[0m\u001B[37m\u001B[0m \u001B[1m3s\u001B[0m 6ms/step - loss: 123865047040.0000 - mae: 12086.2559 - mse: 123865047040.0000 - val_loss: 175285120.0000 - val_mae: 7968.7295 - val_mse: 175285120.0000\n",
      "Epoch 117/1000\n",
      "\u001B[1m385/385\u001B[0m \u001B[32m━━━━━━━━━━━━━━━━━━━━\u001B[0m\u001B[37m\u001B[0m \u001B[1m3s\u001B[0m 7ms/step - loss: 197141921792.0000 - mae: 14994.0342 - mse: 197141921792.0000 - val_loss: 176398912.0000 - val_mae: 7960.8315 - val_mse: 176398912.0000\n",
      "Epoch 118/1000\n",
      "\u001B[1m385/385\u001B[0m \u001B[32m━━━━━━━━━━━━━━━━━━━━\u001B[0m\u001B[37m\u001B[0m \u001B[1m3s\u001B[0m 6ms/step - loss: 12434952192.0000 - mae: 7786.9355 - mse: 12434952192.0000 - val_loss: 176788432.0000 - val_mae: 7985.5112 - val_mse: 176788432.0000\n",
      "Epoch 119/1000\n",
      "\u001B[1m385/385\u001B[0m \u001B[32m━━━━━━━━━━━━━━━━━━━━\u001B[0m\u001B[37m\u001B[0m \u001B[1m3s\u001B[0m 7ms/step - loss: 48682319872.0000 - mae: 9115.0430 - mse: 48682319872.0000 - val_loss: 183010256.0000 - val_mae: 8175.1846 - val_mse: 183010256.0000\n",
      "Epoch 120/1000\n",
      "\u001B[1m385/385\u001B[0m \u001B[32m━━━━━━━━━━━━━━━━━━━━\u001B[0m\u001B[37m\u001B[0m \u001B[1m3s\u001B[0m 6ms/step - loss: 10459521024.0000 - mae: 7516.6509 - mse: 10459521024.0000 - val_loss: 177832256.0000 - val_mae: 7983.0830 - val_mse: 177832256.0000\n",
      "Epoch 121/1000\n",
      "\u001B[1m385/385\u001B[0m \u001B[32m━━━━━━━━━━━━━━━━━━━━\u001B[0m\u001B[37m\u001B[0m \u001B[1m3s\u001B[0m 7ms/step - loss: 41903173632.0000 - mae: 8817.2461 - mse: 41903173632.0000 - val_loss: 175529296.0000 - val_mae: 7850.6758 - val_mse: 175529296.0000\n",
      "Epoch 122/1000\n",
      "\u001B[1m385/385\u001B[0m \u001B[32m━━━━━━━━━━━━━━━━━━━━\u001B[0m\u001B[37m\u001B[0m \u001B[1m3s\u001B[0m 7ms/step - loss: 5167968256.0000 - mae: 7381.7378 - mse: 5167968256.0000 - val_loss: 178158288.0000 - val_mae: 7936.5547 - val_mse: 178158288.0000\n",
      "Epoch 123/1000\n",
      "\u001B[1m385/385\u001B[0m \u001B[32m━━━━━━━━━━━━━━━━━━━━\u001B[0m\u001B[37m\u001B[0m \u001B[1m3s\u001B[0m 7ms/step - loss: 3917533440.0000 - mae: 7404.7988 - mse: 3917533440.0000 - val_loss: 174384016.0000 - val_mae: 7765.1968 - val_mse: 174384016.0000\n",
      "Epoch 124/1000\n",
      "\u001B[1m385/385\u001B[0m \u001B[32m━━━━━━━━━━━━━━━━━━━━\u001B[0m\u001B[37m\u001B[0m \u001B[1m3s\u001B[0m 6ms/step - loss: 21615906816.0000 - mae: 7918.3950 - mse: 21615906816.0000 - val_loss: 176232544.0000 - val_mae: 7903.3696 - val_mse: 176232544.0000\n",
      "Epoch 125/1000\n",
      "\u001B[1m385/385\u001B[0m \u001B[32m━━━━━━━━━━━━━━━━━━━━\u001B[0m\u001B[37m\u001B[0m \u001B[1m3s\u001B[0m 7ms/step - loss: 29624576000.0000 - mae: 8378.5215 - mse: 29624576000.0000 - val_loss: 178212912.0000 - val_mae: 7948.1733 - val_mse: 178212912.0000\n",
      "Epoch 126/1000\n",
      "\u001B[1m385/385\u001B[0m \u001B[32m━━━━━━━━━━━━━━━━━━━━\u001B[0m\u001B[37m\u001B[0m \u001B[1m2s\u001B[0m 6ms/step - loss: 40145125376.0000 - mae: 8707.1064 - mse: 40145125376.0000 - val_loss: 176239552.0000 - val_mae: 7851.5835 - val_mse: 176239552.0000\n",
      "Epoch 127/1000\n",
      "\u001B[1m385/385\u001B[0m \u001B[32m━━━━━━━━━━━━━━━━━━━━\u001B[0m\u001B[37m\u001B[0m \u001B[1m3s\u001B[0m 7ms/step - loss: 26103445504.0000 - mae: 8268.6475 - mse: 26103445504.0000 - val_loss: 177803600.0000 - val_mae: 7934.6011 - val_mse: 177803600.0000\n",
      "Epoch 128/1000\n",
      "\u001B[1m385/385\u001B[0m \u001B[32m━━━━━━━━━━━━━━━━━━━━\u001B[0m\u001B[37m\u001B[0m \u001B[1m3s\u001B[0m 7ms/step - loss: 98914295808.0000 - mae: 11232.2852 - mse: 98914295808.0000 - val_loss: 178506240.0000 - val_mae: 7899.3838 - val_mse: 178506240.0000\n",
      "Epoch 129/1000\n",
      "\u001B[1m385/385\u001B[0m \u001B[32m━━━━━━━━━━━━━━━━━━━━\u001B[0m\u001B[37m\u001B[0m \u001B[1m3s\u001B[0m 6ms/step - loss: 14658010112.0000 - mae: 7832.5171 - mse: 14658010112.0000 - val_loss: 176877232.0000 - val_mae: 7782.3965 - val_mse: 176877232.0000\n",
      "Epoch 130/1000\n",
      "\u001B[1m385/385\u001B[0m \u001B[32m━━━━━━━━━━━━━━━━━━━━\u001B[0m\u001B[37m\u001B[0m \u001B[1m3s\u001B[0m 7ms/step - loss: 126542274560.0000 - mae: 11781.3955 - mse: 126542274560.0000 - val_loss: 178202240.0000 - val_mae: 7890.5088 - val_mse: 178202240.0000\n",
      "Epoch 131/1000\n",
      "\u001B[1m385/385\u001B[0m \u001B[32m━━━━━━━━━━━━━━━━━━━━\u001B[0m\u001B[37m\u001B[0m \u001B[1m3s\u001B[0m 7ms/step - loss: 228948492288.0000 - mae: 15754.0518 - mse: 228948492288.0000 - val_loss: 177365376.0000 - val_mae: 7840.7095 - val_mse: 177365376.0000\n",
      "Epoch 132/1000\n",
      "\u001B[1m385/385\u001B[0m \u001B[32m━━━━━━━━━━━━━━━━━━━━\u001B[0m\u001B[37m\u001B[0m \u001B[1m3s\u001B[0m 7ms/step - loss: 221011886080.0000 - mae: 15611.8926 - mse: 221011886080.0000 - val_loss: 179975200.0000 - val_mae: 7894.3916 - val_mse: 179975200.0000\n",
      "Epoch 133/1000\n",
      "\u001B[1m385/385\u001B[0m \u001B[32m━━━━━━━━━━━━━━━━━━━━\u001B[0m\u001B[37m\u001B[0m \u001B[1m3s\u001B[0m 6ms/step - loss: 36946034688.0000 - mae: 8479.2725 - mse: 36946034688.0000 - val_loss: 182605520.0000 - val_mae: 7989.1235 - val_mse: 182605520.0000\n"
     ]
    }
   ],
   "execution_count": 48
  },
  {
   "metadata": {
    "ExecuteTime": {
     "end_time": "2025-03-03T17:16:13.215049Z",
     "start_time": "2025-03-03T17:16:11.812251Z"
    }
   },
   "cell_type": "code",
   "source": [
    "y_pred = sequential_model.predict(X_test).flatten()\n",
    "\n",
    "plt.figure(figsize=(12, 8))\n",
    "\n",
    "plt.scatter(y_test, y_pred, s=200, c='darkblue')\n",
    "\n",
    "plt.xlabel('Actual charges values')\n",
    "plt.ylabel('Predicted charges values')\n",
    "plt.show()"
   ],
   "id": "c0831a2f9efe6f42",
   "outputs": [
    {
     "name": "stdout",
     "output_type": "stream",
     "text": [
      "\u001B[1m121/121\u001B[0m \u001B[32m━━━━━━━━━━━━━━━━━━━━\u001B[0m\u001B[37m\u001B[0m \u001B[1m1s\u001B[0m 3ms/step\n"
     ]
    },
    {
     "data": {
      "text/plain": [
       "<Figure size 1200x800 with 1 Axes>"
      ],
      "image/png": "[encoded data removed]"
     },
     "metadata": {},
     "output_type": "display_data"
    }
   ],
   "execution_count": 50
  },
  {
   "metadata": {
    "ExecuteTime": {
     "end_time": "2025-03-03T17:16:18.361587Z",
     "start_time": "2025-03-03T17:16:18.322898Z"
    }
   },
   "cell_type": "code",
   "source": "r2_score(y_test, y_pred)",
   "id": "ca8d3e325d443bcb",
   "outputs": [
    {
     "data": {
      "text/plain": [
       "0.42426031827926636"
      ]
     },
     "execution_count": 51,
     "metadata": {},
     "output_type": "execute_result"
    }
   ],
   "execution_count": 51
  },
  {
   "metadata": {
    "ExecuteTime": {
     "end_time": "2025-03-03T17:16:20.436030Z",
     "start_time": "2025-03-03T17:16:20.407180Z"
    }
   },
   "cell_type": "code",
   "source": [
    "class CustomRegressionModel(tf.keras.Model):\n",
    "\n",
    "    def __init__(self, input_shape, layer_units=[8, 4], \\\n",
    "                 activation='relu'):\n",
    "\n",
    "        super(CustomRegressionModel, self).__init__()\n",
    "\n",
    "        assert len(layer_units) > 0\n",
    "\n",
    "        self.input_layer = MyDense(layer_units[0],\n",
    "                                   activation=activation,\n",
    "                                   input_shape=[input_shape])\n",
    "\n",
    "        self.hidden_layers = []\n",
    "\n",
    "        for i in range(1, len(layer_units)):\n",
    "            self.hidden_layers.append(MyDense(layer_units[i],\n",
    "                                              activation=activation))\n",
    "\n",
    "        self.output_layer = MyDense(1)\n",
    "\n",
    "    def call(self, input_tensor):\n",
    "\n",
    "        x = self.input_layer(input_tensor)\n",
    "\n",
    "        for layer in self.hidden_layers:\n",
    "            x = layer(x)\n",
    "\n",
    "        result = self.output_layer(x)\n",
    "\n",
    "        return result"
   ],
   "id": "1f1023e9098e398b",
   "outputs": [],
   "execution_count": 52
  },
  {
   "metadata": {
    "ExecuteTime": {
     "end_time": "2025-03-03T17:17:34.060277Z",
     "start_time": "2025-03-03T17:17:33.906545Z"
    }
   },
   "cell_type": "code",
   "source": [
    "custom_model = CustomRegressionModel(X_train.shape[1], [64, 32, 16], 'elu')\n",
    "\n",
    "custom_model(tf.zeros([5, X_train.shape[1]]))"
   ],
   "id": "cc30fa93c7e45642",
   "outputs": [
    {
     "name": "stderr",
     "output_type": "stream",
     "text": [
      "C:\\Users\\Lenovo\\AppData\\Local\\Temp\\ipykernel_2548\\3431049347.py:5: UserWarning: Do not pass an `input_shape`/`input_dim` argument to a layer. When using Sequential models, prefer using an `Input(shape)` object as the first layer in the model instead.\n",
      "  super(MyDense, self).__init__(**kwargs)\n"
     ]
    },
    {
     "data": {
      "text/plain": [
       "<tf.Tensor: shape=(5, 1), dtype=float32, numpy=\n",
       "array([[0.],\n",
       "       [0.],\n",
       "       [0.],\n",
       "       [0.],\n",
       "       [0.]], dtype=float32)>"
      ]
     },
     "execution_count": 54,
     "metadata": {},
     "output_type": "execute_result"
    }
   ],
   "execution_count": 54
  },
  {
   "metadata": {
    "ExecuteTime": {
     "end_time": "2025-03-03T17:18:07.798872Z",
     "start_time": "2025-03-03T17:18:07.773758Z"
    }
   },
   "cell_type": "code",
   "source": "custom_model.layers",
   "id": "3822b7edf215ac67",
   "outputs": [
    {
     "data": {
      "text/plain": [
       "[<MyDense name=my_dense_4, built=True>,\n",
       " <MyDense name=my_dense_5, built=True>,\n",
       " <MyDense name=my_dense_6, built=True>,\n",
       " <MyDense name=my_dense_7, built=True>]"
      ]
     },
     "execution_count": 55,
     "metadata": {},
     "output_type": "execute_result"
    }
   ],
   "execution_count": 55
  },
  {
   "metadata": {
    "ExecuteTime": {
     "end_time": "2025-03-03T17:18:24.667372Z",
     "start_time": "2025-03-03T17:18:24.612385Z"
    }
   },
   "cell_type": "code",
   "source": "custom_model.summary()",
   "id": "801d5cd842ff9e7c",
   "outputs": [
    {
     "data": {
      "text/plain": [
       "\u001B[1mModel: \"custom_regression_model\"\u001B[0m\n"
      ],
      "text/html": [
       "<pre style=\"white-space:pre;overflow-x:auto;line-height:normal;font-family:Menlo,'DejaVu Sans Mono',consolas,'Courier New',monospace\"><span style=\"font-weight: bold\">Model: \"custom_regression_model\"</span>\n",
       "</pre>\n"
      ]
     },
     "metadata": {},
     "output_type": "display_data"
    },
    {
     "data": {
      "text/plain": [
       "┏━━━━━━━━━━━━━━━━━━━━━━━━━━━━━━━━━┳━━━━━━━━━━━━━━━━━━━━━━━━┳━━━━━━━━━━━━━━━┓\n",
       "┃\u001B[1m \u001B[0m\u001B[1mLayer (type)                   \u001B[0m\u001B[1m \u001B[0m┃\u001B[1m \u001B[0m\u001B[1mOutput Shape          \u001B[0m\u001B[1m \u001B[0m┃\u001B[1m \u001B[0m\u001B[1m      Param #\u001B[0m\u001B[1m \u001B[0m┃\n",
       "┡━━━━━━━━━━━━━━━━━━━━━━━━━━━━━━━━━╇━━━━━━━━━━━━━━━━━━━━━━━━╇━━━━━━━━━━━━━━━┩\n",
       "│ my_dense_4 (\u001B[38;5;33mMyDense\u001B[0m)            │ (\u001B[38;5;34m5\u001B[0m, \u001B[38;5;34m64\u001B[0m)                │       \u001B[38;5;34m108,736\u001B[0m │\n",
       "├─────────────────────────────────┼────────────────────────┼───────────────┤\n",
       "│ my_dense_5 (\u001B[38;5;33mMyDense\u001B[0m)            │ (\u001B[38;5;34m5\u001B[0m, \u001B[38;5;34m32\u001B[0m)                │         \u001B[38;5;34m2,048\u001B[0m │\n",
       "├─────────────────────────────────┼────────────────────────┼───────────────┤\n",
       "│ my_dense_6 (\u001B[38;5;33mMyDense\u001B[0m)            │ (\u001B[38;5;34m5\u001B[0m, \u001B[38;5;34m16\u001B[0m)                │           \u001B[38;5;34m512\u001B[0m │\n",
       "├─────────────────────────────────┼────────────────────────┼───────────────┤\n",
       "│ my_dense_7 (\u001B[38;5;33mMyDense\u001B[0m)            │ (\u001B[38;5;34m5\u001B[0m, \u001B[38;5;34m1\u001B[0m)                 │            \u001B[38;5;34m16\u001B[0m │\n",
       "└─────────────────────────────────┴────────────────────────┴───────────────┘\n"
      ],
      "text/html": [
       "<pre style=\"white-space:pre;overflow-x:auto;line-height:normal;font-family:Menlo,'DejaVu Sans Mono',consolas,'Courier New',monospace\">┏━━━━━━━━━━━━━━━━━━━━━━━━━━━━━━━━━┳━━━━━━━━━━━━━━━━━━━━━━━━┳━━━━━━━━━━━━━━━┓\n",
       "┃<span style=\"font-weight: bold\"> Layer (type)                    </span>┃<span style=\"font-weight: bold\"> Output Shape           </span>┃<span style=\"font-weight: bold\">       Param # </span>┃\n",
       "┡━━━━━━━━━━━━━━━━━━━━━━━━━━━━━━━━━╇━━━━━━━━━━━━━━━━━━━━━━━━╇━━━━━━━━━━━━━━━┩\n",
       "│ my_dense_4 (<span style=\"color: #0087ff; text-decoration-color: #0087ff\">MyDense</span>)            │ (<span style=\"color: #00af00; text-decoration-color: #00af00\">5</span>, <span style=\"color: #00af00; text-decoration-color: #00af00\">64</span>)                │       <span style=\"color: #00af00; text-decoration-color: #00af00\">108,736</span> │\n",
       "├─────────────────────────────────┼────────────────────────┼───────────────┤\n",
       "│ my_dense_5 (<span style=\"color: #0087ff; text-decoration-color: #0087ff\">MyDense</span>)            │ (<span style=\"color: #00af00; text-decoration-color: #00af00\">5</span>, <span style=\"color: #00af00; text-decoration-color: #00af00\">32</span>)                │         <span style=\"color: #00af00; text-decoration-color: #00af00\">2,048</span> │\n",
       "├─────────────────────────────────┼────────────────────────┼───────────────┤\n",
       "│ my_dense_6 (<span style=\"color: #0087ff; text-decoration-color: #0087ff\">MyDense</span>)            │ (<span style=\"color: #00af00; text-decoration-color: #00af00\">5</span>, <span style=\"color: #00af00; text-decoration-color: #00af00\">16</span>)                │           <span style=\"color: #00af00; text-decoration-color: #00af00\">512</span> │\n",
       "├─────────────────────────────────┼────────────────────────┼───────────────┤\n",
       "│ my_dense_7 (<span style=\"color: #0087ff; text-decoration-color: #0087ff\">MyDense</span>)            │ (<span style=\"color: #00af00; text-decoration-color: #00af00\">5</span>, <span style=\"color: #00af00; text-decoration-color: #00af00\">1</span>)                 │            <span style=\"color: #00af00; text-decoration-color: #00af00\">16</span> │\n",
       "└─────────────────────────────────┴────────────────────────┴───────────────┘\n",
       "</pre>\n"
      ]
     },
     "metadata": {},
     "output_type": "display_data"
    },
    {
     "data": {
      "text/plain": [
       "\u001B[1m Total params: \u001B[0m\u001B[38;5;34m111,312\u001B[0m (434.81 KB)\n"
      ],
      "text/html": [
       "<pre style=\"white-space:pre;overflow-x:auto;line-height:normal;font-family:Menlo,'DejaVu Sans Mono',consolas,'Courier New',monospace\"><span style=\"font-weight: bold\"> Total params: </span><span style=\"color: #00af00; text-decoration-color: #00af00\">111,312</span> (434.81 KB)\n",
       "</pre>\n"
      ]
     },
     "metadata": {},
     "output_type": "display_data"
    },
    {
     "data": {
      "text/plain": [
       "\u001B[1m Trainable params: \u001B[0m\u001B[38;5;34m111,312\u001B[0m (434.81 KB)\n"
      ],
      "text/html": [
       "<pre style=\"white-space:pre;overflow-x:auto;line-height:normal;font-family:Menlo,'DejaVu Sans Mono',consolas,'Courier New',monospace\"><span style=\"font-weight: bold\"> Trainable params: </span><span style=\"color: #00af00; text-decoration-color: #00af00\">111,312</span> (434.81 KB)\n",
       "</pre>\n"
      ]
     },
     "metadata": {},
     "output_type": "display_data"
    },
    {
     "data": {
      "text/plain": [
       "\u001B[1m Non-trainable params: \u001B[0m\u001B[38;5;34m0\u001B[0m (0.00 B)\n"
      ],
      "text/html": [
       "<pre style=\"white-space:pre;overflow-x:auto;line-height:normal;font-family:Menlo,'DejaVu Sans Mono',consolas,'Courier New',monospace\"><span style=\"font-weight: bold\"> Non-trainable params: </span><span style=\"color: #00af00; text-decoration-color: #00af00\">0</span> (0.00 B)\n",
       "</pre>\n"
      ]
     },
     "metadata": {},
     "output_type": "display_data"
    }
   ],
   "execution_count": 56
  },
  {
   "metadata": {
    "ExecuteTime": {
     "end_time": "2025-03-03T17:18:49.949098Z",
     "start_time": "2025-03-03T17:18:49.908738Z"
    }
   },
   "cell_type": "code",
   "source": [
    "optimizer = tf.keras.optimizers.RMSprop(0.001)\n",
    "\n",
    "custom_model.compile(loss='mse',\n",
    "                     optimizer=tf.keras.optimizers.RMSprop(0.001),\n",
    "                     metrics=['mse'])"
   ],
   "id": "e4809fda57cd4bbd",
   "outputs": [],
   "execution_count": 57
  },
  {
   "metadata": {
    "ExecuteTime": {
     "end_time": "2025-03-03T18:40:34.930365Z",
     "start_time": "2025-03-03T17:54:35.072379Z"
    }
   },
   "cell_type": "code",
   "source": [
    "import tensorflow_docs as tfdocs\n",
    "import tensorflow_docs.modeling\n",
    "\n",
    "n_epochs = 1000\n",
    "\n",
    "X_train_numeric = np.array(X_train, dtype=np.float32)\n",
    "y_train_numeric = np.array(y_train, dtype=np.float32)\n",
    "\n",
    "training_hist = custom_model.fit(X_train_numeric,\n",
    "                                 y_train_numeric,\n",
    "                                 epochs=n_epochs,\n",
    "                                 validation_split=0.2,\n",
    "                                 verbose=False,\n",
    "                                 callbacks=[tfdocs.modeling.EpochDots()])\n",
    "\n"
   ],
   "id": "713f5cec4d4e8d16",
   "outputs": [
    {
     "name": "stdout",
     "output_type": "stream",
     "text": [
      "\n",
      "Epoch: 0, loss:56342859776.0000,  mse:56342859776.0000,  val_loss:230266960.0000,  val_mse:230266960.0000,  \n",
      "....................................................................................................\n",
      "Epoch: 100, loss:56321253376.0000,  mse:56321253376.0000,  val_loss:249680960.0000,  val_mse:249680960.0000,  \n",
      "....................................................................................................\n",
      "Epoch: 200, loss:56301211648.0000,  mse:56301211648.0000,  val_loss:309650432.0000,  val_mse:309650432.0000,  \n",
      "....................................................................................................\n",
      "Epoch: 300, loss:56287760384.0000,  mse:56287760384.0000,  val_loss:359082048.0000,  val_mse:359082048.0000,  \n",
      "....................................................................................................\n",
      "Epoch: 400, loss:56281317376.0000,  mse:56281317376.0000,  val_loss:405230048.0000,  val_mse:405230048.0000,  \n",
      "....................................................................................................\n",
      "Epoch: 500, loss:56276156416.0000,  mse:56276156416.0000,  val_loss:473950464.0000,  val_mse:473950464.0000,  \n",
      "....................................................................................................\n",
      "Epoch: 600, loss:56269361152.0000,  mse:56269361152.0000,  val_loss:503386304.0000,  val_mse:503386304.0000,  \n",
      "....................................................................................................\n",
      "Epoch: 700, loss:56267120640.0000,  mse:56267120640.0000,  val_loss:582559360.0000,  val_mse:582559360.0000,  \n",
      "....................................................................................................\n",
      "Epoch: 800, loss:56261058560.0000,  mse:56261058560.0000,  val_loss:597744576.0000,  val_mse:597744576.0000,  \n",
      "....................................................................................................\n",
      "Epoch: 900, loss:56256110592.0000,  mse:56256110592.0000,  val_loss:599479168.0000,  val_mse:599479168.0000,  \n",
      "...................................................................................................."
     ]
    }
   ],
   "execution_count": 66
  },
  {
   "metadata": {
    "ExecuteTime": {
     "end_time": "2025-03-03T18:41:15.335750Z",
     "start_time": "2025-03-03T18:41:14.375794Z"
    }
   },
   "cell_type": "code",
   "source": [
    "import tensorflow_docs as tfdocs\n",
    "import tensorflow_docs.plots\n",
    "plotter = tfdocs.plots.HistoryPlotter(smoothing_std=2)\n",
    "\n",
    "plt.figure(figsize=(12, 8))\n",
    "\n",
    "plotter.plot({'Basic': training_hist}, metric = \"mse\")\n",
    "\n",
    "plt.ylabel('MSE[Charges^2]')\n",
    "plt.show()"
   ],
   "id": "1bfa9cca9dded177",
   "outputs": [
    {
     "data": {
      "text/plain": [
       "<Figure size 1200x800 with 1 Axes>"
      ],
      "image/png": "[encoded data removed]"
     },
     "metadata": {},
     "output_type": "display_data"
    }
   ],
   "execution_count": 68
  },
  {
   "metadata": {
    "ExecuteTime": {
     "end_time": "2025-03-03T19:07:36.010263Z",
     "start_time": "2025-03-03T19:07:31.645792Z"
    }
   },
   "cell_type": "code",
   "source": [
    "import pandas as pd\n",
    "import numpy as np\n",
    "import matplotlib.pyplot as plt\n",
    "\n",
    "# Assume X_test is your test features and y_test is your actual labels\n",
    "# Step 1: Check the data types of X_test\n",
    "print(X_test.dtypes)\n",
    "\n",
    "# Step 2: Convert object columns to numeric if necessary\n",
    "X_test = X_test.apply(pd.to_numeric, errors='coerce')  # Convert to numeric, replace invalid data with NaN\n",
    "\n",
    "# Step 3: Handle missing values if any\n",
    "print(X_test.isna().sum())  # Check for missing values\n",
    "X_test.fillna(0, inplace=True)  # Fill NaNs with 0 (or another strategy)\n",
    "\n",
    "# Step 4: Ensure the data is in the correct format\n",
    "X_test = np.array(X_test, dtype=np.float32)\n",
    "\n",
    "# Step 5: Make predictions\n",
    "y_pred = custom_model.predict(X_test).flatten()\n",
    "\n",
    "# Step 6: Plot the results\n",
    "plt.figure(figsize=(12, 8))\n",
    "plt.scatter(y_test, y_pred, s=200, c='darkblue')\n",
    "plt.xlabel('Actual charges values')\n",
    "plt.ylabel('Predicted charges values')\n",
    "plt.show()\n"
   ],
   "id": "6a92d9d174267a52",
   "outputs": [
    {
     "name": "stdout",
     "output_type": "stream",
     "text": [
      "Levy              float64\n",
      "Prod. year        float64\n",
      "Engine volume     float64\n",
      "Mileage           float64\n",
      "Cylinders         float64\n",
      "                   ...   \n",
      "Color_Red            bool\n",
      "Color_Silver         bool\n",
      "Color_Sky blue       bool\n",
      "Color_White          bool\n",
      "Color_Yellow         bool\n",
      "Length: 1699, dtype: object\n",
      "Levy              0\n",
      "Prod. year        0\n",
      "Engine volume     0\n",
      "Mileage           0\n",
      "Cylinders         0\n",
      "                 ..\n",
      "Color_Red         0\n",
      "Color_Silver      0\n",
      "Color_Sky blue    0\n",
      "Color_White       0\n",
      "Color_Yellow      0\n",
      "Length: 1699, dtype: int64\n",
      "\u001B[1m121/121\u001B[0m \u001B[32m━━━━━━━━━━━━━━━━━━━━\u001B[0m\u001B[37m\u001B[0m \u001B[1m1s\u001B[0m 4ms/step\n"
     ]
    },
    {
     "data": {
      "text/plain": [
       "<Figure size 1200x800 with 1 Axes>"
      ],
      "image/png": "[encoded data removed]"
     },
     "metadata": {},
     "output_type": "display_data"
    }
   ],
   "execution_count": 72
  },
  {
   "metadata": {
    "ExecuteTime": {
     "end_time": "2025-03-03T19:07:41.834217Z",
     "start_time": "2025-03-03T19:07:41.788142Z"
    }
   },
   "cell_type": "code",
   "source": "r2_score(y_test, y_pred)",
   "id": "a26fa499aafcd27f",
   "outputs": [
    {
     "data": {
      "text/plain": [
       "-0.7807133197784424"
      ]
     },
     "execution_count": 73,
     "metadata": {},
     "output_type": "execute_result"
    }
   ],
   "execution_count": 73
  },
  {
   "metadata": {
    "ExecuteTime": {
     "end_time": "2025-03-03T19:08:51.734179Z",
     "start_time": "2025-03-03T19:08:51.254884Z"
    }
   },
   "cell_type": "code",
   "source": "custom_model.save_weights('my_models/custom_model.weights.h5')",
   "id": "e6855301ff4b0792",
   "outputs": [
    {
     "ename": "FileNotFoundError",
     "evalue": "[Errno 2] Unable to synchronously create file (unable to open file: name = 'my_models/custom_model.weights.h5', errno = 2, error message = 'No such file or directory', flags = 13, o_flags = 302)",
     "output_type": "error",
     "traceback": [
      "\u001B[1;31m---------------------------------------------------------------------------\u001B[0m",
      "\u001B[1;31mFileNotFoundError\u001B[0m                         Traceback (most recent call last)",
      "Cell \u001B[1;32mIn[77], line 1\u001B[0m\n\u001B[1;32m----> 1\u001B[0m \u001B[43mcustom_model\u001B[49m\u001B[38;5;241;43m.\u001B[39;49m\u001B[43msave_weights\u001B[49m\u001B[43m(\u001B[49m\u001B[38;5;124;43m'\u001B[39;49m\u001B[38;5;124;43mmy_models/custom_model.weights.h5\u001B[39;49m\u001B[38;5;124;43m'\u001B[39;49m\u001B[43m)\u001B[49m\n",
      "File \u001B[1;32m~\\AppData\\Local\\Programs\\Python\\Python310\\lib\\site-packages\\keras\\src\\utils\\traceback_utils.py:122\u001B[0m, in \u001B[0;36mfilter_traceback.<locals>.error_handler\u001B[1;34m(*args, **kwargs)\u001B[0m\n\u001B[0;32m    119\u001B[0m     filtered_tb \u001B[38;5;241m=\u001B[39m _process_traceback_frames(e\u001B[38;5;241m.\u001B[39m__traceback__)\n\u001B[0;32m    120\u001B[0m     \u001B[38;5;66;03m# To get the full stack trace, call:\u001B[39;00m\n\u001B[0;32m    121\u001B[0m     \u001B[38;5;66;03m# `keras.config.disable_traceback_filtering()`\u001B[39;00m\n\u001B[1;32m--> 122\u001B[0m     \u001B[38;5;28;01mraise\u001B[39;00m e\u001B[38;5;241m.\u001B[39mwith_traceback(filtered_tb) \u001B[38;5;28;01mfrom\u001B[39;00m\u001B[38;5;250m \u001B[39m\u001B[38;5;28;01mNone\u001B[39;00m\n\u001B[0;32m    123\u001B[0m \u001B[38;5;28;01mfinally\u001B[39;00m:\n\u001B[0;32m    124\u001B[0m     \u001B[38;5;28;01mdel\u001B[39;00m filtered_tb\n",
      "File \u001B[1;32m~\\AppData\\Local\\Programs\\Python\\Python310\\lib\\site-packages\\h5py\\_hl\\files.py:564\u001B[0m, in \u001B[0;36mFile.__init__\u001B[1;34m(self, name, mode, driver, libver, userblock_size, swmr, rdcc_nslots, rdcc_nbytes, rdcc_w0, track_order, fs_strategy, fs_persist, fs_threshold, fs_page_size, page_buf_size, min_meta_keep, min_raw_keep, locking, alignment_threshold, alignment_interval, meta_block_size, **kwds)\u001B[0m\n\u001B[0;32m    555\u001B[0m     fapl \u001B[38;5;241m=\u001B[39m make_fapl(driver, libver, rdcc_nslots, rdcc_nbytes, rdcc_w0,\n\u001B[0;32m    556\u001B[0m                      locking, page_buf_size, min_meta_keep, min_raw_keep,\n\u001B[0;32m    557\u001B[0m                      alignment_threshold\u001B[38;5;241m=\u001B[39malignment_threshold,\n\u001B[0;32m    558\u001B[0m                      alignment_interval\u001B[38;5;241m=\u001B[39malignment_interval,\n\u001B[0;32m    559\u001B[0m                      meta_block_size\u001B[38;5;241m=\u001B[39mmeta_block_size,\n\u001B[0;32m    560\u001B[0m                      \u001B[38;5;241m*\u001B[39m\u001B[38;5;241m*\u001B[39mkwds)\n\u001B[0;32m    561\u001B[0m     fcpl \u001B[38;5;241m=\u001B[39m make_fcpl(track_order\u001B[38;5;241m=\u001B[39mtrack_order, fs_strategy\u001B[38;5;241m=\u001B[39mfs_strategy,\n\u001B[0;32m    562\u001B[0m                      fs_persist\u001B[38;5;241m=\u001B[39mfs_persist, fs_threshold\u001B[38;5;241m=\u001B[39mfs_threshold,\n\u001B[0;32m    563\u001B[0m                      fs_page_size\u001B[38;5;241m=\u001B[39mfs_page_size)\n\u001B[1;32m--> 564\u001B[0m     fid \u001B[38;5;241m=\u001B[39m \u001B[43mmake_fid\u001B[49m\u001B[43m(\u001B[49m\u001B[43mname\u001B[49m\u001B[43m,\u001B[49m\u001B[43m \u001B[49m\u001B[43mmode\u001B[49m\u001B[43m,\u001B[49m\u001B[43m \u001B[49m\u001B[43muserblock_size\u001B[49m\u001B[43m,\u001B[49m\u001B[43m \u001B[49m\u001B[43mfapl\u001B[49m\u001B[43m,\u001B[49m\u001B[43m \u001B[49m\u001B[43mfcpl\u001B[49m\u001B[43m,\u001B[49m\u001B[43m \u001B[49m\u001B[43mswmr\u001B[49m\u001B[38;5;241;43m=\u001B[39;49m\u001B[43mswmr\u001B[49m\u001B[43m)\u001B[49m\n\u001B[0;32m    566\u001B[0m \u001B[38;5;28;01mif\u001B[39;00m \u001B[38;5;28misinstance\u001B[39m(libver, \u001B[38;5;28mtuple\u001B[39m):\n\u001B[0;32m    567\u001B[0m     \u001B[38;5;28mself\u001B[39m\u001B[38;5;241m.\u001B[39m_libver \u001B[38;5;241m=\u001B[39m libver\n",
      "File \u001B[1;32m~\\AppData\\Local\\Programs\\Python\\Python310\\lib\\site-packages\\h5py\\_hl\\files.py:244\u001B[0m, in \u001B[0;36mmake_fid\u001B[1;34m(name, mode, userblock_size, fapl, fcpl, swmr)\u001B[0m\n\u001B[0;32m    242\u001B[0m     fid \u001B[38;5;241m=\u001B[39m h5f\u001B[38;5;241m.\u001B[39mcreate(name, h5f\u001B[38;5;241m.\u001B[39mACC_EXCL, fapl\u001B[38;5;241m=\u001B[39mfapl, fcpl\u001B[38;5;241m=\u001B[39mfcpl)\n\u001B[0;32m    243\u001B[0m \u001B[38;5;28;01melif\u001B[39;00m mode \u001B[38;5;241m==\u001B[39m \u001B[38;5;124m'\u001B[39m\u001B[38;5;124mw\u001B[39m\u001B[38;5;124m'\u001B[39m:\n\u001B[1;32m--> 244\u001B[0m     fid \u001B[38;5;241m=\u001B[39m \u001B[43mh5f\u001B[49m\u001B[38;5;241;43m.\u001B[39;49m\u001B[43mcreate\u001B[49m\u001B[43m(\u001B[49m\u001B[43mname\u001B[49m\u001B[43m,\u001B[49m\u001B[43m \u001B[49m\u001B[43mh5f\u001B[49m\u001B[38;5;241;43m.\u001B[39;49m\u001B[43mACC_TRUNC\u001B[49m\u001B[43m,\u001B[49m\u001B[43m \u001B[49m\u001B[43mfapl\u001B[49m\u001B[38;5;241;43m=\u001B[39;49m\u001B[43mfapl\u001B[49m\u001B[43m,\u001B[49m\u001B[43m \u001B[49m\u001B[43mfcpl\u001B[49m\u001B[38;5;241;43m=\u001B[39;49m\u001B[43mfcpl\u001B[49m\u001B[43m)\u001B[49m\n\u001B[0;32m    245\u001B[0m \u001B[38;5;28;01melif\u001B[39;00m mode \u001B[38;5;241m==\u001B[39m \u001B[38;5;124m'\u001B[39m\u001B[38;5;124ma\u001B[39m\u001B[38;5;124m'\u001B[39m:\n\u001B[0;32m    246\u001B[0m     \u001B[38;5;66;03m# Open in append mode (read/write).\u001B[39;00m\n\u001B[0;32m    247\u001B[0m     \u001B[38;5;66;03m# If that fails, create a new file only if it won't clobber an\u001B[39;00m\n\u001B[0;32m    248\u001B[0m     \u001B[38;5;66;03m# existing one (ACC_EXCL)\u001B[39;00m\n\u001B[0;32m    249\u001B[0m     \u001B[38;5;28;01mtry\u001B[39;00m:\n",
      "File \u001B[1;32mh5py\\\\_objects.pyx:54\u001B[0m, in \u001B[0;36mh5py._objects.with_phil.wrapper\u001B[1;34m()\u001B[0m\n",
      "File \u001B[1;32mh5py\\\\_objects.pyx:55\u001B[0m, in \u001B[0;36mh5py._objects.with_phil.wrapper\u001B[1;34m()\u001B[0m\n",
      "File \u001B[1;32mh5py\\\\h5f.pyx:122\u001B[0m, in \u001B[0;36mh5py.h5f.create\u001B[1;34m()\u001B[0m\n",
      "\u001B[1;31mFileNotFoundError\u001B[0m: [Errno 2] Unable to synchronously create file (unable to open file: name = 'my_models/custom_model.weights.h5', errno = 2, error message = 'No such file or directory', flags = 13, o_flags = 302)"
     ]
    }
   ],
   "execution_count": 77
  },
  {
   "metadata": {
    "ExecuteTime": {
     "end_time": "2025-03-03T19:09:04.139378Z",
     "start_time": "2025-03-03T19:09:03.964296Z"
    }
   },
   "cell_type": "code",
   "source": [
    "new_model = CustomRegressionModel(X_train.shape[1], [64, 32, 16], 'elu')\n",
    "\n",
    "new_model(tf.zeros([5, X_train.shape[1]]))"
   ],
   "id": "2fd06f958bc79459",
   "outputs": [
    {
     "name": "stderr",
     "output_type": "stream",
     "text": [
      "C:\\Users\\Lenovo\\AppData\\Local\\Temp\\ipykernel_2548\\3431049347.py:5: UserWarning: Do not pass an `input_shape`/`input_dim` argument to a layer. When using Sequential models, prefer using an `Input(shape)` object as the first layer in the model instead.\n",
      "  super(MyDense, self).__init__(**kwargs)\n"
     ]
    },
    {
     "data": {
      "text/plain": [
       "<tf.Tensor: shape=(5, 1), dtype=float32, numpy=\n",
       "array([[0.],\n",
       "       [0.],\n",
       "       [0.],\n",
       "       [0.],\n",
       "       [0.]], dtype=float32)>"
      ]
     },
     "execution_count": 78,
     "metadata": {},
     "output_type": "execute_result"
    }
   ],
   "execution_count": 78
  },
  {
   "metadata": {
    "ExecuteTime": {
     "end_time": "2025-03-03T19:09:07.299421Z",
     "start_time": "2025-03-03T19:09:07.256389Z"
    }
   },
   "cell_type": "code",
   "source": [
    "optimizer = tf.keras.optimizers.RMSprop(0.001)\n",
    "\n",
    "new_model.compile(loss='mse',\n",
    "                  optimizer=tf.keras.optimizers.RMSprop(0.001),\n",
    "                  metrics=['mse'])"
   ],
   "id": "ad35881212cc1ddb",
   "outputs": [],
   "execution_count": 79
  },
  {
   "metadata": {
    "ExecuteTime": {
     "end_time": "2025-03-03T19:09:10.445605Z",
     "start_time": "2025-03-03T19:09:10.199193Z"
    }
   },
   "cell_type": "code",
   "source": "new_model.load_weights('my_models/custom_model.h5')",
   "id": "888f962a4eb83e78",
   "outputs": [
    {
     "ename": "FileNotFoundError",
     "evalue": "[Errno 2] Unable to synchronously open file (unable to open file: name = 'my_models/custom_model.h5', errno = 2, error message = 'No such file or directory', flags = 0, o_flags = 0)",
     "output_type": "error",
     "traceback": [
      "\u001B[1;31m---------------------------------------------------------------------------\u001B[0m",
      "\u001B[1;31mFileNotFoundError\u001B[0m                         Traceback (most recent call last)",
      "Cell \u001B[1;32mIn[80], line 1\u001B[0m\n\u001B[1;32m----> 1\u001B[0m \u001B[43mnew_model\u001B[49m\u001B[38;5;241;43m.\u001B[39;49m\u001B[43mload_weights\u001B[49m\u001B[43m(\u001B[49m\u001B[38;5;124;43m'\u001B[39;49m\u001B[38;5;124;43mmy_models/custom_model.h5\u001B[39;49m\u001B[38;5;124;43m'\u001B[39;49m\u001B[43m)\u001B[49m\n",
      "File \u001B[1;32m~\\AppData\\Local\\Programs\\Python\\Python310\\lib\\site-packages\\keras\\src\\utils\\traceback_utils.py:122\u001B[0m, in \u001B[0;36mfilter_traceback.<locals>.error_handler\u001B[1;34m(*args, **kwargs)\u001B[0m\n\u001B[0;32m    119\u001B[0m     filtered_tb \u001B[38;5;241m=\u001B[39m _process_traceback_frames(e\u001B[38;5;241m.\u001B[39m__traceback__)\n\u001B[0;32m    120\u001B[0m     \u001B[38;5;66;03m# To get the full stack trace, call:\u001B[39;00m\n\u001B[0;32m    121\u001B[0m     \u001B[38;5;66;03m# `keras.config.disable_traceback_filtering()`\u001B[39;00m\n\u001B[1;32m--> 122\u001B[0m     \u001B[38;5;28;01mraise\u001B[39;00m e\u001B[38;5;241m.\u001B[39mwith_traceback(filtered_tb) \u001B[38;5;28;01mfrom\u001B[39;00m\u001B[38;5;250m \u001B[39m\u001B[38;5;28;01mNone\u001B[39;00m\n\u001B[0;32m    123\u001B[0m \u001B[38;5;28;01mfinally\u001B[39;00m:\n\u001B[0;32m    124\u001B[0m     \u001B[38;5;28;01mdel\u001B[39;00m filtered_tb\n",
      "File \u001B[1;32m~\\AppData\\Local\\Programs\\Python\\Python310\\lib\\site-packages\\h5py\\_hl\\files.py:564\u001B[0m, in \u001B[0;36mFile.__init__\u001B[1;34m(self, name, mode, driver, libver, userblock_size, swmr, rdcc_nslots, rdcc_nbytes, rdcc_w0, track_order, fs_strategy, fs_persist, fs_threshold, fs_page_size, page_buf_size, min_meta_keep, min_raw_keep, locking, alignment_threshold, alignment_interval, meta_block_size, **kwds)\u001B[0m\n\u001B[0;32m    555\u001B[0m     fapl \u001B[38;5;241m=\u001B[39m make_fapl(driver, libver, rdcc_nslots, rdcc_nbytes, rdcc_w0,\n\u001B[0;32m    556\u001B[0m                      locking, page_buf_size, min_meta_keep, min_raw_keep,\n\u001B[0;32m    557\u001B[0m                      alignment_threshold\u001B[38;5;241m=\u001B[39malignment_threshold,\n\u001B[0;32m    558\u001B[0m                      alignment_interval\u001B[38;5;241m=\u001B[39malignment_interval,\n\u001B[0;32m    559\u001B[0m                      meta_block_size\u001B[38;5;241m=\u001B[39mmeta_block_size,\n\u001B[0;32m    560\u001B[0m                      \u001B[38;5;241m*\u001B[39m\u001B[38;5;241m*\u001B[39mkwds)\n\u001B[0;32m    561\u001B[0m     fcpl \u001B[38;5;241m=\u001B[39m make_fcpl(track_order\u001B[38;5;241m=\u001B[39mtrack_order, fs_strategy\u001B[38;5;241m=\u001B[39mfs_strategy,\n\u001B[0;32m    562\u001B[0m                      fs_persist\u001B[38;5;241m=\u001B[39mfs_persist, fs_threshold\u001B[38;5;241m=\u001B[39mfs_threshold,\n\u001B[0;32m    563\u001B[0m                      fs_page_size\u001B[38;5;241m=\u001B[39mfs_page_size)\n\u001B[1;32m--> 564\u001B[0m     fid \u001B[38;5;241m=\u001B[39m \u001B[43mmake_fid\u001B[49m\u001B[43m(\u001B[49m\u001B[43mname\u001B[49m\u001B[43m,\u001B[49m\u001B[43m \u001B[49m\u001B[43mmode\u001B[49m\u001B[43m,\u001B[49m\u001B[43m \u001B[49m\u001B[43muserblock_size\u001B[49m\u001B[43m,\u001B[49m\u001B[43m \u001B[49m\u001B[43mfapl\u001B[49m\u001B[43m,\u001B[49m\u001B[43m \u001B[49m\u001B[43mfcpl\u001B[49m\u001B[43m,\u001B[49m\u001B[43m \u001B[49m\u001B[43mswmr\u001B[49m\u001B[38;5;241;43m=\u001B[39;49m\u001B[43mswmr\u001B[49m\u001B[43m)\u001B[49m\n\u001B[0;32m    566\u001B[0m \u001B[38;5;28;01mif\u001B[39;00m \u001B[38;5;28misinstance\u001B[39m(libver, \u001B[38;5;28mtuple\u001B[39m):\n\u001B[0;32m    567\u001B[0m     \u001B[38;5;28mself\u001B[39m\u001B[38;5;241m.\u001B[39m_libver \u001B[38;5;241m=\u001B[39m libver\n",
      "File \u001B[1;32m~\\AppData\\Local\\Programs\\Python\\Python310\\lib\\site-packages\\h5py\\_hl\\files.py:238\u001B[0m, in \u001B[0;36mmake_fid\u001B[1;34m(name, mode, userblock_size, fapl, fcpl, swmr)\u001B[0m\n\u001B[0;32m    236\u001B[0m     \u001B[38;5;28;01mif\u001B[39;00m swmr \u001B[38;5;129;01mand\u001B[39;00m swmr_support:\n\u001B[0;32m    237\u001B[0m         flags \u001B[38;5;241m|\u001B[39m\u001B[38;5;241m=\u001B[39m h5f\u001B[38;5;241m.\u001B[39mACC_SWMR_READ\n\u001B[1;32m--> 238\u001B[0m     fid \u001B[38;5;241m=\u001B[39m \u001B[43mh5f\u001B[49m\u001B[38;5;241;43m.\u001B[39;49m\u001B[43mopen\u001B[49m\u001B[43m(\u001B[49m\u001B[43mname\u001B[49m\u001B[43m,\u001B[49m\u001B[43m \u001B[49m\u001B[43mflags\u001B[49m\u001B[43m,\u001B[49m\u001B[43m \u001B[49m\u001B[43mfapl\u001B[49m\u001B[38;5;241;43m=\u001B[39;49m\u001B[43mfapl\u001B[49m\u001B[43m)\u001B[49m\n\u001B[0;32m    239\u001B[0m \u001B[38;5;28;01melif\u001B[39;00m mode \u001B[38;5;241m==\u001B[39m \u001B[38;5;124m'\u001B[39m\u001B[38;5;124mr+\u001B[39m\u001B[38;5;124m'\u001B[39m:\n\u001B[0;32m    240\u001B[0m     fid \u001B[38;5;241m=\u001B[39m h5f\u001B[38;5;241m.\u001B[39mopen(name, h5f\u001B[38;5;241m.\u001B[39mACC_RDWR, fapl\u001B[38;5;241m=\u001B[39mfapl)\n",
      "File \u001B[1;32mh5py\\\\_objects.pyx:54\u001B[0m, in \u001B[0;36mh5py._objects.with_phil.wrapper\u001B[1;34m()\u001B[0m\n",
      "File \u001B[1;32mh5py\\\\_objects.pyx:55\u001B[0m, in \u001B[0;36mh5py._objects.with_phil.wrapper\u001B[1;34m()\u001B[0m\n",
      "File \u001B[1;32mh5py\\\\h5f.pyx:102\u001B[0m, in \u001B[0;36mh5py.h5f.open\u001B[1;34m()\u001B[0m\n",
      "\u001B[1;31mFileNotFoundError\u001B[0m: [Errno 2] Unable to synchronously open file (unable to open file: name = 'my_models/custom_model.h5', errno = 2, error message = 'No such file or directory', flags = 0, o_flags = 0)"
     ]
    }
   ],
   "execution_count": 80
  },
  {
   "metadata": {},
   "cell_type": "code",
   "outputs": [],
   "execution_count": null,
   "source": "",
   "id": "9bea502209d4803a"
  },
  {
   "metadata": {
    "ExecuteTime": {
     "end_time": "2025-03-03T19:11:46.663524Z",
     "start_time": "2025-03-03T19:11:46.602565Z"
    }
   },
   "cell_type": "code",
   "source": [
    "y_pred_new = new_model.predict(X_test.values)  # Use .values for older pandas versions\n",
    "r2_score(y_test, y_pred_new)\n"
   ],
   "id": "495a41d96d439e44",
   "outputs": [
    {
     "ename": "AttributeError",
     "evalue": "'numpy.ndarray' object has no attribute 'values'",
     "output_type": "error",
     "traceback": [
      "\u001B[1;31m---------------------------------------------------------------------------\u001B[0m",
      "\u001B[1;31mAttributeError\u001B[0m                            Traceback (most recent call last)",
      "Cell \u001B[1;32mIn[85], line 1\u001B[0m\n\u001B[1;32m----> 1\u001B[0m y_pred_new \u001B[38;5;241m=\u001B[39m new_model\u001B[38;5;241m.\u001B[39mpredict(\u001B[43mX_test\u001B[49m\u001B[38;5;241;43m.\u001B[39;49m\u001B[43mvalues\u001B[49m)  \u001B[38;5;66;03m# Use .values for older pandas versions\u001B[39;00m\n\u001B[0;32m      2\u001B[0m r2_score(y_test, y_pred_new)\n",
      "\u001B[1;31mAttributeError\u001B[0m: 'numpy.ndarray' object has no attribute 'values'"
     ]
    }
   ],
   "execution_count": 85
  }
 ],
 "metadata": {
  "kernelspec": {
   "display_name": "Python 3",
   "language": "python",
   "name": "python3"
  },
  "language_info": {
   "codemirror_mode": {
    "name": "ipython",
    "version": 2
   },
   "file_extension": ".py",
   "mimetype": "text/x-python",
   "name": "python",
   "nbconvert_exporter": "python",
   "pygments_lexer": "ipython2",
   "version": "2.7.6"
  }
 },
 "nbformat": 4,
 "nbformat_minor": 5
}
