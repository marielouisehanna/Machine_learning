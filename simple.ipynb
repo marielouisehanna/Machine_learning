{
 "cells": [
  {
   "cell_type": "markdown",
   "id": "8a77807f92f26ee",
   "metadata": {},
   "source": [
    "# Jupyter notebook sample"
   ]
  },
  {
   "cell_type": "code",
   "execution_count": null,
   "id": "7df9140457caed5e",
   "metadata": {},
   "outputs": [],
   "source": [
    "# Import libraries\n",
    "import pandas as pd\n",
    "import matplotlib.pyplot as plt"
   ]
  },
  {
   "cell_type": "markdown",
   "id": "2e44cfe2f556cba1",
   "metadata": {},
   "source": [
    "### Interactive tables\n",
    "\n",
    "Effortlessly view, navigate, sort, and filter data. Create charts and access essential data insights, including descriptive statistics and missing values – all without writing a single line of code."
   ]
  },
  {
   "cell_type": "code",
   "execution_count": null,
   "id": "initial_id",
   "metadata": {
    "collapsed": true
   },
   "outputs": [],
   "source": [
    "# Defining data for the dataframe\n",
    "data = {\n",
    "    'Basket': ['A', 'B', 'C', 'D', 'E', 'F', 'G', 'H', 'I', 'J', 'K', 'L', 'M', 'N', 'O', 'P'],\n",
    "    'Apples': [10, 20, 30, 56, 40, 40, 67, 47, 40, 4, 49, 52, 5, 56, 35, 45],\n",
    "    'Bananas': [15, 6, 3, 45, 67, 44, 45, 11, 14, 18, 13, 12, 1, 34, 12, 12]\n",
    "}\n",
    "\n",
    "# Creating the dataframe\n",
    "df = pd.DataFrame(data)\n",
    "\n",
    "df"
   ]
  },
  {
   "cell_type": "markdown",
   "id": "62a8c026dc794d85",
   "metadata": {},
   "source": [
    "### Visualization in IDE\n",
    "\n",
    "Create graphs and visualizations that match your chosen color scheme."
   ]
  },
  {
   "cell_type": "code",
   "execution_count": null,
   "id": "e65e58a1b7e04493",
   "metadata": {},
   "outputs": [],
   "source": [
    "# Calculate the sums\n",
    "sum_apples = df['Apples'].sum()\n",
    "sum_bananas = df['Bananas'].sum()\n",
    "\n",
    "# Create a bar chart\n",
    "plt.bar(['Apples', 'Bananas'], [sum_apples, sum_bananas], color=['red', 'blue'])\n",
    "\n",
    "# Set a title\n",
    "plt.title('Comparison of total Apples and Bananas')\n",
    "\n",
    "# Show the plot\n",
    "plt.show()"
   ]
  },
  {
   "cell_type": "code",
   "execution_count": null,
   "id": "4e7f2f3a",
   "metadata": {},
   "outputs": [],
   "source": [
    "#this is a test"
   ]
  }
 ],
 "metadata": {
  "kernelspec": {
   "display_name": "Python 3",
   "language": "python",
   "name": "python3"
  },
  "language_info": {
   "codemirror_mode": {
    "name": "ipython",
    "version": 2
   },
   "file_extension": ".py",
   "mimetype": "text/x-python",
   "name": "python",
   "nbconvert_exporter": "python",
   "pygments_lexer": "ipython2",
   "version": "2.7.6"
  }
 },
 "nbformat": 4,
 "nbformat_minor": 5
}
