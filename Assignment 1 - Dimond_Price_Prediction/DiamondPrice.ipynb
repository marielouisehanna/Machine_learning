{
 "cells": [
  {
   "cell_type": "markdown",
   "metadata": {},
   "source": [
    "# Diamond Price Prediction Analysis\n",
    "## 1. Importing Necessary Libraries"
   ]
  },
  {
   "cell_type": "code",
   "execution_count": 226,
   "metadata": {},
   "outputs": [],
   "source": [
    "\n",
    "import pandas as pd\n",
    "import numpy as np\n",
    "import pprint\n",
    "import json\n",
    "import matplotlib.pyplot as plt\n",
    "\n",
    "from sklearn.preprocessing import StandardScaler, MinMaxScaler\n",
    "from sklearn.metrics import r2_score\n",
    "from sklearn.model_selection import train_test_split\n",
    "\n",
    "import tensorflow as tf\n",
    "import tensorflow_docs as tfdocs\n",
    "from tensorflow import keras\n",
    "from tensorflow.keras import layers, activations, Sequential, Model\n",
    "from tensorflow.keras.layers import Dense, Dropout, Input\n",
    "from tensorflow.keras.optimizers import Adam, RMSprop\n",
    "from tensorflow.keras.callbacks import EarlyStopping\n"
   ]
  },
  {
   "cell_type": "markdown",
   "metadata": {},
   "source": [
    "## 2. Loading the Database\n",
    "### Datafields : \n",
    "\n",
    "* carat : Diamond weight in carat\n",
    "\n",
    "* cut : Diamond cutting quality from worst to beat(Fair,Good,Very Good,Premium,Ideal)\n",
    "\n",
    "* color : diamond color from j(worst) to d(best)\n",
    "\n",
    "* clarity : Diamond clarity from worst to best(I1, SI2, SI1, VS2, VS1, VVS2, VVS1, IF)\n",
    "\n",
    "* depth : Percentage depth(mean(x,y))\n",
    "\n",
    "* table : the width of widest point\n",
    "\n",
    "* price : Diamond price (target variable/dependent variable)\n",
    "\n",
    "* x : length in mm\n",
    "\n",
    "* y : width in mm\n",
    "\n",
    "* z : depth in mm "
   ]
  },
  {
   "cell_type": "code",
   "execution_count": 227,
   "metadata": {},
   "outputs": [
    {
     "data": {
      "text/html": [
       "<div>\n",
       "<style scoped>\n",
       "    .dataframe tbody tr th:only-of-type {\n",
       "        vertical-align: middle;\n",
       "    }\n",
       "\n",
       "    .dataframe tbody tr th {\n",
       "        vertical-align: top;\n",
       "    }\n",
       "\n",
       "    .dataframe thead th {\n",
       "        text-align: right;\n",
       "    }\n",
       "</style>\n",
       "<table border=\"1\" class=\"dataframe\">\n",
       "  <thead>\n",
       "    <tr style=\"text-align: right;\">\n",
       "      <th></th>\n",
       "      <th>carat</th>\n",
       "      <th>cut</th>\n",
       "      <th>color</th>\n",
       "      <th>clarity</th>\n",
       "      <th>depth</th>\n",
       "      <th>table</th>\n",
       "      <th>price</th>\n",
       "      <th>x</th>\n",
       "      <th>y</th>\n",
       "      <th>z</th>\n",
       "    </tr>\n",
       "  </thead>\n",
       "  <tbody>\n",
       "    <tr>\n",
       "      <th>22612</th>\n",
       "      <td>1.09</td>\n",
       "      <td>Very Good</td>\n",
       "      <td>F</td>\n",
       "      <td>IF</td>\n",
       "      <td>61.1</td>\n",
       "      <td>58.0</td>\n",
       "      <td>10663</td>\n",
       "      <td>6.63</td>\n",
       "      <td>6.69</td>\n",
       "      <td>4.07</td>\n",
       "    </tr>\n",
       "    <tr>\n",
       "      <th>52920</th>\n",
       "      <td>0.71</td>\n",
       "      <td>Premium</td>\n",
       "      <td>E</td>\n",
       "      <td>VS2</td>\n",
       "      <td>62.4</td>\n",
       "      <td>60.0</td>\n",
       "      <td>2590</td>\n",
       "      <td>5.66</td>\n",
       "      <td>5.68</td>\n",
       "      <td>3.54</td>\n",
       "    </tr>\n",
       "    <tr>\n",
       "      <th>18732</th>\n",
       "      <td>1.01</td>\n",
       "      <td>Very Good</td>\n",
       "      <td>D</td>\n",
       "      <td>VS2</td>\n",
       "      <td>62.7</td>\n",
       "      <td>57.0</td>\n",
       "      <td>7652</td>\n",
       "      <td>6.36</td>\n",
       "      <td>6.39</td>\n",
       "      <td>4.00</td>\n",
       "    </tr>\n",
       "    <tr>\n",
       "      <th>26804</th>\n",
       "      <td>2.40</td>\n",
       "      <td>Ideal</td>\n",
       "      <td>J</td>\n",
       "      <td>SI1</td>\n",
       "      <td>62.7</td>\n",
       "      <td>57.0</td>\n",
       "      <td>16687</td>\n",
       "      <td>8.60</td>\n",
       "      <td>8.50</td>\n",
       "      <td>5.36</td>\n",
       "    </tr>\n",
       "    <tr>\n",
       "      <th>31779</th>\n",
       "      <td>0.42</td>\n",
       "      <td>Very Good</td>\n",
       "      <td>E</td>\n",
       "      <td>SI1</td>\n",
       "      <td>62.5</td>\n",
       "      <td>55.0</td>\n",
       "      <td>773</td>\n",
       "      <td>4.80</td>\n",
       "      <td>4.83</td>\n",
       "      <td>3.01</td>\n",
       "    </tr>\n",
       "    <tr>\n",
       "      <th>22526</th>\n",
       "      <td>1.01</td>\n",
       "      <td>Good</td>\n",
       "      <td>E</td>\n",
       "      <td>VVS1</td>\n",
       "      <td>63.1</td>\n",
       "      <td>59.0</td>\n",
       "      <td>10567</td>\n",
       "      <td>6.31</td>\n",
       "      <td>6.34</td>\n",
       "      <td>3.99</td>\n",
       "    </tr>\n",
       "    <tr>\n",
       "      <th>12623</th>\n",
       "      <td>1.04</td>\n",
       "      <td>Premium</td>\n",
       "      <td>D</td>\n",
       "      <td>SI2</td>\n",
       "      <td>62.4</td>\n",
       "      <td>56.0</td>\n",
       "      <td>5292</td>\n",
       "      <td>6.50</td>\n",
       "      <td>6.45</td>\n",
       "      <td>4.04</td>\n",
       "    </tr>\n",
       "    <tr>\n",
       "      <th>17030</th>\n",
       "      <td>0.97</td>\n",
       "      <td>Ideal</td>\n",
       "      <td>H</td>\n",
       "      <td>VVS1</td>\n",
       "      <td>60.4</td>\n",
       "      <td>57.0</td>\n",
       "      <td>6801</td>\n",
       "      <td>6.40</td>\n",
       "      <td>6.48</td>\n",
       "      <td>3.89</td>\n",
       "    </tr>\n",
       "    <tr>\n",
       "      <th>13955</th>\n",
       "      <td>1.16</td>\n",
       "      <td>Very Good</td>\n",
       "      <td>G</td>\n",
       "      <td>SI1</td>\n",
       "      <td>60.7</td>\n",
       "      <td>59.0</td>\n",
       "      <td>5678</td>\n",
       "      <td>6.74</td>\n",
       "      <td>6.87</td>\n",
       "      <td>4.13</td>\n",
       "    </tr>\n",
       "    <tr>\n",
       "      <th>18872</th>\n",
       "      <td>1.02</td>\n",
       "      <td>Very Good</td>\n",
       "      <td>F</td>\n",
       "      <td>VS1</td>\n",
       "      <td>61.3</td>\n",
       "      <td>58.0</td>\n",
       "      <td>7740</td>\n",
       "      <td>6.46</td>\n",
       "      <td>6.52</td>\n",
       "      <td>3.98</td>\n",
       "    </tr>\n",
       "  </tbody>\n",
       "</table>\n",
       "</div>"
      ],
      "text/plain": [
       "       carat        cut color clarity  depth  table  price     x     y     z\n",
       "22612   1.09  Very Good     F      IF   61.1   58.0  10663  6.63  6.69  4.07\n",
       "52920   0.71    Premium     E     VS2   62.4   60.0   2590  5.66  5.68  3.54\n",
       "18732   1.01  Very Good     D     VS2   62.7   57.0   7652  6.36  6.39  4.00\n",
       "26804   2.40      Ideal     J     SI1   62.7   57.0  16687  8.60  8.50  5.36\n",
       "31779   0.42  Very Good     E     SI1   62.5   55.0    773  4.80  4.83  3.01\n",
       "22526   1.01       Good     E    VVS1   63.1   59.0  10567  6.31  6.34  3.99\n",
       "12623   1.04    Premium     D     SI2   62.4   56.0   5292  6.50  6.45  4.04\n",
       "17030   0.97      Ideal     H    VVS1   60.4   57.0   6801  6.40  6.48  3.89\n",
       "13955   1.16  Very Good     G     SI1   60.7   59.0   5678  6.74  6.87  4.13\n",
       "18872   1.02  Very Good     F     VS1   61.3   58.0   7740  6.46  6.52  3.98"
      ]
     },
     "execution_count": 227,
     "metadata": {},
     "output_type": "execute_result"
    }
   ],
   "source": [
    "dataset = pd.read_csv('diamonds.csv')\n",
    "dataset.sample(10)"
   ]
  },
  {
   "cell_type": "markdown",
   "metadata": {},
   "source": [
    "## 3. Exploratory Data Analysis (EDA)"
   ]
  },
  {
   "cell_type": "code",
   "execution_count": 228,
   "metadata": {},
   "outputs": [
    {
     "data": {
      "text/plain": [
       "(53940, 10)"
      ]
     },
     "execution_count": 228,
     "metadata": {},
     "output_type": "execute_result"
    }
   ],
   "source": [
    "dataset.shape"
   ]
  },
  {
   "cell_type": "code",
   "execution_count": 229,
   "metadata": {},
   "outputs": [
    {
     "data": {
      "text/plain": [
       "carat      0\n",
       "cut        0\n",
       "color      0\n",
       "clarity    0\n",
       "depth      0\n",
       "table      0\n",
       "price      0\n",
       "x          0\n",
       "y          0\n",
       "z          0\n",
       "dtype: int64"
      ]
     },
     "execution_count": 229,
     "metadata": {},
     "output_type": "execute_result"
    }
   ],
   "source": [
    "dataset.isna().sum()"
   ]
  },
  {
   "cell_type": "code",
   "execution_count": 230,
   "metadata": {},
   "outputs": [
    {
     "data": {
      "text/html": [
       "<div>\n",
       "<style scoped>\n",
       "    .dataframe tbody tr th:only-of-type {\n",
       "        vertical-align: middle;\n",
       "    }\n",
       "\n",
       "    .dataframe tbody tr th {\n",
       "        vertical-align: top;\n",
       "    }\n",
       "\n",
       "    .dataframe thead th {\n",
       "        text-align: right;\n",
       "    }\n",
       "</style>\n",
       "<table border=\"1\" class=\"dataframe\">\n",
       "  <thead>\n",
       "    <tr style=\"text-align: right;\">\n",
       "      <th></th>\n",
       "      <th>carat</th>\n",
       "      <th>depth</th>\n",
       "      <th>table</th>\n",
       "    </tr>\n",
       "  </thead>\n",
       "  <tbody>\n",
       "    <tr>\n",
       "      <th>count</th>\n",
       "      <td>53940.000000</td>\n",
       "      <td>53940.000000</td>\n",
       "      <td>53940.000000</td>\n",
       "    </tr>\n",
       "    <tr>\n",
       "      <th>mean</th>\n",
       "      <td>0.797940</td>\n",
       "      <td>61.749405</td>\n",
       "      <td>57.457184</td>\n",
       "    </tr>\n",
       "    <tr>\n",
       "      <th>std</th>\n",
       "      <td>0.474011</td>\n",
       "      <td>1.432621</td>\n",
       "      <td>2.234491</td>\n",
       "    </tr>\n",
       "    <tr>\n",
       "      <th>min</th>\n",
       "      <td>0.200000</td>\n",
       "      <td>43.000000</td>\n",
       "      <td>43.000000</td>\n",
       "    </tr>\n",
       "    <tr>\n",
       "      <th>25%</th>\n",
       "      <td>0.400000</td>\n",
       "      <td>61.000000</td>\n",
       "      <td>56.000000</td>\n",
       "    </tr>\n",
       "    <tr>\n",
       "      <th>50%</th>\n",
       "      <td>0.700000</td>\n",
       "      <td>61.800000</td>\n",
       "      <td>57.000000</td>\n",
       "    </tr>\n",
       "    <tr>\n",
       "      <th>75%</th>\n",
       "      <td>1.040000</td>\n",
       "      <td>62.500000</td>\n",
       "      <td>59.000000</td>\n",
       "    </tr>\n",
       "    <tr>\n",
       "      <th>max</th>\n",
       "      <td>5.010000</td>\n",
       "      <td>79.000000</td>\n",
       "      <td>95.000000</td>\n",
       "    </tr>\n",
       "  </tbody>\n",
       "</table>\n",
       "</div>"
      ],
      "text/plain": [
       "              carat         depth         table\n",
       "count  53940.000000  53940.000000  53940.000000\n",
       "mean       0.797940     61.749405     57.457184\n",
       "std        0.474011      1.432621      2.234491\n",
       "min        0.200000     43.000000     43.000000\n",
       "25%        0.400000     61.000000     56.000000\n",
       "50%        0.700000     61.800000     57.000000\n",
       "75%        1.040000     62.500000     59.000000\n",
       "max        5.010000     79.000000     95.000000"
      ]
     },
     "execution_count": 230,
     "metadata": {},
     "output_type": "execute_result"
    }
   ],
   "source": [
    "dataset[['carat', 'depth', 'table']].describe()"
   ]
  },
  {
   "cell_type": "code",
   "execution_count": 231,
   "metadata": {},
   "outputs": [
    {
     "data": {
      "text/html": [
       "<div>\n",
       "<style scoped>\n",
       "    .dataframe tbody tr th:only-of-type {\n",
       "        vertical-align: middle;\n",
       "    }\n",
       "\n",
       "    .dataframe tbody tr th {\n",
       "        vertical-align: top;\n",
       "    }\n",
       "\n",
       "    .dataframe thead th {\n",
       "        text-align: right;\n",
       "    }\n",
       "</style>\n",
       "<table border=\"1\" class=\"dataframe\">\n",
       "  <thead>\n",
       "    <tr style=\"text-align: right;\">\n",
       "      <th></th>\n",
       "      <th>carat</th>\n",
       "      <th>cut</th>\n",
       "      <th>color</th>\n",
       "      <th>clarity</th>\n",
       "      <th>depth</th>\n",
       "      <th>table</th>\n",
       "      <th>price</th>\n",
       "      <th>x</th>\n",
       "      <th>y</th>\n",
       "      <th>z</th>\n",
       "    </tr>\n",
       "  </thead>\n",
       "  <tbody>\n",
       "    <tr>\n",
       "      <th>count</th>\n",
       "      <td>53940.000000</td>\n",
       "      <td>53940</td>\n",
       "      <td>53940</td>\n",
       "      <td>53940</td>\n",
       "      <td>53940.000000</td>\n",
       "      <td>53940.000000</td>\n",
       "      <td>53940.000000</td>\n",
       "      <td>53940.000000</td>\n",
       "      <td>53940.000000</td>\n",
       "      <td>53940.000000</td>\n",
       "    </tr>\n",
       "    <tr>\n",
       "      <th>unique</th>\n",
       "      <td>NaN</td>\n",
       "      <td>5</td>\n",
       "      <td>7</td>\n",
       "      <td>8</td>\n",
       "      <td>NaN</td>\n",
       "      <td>NaN</td>\n",
       "      <td>NaN</td>\n",
       "      <td>NaN</td>\n",
       "      <td>NaN</td>\n",
       "      <td>NaN</td>\n",
       "    </tr>\n",
       "    <tr>\n",
       "      <th>top</th>\n",
       "      <td>NaN</td>\n",
       "      <td>Ideal</td>\n",
       "      <td>G</td>\n",
       "      <td>SI1</td>\n",
       "      <td>NaN</td>\n",
       "      <td>NaN</td>\n",
       "      <td>NaN</td>\n",
       "      <td>NaN</td>\n",
       "      <td>NaN</td>\n",
       "      <td>NaN</td>\n",
       "    </tr>\n",
       "    <tr>\n",
       "      <th>freq</th>\n",
       "      <td>NaN</td>\n",
       "      <td>21551</td>\n",
       "      <td>11292</td>\n",
       "      <td>13065</td>\n",
       "      <td>NaN</td>\n",
       "      <td>NaN</td>\n",
       "      <td>NaN</td>\n",
       "      <td>NaN</td>\n",
       "      <td>NaN</td>\n",
       "      <td>NaN</td>\n",
       "    </tr>\n",
       "    <tr>\n",
       "      <th>mean</th>\n",
       "      <td>0.797940</td>\n",
       "      <td>NaN</td>\n",
       "      <td>NaN</td>\n",
       "      <td>NaN</td>\n",
       "      <td>61.749405</td>\n",
       "      <td>57.457184</td>\n",
       "      <td>3932.799722</td>\n",
       "      <td>5.731157</td>\n",
       "      <td>5.734526</td>\n",
       "      <td>3.538734</td>\n",
       "    </tr>\n",
       "    <tr>\n",
       "      <th>std</th>\n",
       "      <td>0.474011</td>\n",
       "      <td>NaN</td>\n",
       "      <td>NaN</td>\n",
       "      <td>NaN</td>\n",
       "      <td>1.432621</td>\n",
       "      <td>2.234491</td>\n",
       "      <td>3989.439738</td>\n",
       "      <td>1.121761</td>\n",
       "      <td>1.142135</td>\n",
       "      <td>0.705699</td>\n",
       "    </tr>\n",
       "    <tr>\n",
       "      <th>min</th>\n",
       "      <td>0.200000</td>\n",
       "      <td>NaN</td>\n",
       "      <td>NaN</td>\n",
       "      <td>NaN</td>\n",
       "      <td>43.000000</td>\n",
       "      <td>43.000000</td>\n",
       "      <td>326.000000</td>\n",
       "      <td>0.000000</td>\n",
       "      <td>0.000000</td>\n",
       "      <td>0.000000</td>\n",
       "    </tr>\n",
       "    <tr>\n",
       "      <th>25%</th>\n",
       "      <td>0.400000</td>\n",
       "      <td>NaN</td>\n",
       "      <td>NaN</td>\n",
       "      <td>NaN</td>\n",
       "      <td>61.000000</td>\n",
       "      <td>56.000000</td>\n",
       "      <td>950.000000</td>\n",
       "      <td>4.710000</td>\n",
       "      <td>4.720000</td>\n",
       "      <td>2.910000</td>\n",
       "    </tr>\n",
       "    <tr>\n",
       "      <th>50%</th>\n",
       "      <td>0.700000</td>\n",
       "      <td>NaN</td>\n",
       "      <td>NaN</td>\n",
       "      <td>NaN</td>\n",
       "      <td>61.800000</td>\n",
       "      <td>57.000000</td>\n",
       "      <td>2401.000000</td>\n",
       "      <td>5.700000</td>\n",
       "      <td>5.710000</td>\n",
       "      <td>3.530000</td>\n",
       "    </tr>\n",
       "    <tr>\n",
       "      <th>75%</th>\n",
       "      <td>1.040000</td>\n",
       "      <td>NaN</td>\n",
       "      <td>NaN</td>\n",
       "      <td>NaN</td>\n",
       "      <td>62.500000</td>\n",
       "      <td>59.000000</td>\n",
       "      <td>5324.250000</td>\n",
       "      <td>6.540000</td>\n",
       "      <td>6.540000</td>\n",
       "      <td>4.040000</td>\n",
       "    </tr>\n",
       "    <tr>\n",
       "      <th>max</th>\n",
       "      <td>5.010000</td>\n",
       "      <td>NaN</td>\n",
       "      <td>NaN</td>\n",
       "      <td>NaN</td>\n",
       "      <td>79.000000</td>\n",
       "      <td>95.000000</td>\n",
       "      <td>18823.000000</td>\n",
       "      <td>10.740000</td>\n",
       "      <td>58.900000</td>\n",
       "      <td>31.800000</td>\n",
       "    </tr>\n",
       "  </tbody>\n",
       "</table>\n",
       "</div>"
      ],
      "text/plain": [
       "               carat    cut  color clarity         depth         table  \\\n",
       "count   53940.000000  53940  53940   53940  53940.000000  53940.000000   \n",
       "unique           NaN      5      7       8           NaN           NaN   \n",
       "top              NaN  Ideal      G     SI1           NaN           NaN   \n",
       "freq             NaN  21551  11292   13065           NaN           NaN   \n",
       "mean        0.797940    NaN    NaN     NaN     61.749405     57.457184   \n",
       "std         0.474011    NaN    NaN     NaN      1.432621      2.234491   \n",
       "min         0.200000    NaN    NaN     NaN     43.000000     43.000000   \n",
       "25%         0.400000    NaN    NaN     NaN     61.000000     56.000000   \n",
       "50%         0.700000    NaN    NaN     NaN     61.800000     57.000000   \n",
       "75%         1.040000    NaN    NaN     NaN     62.500000     59.000000   \n",
       "max         5.010000    NaN    NaN     NaN     79.000000     95.000000   \n",
       "\n",
       "               price             x             y             z  \n",
       "count   53940.000000  53940.000000  53940.000000  53940.000000  \n",
       "unique           NaN           NaN           NaN           NaN  \n",
       "top              NaN           NaN           NaN           NaN  \n",
       "freq             NaN           NaN           NaN           NaN  \n",
       "mean     3932.799722      5.731157      5.734526      3.538734  \n",
       "std      3989.439738      1.121761      1.142135      0.705699  \n",
       "min       326.000000      0.000000      0.000000      0.000000  \n",
       "25%       950.000000      4.710000      4.720000      2.910000  \n",
       "50%      2401.000000      5.700000      5.710000      3.530000  \n",
       "75%      5324.250000      6.540000      6.540000      4.040000  \n",
       "max     18823.000000     10.740000     58.900000     31.800000  "
      ]
     },
     "execution_count": 231,
     "metadata": {},
     "output_type": "execute_result"
    }
   ],
   "source": [
    "dataset.describe(include='all')"
   ]
  },
  {
   "cell_type": "markdown",
   "metadata": {},
   "source": [
    "This shows all the columns in describe function\n",
    "In this dataset we notice that the min value of x,y,z columns is 0.\n",
    "This indicates that there are faulty values in data.\n",
    "So we have to remember later, we need to filter out those faulty data points."
   ]
  },
  {
   "cell_type": "markdown",
   "metadata": {},
   "source": [
    "### Checking the Most Common Color"
   ]
  },
  {
   "cell_type": "code",
   "execution_count": 232,
   "metadata": {},
   "outputs": [
    {
     "data": {
      "text/plain": [
       "color\n",
       "G    11292\n",
       "E     9797\n",
       "F     9542\n",
       "H     8304\n",
       "D     6775\n",
       "I     5422\n",
       "J     2808\n",
       "Name: count, dtype: int64"
      ]
     },
     "execution_count": 232,
     "metadata": {},
     "output_type": "execute_result"
    }
   ],
   "source": [
    "dataset['color'].value_counts()\n"
   ]
  },
  {
   "cell_type": "markdown",
   "metadata": {},
   "source": [
    "### Price Distribution - Boxplot"
   ]
  },
  {
   "cell_type": "code",
   "execution_count": 233,
   "metadata": {},
   "outputs": [
    {
     "data": {
      "image/png": "[encoded data removed]",
      "text/plain": [
       "<Figure size 1000x800 with 1 Axes>"
      ]
     },
     "metadata": {},
     "output_type": "display_data"
    }
   ],
   "source": [
    "plt.figure(figsize=(10, 8))\n",
    "dataset.boxplot('price')\n",
    "plt.show()"
   ]
  },
  {
   "cell_type": "markdown",
   "metadata": {},
   "source": [
    "### Price Distribution - Kernel Density Estimate (KDE)"
   ]
  },
  {
   "cell_type": "code",
   "execution_count": 234,
   "metadata": {},
   "outputs": [
    {
     "data": {
      "image/png": "[encoded data removed]",
      "text/plain": [
       "<Figure size 1000x800 with 1 Axes>"
      ]
     },
     "metadata": {},
     "output_type": "display_data"
    }
   ],
   "source": [
    "plt.figure(figsize=(10, 8))\n",
    "dataset['price'].plot.kde()\n",
    "plt.show()"
   ]
  },
  {
   "cell_type": "markdown",
   "metadata": {},
   "source": [
    "### Prices in function of carats - Scatter Plot"
   ]
  },
  {
   "cell_type": "code",
   "execution_count": 235,
   "metadata": {},
   "outputs": [
    {
     "data": {
      "image/png": "[encoded data removed]",
      "text/plain": [
       "<Figure size 1000x800 with 1 Axes>"
      ]
     },
     "metadata": {},
     "output_type": "display_data"
    }
   ],
   "source": [
    "plt.figure(figsize=(10, 8))\n",
    "plt.scatter(dataset['carat'], dataset['price'], s=200)\n",
    "plt.xlabel('carat', fontsize=20)\n",
    "plt.ylabel('Diamond prices in function of carat', fontsize=20)\n",
    "plt.show()"
   ]
  },
  {
   "cell_type": "markdown",
   "metadata": {},
   "source": [
    "### Prices in function of carats - Scatter Plot"
   ]
  },
  {
   "cell_type": "code",
   "execution_count": 236,
   "metadata": {},
   "outputs": [
    {
     "data": {
      "image/png": "[encoded data removed]",
      "text/plain": [
       "<Figure size 1000x800 with 1 Axes>"
      ]
     },
     "metadata": {},
     "output_type": "display_data"
    }
   ],
   "source": [
    "plt.figure(figsize=(10, 8))\n",
    "plt.scatter(dataset['depth'], dataset['price'], s=200)\n",
    "plt.xlabel('depth', fontsize=20)\n",
    "plt.ylabel('Diamond prices in function of depth', fontsize=20)\n",
    "plt.show()"
   ]
  },
  {
   "cell_type": "markdown",
   "metadata": {},
   "source": [
    "## 4. Data Preprocessing\n",
    "### 4.1 Handling Missing, Faulty and Non-Numeric Values\n",
    "removing values with x = 0, y = 0 or z = 0"
   ]
  },
  {
   "cell_type": "code",
   "execution_count": 237,
   "metadata": {},
   "outputs": [
    {
     "data": {
      "text/html": [
       "<div>\n",
       "<style scoped>\n",
       "    .dataframe tbody tr th:only-of-type {\n",
       "        vertical-align: middle;\n",
       "    }\n",
       "\n",
       "    .dataframe tbody tr th {\n",
       "        vertical-align: top;\n",
       "    }\n",
       "\n",
       "    .dataframe thead th {\n",
       "        text-align: right;\n",
       "    }\n",
       "</style>\n",
       "<table border=\"1\" class=\"dataframe\">\n",
       "  <thead>\n",
       "    <tr style=\"text-align: right;\">\n",
       "      <th></th>\n",
       "      <th>x</th>\n",
       "      <th>y</th>\n",
       "      <th>z</th>\n",
       "    </tr>\n",
       "  </thead>\n",
       "  <tbody>\n",
       "    <tr>\n",
       "      <th>count</th>\n",
       "      <td>53920.000000</td>\n",
       "      <td>53920.000000</td>\n",
       "      <td>53920.000000</td>\n",
       "    </tr>\n",
       "    <tr>\n",
       "      <th>mean</th>\n",
       "      <td>5.731627</td>\n",
       "      <td>5.734887</td>\n",
       "      <td>3.540046</td>\n",
       "    </tr>\n",
       "    <tr>\n",
       "      <th>std</th>\n",
       "      <td>1.119423</td>\n",
       "      <td>1.140126</td>\n",
       "      <td>0.702530</td>\n",
       "    </tr>\n",
       "    <tr>\n",
       "      <th>min</th>\n",
       "      <td>3.730000</td>\n",
       "      <td>3.680000</td>\n",
       "      <td>1.070000</td>\n",
       "    </tr>\n",
       "    <tr>\n",
       "      <th>25%</th>\n",
       "      <td>4.710000</td>\n",
       "      <td>4.720000</td>\n",
       "      <td>2.910000</td>\n",
       "    </tr>\n",
       "    <tr>\n",
       "      <th>50%</th>\n",
       "      <td>5.700000</td>\n",
       "      <td>5.710000</td>\n",
       "      <td>3.530000</td>\n",
       "    </tr>\n",
       "    <tr>\n",
       "      <th>75%</th>\n",
       "      <td>6.540000</td>\n",
       "      <td>6.540000</td>\n",
       "      <td>4.040000</td>\n",
       "    </tr>\n",
       "    <tr>\n",
       "      <th>max</th>\n",
       "      <td>10.740000</td>\n",
       "      <td>58.900000</td>\n",
       "      <td>31.800000</td>\n",
       "    </tr>\n",
       "  </tbody>\n",
       "</table>\n",
       "</div>"
      ],
      "text/plain": [
       "                  x             y             z\n",
       "count  53920.000000  53920.000000  53920.000000\n",
       "mean       5.731627      5.734887      3.540046\n",
       "std        1.119423      1.140126      0.702530\n",
       "min        3.730000      3.680000      1.070000\n",
       "25%        4.710000      4.720000      2.910000\n",
       "50%        5.700000      5.710000      3.530000\n",
       "75%        6.540000      6.540000      4.040000\n",
       "max       10.740000     58.900000     31.800000"
      ]
     },
     "execution_count": 237,
     "metadata": {},
     "output_type": "execute_result"
    }
   ],
   "source": [
    "dataset=dataset.drop(dataset[dataset['x']==0].index)\n",
    "dataset=dataset.drop(dataset[dataset['y']==0].index)\n",
    "dataset=dataset.drop(dataset[dataset['z']==0].index)\n",
    "dataset[['x', 'y', 'z']].describe()"
   ]
  },
  {
   "cell_type": "markdown",
   "metadata": {},
   "source": [
    "categorical features and one-hot encoding"
   ]
  },
  {
   "cell_type": "code",
   "execution_count": 238,
   "metadata": {},
   "outputs": [
    {
     "data": {
      "text/plain": [
       "array(['E', 'I', 'J', 'H', 'F', 'G', 'D'], dtype=object)"
      ]
     },
     "execution_count": 238,
     "metadata": {},
     "output_type": "execute_result"
    }
   ],
   "source": [
    "dataset['color'].unique()"
   ]
  },
  {
   "cell_type": "code",
   "execution_count": 239,
   "metadata": {},
   "outputs": [
    {
     "data": {
      "text/plain": [
       "array(['SI2', 'SI1', 'VS1', 'VS2', 'VVS2', 'VVS1', 'I1', 'IF'],\n",
       "      dtype=object)"
      ]
     },
     "execution_count": 239,
     "metadata": {},
     "output_type": "execute_result"
    }
   ],
   "source": [
    "dataset['clarity'].unique()"
   ]
  },
  {
   "cell_type": "code",
   "execution_count": 240,
   "metadata": {},
   "outputs": [
    {
     "data": {
      "text/plain": [
       "array(['Ideal', 'Premium', 'Good', 'Very Good', 'Fair'], dtype=object)"
      ]
     },
     "execution_count": 240,
     "metadata": {},
     "output_type": "execute_result"
    }
   ],
   "source": [
    "dataset['cut'].unique()"
   ]
  },
  {
   "cell_type": "code",
   "execution_count": 241,
   "metadata": {},
   "outputs": [
    {
     "data": {
      "text/html": [
       "<div>\n",
       "<style scoped>\n",
       "    .dataframe tbody tr th:only-of-type {\n",
       "        vertical-align: middle;\n",
       "    }\n",
       "\n",
       "    .dataframe tbody tr th {\n",
       "        vertical-align: top;\n",
       "    }\n",
       "\n",
       "    .dataframe thead th {\n",
       "        text-align: right;\n",
       "    }\n",
       "</style>\n",
       "<table border=\"1\" class=\"dataframe\">\n",
       "  <thead>\n",
       "    <tr style=\"text-align: right;\">\n",
       "      <th></th>\n",
       "      <th>carat</th>\n",
       "      <th>depth</th>\n",
       "      <th>table</th>\n",
       "      <th>price</th>\n",
       "      <th>x</th>\n",
       "      <th>y</th>\n",
       "      <th>z</th>\n",
       "      <th>cut_Good</th>\n",
       "      <th>cut_Ideal</th>\n",
       "      <th>cut_Premium</th>\n",
       "      <th>...</th>\n",
       "      <th>color_H</th>\n",
       "      <th>color_I</th>\n",
       "      <th>color_J</th>\n",
       "      <th>clarity_IF</th>\n",
       "      <th>clarity_SI1</th>\n",
       "      <th>clarity_SI2</th>\n",
       "      <th>clarity_VS1</th>\n",
       "      <th>clarity_VS2</th>\n",
       "      <th>clarity_VVS1</th>\n",
       "      <th>clarity_VVS2</th>\n",
       "    </tr>\n",
       "  </thead>\n",
       "  <tbody>\n",
       "    <tr>\n",
       "      <th>0</th>\n",
       "      <td>0.23</td>\n",
       "      <td>61.5</td>\n",
       "      <td>55.0</td>\n",
       "      <td>326</td>\n",
       "      <td>3.95</td>\n",
       "      <td>3.98</td>\n",
       "      <td>2.43</td>\n",
       "      <td>0</td>\n",
       "      <td>1</td>\n",
       "      <td>0</td>\n",
       "      <td>...</td>\n",
       "      <td>0</td>\n",
       "      <td>0</td>\n",
       "      <td>0</td>\n",
       "      <td>0</td>\n",
       "      <td>0</td>\n",
       "      <td>1</td>\n",
       "      <td>0</td>\n",
       "      <td>0</td>\n",
       "      <td>0</td>\n",
       "      <td>0</td>\n",
       "    </tr>\n",
       "    <tr>\n",
       "      <th>1</th>\n",
       "      <td>0.21</td>\n",
       "      <td>59.8</td>\n",
       "      <td>61.0</td>\n",
       "      <td>326</td>\n",
       "      <td>3.89</td>\n",
       "      <td>3.84</td>\n",
       "      <td>2.31</td>\n",
       "      <td>0</td>\n",
       "      <td>0</td>\n",
       "      <td>1</td>\n",
       "      <td>...</td>\n",
       "      <td>0</td>\n",
       "      <td>0</td>\n",
       "      <td>0</td>\n",
       "      <td>0</td>\n",
       "      <td>1</td>\n",
       "      <td>0</td>\n",
       "      <td>0</td>\n",
       "      <td>0</td>\n",
       "      <td>0</td>\n",
       "      <td>0</td>\n",
       "    </tr>\n",
       "    <tr>\n",
       "      <th>2</th>\n",
       "      <td>0.23</td>\n",
       "      <td>56.9</td>\n",
       "      <td>65.0</td>\n",
       "      <td>327</td>\n",
       "      <td>4.05</td>\n",
       "      <td>4.07</td>\n",
       "      <td>2.31</td>\n",
       "      <td>1</td>\n",
       "      <td>0</td>\n",
       "      <td>0</td>\n",
       "      <td>...</td>\n",
       "      <td>0</td>\n",
       "      <td>0</td>\n",
       "      <td>0</td>\n",
       "      <td>0</td>\n",
       "      <td>0</td>\n",
       "      <td>0</td>\n",
       "      <td>1</td>\n",
       "      <td>0</td>\n",
       "      <td>0</td>\n",
       "      <td>0</td>\n",
       "    </tr>\n",
       "    <tr>\n",
       "      <th>3</th>\n",
       "      <td>0.29</td>\n",
       "      <td>62.4</td>\n",
       "      <td>58.0</td>\n",
       "      <td>334</td>\n",
       "      <td>4.20</td>\n",
       "      <td>4.23</td>\n",
       "      <td>2.63</td>\n",
       "      <td>0</td>\n",
       "      <td>0</td>\n",
       "      <td>1</td>\n",
       "      <td>...</td>\n",
       "      <td>0</td>\n",
       "      <td>1</td>\n",
       "      <td>0</td>\n",
       "      <td>0</td>\n",
       "      <td>0</td>\n",
       "      <td>0</td>\n",
       "      <td>0</td>\n",
       "      <td>1</td>\n",
       "      <td>0</td>\n",
       "      <td>0</td>\n",
       "    </tr>\n",
       "    <tr>\n",
       "      <th>4</th>\n",
       "      <td>0.31</td>\n",
       "      <td>63.3</td>\n",
       "      <td>58.0</td>\n",
       "      <td>335</td>\n",
       "      <td>4.34</td>\n",
       "      <td>4.35</td>\n",
       "      <td>2.75</td>\n",
       "      <td>1</td>\n",
       "      <td>0</td>\n",
       "      <td>0</td>\n",
       "      <td>...</td>\n",
       "      <td>0</td>\n",
       "      <td>0</td>\n",
       "      <td>1</td>\n",
       "      <td>0</td>\n",
       "      <td>0</td>\n",
       "      <td>1</td>\n",
       "      <td>0</td>\n",
       "      <td>0</td>\n",
       "      <td>0</td>\n",
       "      <td>0</td>\n",
       "    </tr>\n",
       "  </tbody>\n",
       "</table>\n",
       "<p>5 rows × 24 columns</p>\n",
       "</div>"
      ],
      "text/plain": [
       "   carat  depth  table  price     x     y     z  cut_Good  cut_Ideal  \\\n",
       "0   0.23   61.5   55.0    326  3.95  3.98  2.43         0          1   \n",
       "1   0.21   59.8   61.0    326  3.89  3.84  2.31         0          0   \n",
       "2   0.23   56.9   65.0    327  4.05  4.07  2.31         1          0   \n",
       "3   0.29   62.4   58.0    334  4.20  4.23  2.63         0          0   \n",
       "4   0.31   63.3   58.0    335  4.34  4.35  2.75         1          0   \n",
       "\n",
       "   cut_Premium  ...  color_H  color_I  color_J  clarity_IF  clarity_SI1  \\\n",
       "0            0  ...        0        0        0           0            0   \n",
       "1            1  ...        0        0        0           0            1   \n",
       "2            0  ...        0        0        0           0            0   \n",
       "3            1  ...        0        1        0           0            0   \n",
       "4            0  ...        0        0        1           0            0   \n",
       "\n",
       "   clarity_SI2  clarity_VS1  clarity_VS2  clarity_VVS1  clarity_VVS2  \n",
       "0            1            0            0             0             0  \n",
       "1            0            0            0             0             0  \n",
       "2            0            1            0             0             0  \n",
       "3            0            0            1             0             0  \n",
       "4            1            0            0             0             0  \n",
       "\n",
       "[5 rows x 24 columns]"
      ]
     },
     "execution_count": 241,
     "metadata": {},
     "output_type": "execute_result"
    }
   ],
   "source": [
    "categorical_features = [\n",
    "    'cut', 'color', 'clarity'\n",
    "]\n",
    "\n",
    "dataset = pd.get_dummies(dataset, columns=categorical_features, drop_first=True)\n",
    "\n",
    "bool_cols = dataset.select_dtypes(include='bool').columns\n",
    "dataset[bool_cols] = dataset[bool_cols].astype(int)\n",
    "\n",
    "dataset.head()"
   ]
  },
  {
   "cell_type": "markdown",
   "metadata": {},
   "source": [
    "normalizing numeric features"
   ]
  },
  {
   "cell_type": "code",
   "execution_count": 242,
   "metadata": {},
   "outputs": [
    {
     "data": {
      "text/plain": [
       "<bound method NDFrame.head of           carat     depth     table  price         x         y         z  \\\n",
       "0     -1.198204 -0.174203 -1.099725    326 -1.591573 -1.539219 -1.580084   \n",
       "1     -1.240417 -1.361090  1.585988    326 -1.645173 -1.662014 -1.750896   \n",
       "2     -1.198204 -3.385781  3.376463    327 -1.502241 -1.460280 -1.750896   \n",
       "3     -1.071566  0.454149  0.243131    334 -1.368242 -1.319943 -1.295396   \n",
       "4     -1.029353  1.082501  0.243131    335 -1.243176 -1.214690 -1.124583   \n",
       "...         ...       ...       ...    ...       ...       ...       ...   \n",
       "53935 -0.163993 -0.662921 -0.204488   2757  0.016413  0.022027 -0.057004   \n",
       "53936 -0.163993  0.942868 -1.099725   2757 -0.037186  0.013256  0.099575   \n",
       "53937 -0.206205  0.733417  1.138369   2757 -0.063986 -0.048142  0.028403   \n",
       "53938  0.131496 -0.523288  0.243131   2757  0.373744  0.337784  0.284622   \n",
       "53939 -0.100674  0.314515 -1.099725   2757  0.087879  0.118508  0.142278   \n",
       "\n",
       "       cut_Good  cut_Ideal  cut_Premium  ...  color_H  color_I  color_J  \\\n",
       "0             0          1            0  ...        0        0        0   \n",
       "1             0          0            1  ...        0        0        0   \n",
       "2             1          0            0  ...        0        0        0   \n",
       "3             0          0            1  ...        0        1        0   \n",
       "4             1          0            0  ...        0        0        1   \n",
       "...         ...        ...          ...  ...      ...      ...      ...   \n",
       "53935         0          1            0  ...        0        0        0   \n",
       "53936         1          0            0  ...        0        0        0   \n",
       "53937         0          0            0  ...        0        0        0   \n",
       "53938         0          0            1  ...        1        0        0   \n",
       "53939         0          1            0  ...        0        0        0   \n",
       "\n",
       "       clarity_IF  clarity_SI1  clarity_SI2  clarity_VS1  clarity_VS2  \\\n",
       "0               0            0            1            0            0   \n",
       "1               0            1            0            0            0   \n",
       "2               0            0            0            1            0   \n",
       "3               0            0            0            0            1   \n",
       "4               0            0            1            0            0   \n",
       "...           ...          ...          ...          ...          ...   \n",
       "53935           0            1            0            0            0   \n",
       "53936           0            1            0            0            0   \n",
       "53937           0            1            0            0            0   \n",
       "53938           0            0            1            0            0   \n",
       "53939           0            0            1            0            0   \n",
       "\n",
       "       clarity_VVS1  clarity_VVS2  \n",
       "0                 0             0  \n",
       "1                 0             0  \n",
       "2                 0             0  \n",
       "3                 0             0  \n",
       "4                 0             0  \n",
       "...             ...           ...  \n",
       "53935             0             0  \n",
       "53936             0             0  \n",
       "53937             0             0  \n",
       "53938             0             0  \n",
       "53939             0             0  \n",
       "\n",
       "[53920 rows x 24 columns]>"
      ]
     },
     "execution_count": 242,
     "metadata": {},
     "output_type": "execute_result"
    }
   ],
   "source": [
    "numeric_features = ['carat', 'depth', 'table', 'x', 'y', 'z']\n",
    "scaler = StandardScaler()\n",
    "dataset[numeric_features] = scaler.fit_transform(dataset[numeric_features])\n",
    "dataset.head"
   ]
  },
  {
   "cell_type": "markdown",
   "metadata": {},
   "source": [
    "checking again to make sure there's no missing values"
   ]
  },
  {
   "cell_type": "code",
   "execution_count": 243,
   "metadata": {},
   "outputs": [
    {
     "name": "stdout",
     "output_type": "stream",
     "text": [
      "carat            0\n",
      "depth            0\n",
      "table            0\n",
      "price            0\n",
      "x                0\n",
      "y                0\n",
      "z                0\n",
      "cut_Good         0\n",
      "cut_Ideal        0\n",
      "cut_Premium      0\n",
      "cut_Very Good    0\n",
      "color_E          0\n",
      "color_F          0\n",
      "color_G          0\n",
      "color_H          0\n",
      "color_I          0\n",
      "color_J          0\n",
      "clarity_IF       0\n",
      "clarity_SI1      0\n",
      "clarity_SI2      0\n",
      "clarity_VS1      0\n",
      "clarity_VS2      0\n",
      "clarity_VVS1     0\n",
      "clarity_VVS2     0\n",
      "dtype: int64\n"
     ]
    }
   ],
   "source": [
    "print(dataset.isnull().sum())"
   ]
  },
  {
   "cell_type": "markdown",
   "metadata": {},
   "source": [
    "### Splitting dataset into training and testing data"
   ]
  },
  {
   "cell_type": "code",
   "execution_count": 244,
   "metadata": {},
   "outputs": [],
   "source": [
    "processed_features = dataset.drop(columns=['price'])\n",
    "target = dataset['price']\n",
    "\n",
    "x_train, x_test, y_train, y_test = train_test_split(processed_features, \n",
    "                                                    target, \n",
    "                                                    test_size = 0.2, \n",
    "                                                    random_state=1)\n"
   ]
  },
  {
   "cell_type": "code",
   "execution_count": 245,
   "metadata": {},
   "outputs": [
    {
     "data": {
      "text/plain": [
       "(43136, 23)"
      ]
     },
     "execution_count": 245,
     "metadata": {},
     "output_type": "execute_result"
    }
   ],
   "source": [
    "x_train.shape"
   ]
  },
  {
   "cell_type": "code",
   "execution_count": 246,
   "metadata": {},
   "outputs": [
    {
     "data": {
      "text/plain": [
       "(10784, 23)"
      ]
     },
     "execution_count": 246,
     "metadata": {},
     "output_type": "execute_result"
    }
   ],
   "source": [
    "x_test.shape"
   ]
  },
  {
   "cell_type": "markdown",
   "metadata": {},
   "source": [
    "## 5. Building the Base Model"
   ]
  },
  {
   "cell_type": "markdown",
   "metadata": {},
   "source": [
    "define function to build model"
   ]
  },
  {
   "cell_type": "code",
   "execution_count": 247,
   "metadata": {},
   "outputs": [],
   "source": [
    "def build_model():\n",
    "    model = tf.keras.Sequential([\n",
    "        layers.Dense(32, activation='relu', input_shape=[len(x_train.keys())]),\n",
    "        layers.Dense(64, activation='relu'),\n",
    "        layers.Dense(1)\n",
    "    ])\n",
    "    \n",
    "    optimizer = tf.keras.optimizers.Adam(0.001)\n",
    "\n",
    "    model.compile(loss='mse',\n",
    "                  optimizer=optimizer,\n",
    "                  metrics=['mae', 'mse'])\n",
    "    return model"
   ]
  },
  {
   "cell_type": "markdown",
   "metadata": {},
   "source": [
    "build model and show summary"
   ]
  },
  {
   "cell_type": "code",
   "execution_count": 248,
   "metadata": {},
   "outputs": [
    {
     "name": "stdout",
     "output_type": "stream",
     "text": [
      "Model: \"sequential_10\"\n",
      "_________________________________________________________________\n",
      " Layer (type)                Output Shape              Param #   \n",
      "=================================================================\n",
      " dense_39 (Dense)            (None, 32)                768       \n",
      "                                                                 \n",
      " dense_40 (Dense)            (None, 64)                2112      \n"
     ]
    },
    {
     "name": "stdout",
     "output_type": "stream",
     "text": [
      "                                                                 \n",
      " dense_41 (Dense)            (None, 1)                 65        \n",
      "                                                                 \n",
      "=================================================================\n",
      "Total params: 2,945\n",
      "Trainable params: 2,945\n",
      "Non-trainable params: 0\n",
      "_________________________________________________________________\n"
     ]
    }
   ],
   "source": [
    "base_model = build_model()\n",
    "base_model.summary()"
   ]
  },
  {
   "cell_type": "markdown",
   "metadata": {},
   "source": [
    "checking the types of the data"
   ]
  },
  {
   "cell_type": "code",
   "execution_count": 249,
   "metadata": {},
   "outputs": [
    {
     "name": "stdout",
     "output_type": "stream",
     "text": [
      "carat            float64\n",
      "depth            float64\n",
      "table            float64\n",
      "x                float64\n",
      "y                float64\n",
      "z                float64\n",
      "cut_Good           int32\n",
      "cut_Ideal          int32\n",
      "cut_Premium        int32\n",
      "cut_Very Good      int32\n",
      "color_E            int32\n",
      "color_F            int32\n",
      "color_G            int32\n",
      "color_H            int32\n",
      "color_I            int32\n",
      "color_J            int32\n",
      "clarity_IF         int32\n",
      "clarity_SI1        int32\n",
      "clarity_SI2        int32\n",
      "clarity_VS1        int32\n",
      "clarity_VS2        int32\n",
      "clarity_VVS1       int32\n",
      "clarity_VVS2       int32\n",
      "dtype: object\n",
      "int64\n"
     ]
    }
   ],
   "source": [
    "print(x_train.dtypes)\n",
    "print(y_train.dtypes)"
   ]
  },
  {
   "cell_type": "markdown",
   "metadata": {},
   "source": [
    "making sure, again, that we do not have missing values"
   ]
  },
  {
   "cell_type": "code",
   "execution_count": 250,
   "metadata": {},
   "outputs": [
    {
     "name": "stdout",
     "output_type": "stream",
     "text": [
      "carat            0\n",
      "depth            0\n",
      "table            0\n",
      "x                0\n",
      "y                0\n",
      "z                0\n",
      "cut_Good         0\n",
      "cut_Ideal        0\n",
      "cut_Premium      0\n",
      "cut_Very Good    0\n",
      "color_E          0\n",
      "color_F          0\n",
      "color_G          0\n",
      "color_H          0\n",
      "color_I          0\n",
      "color_J          0\n",
      "clarity_IF       0\n",
      "clarity_SI1      0\n",
      "clarity_SI2      0\n",
      "clarity_VS1      0\n",
      "clarity_VS2      0\n",
      "clarity_VVS1     0\n",
      "clarity_VVS2     0\n",
      "dtype: int64\n",
      "0\n"
     ]
    }
   ],
   "source": [
    "print(x_train.isna().sum())  # Check missing values\n",
    "print(y_train.isna().sum())\n",
    "\n",
    "x_train.fillna(0, inplace=True)  # Replace NaNs with 0 (or use another strategy)\n",
    "y_train.fillna(0, inplace=True)"
   ]
  },
  {
   "cell_type": "markdown",
   "metadata": {},
   "source": [
    "Convert to NumPy Array with Correct Data Type"
   ]
  },
  {
   "cell_type": "code",
   "execution_count": 251,
   "metadata": {},
   "outputs": [],
   "source": [
    "x_train = np.array(x_train, dtype=np.float32)\n",
    "y_train = np.array(y_train, dtype=np.float32)"
   ]
  },
  {
   "cell_type": "markdown",
   "metadata": {},
   "source": [
    "### 5.1 Training the Base Model"
   ]
  },
  {
   "cell_type": "code",
   "execution_count": 268,
   "metadata": {},
   "outputs": [
    {
     "name": "stdout",
     "output_type": "stream",
     "text": [
      "Epoch 1/150\n",
      "1079/1079 [==============================] - 2s 2ms/step - loss: 349181.3438 - mae: 323.6035 - mse: 349181.3438 - val_loss: 1638226.7500 - val_mae: 344.6394 - val_mse: 1638226.7500\n",
      "Epoch 2/150\n",
      "1079/1079 [==============================] - 2s 2ms/step - loss: 345735.4062 - mae: 322.5976 - mse: 345735.4062 - val_loss: 1652019.7500 - val_mae: 341.2615 - val_mse: 1652019.7500\n",
      "Epoch 3/150\n",
      "1079/1079 [==============================] - 2s 2ms/step - loss: 345262.8750 - mae: 321.7983 - mse: 345262.8750 - val_loss: 1676615.0000 - val_mae: 341.9841 - val_mse: 1676615.0000\n",
      "Epoch 4/150\n",
      "1079/1079 [==============================] - 2s 2ms/step - loss: 343184.9375 - mae: 320.9787 - mse: 343184.9375 - val_loss: 1638653.6250 - val_mae: 344.0692 - val_mse: 1638653.6250\n",
      "Epoch 5/150\n",
      "1079/1079 [==============================] - 2s 2ms/step - loss: 341368.0000 - mae: 320.0455 - mse: 341368.0000 - val_loss: 1687207.8750 - val_mae: 336.8689 - val_mse: 1687207.8750\n",
      "Epoch 6/150\n",
      "1079/1079 [==============================] - 2s 2ms/step - loss: 339656.4062 - mae: 319.4221 - mse: 339656.4062 - val_loss: 1702594.3750 - val_mae: 334.1135 - val_mse: 1702594.3750\n",
      "Epoch 7/150\n",
      "1079/1079 [==============================] - 2s 2ms/step - loss: 339543.8438 - mae: 318.3831 - mse: 339543.8438 - val_loss: 1680157.6250 - val_mae: 343.9194 - val_mse: 1680157.6250\n",
      "Epoch 8/150\n",
      "1079/1079 [==============================] - 2s 1ms/step - loss: 336447.4375 - mae: 317.5758 - mse: 336447.4375 - val_loss: 1660328.6250 - val_mae: 335.4460 - val_mse: 1660328.6250\n",
      "Epoch 9/150\n",
      "1079/1079 [==============================] - 2s 2ms/step - loss: 335488.5625 - mae: 316.8158 - mse: 335488.5625 - val_loss: 1651490.1250 - val_mae: 334.9218 - val_mse: 1651490.1250\n",
      "Epoch 10/150\n",
      "1079/1079 [==============================] - 2s 1ms/step - loss: 335416.2188 - mae: 316.1757 - mse: 335416.2188 - val_loss: 1702330.7500 - val_mae: 332.4679 - val_mse: 1702330.7500\n",
      "Epoch 11/150\n",
      "1079/1079 [==============================] - 2s 2ms/step - loss: 333213.4375 - mae: 315.3597 - mse: 333213.4375 - val_loss: 1679347.6250 - val_mae: 344.1786 - val_mse: 1679347.6250\n",
      "Epoch 12/150\n",
      "1079/1079 [==============================] - 2s 1ms/step - loss: 332464.2188 - mae: 314.9717 - mse: 332464.2188 - val_loss: 1686170.2500 - val_mae: 333.8940 - val_mse: 1686170.2500\n",
      "Epoch 13/150\n",
      "1079/1079 [==============================] - 1s 1ms/step - loss: 331524.4375 - mae: 314.7751 - mse: 331524.4375 - val_loss: 1721977.6250 - val_mae: 338.2520 - val_mse: 1721977.6250\n",
      "Epoch 14/150\n",
      "1079/1079 [==============================] - 2s 1ms/step - loss: 329639.8750 - mae: 313.9898 - mse: 329639.8750 - val_loss: 1678188.1250 - val_mae: 331.2355 - val_mse: 1678188.1250\n",
      "Epoch 15/150\n",
      "1079/1079 [==============================] - 2s 2ms/step - loss: 329733.0938 - mae: 313.3445 - mse: 329733.0938 - val_loss: 1696857.5000 - val_mae: 330.6291 - val_mse: 1696857.5000\n",
      "Epoch 16/150\n",
      "1079/1079 [==============================] - 2s 2ms/step - loss: 328224.1562 - mae: 312.6607 - mse: 328224.1562 - val_loss: 1732258.7500 - val_mae: 331.9162 - val_mse: 1732258.7500\n",
      "Epoch 17/150\n",
      "1079/1079 [==============================] - 2s 2ms/step - loss: 326443.5938 - mae: 311.4922 - mse: 326443.5938 - val_loss: 1701360.6250 - val_mae: 329.6309 - val_mse: 1701360.6250\n",
      "Epoch 18/150\n",
      "1079/1079 [==============================] - 2s 1ms/step - loss: 326446.9375 - mae: 311.5532 - mse: 326446.9375 - val_loss: 1718964.2500 - val_mae: 329.0505 - val_mse: 1718964.2500\n",
      "Epoch 19/150\n",
      "1079/1079 [==============================] - 2s 1ms/step - loss: 325002.3125 - mae: 311.0147 - mse: 325002.3125 - val_loss: 1743782.3750 - val_mae: 329.1859 - val_mse: 1743782.3750\n",
      "Epoch 20/150\n",
      "1079/1079 [==============================] - 1s 1ms/step - loss: 324875.9688 - mae: 310.6925 - mse: 324875.9688 - val_loss: 1763048.7500 - val_mae: 331.4865 - val_mse: 1763048.7500\n",
      "Epoch 21/150\n",
      "1079/1079 [==============================] - 2s 1ms/step - loss: 323594.1250 - mae: 310.2900 - mse: 323594.1250 - val_loss: 1731087.7500 - val_mae: 330.2044 - val_mse: 1731087.7500\n",
      "Epoch 22/150\n",
      "1079/1079 [==============================] - 2s 1ms/step - loss: 323118.6562 - mae: 309.9001 - mse: 323118.6562 - val_loss: 1732564.7500 - val_mae: 333.7695 - val_mse: 1732564.7500\n",
      "Epoch 23/150\n",
      "1079/1079 [==============================] - 2s 1ms/step - loss: 322876.3125 - mae: 309.9242 - mse: 322876.3125 - val_loss: 1772696.5000 - val_mae: 329.2177 - val_mse: 1772696.5000\n",
      "Epoch 24/150\n",
      "1079/1079 [==============================] - 2s 2ms/step - loss: 322456.9062 - mae: 309.3653 - mse: 322456.9062 - val_loss: 1716722.1250 - val_mae: 329.3590 - val_mse: 1716722.1250\n",
      "Epoch 25/150\n",
      "1079/1079 [==============================] - 2s 2ms/step - loss: 321887.2812 - mae: 309.2833 - mse: 321887.2812 - val_loss: 1743513.6250 - val_mae: 332.7537 - val_mse: 1743513.6250\n",
      "Epoch 26/150\n",
      "1079/1079 [==============================] - 2s 1ms/step - loss: 321195.5625 - mae: 309.1548 - mse: 321195.5625 - val_loss: 1711014.5000 - val_mae: 334.4937 - val_mse: 1711014.5000\n",
      "Epoch 27/150\n",
      "1079/1079 [==============================] - 2s 2ms/step - loss: 320422.3438 - mae: 309.2588 - mse: 320422.3438 - val_loss: 1787703.8750 - val_mae: 328.4265 - val_mse: 1787703.8750\n",
      "Epoch 28/150\n",
      "1079/1079 [==============================] - 2s 2ms/step - loss: 320329.0938 - mae: 309.0684 - mse: 320329.0938 - val_loss: 1773787.6250 - val_mae: 325.4792 - val_mse: 1773787.6250\n",
      "Epoch 29/150\n",
      "1079/1079 [==============================] - 2s 1ms/step - loss: 319187.5625 - mae: 307.6611 - mse: 319187.5625 - val_loss: 1826681.2500 - val_mae: 329.5167 - val_mse: 1826681.2500\n",
      "Epoch 30/150\n",
      "1079/1079 [==============================] - 2s 2ms/step - loss: 318881.9375 - mae: 307.6476 - mse: 318881.9375 - val_loss: 1753476.5000 - val_mae: 326.6264 - val_mse: 1753476.5000\n",
      "Epoch 31/150\n",
      "1079/1079 [==============================] - 2s 1ms/step - loss: 317220.3125 - mae: 306.7865 - mse: 317220.3125 - val_loss: 1761605.0000 - val_mae: 332.7287 - val_mse: 1761605.0000\n",
      "Epoch 32/150\n",
      "1079/1079 [==============================] - 2s 1ms/step - loss: 317719.0625 - mae: 307.3721 - mse: 317719.0625 - val_loss: 1763329.2500 - val_mae: 334.2690 - val_mse: 1763329.2500\n",
      "Epoch 33/150\n",
      "1079/1079 [==============================] - 2s 2ms/step - loss: 317170.5938 - mae: 306.9469 - mse: 317170.5938 - val_loss: 1783319.1250 - val_mae: 323.4367 - val_mse: 1783319.1250\n",
      "Epoch 34/150\n",
      "1079/1079 [==============================] - 2s 1ms/step - loss: 316506.5312 - mae: 306.6478 - mse: 316506.5312 - val_loss: 1779625.0000 - val_mae: 327.9875 - val_mse: 1779625.0000\n",
      "Epoch 35/150\n",
      "1079/1079 [==============================] - 2s 2ms/step - loss: 316185.5938 - mae: 306.7166 - mse: 316185.5938 - val_loss: 1848458.7500 - val_mae: 323.5155 - val_mse: 1848458.7500\n",
      "Epoch 36/150\n",
      "1079/1079 [==============================] - 2s 1ms/step - loss: 315704.5938 - mae: 306.8419 - mse: 315704.5938 - val_loss: 1837815.1250 - val_mae: 326.4099 - val_mse: 1837815.1250\n",
      "Epoch 37/150\n",
      "1079/1079 [==============================] - 1s 1ms/step - loss: 314763.9062 - mae: 305.9032 - mse: 314763.9062 - val_loss: 1830487.8750 - val_mae: 323.6354 - val_mse: 1830487.8750\n",
      "Epoch 38/150\n",
      "1079/1079 [==============================] - 1s 1ms/step - loss: 315329.5938 - mae: 305.8146 - mse: 315329.5938 - val_loss: 1850329.8750 - val_mae: 323.4952 - val_mse: 1850329.8750\n",
      "Epoch 39/150\n",
      "1079/1079 [==============================] - 1s 1ms/step - loss: 313647.1250 - mae: 305.1057 - mse: 313647.1250 - val_loss: 1824494.6250 - val_mae: 330.8829 - val_mse: 1824494.6250\n",
      "Epoch 40/150\n",
      "1079/1079 [==============================] - 2s 2ms/step - loss: 312454.3125 - mae: 305.6212 - mse: 312454.3125 - val_loss: 1875339.1250 - val_mae: 321.7668 - val_mse: 1875339.1250\n",
      "Epoch 41/150\n",
      "1079/1079 [==============================] - 2s 2ms/step - loss: 312754.4688 - mae: 304.9338 - mse: 312754.4688 - val_loss: 1914926.0000 - val_mae: 322.1125 - val_mse: 1914926.0000\n",
      "Epoch 42/150\n",
      "1079/1079 [==============================] - 2s 2ms/step - loss: 312399.4062 - mae: 304.1445 - mse: 312399.4062 - val_loss: 1866193.8750 - val_mae: 325.1585 - val_mse: 1866193.8750\n",
      "Epoch 43/150\n",
      "1079/1079 [==============================] - 2s 2ms/step - loss: 311861.3750 - mae: 304.0213 - mse: 311861.3750 - val_loss: 1843882.2500 - val_mae: 331.7537 - val_mse: 1843882.2500\n",
      "Epoch 44/150\n",
      "1079/1079 [==============================] - 2s 1ms/step - loss: 312219.0312 - mae: 304.7308 - mse: 312219.0312 - val_loss: 1878664.0000 - val_mae: 327.0259 - val_mse: 1878664.0000\n",
      "Epoch 45/150\n",
      "1079/1079 [==============================] - 2s 2ms/step - loss: 311441.9688 - mae: 304.4868 - mse: 311441.9688 - val_loss: 1911593.0000 - val_mae: 324.4345 - val_mse: 1911593.0000\n",
      "Epoch 46/150\n",
      "1079/1079 [==============================] - 2s 1ms/step - loss: 310797.0938 - mae: 303.5287 - mse: 310797.0938 - val_loss: 1917004.7500 - val_mae: 323.6096 - val_mse: 1917004.7500\n",
      "Epoch 47/150\n",
      "1079/1079 [==============================] - 2s 1ms/step - loss: 309502.8125 - mae: 303.3679 - mse: 309502.8125 - val_loss: 1872752.6250 - val_mae: 332.6497 - val_mse: 1872752.6250\n",
      "Epoch 48/150\n",
      "1079/1079 [==============================] - 2s 2ms/step - loss: 309727.9062 - mae: 303.3616 - mse: 309727.9062 - val_loss: 1943255.5000 - val_mae: 329.7094 - val_mse: 1943255.5000\n",
      "Epoch 49/150\n",
      "1079/1079 [==============================] - 2s 2ms/step - loss: 309981.3438 - mae: 304.8184 - mse: 309981.3438 - val_loss: 1925977.8750 - val_mae: 323.9108 - val_mse: 1925977.8750\n",
      "Epoch 50/150\n",
      "1079/1079 [==============================] - 2s 1ms/step - loss: 310571.0625 - mae: 304.5519 - mse: 310571.0625 - val_loss: 1965293.5000 - val_mae: 321.3829 - val_mse: 1965293.5000\n",
      "Epoch 51/150\n",
      "1079/1079 [==============================] - 2s 2ms/step - loss: 308530.0938 - mae: 303.2620 - mse: 308530.0938 - val_loss: 1964087.8750 - val_mae: 322.5497 - val_mse: 1964087.8750\n",
      "Epoch 52/150\n",
      "1079/1079 [==============================] - 2s 2ms/step - loss: 309023.0000 - mae: 303.5705 - mse: 309023.0000 - val_loss: 2016607.5000 - val_mae: 326.7455 - val_mse: 2016607.5000\n",
      "Epoch 53/150\n",
      "1079/1079 [==============================] - 2s 1ms/step - loss: 309091.7812 - mae: 303.2804 - mse: 309091.7812 - val_loss: 1979883.1250 - val_mae: 327.0346 - val_mse: 1979883.1250\n",
      "Epoch 54/150\n",
      "1079/1079 [==============================] - 2s 1ms/step - loss: 307849.7188 - mae: 303.0999 - mse: 307849.7188 - val_loss: 2011353.6250 - val_mae: 324.7332 - val_mse: 2011353.6250\n",
      "Epoch 55/150\n",
      "1079/1079 [==============================] - 1s 1ms/step - loss: 308033.6562 - mae: 302.7599 - mse: 308033.6562 - val_loss: 1970617.2500 - val_mae: 324.3332 - val_mse: 1970617.2500\n",
      "Epoch 56/150\n",
      "1079/1079 [==============================] - 1s 1ms/step - loss: 307576.3438 - mae: 302.8468 - mse: 307576.3438 - val_loss: 2023077.2500 - val_mae: 321.3570 - val_mse: 2023077.2500\n",
      "Epoch 57/150\n",
      "1079/1079 [==============================] - 2s 1ms/step - loss: 306980.0625 - mae: 302.4083 - mse: 306980.0625 - val_loss: 2023600.1250 - val_mae: 322.5640 - val_mse: 2023600.1250\n",
      "Epoch 58/150\n",
      "1079/1079 [==============================] - 1s 1ms/step - loss: 307267.4688 - mae: 302.3809 - mse: 307267.4688 - val_loss: 2033102.1250 - val_mae: 327.5042 - val_mse: 2033102.1250\n",
      "Epoch 59/150\n",
      "1079/1079 [==============================] - 2s 1ms/step - loss: 307056.2812 - mae: 302.8225 - mse: 307056.2812 - val_loss: 2079056.3750 - val_mae: 320.0119 - val_mse: 2079056.3750\n",
      "Epoch 60/150\n",
      "1079/1079 [==============================] - 2s 2ms/step - loss: 305800.0938 - mae: 301.8608 - mse: 305800.0938 - val_loss: 2116088.2500 - val_mae: 325.0549 - val_mse: 2116088.2500\n",
      "Epoch 61/150\n",
      "1079/1079 [==============================] - 2s 1ms/step - loss: 305818.1562 - mae: 301.8519 - mse: 305818.1562 - val_loss: 2125259.2500 - val_mae: 321.2234 - val_mse: 2125259.2500\n",
      "Epoch 62/150\n",
      "1079/1079 [==============================] - 2s 2ms/step - loss: 306498.1562 - mae: 302.5006 - mse: 306498.1562 - val_loss: 2069531.0000 - val_mae: 324.8390 - val_mse: 2069531.0000\n",
      "Epoch 63/150\n",
      "1079/1079 [==============================] - 2s 2ms/step - loss: 305333.5625 - mae: 301.7001 - mse: 305333.5625 - val_loss: 2128847.2500 - val_mae: 322.5119 - val_mse: 2128847.2500\n",
      "Epoch 64/150\n",
      "1079/1079 [==============================] - 2s 2ms/step - loss: 305686.0312 - mae: 301.7914 - mse: 305686.0312 - val_loss: 2086374.3750 - val_mae: 322.5983 - val_mse: 2086374.3750\n",
      "Epoch 65/150\n",
      "1079/1079 [==============================] - 2s 2ms/step - loss: 305231.7812 - mae: 302.1426 - mse: 305231.7812 - val_loss: 2158526.0000 - val_mae: 320.3835 - val_mse: 2158526.0000\n",
      "Epoch 66/150\n",
      "1079/1079 [==============================] - 2s 2ms/step - loss: 304561.6250 - mae: 301.5230 - mse: 304561.6250 - val_loss: 2155031.7500 - val_mae: 320.0962 - val_mse: 2155031.7500\n",
      "Epoch 67/150\n",
      "1079/1079 [==============================] - 2s 2ms/step - loss: 304389.0000 - mae: 300.9846 - mse: 304389.0000 - val_loss: 2184107.2500 - val_mae: 322.4942 - val_mse: 2184107.2500\n",
      "Epoch 68/150\n",
      "1079/1079 [==============================] - 2s 2ms/step - loss: 304458.5625 - mae: 301.8138 - mse: 304458.5625 - val_loss: 2173471.2500 - val_mae: 323.1429 - val_mse: 2173471.2500\n",
      "Epoch 69/150\n",
      "1079/1079 [==============================] - 2s 2ms/step - loss: 304289.3438 - mae: 301.3851 - mse: 304289.3438 - val_loss: 2107681.0000 - val_mae: 325.3821 - val_mse: 2107681.0000\n",
      "Epoch 70/150\n",
      "1079/1079 [==============================] - 2s 2ms/step - loss: 303685.4375 - mae: 300.5988 - mse: 303685.4375 - val_loss: 2190493.2500 - val_mae: 321.3730 - val_mse: 2190493.2500\n",
      "Epoch 71/150\n",
      "1079/1079 [==============================] - 2s 2ms/step - loss: 302655.0625 - mae: 301.0138 - mse: 302655.0625 - val_loss: 2198798.5000 - val_mae: 322.0707 - val_mse: 2198798.5000\n",
      "Epoch 72/150\n",
      "1079/1079 [==============================] - 2s 2ms/step - loss: 303671.5000 - mae: 301.1909 - mse: 303671.5000 - val_loss: 2164587.2500 - val_mae: 330.3311 - val_mse: 2164587.2500\n",
      "Epoch 73/150\n",
      "1079/1079 [==============================] - 2s 2ms/step - loss: 303173.3438 - mae: 300.8457 - mse: 303173.3438 - val_loss: 2174392.7500 - val_mae: 320.2542 - val_mse: 2174392.7500\n",
      "Epoch 74/150\n",
      "1079/1079 [==============================] - 2s 2ms/step - loss: 302145.4062 - mae: 300.4089 - mse: 302145.4062 - val_loss: 2240384.0000 - val_mae: 322.7972 - val_mse: 2240384.0000\n",
      "Epoch 75/150\n",
      "1079/1079 [==============================] - 2s 2ms/step - loss: 303142.1250 - mae: 301.0296 - mse: 303142.1250 - val_loss: 2219650.5000 - val_mae: 322.4648 - val_mse: 2219650.5000\n",
      "Epoch 76/150\n",
      "1079/1079 [==============================] - 2s 2ms/step - loss: 301680.9375 - mae: 300.0491 - mse: 301680.9375 - val_loss: 2220958.5000 - val_mae: 322.4065 - val_mse: 2220958.5000\n",
      "Epoch 77/150\n",
      "1079/1079 [==============================] - 2s 2ms/step - loss: 302000.1875 - mae: 301.1086 - mse: 302000.1875 - val_loss: 2247640.5000 - val_mae: 327.9467 - val_mse: 2247640.5000\n",
      "Epoch 78/150\n",
      "1079/1079 [==============================] - 2s 2ms/step - loss: 302244.8438 - mae: 300.4572 - mse: 302244.8438 - val_loss: 2258744.2500 - val_mae: 319.4588 - val_mse: 2258744.2500\n",
      "Epoch 79/150\n",
      "1079/1079 [==============================] - 2s 2ms/step - loss: 302100.0312 - mae: 300.1463 - mse: 302100.0312 - val_loss: 2244132.5000 - val_mae: 323.5107 - val_mse: 2244132.5000\n",
      "Epoch 80/150\n",
      "1079/1079 [==============================] - 3s 3ms/step - loss: 301893.2812 - mae: 299.6951 - mse: 301893.2812 - val_loss: 2307735.5000 - val_mae: 322.4773 - val_mse: 2307735.5000\n",
      "Epoch 81/150\n",
      "1079/1079 [==============================] - 3s 2ms/step - loss: 302015.9375 - mae: 300.2682 - mse: 302015.9375 - val_loss: 2277182.0000 - val_mae: 321.8223 - val_mse: 2277182.0000\n",
      "Epoch 82/150\n",
      "1079/1079 [==============================] - 3s 3ms/step - loss: 299951.3125 - mae: 299.2237 - mse: 299951.3125 - val_loss: 2324729.7500 - val_mae: 327.1317 - val_mse: 2324729.7500\n",
      "Epoch 83/150\n",
      "1079/1079 [==============================] - 3s 2ms/step - loss: 300256.0625 - mae: 299.7901 - mse: 300256.0625 - val_loss: 2370618.5000 - val_mae: 328.1414 - val_mse: 2370618.5000\n",
      "Epoch 84/150\n",
      "1079/1079 [==============================] - 3s 2ms/step - loss: 300490.0312 - mae: 299.9328 - mse: 300490.0312 - val_loss: 2362356.0000 - val_mae: 324.8761 - val_mse: 2362356.0000\n",
      "Epoch 85/150\n",
      "1079/1079 [==============================] - 3s 3ms/step - loss: 300778.6250 - mae: 299.4606 - mse: 300778.6250 - val_loss: 2296246.5000 - val_mae: 327.5026 - val_mse: 2296246.5000\n",
      "Epoch 86/150\n",
      "1079/1079 [==============================] - 2s 2ms/step - loss: 299706.4688 - mae: 299.3188 - mse: 299706.4688 - val_loss: 2328580.5000 - val_mae: 330.1059 - val_mse: 2328580.5000\n",
      "Epoch 87/150\n",
      "1079/1079 [==============================] - 3s 2ms/step - loss: 300282.5625 - mae: 299.5102 - mse: 300282.5625 - val_loss: 2380548.7500 - val_mae: 336.6323 - val_mse: 2380548.7500\n",
      "Epoch 88/150\n",
      "1079/1079 [==============================] - 3s 3ms/step - loss: 299925.8438 - mae: 299.4417 - mse: 299925.8438 - val_loss: 2379955.7500 - val_mae: 329.3806 - val_mse: 2379955.7500\n",
      "Epoch 89/150\n",
      "1079/1079 [==============================] - 2s 2ms/step - loss: 299532.6562 - mae: 299.1517 - mse: 299532.6562 - val_loss: 2440415.0000 - val_mae: 321.4093 - val_mse: 2440415.0000\n",
      "Epoch 90/150\n",
      "1079/1079 [==============================] - 2s 2ms/step - loss: 299766.8750 - mae: 298.7007 - mse: 299766.8750 - val_loss: 2463758.5000 - val_mae: 329.3895 - val_mse: 2463758.5000\n",
      "Epoch 91/150\n",
      "1079/1079 [==============================] - 2s 2ms/step - loss: 299212.9688 - mae: 298.3403 - mse: 299212.9688 - val_loss: 2406746.5000 - val_mae: 324.8415 - val_mse: 2406746.5000\n",
      "Epoch 92/150\n",
      "1079/1079 [==============================] - 3s 3ms/step - loss: 297952.0625 - mae: 298.1548 - mse: 297952.0625 - val_loss: 2445266.2500 - val_mae: 322.0901 - val_mse: 2445266.2500\n",
      "Epoch 93/150\n",
      "1079/1079 [==============================] - 3s 3ms/step - loss: 299081.8750 - mae: 298.7364 - mse: 299081.8750 - val_loss: 2449157.2500 - val_mae: 325.7083 - val_mse: 2449157.2500\n",
      "Epoch 94/150\n",
      "1079/1079 [==============================] - 3s 3ms/step - loss: 299003.5938 - mae: 298.9917 - mse: 299003.5938 - val_loss: 2431432.2500 - val_mae: 329.2763 - val_mse: 2431432.2500\n",
      "Epoch 95/150\n",
      "1079/1079 [==============================] - 4s 3ms/step - loss: 298471.0625 - mae: 298.5732 - mse: 298471.0625 - val_loss: 2461858.2500 - val_mae: 319.8929 - val_mse: 2461858.2500\n",
      "Epoch 96/150\n",
      "1079/1079 [==============================] - 2s 2ms/step - loss: 297890.1562 - mae: 298.1809 - mse: 297890.1562 - val_loss: 2496392.2500 - val_mae: 327.5779 - val_mse: 2496392.2500\n",
      "Epoch 97/150\n",
      "1079/1079 [==============================] - 2s 2ms/step - loss: 297794.6875 - mae: 297.9076 - mse: 297794.6875 - val_loss: 2515197.5000 - val_mae: 321.2291 - val_mse: 2515197.5000\n",
      "Epoch 98/150\n",
      "1079/1079 [==============================] - 2s 2ms/step - loss: 297520.4062 - mae: 297.9704 - mse: 297520.4062 - val_loss: 2569582.5000 - val_mae: 319.7794 - val_mse: 2569582.5000\n",
      "Epoch 99/150\n",
      "1079/1079 [==============================] - 2s 2ms/step - loss: 297429.5000 - mae: 298.3719 - mse: 297429.5000 - val_loss: 2515914.5000 - val_mae: 324.8643 - val_mse: 2515914.5000\n",
      "Epoch 100/150\n",
      "1079/1079 [==============================] - 2s 2ms/step - loss: 297170.4062 - mae: 298.1718 - mse: 297170.4062 - val_loss: 2567249.7500 - val_mae: 321.1296 - val_mse: 2567249.7500\n",
      "Epoch 101/150\n",
      "1079/1079 [==============================] - 2s 2ms/step - loss: 297432.0938 - mae: 297.1837 - mse: 297432.0938 - val_loss: 2538886.0000 - val_mae: 323.7059 - val_mse: 2538886.0000\n",
      "Epoch 102/150\n",
      "1079/1079 [==============================] - 2s 2ms/step - loss: 297273.9688 - mae: 297.9566 - mse: 297273.9688 - val_loss: 2596544.5000 - val_mae: 326.6906 - val_mse: 2596544.5000\n",
      "Epoch 103/150\n",
      "1079/1079 [==============================] - 2s 2ms/step - loss: 296378.7812 - mae: 297.1437 - mse: 296378.7812 - val_loss: 2583977.2500 - val_mae: 324.4003 - val_mse: 2583977.2500\n",
      "Epoch 104/150\n",
      "1079/1079 [==============================] - 2s 2ms/step - loss: 297426.5938 - mae: 298.2366 - mse: 297426.5938 - val_loss: 2582011.2500 - val_mae: 323.2935 - val_mse: 2582011.2500\n",
      "Epoch 105/150\n",
      "1079/1079 [==============================] - 2s 2ms/step - loss: 295998.8438 - mae: 297.7821 - mse: 295998.8438 - val_loss: 2543123.2500 - val_mae: 324.3082 - val_mse: 2543123.2500\n",
      "Epoch 106/150\n",
      "1079/1079 [==============================] - 2s 2ms/step - loss: 296836.0000 - mae: 297.2173 - mse: 296836.0000 - val_loss: 2680307.0000 - val_mae: 319.2779 - val_mse: 2680307.0000\n",
      "Epoch 107/150\n",
      "1079/1079 [==============================] - 2s 2ms/step - loss: 296590.1250 - mae: 297.0814 - mse: 296590.1250 - val_loss: 2610298.2500 - val_mae: 322.7033 - val_mse: 2610298.2500\n",
      "Epoch 108/150\n",
      "1079/1079 [==============================] - 2s 2ms/step - loss: 295508.9062 - mae: 296.8184 - mse: 295508.9062 - val_loss: 2652721.7500 - val_mae: 327.2656 - val_mse: 2652721.7500\n",
      "Epoch 109/150\n",
      "1079/1079 [==============================] - 2s 2ms/step - loss: 296360.8438 - mae: 298.0098 - mse: 296360.8438 - val_loss: 2665318.7500 - val_mae: 321.6670 - val_mse: 2665318.7500\n",
      "Epoch 110/150\n",
      "1079/1079 [==============================] - 4s 3ms/step - loss: 296733.7188 - mae: 297.4045 - mse: 296733.7188 - val_loss: 2734641.0000 - val_mae: 328.2310 - val_mse: 2734641.0000\n",
      "Epoch 111/150\n",
      "1079/1079 [==============================] - 3s 2ms/step - loss: 295637.0938 - mae: 296.7487 - mse: 295637.0938 - val_loss: 2716490.7500 - val_mae: 324.2547 - val_mse: 2716490.7500\n",
      "Epoch 112/150\n",
      "1079/1079 [==============================] - 2s 2ms/step - loss: 294328.1875 - mae: 296.6830 - mse: 294328.1875 - val_loss: 2727000.0000 - val_mae: 320.5533 - val_mse: 2727000.0000\n",
      "Epoch 113/150\n",
      "1079/1079 [==============================] - 2s 2ms/step - loss: 294726.0312 - mae: 297.0813 - mse: 294726.0312 - val_loss: 2738000.2500 - val_mae: 322.5624 - val_mse: 2738000.2500\n",
      "Epoch 114/150\n",
      "1079/1079 [==============================] - 2s 2ms/step - loss: 294706.7188 - mae: 296.7426 - mse: 294706.7188 - val_loss: 2710887.5000 - val_mae: 320.7884 - val_mse: 2710887.5000\n",
      "Epoch 115/150\n",
      "1079/1079 [==============================] - 2s 2ms/step - loss: 295242.6562 - mae: 296.7703 - mse: 295242.6562 - val_loss: 2768952.2500 - val_mae: 317.8405 - val_mse: 2768952.2500\n",
      "Epoch 116/150\n",
      "1079/1079 [==============================] - 2s 2ms/step - loss: 294514.4688 - mae: 296.2563 - mse: 294514.4688 - val_loss: 2844090.5000 - val_mae: 318.8931 - val_mse: 2844090.5000\n",
      "Epoch 117/150\n",
      "1079/1079 [==============================] - 2s 2ms/step - loss: 294236.0312 - mae: 295.9905 - mse: 294236.0312 - val_loss: 2824616.7500 - val_mae: 320.1598 - val_mse: 2824616.7500\n",
      "Epoch 118/150\n",
      "1079/1079 [==============================] - 2s 2ms/step - loss: 294405.5938 - mae: 296.0483 - mse: 294405.5938 - val_loss: 2798122.5000 - val_mae: 332.0779 - val_mse: 2798122.5000\n",
      "Epoch 119/150\n",
      "1079/1079 [==============================] - 2s 2ms/step - loss: 295699.9375 - mae: 297.2480 - mse: 295699.9375 - val_loss: 2781828.0000 - val_mae: 326.7711 - val_mse: 2781828.0000\n",
      "Epoch 120/150\n",
      "1079/1079 [==============================] - 2s 2ms/step - loss: 294104.8750 - mae: 296.3254 - mse: 294104.8750 - val_loss: 2801160.0000 - val_mae: 325.7711 - val_mse: 2801160.0000\n",
      "Epoch 121/150\n",
      "1079/1079 [==============================] - 2s 2ms/step - loss: 294190.1250 - mae: 296.7817 - mse: 294190.1250 - val_loss: 2781485.5000 - val_mae: 320.2715 - val_mse: 2781485.5000\n",
      "Epoch 122/150\n",
      "1079/1079 [==============================] - 2s 2ms/step - loss: 294212.7500 - mae: 295.7772 - mse: 294212.7500 - val_loss: 2876548.7500 - val_mae: 321.1054 - val_mse: 2876548.7500\n",
      "Epoch 123/150\n",
      "1079/1079 [==============================] - 2s 2ms/step - loss: 294332.3438 - mae: 296.5160 - mse: 294332.3438 - val_loss: 2902726.7500 - val_mae: 324.2827 - val_mse: 2902726.7500\n",
      "Epoch 124/150\n",
      "1079/1079 [==============================] - 2s 2ms/step - loss: 293885.2188 - mae: 295.7075 - mse: 293885.2188 - val_loss: 2894908.5000 - val_mae: 320.8912 - val_mse: 2894908.5000\n",
      "Epoch 125/150\n",
      "1079/1079 [==============================] - 2s 2ms/step - loss: 293181.6562 - mae: 295.7950 - mse: 293181.6562 - val_loss: 2947518.7500 - val_mae: 322.7965 - val_mse: 2947518.7500\n",
      "Epoch 126/150\n",
      "1079/1079 [==============================] - 2s 2ms/step - loss: 293147.6562 - mae: 295.7336 - mse: 293147.6562 - val_loss: 2876699.5000 - val_mae: 322.6293 - val_mse: 2876699.5000\n",
      "Epoch 127/150\n",
      "1079/1079 [==============================] - 2s 2ms/step - loss: 293519.8438 - mae: 295.8595 - mse: 293519.8438 - val_loss: 2904685.7500 - val_mae: 328.5356 - val_mse: 2904685.7500\n",
      "Epoch 128/150\n",
      "1079/1079 [==============================] - 2s 2ms/step - loss: 293341.7500 - mae: 295.5369 - mse: 293341.7500 - val_loss: 2928930.7500 - val_mae: 326.2214 - val_mse: 2928930.7500\n",
      "Epoch 129/150\n",
      "1079/1079 [==============================] - 2s 2ms/step - loss: 293361.0938 - mae: 295.9544 - mse: 293361.0938 - val_loss: 2947135.5000 - val_mae: 322.4334 - val_mse: 2947135.5000\n",
      "Epoch 130/150\n",
      "1079/1079 [==============================] - 2s 2ms/step - loss: 293371.1562 - mae: 295.3967 - mse: 293371.1562 - val_loss: 2944538.2500 - val_mae: 322.9397 - val_mse: 2944538.2500\n",
      "Epoch 131/150\n",
      "1079/1079 [==============================] - 3s 2ms/step - loss: 293219.9375 - mae: 295.8435 - mse: 293219.9375 - val_loss: 2975170.7500 - val_mae: 321.7651 - val_mse: 2975170.7500\n",
      "Epoch 132/150\n",
      "1079/1079 [==============================] - 2s 2ms/step - loss: 292629.5312 - mae: 295.5762 - mse: 292629.5312 - val_loss: 3007899.2500 - val_mae: 322.3701 - val_mse: 3007899.2500\n",
      "Epoch 133/150\n",
      "1079/1079 [==============================] - 2s 2ms/step - loss: 292316.8438 - mae: 295.4020 - mse: 292316.8438 - val_loss: 2985727.2500 - val_mae: 321.8924 - val_mse: 2985727.2500\n",
      "Epoch 134/150\n",
      "1079/1079 [==============================] - 2s 2ms/step - loss: 292602.7812 - mae: 295.9979 - mse: 292602.7812 - val_loss: 3031180.7500 - val_mae: 322.0521 - val_mse: 3031180.7500\n",
      "Epoch 135/150\n",
      "1079/1079 [==============================] - 2s 2ms/step - loss: 292739.4062 - mae: 295.4313 - mse: 292739.4062 - val_loss: 3042068.2500 - val_mae: 331.5656 - val_mse: 3042068.2500\n",
      "Epoch 136/150\n",
      "1079/1079 [==============================] - 2s 2ms/step - loss: 292678.1875 - mae: 295.7424 - mse: 292678.1875 - val_loss: 2996458.5000 - val_mae: 323.2205 - val_mse: 2996458.5000\n",
      "Epoch 137/150\n",
      "1079/1079 [==============================] - 2s 2ms/step - loss: 292266.2812 - mae: 294.6321 - mse: 292266.2812 - val_loss: 2985791.0000 - val_mae: 329.1517 - val_mse: 2985791.0000\n",
      "Epoch 138/150\n",
      "1079/1079 [==============================] - 2s 2ms/step - loss: 292679.1250 - mae: 295.3231 - mse: 292679.1250 - val_loss: 3050179.0000 - val_mae: 322.3171 - val_mse: 3050179.0000\n",
      "Epoch 139/150\n",
      "1079/1079 [==============================] - 2s 2ms/step - loss: 292372.1562 - mae: 294.7618 - mse: 292372.1562 - val_loss: 3104755.0000 - val_mae: 324.2303 - val_mse: 3104755.0000\n",
      "Epoch 140/150\n",
      "1079/1079 [==============================] - 2s 2ms/step - loss: 291937.5625 - mae: 294.7836 - mse: 291937.5625 - val_loss: 3134469.7500 - val_mae: 319.6309 - val_mse: 3134469.7500\n",
      "Epoch 141/150\n",
      "1079/1079 [==============================] - 2s 2ms/step - loss: 292560.5312 - mae: 295.0897 - mse: 292560.5312 - val_loss: 3133259.5000 - val_mae: 320.9097 - val_mse: 3133259.5000\n",
      "Epoch 142/150\n",
      "1079/1079 [==============================] - 2s 2ms/step - loss: 291502.9688 - mae: 294.6946 - mse: 291502.9688 - val_loss: 3239601.2500 - val_mae: 319.6588 - val_mse: 3239601.2500\n",
      "Epoch 143/150\n",
      "1079/1079 [==============================] - 2s 2ms/step - loss: 291906.6250 - mae: 295.1174 - mse: 291906.6250 - val_loss: 3170840.7500 - val_mae: 321.2534 - val_mse: 3170840.7500\n",
      "Epoch 144/150\n",
      "1079/1079 [==============================] - 2s 2ms/step - loss: 291573.6562 - mae: 294.7647 - mse: 291573.6562 - val_loss: 3194110.5000 - val_mae: 322.0073 - val_mse: 3194110.5000\n",
      "Epoch 145/150\n",
      "1079/1079 [==============================] - 5s 5ms/step - loss: 291445.3438 - mae: 294.6114 - mse: 291445.3438 - val_loss: 3216991.5000 - val_mae: 319.4893 - val_mse: 3216991.5000\n",
      "Epoch 146/150\n",
      "1079/1079 [==============================] - 3s 3ms/step - loss: 291878.6875 - mae: 295.0252 - mse: 291878.6875 - val_loss: 3313260.0000 - val_mae: 320.8094 - val_mse: 3313260.0000\n",
      "Epoch 147/150\n",
      "1079/1079 [==============================] - 2s 2ms/step - loss: 291312.8438 - mae: 294.3098 - mse: 291312.8438 - val_loss: 3165543.5000 - val_mae: 319.6755 - val_mse: 3165543.5000\n",
      "Epoch 148/150\n",
      "1079/1079 [==============================] - 3s 3ms/step - loss: 290041.5000 - mae: 294.1282 - mse: 290041.5000 - val_loss: 3143734.7500 - val_mae: 332.1352 - val_mse: 3143734.7500\n",
      "Epoch 149/150\n",
      "1079/1079 [==============================] - 2s 2ms/step - loss: 290810.4062 - mae: 294.6102 - mse: 290810.4062 - val_loss: 3309285.0000 - val_mae: 322.6794 - val_mse: 3309285.0000\n",
      "Epoch 150/150\n",
      "1079/1079 [==============================] - 2s 2ms/step - loss: 291331.5312 - mae: 294.4371 - mse: 291331.5312 - val_loss: 3243519.7500 - val_mae: 321.4702 - val_mse: 3243519.7500\n"
     ]
    }
   ],
   "source": [
    "n_epochs = 150\n",
    "\n",
    "base_history = base_model.fit(x_train, \n",
    "                                  y_train,\n",
    "                                  epochs = n_epochs, \n",
    "                                  validation_split = 0.2, \n",
    "                                  verbose = True)"
   ]
  },
  {
   "cell_type": "code",
   "execution_count": 270,
   "metadata": {},
   "outputs": [
    {
     "name": "stdout",
     "output_type": "stream",
     "text": [
      "Base Model - Mean Absolute Error: 304.2809143066406\n",
      "Base Model - Mean Squared Error: 1278718.75\n"
     ]
    }
   ],
   "source": [
    "base_loss, base_mae, base_mse = base_model.evaluate(x_test, y_test, verbose=0)\n",
    "print(f\"Base Model - Mean Absolute Error: {base_mae}\")\n",
    "print(f\"Base Model - Mean Squared Error: {base_mse}\")"
   ]
  },
  {
   "cell_type": "markdown",
   "metadata": {},
   "source": [
    "## 6. Building an Enhanced Model with Dropout Layers"
   ]
  },
  {
   "cell_type": "markdown",
   "metadata": {},
   "source": [
    "define function to build model"
   ]
  },
  {
   "cell_type": "code",
   "execution_count": 259,
   "metadata": {},
   "outputs": [],
   "source": [
    "def build_model2():\n",
    "    model = tf.keras.Sequential([\n",
    "        layers.Dense(32, activation='elu', input_shape=[x_train.shape[1]]),\n",
    "        layers.Dropout(0.1),\n",
    "        layers.Dense(64, activation='elu'),\n",
    "        layers.Dense(32, activation='relu'),\n",
    "        layers.Dense(1)\n",
    "    ])\n",
    "    \n",
    "    optimizer = tf.keras.optimizers.Adam(0.001)\n",
    "\n",
    "    model.compile(loss='mse',\n",
    "                  optimizer=optimizer,\n",
    "                  metrics=['mae', 'mse'])\n",
    "    return model"
   ]
  },
  {
   "cell_type": "markdown",
   "metadata": {},
   "source": [
    "build model and show summary"
   ]
  },
  {
   "cell_type": "code",
   "execution_count": 260,
   "metadata": {},
   "outputs": [
    {
     "name": "stdout",
     "output_type": "stream",
     "text": [
      "Model: \"sequential_12\"\n",
      "_________________________________________________________________\n",
      " Layer (type)                Output Shape              Param #   \n",
      "=================================================================\n",
      " dense_46 (Dense)            (None, 32)                768       \n",
      "                                                                 \n",
      " dropout_10 (Dropout)        (None, 32)                0         \n",
      "                                                                 \n",
      " dense_47 (Dense)            (None, 64)                2112      \n",
      "                                                                 \n",
      " dense_48 (Dense)            (None, 32)                2080      \n",
      "                                                                 \n",
      " dense_49 (Dense)            (None, 1)                 33        \n",
      "                                                                 \n",
      "=================================================================\n",
      "Total params: 4,993\n",
      "Trainable params: 4,993\n",
      "Non-trainable params: 0\n",
      "_________________________________________________________________\n"
     ]
    }
   ],
   "source": [
    "base_model_2 = build_model2()\n",
    "base_model_2.summary()"
   ]
  },
  {
   "cell_type": "markdown",
   "metadata": {},
   "source": [
    "### 6.1 Training the Enhanced Base Model"
   ]
  },
  {
   "cell_type": "code",
   "execution_count": 263,
   "metadata": {},
   "outputs": [
    {
     "name": "stdout",
     "output_type": "stream",
     "text": [
      "Epoch 1/150\n",
      "1079/1079 [==============================] - 3s 2ms/step - loss: 409587.6562 - mae: 362.0875 - mse: 409587.6562 - val_loss: 1547715.0000 - val_mae: 328.5181 - val_mse: 1547715.0000\n",
      "Epoch 2/150\n",
      "1079/1079 [==============================] - 2s 2ms/step - loss: 415863.0312 - mae: 362.6701 - mse: 415863.0312 - val_loss: 1633907.3750 - val_mae: 327.4606 - val_mse: 1633907.3750\n",
      "Epoch 3/150\n",
      "1079/1079 [==============================] - 2s 2ms/step - loss: 411725.9062 - mae: 362.6190 - mse: 411725.9062 - val_loss: 1606103.1250 - val_mae: 329.1115 - val_mse: 1606103.1250\n",
      "Epoch 4/150\n",
      "1079/1079 [==============================] - 2s 2ms/step - loss: 395127.0000 - mae: 359.4587 - mse: 395127.0000 - val_loss: 1534520.6250 - val_mae: 341.7682 - val_mse: 1534520.6250\n",
      "Epoch 5/150\n",
      "1079/1079 [==============================] - 2s 2ms/step - loss: 414990.2812 - mae: 364.3035 - mse: 414990.2812 - val_loss: 1685707.0000 - val_mae: 331.0819 - val_mse: 1685707.0000\n",
      "Epoch 6/150\n",
      "1079/1079 [==============================] - 2s 2ms/step - loss: 399403.1875 - mae: 359.5709 - mse: 399403.1875 - val_loss: 1598300.0000 - val_mae: 333.2257 - val_mse: 1598300.0000\n",
      "Epoch 7/150\n",
      "1079/1079 [==============================] - 2s 2ms/step - loss: 401822.7812 - mae: 359.6187 - mse: 401822.7812 - val_loss: 1627786.8750 - val_mae: 328.6082 - val_mse: 1627786.8750\n",
      "Epoch 8/150\n",
      "1079/1079 [==============================] - 2s 2ms/step - loss: 400408.7500 - mae: 359.7665 - mse: 400408.7500 - val_loss: 1564377.0000 - val_mae: 336.2130 - val_mse: 1564377.0000\n",
      "Epoch 9/150\n",
      "1079/1079 [==============================] - 2s 2ms/step - loss: 396489.8125 - mae: 360.7693 - mse: 396489.8125 - val_loss: 1671315.2500 - val_mae: 337.2747 - val_mse: 1671315.2500\n",
      "Epoch 10/150\n",
      "1079/1079 [==============================] - 2s 2ms/step - loss: 398107.1875 - mae: 358.5153 - mse: 398107.1875 - val_loss: 1757351.5000 - val_mae: 333.2033 - val_mse: 1757351.5000\n",
      "Epoch 11/150\n",
      "1079/1079 [==============================] - 2s 2ms/step - loss: 401144.1250 - mae: 360.1295 - mse: 401144.1250 - val_loss: 1743277.1250 - val_mae: 329.7168 - val_mse: 1743277.1250\n",
      "Epoch 12/150\n",
      "1079/1079 [==============================] - 2s 2ms/step - loss: 394170.4688 - mae: 358.8135 - mse: 394170.4688 - val_loss: 1807389.8750 - val_mae: 333.5601 - val_mse: 1807389.8750\n",
      "Epoch 13/150\n",
      "1079/1079 [==============================] - 2s 2ms/step - loss: 397409.5000 - mae: 360.0045 - mse: 397409.5000 - val_loss: 1854007.2500 - val_mae: 331.8329 - val_mse: 1854007.2500\n",
      "Epoch 14/150\n",
      "1079/1079 [==============================] - 2s 2ms/step - loss: 396890.6250 - mae: 357.2506 - mse: 396890.6250 - val_loss: 1758862.8750 - val_mae: 328.0983 - val_mse: 1758862.8750\n",
      "Epoch 15/150\n",
      "1079/1079 [==============================] - 2s 2ms/step - loss: 389510.7812 - mae: 356.5001 - mse: 389510.7812 - val_loss: 1868039.6250 - val_mae: 324.1554 - val_mse: 1868039.6250\n",
      "Epoch 16/150\n",
      "1079/1079 [==============================] - 2s 2ms/step - loss: 394126.3125 - mae: 356.4687 - mse: 394126.3125 - val_loss: 1860142.5000 - val_mae: 335.6755 - val_mse: 1860142.5000\n",
      "Epoch 17/150\n",
      "1079/1079 [==============================] - 2s 2ms/step - loss: 387141.1562 - mae: 357.4387 - mse: 387141.1562 - val_loss: 1839642.1250 - val_mae: 327.6379 - val_mse: 1839642.1250\n",
      "Epoch 18/150\n",
      "1079/1079 [==============================] - 2s 2ms/step - loss: 383526.1875 - mae: 354.0021 - mse: 383526.1875 - val_loss: 1908633.0000 - val_mae: 323.4012 - val_mse: 1908633.0000\n",
      "Epoch 19/150\n",
      "1079/1079 [==============================] - 2s 2ms/step - loss: 382807.2500 - mae: 354.3834 - mse: 382807.2500 - val_loss: 1977867.2500 - val_mae: 325.9484 - val_mse: 1977867.2500\n",
      "Epoch 20/150\n",
      "1079/1079 [==============================] - 2s 2ms/step - loss: 385951.4062 - mae: 354.2921 - mse: 385951.4062 - val_loss: 2053321.2500 - val_mae: 323.4404 - val_mse: 2053321.2500\n",
      "Epoch 21/150\n",
      "1079/1079 [==============================] - 2s 2ms/step - loss: 385963.6250 - mae: 354.5407 - mse: 385963.6250 - val_loss: 1997024.5000 - val_mae: 337.0493 - val_mse: 1997024.5000\n",
      "Epoch 22/150\n",
      "1079/1079 [==============================] - 2s 2ms/step - loss: 386510.6562 - mae: 354.5573 - mse: 386510.6562 - val_loss: 2129261.0000 - val_mae: 333.4925 - val_mse: 2129261.0000\n",
      "Epoch 23/150\n",
      "1079/1079 [==============================] - 2s 2ms/step - loss: 389385.0312 - mae: 355.1171 - mse: 389385.0312 - val_loss: 2165491.2500 - val_mae: 329.4104 - val_mse: 2165491.2500\n",
      "Epoch 24/150\n",
      "1079/1079 [==============================] - 2s 2ms/step - loss: 381095.1875 - mae: 352.2009 - mse: 381095.1875 - val_loss: 2155713.5000 - val_mae: 321.9017 - val_mse: 2155713.5000\n",
      "Epoch 25/150\n",
      "1079/1079 [==============================] - 2s 2ms/step - loss: 379299.9062 - mae: 351.9216 - mse: 379299.9062 - val_loss: 2183364.5000 - val_mae: 321.7017 - val_mse: 2183364.5000\n",
      "Epoch 26/150\n",
      "1079/1079 [==============================] - 2s 2ms/step - loss: 381391.3438 - mae: 352.3983 - mse: 381391.3438 - val_loss: 2058626.6250 - val_mae: 336.2901 - val_mse: 2058626.6250\n",
      "Epoch 27/150\n",
      "1079/1079 [==============================] - 2s 2ms/step - loss: 378989.2500 - mae: 351.4694 - mse: 378989.2500 - val_loss: 2075141.8750 - val_mae: 325.2755 - val_mse: 2075141.8750\n",
      "Epoch 28/150\n",
      "1079/1079 [==============================] - 2s 2ms/step - loss: 378124.5000 - mae: 350.4291 - mse: 378124.5000 - val_loss: 2124732.2500 - val_mae: 323.0427 - val_mse: 2124732.2500\n",
      "Epoch 29/150\n",
      "1079/1079 [==============================] - 2s 2ms/step - loss: 376294.7500 - mae: 350.8576 - mse: 376294.7500 - val_loss: 1952648.7500 - val_mae: 348.6443 - val_mse: 1952648.7500\n",
      "Epoch 30/150\n",
      "1079/1079 [==============================] - 2s 2ms/step - loss: 374545.9688 - mae: 347.8503 - mse: 374545.9688 - val_loss: 2026867.7500 - val_mae: 340.7403 - val_mse: 2026867.7500\n",
      "Epoch 31/150\n",
      "1079/1079 [==============================] - 2s 2ms/step - loss: 372278.2500 - mae: 348.8759 - mse: 372278.2500 - val_loss: 2131504.5000 - val_mae: 345.8152 - val_mse: 2131504.5000\n",
      "Epoch 32/150\n",
      "1079/1079 [==============================] - 2s 2ms/step - loss: 374773.8750 - mae: 347.0655 - mse: 374773.8750 - val_loss: 2087805.8750 - val_mae: 319.3584 - val_mse: 2087805.8750\n",
      "Epoch 33/150\n",
      "1079/1079 [==============================] - 2s 2ms/step - loss: 370071.5000 - mae: 347.8484 - mse: 370071.5000 - val_loss: 2142121.2500 - val_mae: 325.8110 - val_mse: 2142121.2500\n",
      "Epoch 34/150\n",
      "1079/1079 [==============================] - 2s 2ms/step - loss: 373591.7500 - mae: 348.8905 - mse: 373591.7500 - val_loss: 2191204.2500 - val_mae: 325.2108 - val_mse: 2191204.2500\n",
      "Epoch 35/150\n",
      "1079/1079 [==============================] - 2s 2ms/step - loss: 370228.2812 - mae: 346.5830 - mse: 370228.2812 - val_loss: 2115789.5000 - val_mae: 334.6380 - val_mse: 2115789.5000\n",
      "Epoch 36/150\n",
      "1079/1079 [==============================] - 2s 2ms/step - loss: 371788.6250 - mae: 346.7810 - mse: 371788.6250 - val_loss: 2055376.6250 - val_mae: 328.1374 - val_mse: 2055376.6250\n",
      "Epoch 37/150\n",
      "1079/1079 [==============================] - 2s 2ms/step - loss: 374031.4688 - mae: 345.8974 - mse: 374031.4688 - val_loss: 2090467.5000 - val_mae: 338.5782 - val_mse: 2090467.5000\n",
      "Epoch 38/150\n",
      "1079/1079 [==============================] - 2s 2ms/step - loss: 371184.9688 - mae: 346.5452 - mse: 371184.9688 - val_loss: 2068492.3750 - val_mae: 324.0187 - val_mse: 2068492.3750\n",
      "Epoch 39/150\n",
      "1079/1079 [==============================] - 2s 2ms/step - loss: 367174.0000 - mae: 345.0307 - mse: 367174.0000 - val_loss: 2263932.5000 - val_mae: 325.4658 - val_mse: 2263932.5000\n",
      "Epoch 40/150\n",
      "1079/1079 [==============================] - 2s 2ms/step - loss: 365690.3750 - mae: 344.9076 - mse: 365690.3750 - val_loss: 2263717.2500 - val_mae: 325.5383 - val_mse: 2263717.2500\n",
      "Epoch 41/150\n",
      "1079/1079 [==============================] - 2s 2ms/step - loss: 360555.5000 - mae: 342.5874 - mse: 360555.5000 - val_loss: 2312133.5000 - val_mae: 325.2354 - val_mse: 2312133.5000\n",
      "Epoch 42/150\n",
      "1079/1079 [==============================] - 2s 2ms/step - loss: 366298.4688 - mae: 344.0654 - mse: 366298.4688 - val_loss: 2372562.0000 - val_mae: 319.8763 - val_mse: 2372562.0000\n",
      "Epoch 43/150\n",
      "1079/1079 [==============================] - 2s 2ms/step - loss: 361089.3750 - mae: 340.3385 - mse: 361089.3750 - val_loss: 2393199.5000 - val_mae: 323.2663 - val_mse: 2393199.5000\n",
      "Epoch 44/150\n",
      "1079/1079 [==============================] - 2s 2ms/step - loss: 364544.6562 - mae: 343.8524 - mse: 364544.6562 - val_loss: 2248702.7500 - val_mae: 328.3480 - val_mse: 2248702.7500\n",
      "Epoch 45/150\n",
      "1079/1079 [==============================] - 2s 2ms/step - loss: 360788.3438 - mae: 343.8675 - mse: 360788.3438 - val_loss: 2327293.0000 - val_mae: 326.9862 - val_mse: 2327293.0000\n",
      "Epoch 46/150\n",
      "1079/1079 [==============================] - 2s 2ms/step - loss: 368814.2812 - mae: 343.5262 - mse: 368814.2812 - val_loss: 2348433.5000 - val_mae: 318.7607 - val_mse: 2348433.5000\n",
      "Epoch 47/150\n",
      "1079/1079 [==============================] - 2s 2ms/step - loss: 357937.8438 - mae: 339.8484 - mse: 357937.8438 - val_loss: 2455176.5000 - val_mae: 326.3962 - val_mse: 2455176.5000\n",
      "Epoch 48/150\n",
      "1079/1079 [==============================] - 2s 2ms/step - loss: 358273.0312 - mae: 341.4727 - mse: 358273.0312 - val_loss: 2335662.0000 - val_mae: 327.0074 - val_mse: 2335662.0000\n",
      "Epoch 49/150\n",
      "1079/1079 [==============================] - 2s 2ms/step - loss: 360988.0938 - mae: 340.5276 - mse: 360988.0938 - val_loss: 2389616.5000 - val_mae: 323.2245 - val_mse: 2389616.5000\n",
      "Epoch 50/150\n",
      "1079/1079 [==============================] - 2s 2ms/step - loss: 358436.3438 - mae: 340.2787 - mse: 358436.3438 - val_loss: 2602357.7500 - val_mae: 322.0933 - val_mse: 2602357.7500\n",
      "Epoch 51/150\n",
      "1079/1079 [==============================] - 2s 2ms/step - loss: 361246.8438 - mae: 343.3419 - mse: 361246.8438 - val_loss: 2492071.2500 - val_mae: 322.9935 - val_mse: 2492071.2500\n",
      "Epoch 52/150\n",
      "1079/1079 [==============================] - 2s 2ms/step - loss: 358756.5000 - mae: 340.2062 - mse: 358756.5000 - val_loss: 2532037.5000 - val_mae: 323.5121 - val_mse: 2532037.5000\n",
      "Epoch 53/150\n",
      "1079/1079 [==============================] - 3s 2ms/step - loss: 358199.0938 - mae: 340.0110 - mse: 358199.0938 - val_loss: 2539376.7500 - val_mae: 326.6556 - val_mse: 2539376.7500\n",
      "Epoch 54/150\n",
      "1079/1079 [==============================] - 2s 2ms/step - loss: 367018.9375 - mae: 342.4991 - mse: 367018.9375 - val_loss: 2638676.7500 - val_mae: 316.9001 - val_mse: 2638676.7500\n",
      "Epoch 55/150\n",
      "1079/1079 [==============================] - 2s 2ms/step - loss: 355073.9062 - mae: 339.6845 - mse: 355073.9062 - val_loss: 2546745.7500 - val_mae: 320.0962 - val_mse: 2546745.7500\n",
      "Epoch 56/150\n",
      "1079/1079 [==============================] - 2s 2ms/step - loss: 356181.1562 - mae: 339.6860 - mse: 356181.1562 - val_loss: 2644510.5000 - val_mae: 343.5665 - val_mse: 2644510.5000\n",
      "Epoch 57/150\n",
      "1079/1079 [==============================] - 2s 2ms/step - loss: 355071.1875 - mae: 338.6852 - mse: 355071.1875 - val_loss: 2686974.0000 - val_mae: 318.6299 - val_mse: 2686974.0000\n",
      "Epoch 58/150\n",
      "1079/1079 [==============================] - 2s 2ms/step - loss: 353841.5938 - mae: 339.5085 - mse: 353841.5938 - val_loss: 2652273.2500 - val_mae: 322.3540 - val_mse: 2652273.2500\n",
      "Epoch 59/150\n",
      "1079/1079 [==============================] - 2s 2ms/step - loss: 354602.5000 - mae: 336.9356 - mse: 354602.5000 - val_loss: 2734224.7500 - val_mae: 316.4075 - val_mse: 2734224.7500\n",
      "Epoch 60/150\n",
      "1079/1079 [==============================] - 2s 2ms/step - loss: 359549.7188 - mae: 341.3258 - mse: 359549.7188 - val_loss: 2615369.7500 - val_mae: 327.0789 - val_mse: 2615369.7500\n",
      "Epoch 61/150\n",
      "1079/1079 [==============================] - 2s 2ms/step - loss: 352287.1562 - mae: 337.4735 - mse: 352287.1562 - val_loss: 2745519.5000 - val_mae: 317.5847 - val_mse: 2745519.5000\n",
      "Epoch 62/150\n",
      "1079/1079 [==============================] - 3s 3ms/step - loss: 353133.6875 - mae: 338.9937 - mse: 353133.6875 - val_loss: 2745949.7500 - val_mae: 324.0504 - val_mse: 2745949.7500\n",
      "Epoch 63/150\n",
      "1079/1079 [==============================] - 2s 2ms/step - loss: 353268.9375 - mae: 338.4806 - mse: 353268.9375 - val_loss: 2721950.0000 - val_mae: 321.1461 - val_mse: 2721950.0000\n",
      "Epoch 64/150\n",
      "1079/1079 [==============================] - 2s 2ms/step - loss: 351046.1875 - mae: 337.0107 - mse: 351046.1875 - val_loss: 2820309.2500 - val_mae: 314.9798 - val_mse: 2820309.2500\n",
      "Epoch 65/150\n",
      "1079/1079 [==============================] - 2s 2ms/step - loss: 354996.0625 - mae: 338.8896 - mse: 354996.0625 - val_loss: 2734681.7500 - val_mae: 324.6131 - val_mse: 2734681.7500\n",
      "Epoch 66/150\n",
      "1079/1079 [==============================] - 3s 2ms/step - loss: 346560.5938 - mae: 335.8254 - mse: 346560.5938 - val_loss: 3046810.2500 - val_mae: 321.8674 - val_mse: 3046810.2500\n",
      "Epoch 67/150\n",
      "1079/1079 [==============================] - 2s 2ms/step - loss: 352768.8438 - mae: 338.1176 - mse: 352768.8438 - val_loss: 2678216.7500 - val_mae: 329.4332 - val_mse: 2678216.7500\n",
      "Epoch 68/150\n",
      "1079/1079 [==============================] - 3s 3ms/step - loss: 350221.7188 - mae: 335.7841 - mse: 350221.7188 - val_loss: 2914634.2500 - val_mae: 317.9954 - val_mse: 2914634.2500\n",
      "Epoch 69/150\n",
      "1079/1079 [==============================] - 3s 2ms/step - loss: 347256.4062 - mae: 335.9856 - mse: 347256.4062 - val_loss: 2937388.5000 - val_mae: 325.0995 - val_mse: 2937388.5000\n",
      "Epoch 70/150\n",
      "1079/1079 [==============================] - 2s 2ms/step - loss: 347477.2500 - mae: 335.7594 - mse: 347477.2500 - val_loss: 2910236.0000 - val_mae: 319.5921 - val_mse: 2910236.0000\n",
      "Epoch 71/150\n",
      "1079/1079 [==============================] - 3s 2ms/step - loss: 350067.1250 - mae: 337.0370 - mse: 350067.1250 - val_loss: 2873738.7500 - val_mae: 334.8746 - val_mse: 2873738.7500\n",
      "Epoch 72/150\n",
      "1079/1079 [==============================] - 2s 2ms/step - loss: 349037.0000 - mae: 335.5759 - mse: 349037.0000 - val_loss: 2858608.7500 - val_mae: 322.3658 - val_mse: 2858608.7500\n",
      "Epoch 73/150\n",
      "1079/1079 [==============================] - 2s 2ms/step - loss: 353589.5938 - mae: 337.3336 - mse: 353589.5938 - val_loss: 3012754.5000 - val_mae: 333.3557 - val_mse: 3012754.5000\n",
      "Epoch 74/150\n",
      "1079/1079 [==============================] - 3s 3ms/step - loss: 350623.1250 - mae: 337.6452 - mse: 350623.1250 - val_loss: 2971728.7500 - val_mae: 316.2265 - val_mse: 2971728.7500\n",
      "Epoch 75/150\n",
      "1079/1079 [==============================] - 2s 2ms/step - loss: 352410.3438 - mae: 336.8088 - mse: 352410.3438 - val_loss: 2889019.2500 - val_mae: 319.7231 - val_mse: 2889019.2500\n",
      "Epoch 76/150\n",
      "1079/1079 [==============================] - 4s 3ms/step - loss: 350110.3125 - mae: 336.1281 - mse: 350110.3125 - val_loss: 2986029.2500 - val_mae: 327.0539 - val_mse: 2986029.2500\n",
      "Epoch 77/150\n",
      "1079/1079 [==============================] - 2s 2ms/step - loss: 343431.6562 - mae: 334.8988 - mse: 343431.6562 - val_loss: 3045784.7500 - val_mae: 333.0385 - val_mse: 3045784.7500\n",
      "Epoch 78/150\n",
      "1079/1079 [==============================] - 3s 2ms/step - loss: 341398.5938 - mae: 333.0712 - mse: 341398.5938 - val_loss: 3150882.0000 - val_mae: 324.2578 - val_mse: 3150882.0000\n",
      "Epoch 79/150\n",
      "1079/1079 [==============================] - 2s 2ms/step - loss: 347046.9062 - mae: 335.3295 - mse: 347046.9062 - val_loss: 3114861.2500 - val_mae: 323.1758 - val_mse: 3114861.2500\n",
      "Epoch 80/150\n",
      "1079/1079 [==============================] - 2s 2ms/step - loss: 346498.5000 - mae: 335.9044 - mse: 346498.5000 - val_loss: 3141586.5000 - val_mae: 319.1917 - val_mse: 3141586.5000\n",
      "Epoch 81/150\n",
      "1079/1079 [==============================] - 2s 2ms/step - loss: 339658.6562 - mae: 334.6843 - mse: 339658.6562 - val_loss: 3200310.5000 - val_mae: 321.2886 - val_mse: 3200310.5000\n",
      "Epoch 82/150\n",
      "1079/1079 [==============================] - 2s 2ms/step - loss: 349897.8125 - mae: 336.7776 - mse: 349897.8125 - val_loss: 3003575.2500 - val_mae: 326.4203 - val_mse: 3003575.2500\n",
      "Epoch 83/150\n",
      "1079/1079 [==============================] - 2s 2ms/step - loss: 345555.2812 - mae: 336.1255 - mse: 345555.2812 - val_loss: 3394152.2500 - val_mae: 323.3359 - val_mse: 3394152.2500\n",
      "Epoch 84/150\n",
      "1079/1079 [==============================] - 2s 2ms/step - loss: 354456.7812 - mae: 338.4431 - mse: 354456.7812 - val_loss: 3216730.0000 - val_mae: 322.2464 - val_mse: 3216730.0000\n",
      "Epoch 85/150\n",
      "1079/1079 [==============================] - 2s 2ms/step - loss: 345895.8438 - mae: 333.5435 - mse: 345895.8438 - val_loss: 3238495.2500 - val_mae: 320.6861 - val_mse: 3238495.2500\n",
      "Epoch 86/150\n",
      "1079/1079 [==============================] - 2s 2ms/step - loss: 338833.4375 - mae: 333.5139 - mse: 338833.4375 - val_loss: 3333452.7500 - val_mae: 325.9567 - val_mse: 3333452.7500\n",
      "Epoch 87/150\n",
      "1079/1079 [==============================] - 2s 2ms/step - loss: 345755.3750 - mae: 335.1132 - mse: 345755.3750 - val_loss: 3242156.5000 - val_mae: 340.7561 - val_mse: 3242156.5000\n",
      "Epoch 88/150\n",
      "1079/1079 [==============================] - 2s 2ms/step - loss: 342397.2500 - mae: 336.1347 - mse: 342397.2500 - val_loss: 3183355.5000 - val_mae: 320.6509 - val_mse: 3183355.5000\n",
      "Epoch 89/150\n",
      "1079/1079 [==============================] - 2s 2ms/step - loss: 345015.7500 - mae: 334.2973 - mse: 345015.7500 - val_loss: 3158732.2500 - val_mae: 326.2048 - val_mse: 3158732.2500\n",
      "Epoch 90/150\n",
      "1079/1079 [==============================] - 2s 2ms/step - loss: 341226.0000 - mae: 332.1784 - mse: 341226.0000 - val_loss: 3219740.2500 - val_mae: 332.2962 - val_mse: 3219740.2500\n",
      "Epoch 91/150\n",
      "1079/1079 [==============================] - 2s 2ms/step - loss: 346460.4062 - mae: 336.6193 - mse: 346460.4062 - val_loss: 3189886.5000 - val_mae: 325.7871 - val_mse: 3189886.5000\n",
      "Epoch 92/150\n",
      "1079/1079 [==============================] - 2s 2ms/step - loss: 337319.3438 - mae: 331.8853 - mse: 337319.3438 - val_loss: 3322195.0000 - val_mae: 338.5703 - val_mse: 3322195.0000\n",
      "Epoch 93/150\n",
      "1079/1079 [==============================] - 2s 2ms/step - loss: 345549.6875 - mae: 334.7580 - mse: 345549.6875 - val_loss: 3406386.7500 - val_mae: 319.8357 - val_mse: 3406386.7500\n",
      "Epoch 94/150\n",
      "1079/1079 [==============================] - 2s 2ms/step - loss: 337971.3438 - mae: 332.3102 - mse: 337971.3438 - val_loss: 3390900.7500 - val_mae: 326.0835 - val_mse: 3390900.7500\n",
      "Epoch 95/150\n",
      "1079/1079 [==============================] - 2s 2ms/step - loss: 342463.8750 - mae: 333.4939 - mse: 342463.8750 - val_loss: 3625591.7500 - val_mae: 325.8006 - val_mse: 3625591.7500\n",
      "Epoch 96/150\n",
      "1079/1079 [==============================] - 2s 2ms/step - loss: 338075.6562 - mae: 331.8129 - mse: 338075.6562 - val_loss: 3619230.2500 - val_mae: 332.3860 - val_mse: 3619230.2500\n",
      "Epoch 97/150\n",
      "1079/1079 [==============================] - 3s 2ms/step - loss: 338973.4688 - mae: 333.2062 - mse: 338973.4688 - val_loss: 3464058.5000 - val_mae: 322.4977 - val_mse: 3464058.5000\n",
      "Epoch 98/150\n",
      "1079/1079 [==============================] - 2s 2ms/step - loss: 341124.7188 - mae: 332.6298 - mse: 341124.7188 - val_loss: 3568891.7500 - val_mae: 325.0827 - val_mse: 3568891.7500\n",
      "Epoch 99/150\n",
      "1079/1079 [==============================] - 2s 2ms/step - loss: 336922.1875 - mae: 332.1491 - mse: 336922.1875 - val_loss: 3593593.2500 - val_mae: 322.0915 - val_mse: 3593593.2500\n",
      "Epoch 100/150\n",
      "1079/1079 [==============================] - 3s 3ms/step - loss: 338515.8438 - mae: 332.7004 - mse: 338515.8438 - val_loss: 3633689.2500 - val_mae: 316.8085 - val_mse: 3633689.2500\n",
      "Epoch 101/150\n",
      "1079/1079 [==============================] - 2s 2ms/step - loss: 338702.4062 - mae: 333.7257 - mse: 338702.4062 - val_loss: 3479935.0000 - val_mae: 329.8067 - val_mse: 3479935.0000\n",
      "Epoch 102/150\n",
      "1079/1079 [==============================] - 2s 2ms/step - loss: 339731.0312 - mae: 333.9357 - mse: 339731.0312 - val_loss: 3546649.5000 - val_mae: 335.1298 - val_mse: 3546649.5000\n",
      "Epoch 103/150\n",
      "1079/1079 [==============================] - 2s 2ms/step - loss: 338896.3438 - mae: 333.2936 - mse: 338896.3438 - val_loss: 3295765.2500 - val_mae: 337.0171 - val_mse: 3295765.2500\n",
      "Epoch 104/150\n",
      "1079/1079 [==============================] - 2s 2ms/step - loss: 338126.0625 - mae: 332.9580 - mse: 338126.0625 - val_loss: 3516454.0000 - val_mae: 326.2798 - val_mse: 3516454.0000\n",
      "Epoch 105/150\n",
      "1079/1079 [==============================] - 2s 2ms/step - loss: 342591.4062 - mae: 334.2441 - mse: 342591.4062 - val_loss: 3430743.2500 - val_mae: 331.2453 - val_mse: 3430743.2500\n",
      "Epoch 106/150\n",
      "1079/1079 [==============================] - 2s 2ms/step - loss: 340814.7500 - mae: 334.4635 - mse: 340814.7500 - val_loss: 3481227.5000 - val_mae: 330.8257 - val_mse: 3481227.5000\n",
      "Epoch 107/150\n",
      "1079/1079 [==============================] - 2s 2ms/step - loss: 336787.5625 - mae: 330.7443 - mse: 336787.5625 - val_loss: 3583997.2500 - val_mae: 324.0252 - val_mse: 3583997.2500\n",
      "Epoch 108/150\n",
      "1079/1079 [==============================] - 2s 2ms/step - loss: 338480.1562 - mae: 331.1169 - mse: 338480.1562 - val_loss: 3671835.0000 - val_mae: 318.3515 - val_mse: 3671835.0000\n",
      "Epoch 109/150\n",
      "1079/1079 [==============================] - 2s 2ms/step - loss: 339326.6875 - mae: 333.2484 - mse: 339326.6875 - val_loss: 3633425.0000 - val_mae: 322.7468 - val_mse: 3633425.0000\n",
      "Epoch 110/150\n",
      "1079/1079 [==============================] - 2s 2ms/step - loss: 329744.1250 - mae: 329.2309 - mse: 329744.1250 - val_loss: 3306508.7500 - val_mae: 325.9262 - val_mse: 3306508.7500\n",
      "Epoch 111/150\n",
      "1079/1079 [==============================] - 2s 2ms/step - loss: 338578.8125 - mae: 332.0701 - mse: 338578.8125 - val_loss: 3695637.2500 - val_mae: 323.8734 - val_mse: 3695637.2500\n",
      "Epoch 112/150\n",
      "1079/1079 [==============================] - 2s 2ms/step - loss: 335358.4688 - mae: 331.5670 - mse: 335358.4688 - val_loss: 3597257.7500 - val_mae: 315.9442 - val_mse: 3597257.7500\n",
      "Epoch 113/150\n",
      "1079/1079 [==============================] - 2s 2ms/step - loss: 340141.6875 - mae: 332.0771 - mse: 340141.6875 - val_loss: 3523649.0000 - val_mae: 323.9475 - val_mse: 3523649.0000\n",
      "Epoch 114/150\n",
      "1079/1079 [==============================] - 2s 2ms/step - loss: 338064.0312 - mae: 332.1899 - mse: 338064.0312 - val_loss: 3739367.5000 - val_mae: 324.6310 - val_mse: 3739367.5000\n",
      "Epoch 115/150\n",
      "1079/1079 [==============================] - 2s 2ms/step - loss: 336688.8750 - mae: 333.9485 - mse: 336688.8750 - val_loss: 3644569.2500 - val_mae: 319.4210 - val_mse: 3644569.2500\n",
      "Epoch 116/150\n",
      "1079/1079 [==============================] - 2s 2ms/step - loss: 335644.5625 - mae: 330.3887 - mse: 335644.5625 - val_loss: 3740968.0000 - val_mae: 319.1912 - val_mse: 3740968.0000\n",
      "Epoch 117/150\n",
      "1079/1079 [==============================] - 2s 2ms/step - loss: 330621.7812 - mae: 329.1981 - mse: 330621.7812 - val_loss: 3571244.7500 - val_mae: 332.9049 - val_mse: 3571244.7500\n",
      "Epoch 118/150\n",
      "1079/1079 [==============================] - 2s 2ms/step - loss: 339445.5625 - mae: 330.6364 - mse: 339445.5625 - val_loss: 3540663.2500 - val_mae: 329.0508 - val_mse: 3540663.2500\n",
      "Epoch 119/150\n",
      "1079/1079 [==============================] - 2s 2ms/step - loss: 331187.6875 - mae: 329.5338 - mse: 331187.6875 - val_loss: 3728293.5000 - val_mae: 326.1695 - val_mse: 3728293.5000\n",
      "Epoch 120/150\n",
      "1079/1079 [==============================] - 2s 2ms/step - loss: 332629.4375 - mae: 330.5326 - mse: 332629.4375 - val_loss: 3758484.7500 - val_mae: 316.8733 - val_mse: 3758484.7500\n",
      "Epoch 121/150\n",
      "1079/1079 [==============================] - 2s 2ms/step - loss: 331745.5000 - mae: 330.8300 - mse: 331745.5000 - val_loss: 3790141.7500 - val_mae: 318.2130 - val_mse: 3790141.7500\n",
      "Epoch 122/150\n",
      "1079/1079 [==============================] - 2s 2ms/step - loss: 338197.5000 - mae: 332.4262 - mse: 338197.5000 - val_loss: 3749898.0000 - val_mae: 324.6237 - val_mse: 3749898.0000\n",
      "Epoch 123/150\n",
      "1079/1079 [==============================] - 2s 2ms/step - loss: 328934.4688 - mae: 330.4015 - mse: 328934.4688 - val_loss: 3670600.0000 - val_mae: 313.7267 - val_mse: 3670600.0000\n",
      "Epoch 124/150\n",
      "1079/1079 [==============================] - 2s 2ms/step - loss: 329306.9375 - mae: 328.2593 - mse: 329306.9375 - val_loss: 3698174.5000 - val_mae: 320.3198 - val_mse: 3698174.5000\n",
      "Epoch 125/150\n",
      "1079/1079 [==============================] - 2s 2ms/step - loss: 335827.8125 - mae: 331.6584 - mse: 335827.8125 - val_loss: 3710852.0000 - val_mae: 321.5615 - val_mse: 3710852.0000\n",
      "Epoch 126/150\n",
      "1079/1079 [==============================] - 2s 2ms/step - loss: 331455.3125 - mae: 330.8275 - mse: 331455.3125 - val_loss: 3536196.7500 - val_mae: 320.1597 - val_mse: 3536196.7500\n",
      "Epoch 127/150\n",
      "1079/1079 [==============================] - 2s 2ms/step - loss: 330662.6562 - mae: 329.4899 - mse: 330662.6562 - val_loss: 3834503.0000 - val_mae: 329.7373 - val_mse: 3834503.0000\n",
      "Epoch 128/150\n",
      "1079/1079 [==============================] - 2s 2ms/step - loss: 328225.4375 - mae: 328.4019 - mse: 328225.4375 - val_loss: 3693640.7500 - val_mae: 322.5980 - val_mse: 3693640.7500\n",
      "Epoch 129/150\n",
      "1079/1079 [==============================] - 2s 2ms/step - loss: 331168.5625 - mae: 329.5380 - mse: 331168.5625 - val_loss: 3613578.0000 - val_mae: 317.5152 - val_mse: 3613578.0000\n",
      "Epoch 130/150\n",
      "1079/1079 [==============================] - 2s 2ms/step - loss: 333550.9375 - mae: 329.2352 - mse: 333550.9375 - val_loss: 4004431.5000 - val_mae: 321.7660 - val_mse: 4004431.5000\n",
      "Epoch 131/150\n",
      "1079/1079 [==============================] - 2s 2ms/step - loss: 331849.9375 - mae: 330.0716 - mse: 331849.9375 - val_loss: 3609958.0000 - val_mae: 350.1635 - val_mse: 3609958.0000\n",
      "Epoch 132/150\n",
      "1079/1079 [==============================] - 2s 2ms/step - loss: 330701.5938 - mae: 327.6815 - mse: 330701.5938 - val_loss: 3851510.5000 - val_mae: 330.1848 - val_mse: 3851510.5000\n",
      "Epoch 133/150\n",
      "1079/1079 [==============================] - 2s 2ms/step - loss: 338363.4375 - mae: 331.9823 - mse: 338363.4375 - val_loss: 3939132.5000 - val_mae: 323.7557 - val_mse: 3939132.5000\n",
      "Epoch 134/150\n",
      "1079/1079 [==============================] - 2s 2ms/step - loss: 336708.7812 - mae: 332.0616 - mse: 336708.7812 - val_loss: 3787382.5000 - val_mae: 322.8482 - val_mse: 3787382.5000\n",
      "Epoch 135/150\n",
      "1079/1079 [==============================] - 2s 2ms/step - loss: 327568.2188 - mae: 327.2589 - mse: 327568.2188 - val_loss: 3755007.0000 - val_mae: 339.5088 - val_mse: 3755007.0000\n",
      "Epoch 136/150\n",
      "1079/1079 [==============================] - 2s 2ms/step - loss: 326823.4062 - mae: 327.6126 - mse: 326823.4062 - val_loss: 3934806.5000 - val_mae: 326.2434 - val_mse: 3934806.5000\n",
      "Epoch 137/150\n",
      "1079/1079 [==============================] - 2s 2ms/step - loss: 336876.4062 - mae: 332.1867 - mse: 336876.4062 - val_loss: 3911753.5000 - val_mae: 315.9313 - val_mse: 3911753.5000\n",
      "Epoch 138/150\n",
      "1079/1079 [==============================] - 2s 2ms/step - loss: 330401.1562 - mae: 329.1282 - mse: 330401.1562 - val_loss: 3910189.7500 - val_mae: 330.2107 - val_mse: 3910189.7500\n",
      "Epoch 139/150\n",
      "1079/1079 [==============================] - 3s 2ms/step - loss: 332618.7500 - mae: 329.0635 - mse: 332618.7500 - val_loss: 4130125.7500 - val_mae: 333.6607 - val_mse: 4130125.7500\n",
      "Epoch 140/150\n",
      "1079/1079 [==============================] - 3s 2ms/step - loss: 331052.3750 - mae: 329.1148 - mse: 331052.3750 - val_loss: 4004376.0000 - val_mae: 319.0744 - val_mse: 4004376.0000\n",
      "Epoch 141/150\n",
      "1079/1079 [==============================] - 2s 2ms/step - loss: 330242.8750 - mae: 329.0341 - mse: 330242.8750 - val_loss: 3820673.0000 - val_mae: 334.6301 - val_mse: 3820673.0000\n",
      "Epoch 142/150\n",
      "1079/1079 [==============================] - 2s 2ms/step - loss: 330463.4375 - mae: 328.2231 - mse: 330463.4375 - val_loss: 3969095.5000 - val_mae: 320.3330 - val_mse: 3969095.5000\n",
      "Epoch 143/150\n",
      "1079/1079 [==============================] - 2s 2ms/step - loss: 331703.0000 - mae: 329.1283 - mse: 331703.0000 - val_loss: 3826068.2500 - val_mae: 324.8804 - val_mse: 3826068.2500\n",
      "Epoch 144/150\n",
      "1079/1079 [==============================] - 2s 2ms/step - loss: 330316.9062 - mae: 327.3155 - mse: 330316.9062 - val_loss: 3801462.0000 - val_mae: 328.8904 - val_mse: 3801462.0000\n",
      "Epoch 145/150\n",
      "1079/1079 [==============================] - 2s 2ms/step - loss: 333695.5000 - mae: 329.7216 - mse: 333695.5000 - val_loss: 3992076.0000 - val_mae: 319.8836 - val_mse: 3992076.0000\n",
      "Epoch 146/150\n",
      "1079/1079 [==============================] - 2s 2ms/step - loss: 328035.4688 - mae: 326.9597 - mse: 328035.4688 - val_loss: 4077368.5000 - val_mae: 320.2205 - val_mse: 4077368.5000\n",
      "Epoch 147/150\n",
      "1079/1079 [==============================] - 2s 2ms/step - loss: 329492.2500 - mae: 328.1841 - mse: 329492.2500 - val_loss: 4056409.2500 - val_mae: 317.3044 - val_mse: 4056409.2500\n",
      "Epoch 148/150\n",
      "1079/1079 [==============================] - 2s 2ms/step - loss: 328549.6875 - mae: 327.9250 - mse: 328549.6875 - val_loss: 4254580.5000 - val_mae: 323.3771 - val_mse: 4254580.5000\n",
      "Epoch 149/150\n",
      "1079/1079 [==============================] - 2s 2ms/step - loss: 328756.9375 - mae: 326.9815 - mse: 328756.9375 - val_loss: 4129649.0000 - val_mae: 321.1348 - val_mse: 4129649.0000\n",
      "Epoch 150/150\n",
      "1079/1079 [==============================] - 2s 2ms/step - loss: 327074.8438 - mae: 327.7200 - mse: 327074.8438 - val_loss: 4272704.5000 - val_mae: 317.2549 - val_mse: 4272704.5000\n"
     ]
    }
   ],
   "source": [
    "n_epochs = 150\n",
    "\n",
    "base_history_2 = base_model_2.fit(x_train, \n",
    "                                  y_train,\n",
    "                                  epochs = n_epochs, \n",
    "                                  validation_split = 0.2, \n",
    "                                  batch_size = 32,\n",
    "                                  verbose = True)"
   ]
  },
  {
   "cell_type": "markdown",
   "metadata": {},
   "source": [
    "making sure that the test data is also clean, free from missing values and ready to be used for evaluation or prediction."
   ]
  },
  {
   "cell_type": "code",
   "execution_count": 264,
   "metadata": {},
   "outputs": [
    {
     "name": "stdout",
     "output_type": "stream",
     "text": [
      "Base Model - Mean Absolute Error: 297.3165283203125\n",
      "Base Model - Mean Squared Error: 1393526.5\n"
     ]
    }
   ],
   "source": [
    "base_loss_2, base_mae_2, base_mse_2 = base_model_2.evaluate(x_test, y_test, verbose=0)\n",
    "print(f\"Base Model - Mean Absolute Error: {base_mae_2}\")\n",
    "print(f\"Base Model - Mean Squared Error: {base_mse_2}\")"
   ]
  },
  {
   "cell_type": "markdown",
   "metadata": {},
   "source": [
    "## 7. Comparing model performances"
   ]
  },
  {
   "cell_type": "code",
   "execution_count": 271,
   "metadata": {},
   "outputs": [
    {
     "data": {
      "image/png": "[encoded data removed]",
      "text/plain": [
       "<Figure size 1200x600 with 1 Axes>"
      ]
     },
     "metadata": {},
     "output_type": "display_data"
    }
   ],
   "source": [
    "plt.figure(figsize=(12, 6))\n",
    "plt.plot(base_history.history['loss'], label='Base Model - Training Loss')\n",
    "plt.plot(base_history.history['val_loss'], label='Base Model - Validation Loss')\n",
    "plt.plot(base_history_2.history['loss'], label='Enhanced Model - Training Loss')\n",
    "plt.plot(base_history_2.history['val_loss'], label='Enhanced Model - Validation Loss')\n",
    "plt.xlabel('Epochs')\n",
    "plt.ylabel('Loss')\n",
    "plt.legend()\n",
    "plt.title('Comparison of Training and Validation Loss')\n",
    "plt.show()"
   ]
  },
  {
   "cell_type": "code",
   "execution_count": 272,
   "metadata": {},
   "outputs": [
    {
     "name": "stdout",
     "output_type": "stream",
     "text": [
      "Base Model MAE: 304.2809143066406\n",
      "Enhanced Model MAE: 297.3165283203125\n"
     ]
    }
   ],
   "source": [
    "print(f\"Base Model MAE: {base_mae}\")\n",
    "print(f\"Enhanced Model MAE: {base_mae_2}\")"
   ]
  },
  {
   "cell_type": "markdown",
   "metadata": {},
   "source": [
    "## 8. Creating a Custom Dense Layer"
   ]
  },
  {
   "cell_type": "code",
   "execution_count": 273,
   "metadata": {},
   "outputs": [],
   "source": [
    "class MyDense(layers.Layer):\n",
    "    \n",
    "    def __init__(self, units, activation=None, **kwargs):\n",
    "        \n",
    "        super(MyDense, self).__init__(**kwargs)\n",
    "        \n",
    "        self.units = units\n",
    "        self.activation = activations.get(activation)\n",
    "        \n",
    "    def build(self, input_shape):\n",
    "        input_dim = input_shape[-1]\n",
    "        \n",
    "        self.kernel = self.add_weight(shape=(input_dim, self.units))\n",
    "        \n",
    "    def call(self, inputs):\n",
    "        output = tf.matmul(inputs, self.kernel)\n",
    "        \n",
    "        if self.activation is not None:\n",
    "            output = self.activation(output)\n",
    "        \n",
    "        return output\n",
    "    \n",
    "    def compute_output_shape(self, input_shape):\n",
    "        output_shape = list(input_shape)\n",
    "        output_shape[-1] = self.units\n",
    "        \n",
    "        return tuple(output_shape)\n",
    "    \n",
    "    def get_config(self):\n",
    "        config = super(MyDense, self).get_config()\n",
    "        \n",
    "        current_config = {\n",
    "            'units': self.units,\n",
    "            'activation': activations.serialize(self.activation)\n",
    "        }\n",
    "        \n",
    "        config.update(current_config)\n",
    "\n",
    "        return config"
   ]
  },
  {
   "cell_type": "markdown",
   "metadata": {},
   "source": [
    "### 8.1 Building and compiling"
   ]
  },
  {
   "cell_type": "code",
   "execution_count": 277,
   "metadata": {},
   "outputs": [],
   "source": [
    "def build_model3():\n",
    "    \n",
    "    model = tf.keras.Sequential([\n",
    "        MyDense(64, activation='elu', input_shape=[x_train.shape[1]]),\n",
    "        MyDense(32, activation='elu'),\n",
    "        \n",
    "        layers.Dropout(0.2),\n",
    "        \n",
    "        MyDense(16, activation='elu'),\n",
    "        MyDense(1)\n",
    "    ])\n",
    "    \n",
    "    optimizer = tf.keras.optimizers.RMSprop(0.001)\n",
    "\n",
    "    model.compile(loss='mse',\n",
    "                  optimizer=optimizer,\n",
    "                  metrics=['mae', 'mse'])\n",
    "    return model"
   ]
  },
  {
   "cell_type": "code",
   "execution_count": 278,
   "metadata": {},
   "outputs": [
    {
     "name": "stdout",
     "output_type": "stream",
     "text": [
      "Model: \"sequential_14\"\n",
      "_________________________________________________________________\n",
      " Layer (type)                Output Shape              Param #   \n",
      "=================================================================\n",
      " my_dense_4 (MyDense)        (None, 64)                1472      \n",
      "                                                                 \n",
      " my_dense_5 (MyDense)        (None, 32)                2048      \n",
      "                                                                 \n",
      " dropout_12 (Dropout)        (None, 32)                0         \n",
      "                                                                 \n",
      " my_dense_6 (MyDense)        (None, 16)                512       \n",
      "                                                                 \n",
      " my_dense_7 (MyDense)        (None, 1)                 16        \n",
      "                                                                 \n",
      "=================================================================\n",
      "Total params: 4,048\n",
      "Trainable params: 4,048\n",
      "Non-trainable params: 0\n",
      "_________________________________________________________________\n"
     ]
    }
   ],
   "source": [
    "sequential_model = build_model3()\n",
    "\n",
    "sequential_model.summary()"
   ]
  },
  {
   "cell_type": "markdown",
   "metadata": {},
   "source": [
    "checking model layers"
   ]
  },
  {
   "cell_type": "code",
   "execution_count": 279,
   "metadata": {},
   "outputs": [
    {
     "data": {
      "text/plain": [
       "[<__main__.MyDense at 0x1e0a02a1d60>,\n",
       " <__main__.MyDense at 0x1e0a02a1580>,\n",
       " <keras.layers.regularization.dropout.Dropout at 0x1e0a02a1340>,\n",
       " <__main__.MyDense at 0x1e0a02a1fa0>,\n",
       " <__main__.MyDense at 0x1e0a02a1f40>]"
      ]
     },
     "execution_count": 279,
     "metadata": {},
     "output_type": "execute_result"
    }
   ],
   "source": [
    "sequential_model.layers"
   ]
  },
  {
   "cell_type": "markdown",
   "metadata": {},
   "source": [
    "## 9. Training the Model with early stopping"
   ]
  },
  {
   "cell_type": "code",
   "execution_count": 280,
   "metadata": {},
   "outputs": [
    {
     "name": "stdout",
     "output_type": "stream",
     "text": [
      "Epoch 1/1000\n",
      "1079/1079 [==============================] - 3s 2ms/step - loss: 15599796.0000 - mae: 2464.0417 - mse: 15599796.0000 - val_loss: 2476360.2500 - val_mae: 1026.9360 - val_mse: 2476360.2500\n",
      "Epoch 2/1000\n",
      "1079/1079 [==============================] - 2s 2ms/step - loss: 2295596.7500 - mae: 992.7560 - mse: 2295596.7500 - val_loss: 1741953.5000 - val_mae: 767.7241 - val_mse: 1741953.5000\n",
      "Epoch 3/1000\n",
      "1079/1079 [==============================] - 2s 2ms/step - loss: 1870648.8750 - mae: 835.6373 - mse: 1870648.8750 - val_loss: 1412766.6250 - val_mae: 651.4805 - val_mse: 1412766.6250\n",
      "Epoch 4/1000\n",
      "1079/1079 [==============================] - 2s 2ms/step - loss: 1634898.7500 - mae: 774.7468 - mse: 1634898.7500 - val_loss: 1096064.6250 - val_mae: 612.2676 - val_mse: 1096064.6250\n",
      "Epoch 5/1000\n",
      "1079/1079 [==============================] - 2s 2ms/step - loss: 1502944.3750 - mae: 750.7233 - mse: 1502944.3750 - val_loss: 940934.0625 - val_mae: 584.6680 - val_mse: 940934.0625\n",
      "Epoch 6/1000\n",
      "1079/1079 [==============================] - 2s 2ms/step - loss: 1394854.5000 - mae: 728.7707 - mse: 1394854.5000 - val_loss: 882820.8750 - val_mae: 570.7264 - val_mse: 882820.8750\n",
      "Epoch 7/1000\n",
      "1079/1079 [==============================] - 2s 2ms/step - loss: 1355845.8750 - mae: 706.6408 - mse: 1355845.8750 - val_loss: 844185.6875 - val_mae: 546.3250 - val_mse: 844185.6875\n",
      "Epoch 8/1000\n",
      "1079/1079 [==============================] - 2s 2ms/step - loss: 1291935.7500 - mae: 684.4105 - mse: 1291935.7500 - val_loss: 753882.5000 - val_mae: 524.8212 - val_mse: 753882.5000\n",
      "Epoch 9/1000\n",
      "1079/1079 [==============================] - 2s 2ms/step - loss: 1222041.5000 - mae: 656.1143 - mse: 1222041.5000 - val_loss: 689503.1250 - val_mae: 496.6983 - val_mse: 689503.1250\n",
      "Epoch 10/1000\n",
      "1079/1079 [==============================] - 2s 2ms/step - loss: 1189357.3750 - mae: 627.4233 - mse: 1189357.3750 - val_loss: 640629.5625 - val_mae: 460.1968 - val_mse: 640629.5625\n",
      "Epoch 11/1000\n",
      "1079/1079 [==============================] - 2s 2ms/step - loss: 1167199.5000 - mae: 611.8939 - mse: 1167199.5000 - val_loss: 609060.6250 - val_mae: 442.6056 - val_mse: 609060.6250\n",
      "Epoch 12/1000\n",
      "1079/1079 [==============================] - 2s 2ms/step - loss: 1128185.7500 - mae: 595.2740 - mse: 1128185.7500 - val_loss: 620808.8125 - val_mae: 440.1245 - val_mse: 620808.8125\n",
      "Epoch 13/1000\n",
      "1079/1079 [==============================] - 2s 2ms/step - loss: 1066703.5000 - mae: 575.6588 - mse: 1066703.5000 - val_loss: 553593.1875 - val_mae: 417.0053 - val_mse: 553593.1875\n",
      "Epoch 14/1000\n",
      "1079/1079 [==============================] - 2s 2ms/step - loss: 1040456.7500 - mae: 562.6917 - mse: 1040456.7500 - val_loss: 507028.2500 - val_mae: 398.6884 - val_mse: 507028.2500\n",
      "Epoch 15/1000\n",
      "1079/1079 [==============================] - 3s 2ms/step - loss: 1006193.4375 - mae: 549.2411 - mse: 1006193.4375 - val_loss: 499883.0312 - val_mae: 389.5288 - val_mse: 499883.0312\n",
      "Epoch 16/1000\n",
      "1079/1079 [==============================] - 2s 2ms/step - loss: 984114.6875 - mae: 541.8740 - mse: 984114.6875 - val_loss: 469282.9375 - val_mae: 378.9095 - val_mse: 469282.9375\n",
      "Epoch 17/1000\n",
      "1079/1079 [==============================] - 2s 2ms/step - loss: 967998.6250 - mae: 533.2429 - mse: 967998.6250 - val_loss: 499422.5312 - val_mae: 376.9137 - val_mse: 499422.5312\n",
      "Epoch 18/1000\n",
      "1079/1079 [==============================] - 2s 2ms/step - loss: 949933.6875 - mae: 528.9293 - mse: 949933.6875 - val_loss: 455271.1562 - val_mae: 373.2715 - val_mse: 455271.1562\n",
      "Epoch 19/1000\n",
      "1079/1079 [==============================] - 2s 2ms/step - loss: 909754.9375 - mae: 521.3757 - mse: 909754.9375 - val_loss: 451348.6875 - val_mae: 366.7210 - val_mse: 451348.6875\n",
      "Epoch 20/1000\n",
      "1079/1079 [==============================] - 2s 2ms/step - loss: 916152.9375 - mae: 521.2998 - mse: 916152.9375 - val_loss: 450682.3750 - val_mae: 368.2709 - val_mse: 450682.3750\n",
      "Epoch 21/1000\n",
      "1079/1079 [==============================] - 2s 2ms/step - loss: 918764.0625 - mae: 521.2866 - mse: 918764.0625 - val_loss: 478900.7188 - val_mae: 381.7711 - val_mse: 478900.7188\n",
      "Epoch 22/1000\n",
      "1079/1079 [==============================] - 2s 2ms/step - loss: 911849.5000 - mae: 517.6700 - mse: 911849.5000 - val_loss: 432350.9375 - val_mae: 361.4703 - val_mse: 432350.9375\n",
      "Epoch 23/1000\n",
      "1079/1079 [==============================] - 2s 2ms/step - loss: 909052.7500 - mae: 517.4440 - mse: 909052.7500 - val_loss: 448692.2500 - val_mae: 355.9156 - val_mse: 448692.2500\n",
      "Epoch 24/1000\n",
      "1079/1079 [==============================] - 2s 2ms/step - loss: 905568.8750 - mae: 516.0361 - mse: 905568.8750 - val_loss: 442046.5312 - val_mae: 367.0375 - val_mse: 442046.5312\n",
      "Epoch 25/1000\n",
      "1079/1079 [==============================] - 2s 2ms/step - loss: 853369.8125 - mae: 506.7573 - mse: 853369.8125 - val_loss: 436918.5625 - val_mae: 364.0303 - val_mse: 436918.5625\n",
      "Epoch 26/1000\n",
      "1079/1079 [==============================] - 2s 2ms/step - loss: 860114.0625 - mae: 501.9754 - mse: 860114.0625 - val_loss: 445902.0312 - val_mae: 365.4252 - val_mse: 445902.0312\n",
      "Epoch 27/1000\n",
      "1079/1079 [==============================] - 2s 2ms/step - loss: 858675.2500 - mae: 505.2001 - mse: 858675.2500 - val_loss: 458109.4688 - val_mae: 370.4543 - val_mse: 458109.4688\n",
      "Epoch 28/1000\n",
      "1079/1079 [==============================] - 2s 2ms/step - loss: 855469.8125 - mae: 502.1135 - mse: 855469.8125 - val_loss: 449130.0312 - val_mae: 367.2245 - val_mse: 449130.0312\n",
      "Epoch 29/1000\n",
      "1079/1079 [==============================] - 2s 2ms/step - loss: 831119.8125 - mae: 497.4685 - mse: 831119.8125 - val_loss: 524644.5625 - val_mae: 390.0694 - val_mse: 524644.5625\n",
      "Epoch 30/1000\n",
      "1079/1079 [==============================] - 2s 2ms/step - loss: 848417.8750 - mae: 499.8169 - mse: 848417.8750 - val_loss: 404598.0312 - val_mae: 344.9505 - val_mse: 404598.0312\n",
      "Epoch 31/1000\n",
      "1079/1079 [==============================] - 2s 2ms/step - loss: 839107.2500 - mae: 497.3920 - mse: 839107.2500 - val_loss: 416329.4375 - val_mae: 355.9768 - val_mse: 416329.4375\n",
      "Epoch 32/1000\n",
      "1079/1079 [==============================] - 2s 2ms/step - loss: 835468.2500 - mae: 498.0735 - mse: 835468.2500 - val_loss: 407445.5312 - val_mae: 354.7023 - val_mse: 407445.5312\n",
      "Epoch 33/1000\n",
      "1079/1079 [==============================] - 3s 2ms/step - loss: 824345.2500 - mae: 493.8235 - mse: 824345.2500 - val_loss: 408858.0000 - val_mae: 348.9090 - val_mse: 408858.0000\n",
      "Epoch 34/1000\n",
      "1079/1079 [==============================] - 2s 2ms/step - loss: 824122.4375 - mae: 490.4342 - mse: 824122.4375 - val_loss: 449019.5625 - val_mae: 357.9854 - val_mse: 449019.5625\n",
      "Epoch 35/1000\n",
      "1079/1079 [==============================] - 2s 2ms/step - loss: 833068.1250 - mae: 497.0982 - mse: 833068.1250 - val_loss: 434037.9375 - val_mae: 354.3890 - val_mse: 434037.9375\n",
      "Epoch 36/1000\n",
      "1079/1079 [==============================] - 2s 2ms/step - loss: 807042.8750 - mae: 493.8775 - mse: 807042.8750 - val_loss: 470254.8750 - val_mae: 363.0285 - val_mse: 470254.8750\n",
      "Epoch 37/1000\n",
      "1079/1079 [==============================] - 2s 2ms/step - loss: 826880.7500 - mae: 496.6881 - mse: 826880.7500 - val_loss: 395451.1875 - val_mae: 352.3464 - val_mse: 395451.1875\n",
      "Epoch 38/1000\n",
      "1079/1079 [==============================] - 2s 2ms/step - loss: 804589.9375 - mae: 489.7840 - mse: 804589.9375 - val_loss: 422028.3125 - val_mae: 343.3176 - val_mse: 422028.3125\n",
      "Epoch 39/1000\n",
      "1079/1079 [==============================] - 2s 2ms/step - loss: 792211.5000 - mae: 488.8878 - mse: 792211.5000 - val_loss: 449607.4062 - val_mae: 343.2923 - val_mse: 449607.4062\n",
      "Epoch 40/1000\n",
      "1079/1079 [==============================] - 2s 2ms/step - loss: 788293.7500 - mae: 487.2770 - mse: 788293.7500 - val_loss: 389582.7500 - val_mae: 348.5302 - val_mse: 389582.7500\n",
      "Epoch 41/1000\n",
      "1079/1079 [==============================] - 2s 2ms/step - loss: 796576.8125 - mae: 488.6271 - mse: 796576.8125 - val_loss: 396389.2188 - val_mae: 345.7949 - val_mse: 396389.2188\n",
      "Epoch 42/1000\n",
      "1079/1079 [==============================] - 2s 2ms/step - loss: 785533.6250 - mae: 486.2974 - mse: 785533.6250 - val_loss: 403572.4062 - val_mae: 362.8452 - val_mse: 403572.4062\n",
      "Epoch 43/1000\n",
      "1079/1079 [==============================] - 2s 2ms/step - loss: 779870.5625 - mae: 487.5826 - mse: 779870.5625 - val_loss: 388530.6875 - val_mae: 333.1247 - val_mse: 388530.6875\n",
      "Epoch 44/1000\n",
      "1079/1079 [==============================] - 2s 2ms/step - loss: 787278.4375 - mae: 488.6298 - mse: 787278.4375 - val_loss: 409382.3438 - val_mae: 341.2685 - val_mse: 409382.3438\n",
      "Epoch 45/1000\n",
      "1079/1079 [==============================] - 2s 2ms/step - loss: 770654.8750 - mae: 480.0184 - mse: 770654.8750 - val_loss: 394282.0625 - val_mae: 336.9369 - val_mse: 394282.0625\n",
      "Epoch 46/1000\n",
      "1079/1079 [==============================] - 2s 2ms/step - loss: 748207.9375 - mae: 479.4349 - mse: 748207.9375 - val_loss: 392431.5312 - val_mae: 342.0413 - val_mse: 392431.5312\n",
      "Epoch 47/1000\n",
      "1079/1079 [==============================] - 2s 2ms/step - loss: 772910.6250 - mae: 481.1560 - mse: 772910.6250 - val_loss: 379548.8438 - val_mae: 337.0706 - val_mse: 379548.8438\n",
      "Epoch 48/1000\n",
      "1079/1079 [==============================] - 2s 2ms/step - loss: 783196.5625 - mae: 486.6563 - mse: 783196.5625 - val_loss: 391458.3438 - val_mae: 342.4303 - val_mse: 391458.3438\n",
      "Epoch 49/1000\n",
      "1079/1079 [==============================] - 3s 2ms/step - loss: 753277.4375 - mae: 477.0029 - mse: 753277.4375 - val_loss: 403498.9375 - val_mae: 343.0491 - val_mse: 403498.9375\n",
      "Epoch 50/1000\n",
      "1079/1079 [==============================] - 2s 2ms/step - loss: 752909.3125 - mae: 480.6161 - mse: 752909.3125 - val_loss: 406169.2500 - val_mae: 361.5593 - val_mse: 406169.2500\n",
      "Epoch 51/1000\n",
      "1079/1079 [==============================] - 2s 2ms/step - loss: 730471.2500 - mae: 473.4452 - mse: 730471.2500 - val_loss: 406219.1562 - val_mae: 349.1566 - val_mse: 406219.1562\n",
      "Epoch 52/1000\n",
      "1079/1079 [==============================] - 2s 2ms/step - loss: 746858.1250 - mae: 481.2646 - mse: 746858.1250 - val_loss: 383670.1250 - val_mae: 335.5814 - val_mse: 383670.1250\n",
      "Epoch 53/1000\n",
      "1079/1079 [==============================] - 2s 2ms/step - loss: 743582.9375 - mae: 480.1153 - mse: 743582.9375 - val_loss: 400486.3438 - val_mae: 330.2708 - val_mse: 400486.3438\n",
      "Epoch 54/1000\n",
      "1079/1079 [==============================] - 2s 2ms/step - loss: 733761.4375 - mae: 474.7049 - mse: 733761.4375 - val_loss: 382753.3438 - val_mae: 335.5302 - val_mse: 382753.3438\n",
      "Epoch 55/1000\n",
      "1079/1079 [==============================] - 2s 2ms/step - loss: 727190.1250 - mae: 473.3964 - mse: 727190.1250 - val_loss: 402840.8125 - val_mae: 335.8274 - val_mse: 402840.8125\n",
      "Epoch 56/1000\n",
      "1079/1079 [==============================] - 2s 2ms/step - loss: 761029.6875 - mae: 478.8810 - mse: 761029.6875 - val_loss: 483725.2188 - val_mae: 337.8860 - val_mse: 483725.2188\n",
      "Epoch 57/1000\n",
      "1079/1079 [==============================] - 2s 2ms/step - loss: 759255.1875 - mae: 479.3373 - mse: 759255.1875 - val_loss: 412635.8125 - val_mae: 351.8974 - val_mse: 412635.8125\n"
     ]
    }
   ],
   "source": [
    "n_epochs = 1000\n",
    "\n",
    "# Use EarlyStopping to prevent overfitting\n",
    "early_stopping = tf.keras.callbacks.EarlyStopping(monitor='val_loss', patience=10, restore_best_weights=True)\n",
    "\n",
    "# Train the model\n",
    "training_hist_seq = sequential_model.fit(\n",
    "    x_train, y_train,\n",
    "    epochs=n_epochs,\n",
    "    validation_split=0.2,\n",
    "    verbose=1,  # Show progress bar instead of 'tfdocs.modeling.EpochDots()'\n",
    "    callbacks=[early_stopping]  # Replace EpochDots with EarlyStopping\n",
    ")"
   ]
  },
  {
   "cell_type": "markdown",
   "metadata": {},
   "source": [
    "## 10. Making Predictions and Visualization"
   ]
  },
  {
   "cell_type": "code",
   "execution_count": 294,
   "metadata": {},
   "outputs": [
    {
     "name": "stdout",
     "output_type": "stream",
     "text": [
      "Base Model - Mean Absolute Error: 328.19500732421875\n",
      "Base Model - Mean Squared Error: 390556.28125\n"
     ]
    }
   ],
   "source": [
    "sequential_loss, sequential_mae, sequential_mse = sequential_model.evaluate(x_test, y_test, verbose=0)\n",
    "print(f\"Base Model - Mean Absolute Error: {sequential_mae}\")\n",
    "print(f\"Base Model - Mean Squared Error: {sequential_mse}\")"
   ]
  },
  {
   "cell_type": "code",
   "execution_count": 282,
   "metadata": {},
   "outputs": [
    {
     "name": "stdout",
     "output_type": "stream",
     "text": [
      "337/337 [==============================] - 0s 998us/step\n"
     ]
    },
    {
     "data": {
      "image/png": "[encoded data removed]",
      "text/plain": [
       "<Figure size 1200x800 with 1 Axes>"
      ]
     },
     "metadata": {},
     "output_type": "display_data"
    }
   ],
   "source": [
    "y_pred = sequential_model.predict(x_test).flatten()\n",
    "\n",
    "plt.figure(figsize=(12, 8))\n",
    "\n",
    "plt.scatter(y_test, y_pred, s=200, c='darkblue')\n",
    "\n",
    "plt.xlabel('Actual charges values')\n",
    "plt.ylabel('Predicted charges values')\n",
    "plt.show()"
   ]
  },
  {
   "cell_type": "code",
   "execution_count": 283,
   "metadata": {},
   "outputs": [
    {
     "data": {
      "text/plain": [
       "0.973996102809906"
      ]
     },
     "execution_count": 283,
     "metadata": {},
     "output_type": "execute_result"
    }
   ],
   "source": [
    "r2_score(y_test, y_pred)"
   ]
  },
  {
   "cell_type": "markdown",
   "metadata": {},
   "source": [
    "# 11. Creating a Custom Regression Model"
   ]
  },
  {
   "cell_type": "code",
   "execution_count": 284,
   "metadata": {},
   "outputs": [],
   "source": [
    "class CustomRegressionModel(tf.keras.Model):\n",
    "\n",
    "    def __init__(self, input_shape, layer_units=[8, 4], \\\n",
    "                 activation='relu'):\n",
    "\n",
    "        super(CustomRegressionModel, self).__init__()\n",
    "\n",
    "        assert len(layer_units) > 0\n",
    "\n",
    "        self.input_layer = MyDense(layer_units[0],\n",
    "                                   activation=activation,\n",
    "                                   input_shape=[input_shape])\n",
    "\n",
    "        self.hidden_layers = []\n",
    "\n",
    "        for i in range(1, len(layer_units)):\n",
    "            self.hidden_layers.append(MyDense(layer_units[i],\n",
    "                                              activation=activation))\n",
    "\n",
    "        self.output_layer = MyDense(1)\n",
    "\n",
    "    def call(self, input_tensor):\n",
    "\n",
    "        x = self.input_layer(input_tensor)\n",
    "\n",
    "        for layer in self.hidden_layers:\n",
    "            x = layer(x)\n",
    "\n",
    "        result = self.output_layer(x)\n",
    "\n",
    "        return result"
   ]
  },
  {
   "cell_type": "markdown",
   "metadata": {},
   "source": [
    "#### Initializing and Checking the Custom Model"
   ]
  },
  {
   "cell_type": "code",
   "execution_count": 286,
   "metadata": {},
   "outputs": [
    {
     "data": {
      "text/plain": [
       "<tf.Tensor: shape=(5, 1), dtype=float32, numpy=\n",
       "array([[0.],\n",
       "       [0.],\n",
       "       [0.],\n",
       "       [0.],\n",
       "       [0.]], dtype=float32)>"
      ]
     },
     "execution_count": 286,
     "metadata": {},
     "output_type": "execute_result"
    }
   ],
   "source": [
    "custom_model = CustomRegressionModel(x_train.shape[1], [64, 32, 16], 'elu')\n",
    "\n",
    "custom_model(tf.zeros([5, x_train.shape[1]]))"
   ]
  },
  {
   "cell_type": "code",
   "execution_count": 287,
   "metadata": {},
   "outputs": [
    {
     "data": {
      "text/plain": [
       "[<__main__.MyDense at 0x1e0a0441ee0>,\n",
       " <__main__.MyDense at 0x1e0a0441970>,\n",
       " <__main__.MyDense at 0x1e09b018e50>,\n",
       " <__main__.MyDense at 0x1e0a046a580>]"
      ]
     },
     "execution_count": 287,
     "metadata": {},
     "output_type": "execute_result"
    }
   ],
   "source": [
    "custom_model.layers"
   ]
  },
  {
   "cell_type": "code",
   "execution_count": 288,
   "metadata": {},
   "outputs": [
    {
     "name": "stdout",
     "output_type": "stream",
     "text": [
      "Model: \"custom_regression_model\"\n",
      "_________________________________________________________________\n",
      " Layer (type)                Output Shape              Param #   \n",
      "=================================================================\n",
      " my_dense_8 (MyDense)        multiple                  1472      \n",
      "                                                                 \n",
      " my_dense_9 (MyDense)        multiple                  2048      \n",
      "                                                                 \n",
      " my_dense_10 (MyDense)       multiple                  512       \n",
      "                                                                 \n",
      " my_dense_11 (MyDense)       multiple                  16        \n",
      "                                                                 \n",
      "=================================================================\n",
      "Total params: 4,048\n",
      "Trainable params: 4,048\n",
      "Non-trainable params: 0\n",
      "_________________________________________________________________\n"
     ]
    }
   ],
   "source": [
    "custom_model.summary()"
   ]
  },
  {
   "cell_type": "code",
   "execution_count": 289,
   "metadata": {},
   "outputs": [],
   "source": [
    "optimizer = tf.keras.optimizers.RMSprop(0.001)\n",
    "\n",
    "custom_model.compile(loss='mse',\n",
    "                     optimizer=tf.keras.optimizers.RMSprop(0.001),\n",
    "                     metrics=['mse'])"
   ]
  },
  {
   "cell_type": "markdown",
   "metadata": {},
   "source": [
    "## 12. Training & Visualizing"
   ]
  },
  {
   "cell_type": "code",
   "execution_count": 291,
   "metadata": {},
   "outputs": [
    {
     "name": "stdout",
     "output_type": "stream",
     "text": [
      "\n",
      "Epoch: 0, loss:331822.6562,  mse:331822.6562,  val_loss:768594.6250,  val_mse:768594.6250,  \n",
      "....................................................................................................\n",
      "Epoch: 100, loss:299501.5625,  mse:299501.5625,  val_loss:2939284.0000,  val_mse:2939284.0000,  \n",
      ".................................................."
     ]
    }
   ],
   "source": [
    "import tensorflow_docs as tfdocs\n",
    "import tensorflow_docs.modeling\n",
    "\n",
    "n_epochs = 150\n",
    "\n",
    "X_train_numeric = np.array(x_train, dtype=np.float32)\n",
    "y_train_numeric = np.array(y_train, dtype=np.float32)\n",
    "\n",
    "training_hist = custom_model.fit(X_train_numeric,\n",
    "                                 y_train_numeric,\n",
    "                                 epochs=n_epochs,\n",
    "                                 validation_split=0.2,\n",
    "                                 verbose=False,\n",
    "                                 callbacks=[tfdocs.modeling.EpochDots()])\n"
   ]
  },
  {
   "cell_type": "markdown",
   "metadata": {},
   "source": [
    "#### Visualizing training history"
   ]
  },
  {
   "cell_type": "code",
   "execution_count": 296,
   "metadata": {},
   "outputs": [
    {
     "data": {
      "image/png": "[encoded data removed]",
      "text/plain": [
       "<Figure size 1200x800 with 1 Axes>"
      ]
     },
     "metadata": {},
     "output_type": "display_data"
    }
   ],
   "source": [
    "import tensorflow_docs as tfdocs\n",
    "import tensorflow_docs.plots\n",
    "\n",
    "plotter = tfdocs.plots.HistoryPlotter(smoothing_std=2)\n",
    "\n",
    "plt.figure(figsize=(12, 8))\n",
    "plotter.plot({'Basic': training_hist}, metric=\"mse\")\n",
    "plt.ylabel('MSE[Charges^2]')\n",
    "plt.show()"
   ]
  },
  {
   "cell_type": "markdown",
   "metadata": {},
   "source": [
    "#### Preparing `x_test` for Predictions"
   ]
  },
  {
   "cell_type": "code",
   "execution_count": 297,
   "metadata": {},
   "outputs": [],
   "source": [
    "import pandas as pd\n",
    "import numpy as np\n",
    "import matplotlib.pyplot as plt\n",
    "\n",
    "# Step 1: Check if x_test is still a Pandas DataFrame before converting\n",
    "if isinstance(x_test, pd.DataFrame):  \n",
    "    print(x_test.dtypes)\n",
    "\n",
    "    # Step 2: Convert object columns to numeric if necessary\n",
    "    x_test = x_test.apply(pd.to_numeric, errors='coerce')  # Convert to numeric, replace invalid data with NaN\n",
    "\n",
    "    # Step 3: Handle missing values if any\n",
    "    print(x_test.isna().sum())  # Check for missing values\n",
    "    x_test.fillna(0, inplace=True)  # Fill NaNs with 0 (or another strategy)\n",
    "\n",
    "# Step 4: Ensure the data is in the correct format\n",
    "x_test = np.array(x_test, dtype=np.float32)  # Convert to NumPy array only once\n"
   ]
  },
  {
   "cell_type": "markdown",
   "metadata": {},
   "source": [
    "Making Predictions with the custom model"
   ]
  },
  {
   "cell_type": "code",
   "execution_count": 298,
   "metadata": {},
   "outputs": [
    {
     "name": "stdout",
     "output_type": "stream",
     "text": [
      "337/337 [==============================] - 1s 1ms/step\n"
     ]
    }
   ],
   "source": [
    "y_pred = custom_model.predict(x_test).flatten()"
   ]
  },
  {
   "cell_type": "markdown",
   "metadata": {},
   "source": [
    "#### Visualizing predictions"
   ]
  },
  {
   "cell_type": "code",
   "execution_count": 299,
   "metadata": {},
   "outputs": [
    {
     "data": {
      "image/png": "[encoded data removed]",
      "text/plain": [
       "<Figure size 1200x800 with 1 Axes>"
      ]
     },
     "metadata": {},
     "output_type": "display_data"
    }
   ],
   "source": [
    "plt.figure(figsize=(12, 8))\n",
    "plt.scatter(y_test, y_pred, s=200, c='darkblue')\n",
    "plt.xlabel('Actual charges values')\n",
    "plt.ylabel('Predicted charges values')\n",
    "plt.show()\n"
   ]
  },
  {
   "cell_type": "markdown",
   "metadata": {},
   "source": [
    "### Evaluating Model Performance with R² Score"
   ]
  },
  {
   "cell_type": "code",
   "execution_count": 300,
   "metadata": {},
   "outputs": [
    {
     "data": {
      "text/plain": [
       "0.9430447816848755"
      ]
     },
     "execution_count": 300,
     "metadata": {},
     "output_type": "execute_result"
    }
   ],
   "source": [
    "from sklearn.metrics import r2_score\n",
    "r2_score(y_test, y_pred)"
   ]
  },
  {
   "cell_type": "code",
   "execution_count": null,
   "metadata": {},
   "outputs": [],
   "source": [
    "custom_model.save_weights('my_models/custom_model.weights.h5')"
   ]
  },
  {
   "cell_type": "markdown",
   "metadata": {},
   "source": [
    "# 13. Loading the Model Weights into a New Model"
   ]
  },
  {
   "cell_type": "code",
   "execution_count": 303,
   "metadata": {},
   "outputs": [],
   "source": [
    "new_model = CustomRegressionModel(x_train.shape[1], [64, 32, 16], 'elu')\n",
    "\n",
    "# Initialize the model by calling it with dummy input\n",
    "new_model(tf.zeros([5, x_train.shape[1]]))\n",
    "\n",
    "optimizer = tf.keras.optimizers.RMSprop(0.001)\n",
    "\n",
    "new_model.compile(loss='mse',\n",
    "                  optimizer=tf.keras.optimizers.RMSprop(0.001),\n",
    "                  metrics=['mse'])\n",
    "\n",
    "new_model.load_weights('my_models/custom_model.weights.h5')\n"
   ]
  },
  {
   "cell_type": "markdown",
   "metadata": {},
   "source": [
    "#### Predictions & R2 score"
   ]
  },
  {
   "cell_type": "code",
   "execution_count": 305,
   "metadata": {},
   "outputs": [
    {
     "name": "stdout",
     "output_type": "stream",
     "text": [
      "337/337 [==============================] - 1s 2ms/step\n"
     ]
    },
    {
     "data": {
      "text/plain": [
       "0.9430447816848755"
      ]
     },
     "execution_count": 305,
     "metadata": {},
     "output_type": "execute_result"
    }
   ],
   "source": [
    "y_pred_new = new_model.predict(x_test) \n",
    "r2_score(y_test, y_pred_new)"
   ]
  }
 ],
 "metadata": {
  "kernelspec": {
   "display_name": "tensorflow_env",
   "language": "python",
   "name": "python3"
  },
  "language_info": {
   "codemirror_mode": {
    "name": "ipython",
    "version": 3
   },
   "file_extension": ".py",
   "mimetype": "text/x-python",
   "name": "python",
   "nbconvert_exporter": "python",
   "pygments_lexer": "ipython3",
   "version": "3.9.15"
  }
 },
 "nbformat": 4,
 "nbformat_minor": 2
}
