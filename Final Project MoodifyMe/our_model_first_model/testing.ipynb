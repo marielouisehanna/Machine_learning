{
 "cells": [
  {
   "cell_type": "code",
   "execution_count": null,
   "id": "13504b4b",
   "metadata": {},
   "outputs": [
    {
     "name": "stderr",
     "output_type": "stream",
     "text": [
      "WARNING:absl:Compiled the loaded model, but the compiled metrics have yet to be built. `model.compile_metrics` will be empty until you train or evaluate the model.\n"
     ]
    },
    {
     "name": "stdout",
     "output_type": "stream",
     "text": [
      "\u001b[1m1/1\u001b[0m \u001b[32m━━━━━━━━━━━━━━━━━━━━\u001b[0m\u001b[37m\u001b[0m \u001b[1m4s\u001b[0m 4s/step\n",
      "\n",
      "Sentence: i am sad cause i failed my exam.\n",
      "Top 3 predicted emotions:\n",
      "  sadness: 30.8700008392334%\n",
      "  remorse: 14.640000343322754%\n",
      "  surprise: 13.569999694824219%\n",
      "\n",
      "Sentence: I am so happy today!\n",
      "Top 3 predicted emotions:\n",
      "  joy: 58.310001373291016%\n",
      "  excitement: 16.6200008392334%\n",
      "  admiration: 15.770000457763672%\n",
      "\n",
      "Sentence: i learned so much at university today.\n",
      "Top 3 predicted emotions:\n",
      "  approval: 22.389999389648438%\n",
      "  disappointment: 6.809999942779541%\n",
      "  realization: 5.130000114440918%\n",
      "\n",
      "Sentence: I am so proud of my friend for graduating.\n",
      "Top 3 predicted emotions:\n",
      "  admiration: 44.43000030517578%\n",
      "  joy: 19.829999923706055%\n",
      "  approval: 10.859999656677246%\n",
      "\n",
      "Sentence: I am feeling anxious about the future.\n",
      "Top 3 predicted emotions:\n",
      "  sadness: 15.59000015258789%\n",
      "  disappointment: 15.449999809265137%\n",
      "  approval: 13.710000038146973%\n"
     ]
    }
   ],
   "source": [
    "import pickle\n",
    "import numpy as np\n",
    "from tf_keras.models import load_model\n",
    "from tf_keras.preprocessing.sequence import pad_sequences\n",
    "\n",
    "# Load tokenizer\n",
    "with open('tokenizer.pickle', 'rb') as handle:\n",
    "    tokenizer = pickle.load(handle)\n",
    "\n",
    "# Load modeling\n",
    "max_len = 200  # must matc\n",
    "model = load_model('emotion_classification_model.h5')\n",
    "\n",
    "# Define max_len from trainh training setting\n",
    "\n",
    "# Define the emotion column names manually or load from file\n",
    "emotion_columns = [\n",
    "    'admiration', 'amusement', 'anger', 'annoyance', 'approval', 'caring', \n",
    "    'confusion', 'curiosity', 'desire', 'disappointment', 'disapproval', \n",
    "    'disgust', 'embarrassment', 'excitement', 'fear', 'gratitude', \n",
    "    'grief', 'joy', 'love', 'nervousness', 'optimism', 'pride', \n",
    "    'realization', 'relief', 'remorse', 'sadness', 'surprise'\n",
    "] \n",
    "\n",
    "# Your input sentences\n",
    "sentences = [\n",
    "    \"i am sad cause i failed my exam.\",\n",
    "    \"I am so happy today!\",\n",
    "    \"i learned so much at university today.\",\n",
    "    \"I am so proud of my friend for graduating.\",\n",
    "    \"I am feeling anxious about the future.\"\n",
    "]\n",
    "\n",
    "# Preprocess\n",
    "sequences = tokenizer.texts_to_sequences(sentences)\n",
    "padded_sequences = pad_sequences(sequences, maxlen=max_len, padding='post', truncating='post')\n",
    "\n",
    "\n",
    "# Predict\n",
    "predictions = model.predict(padded_sequences)\n",
    "\n",
    "# Display results\n",
    "for i, sentence in enumerate(sentences):\n",
    "    print(f\"\\nSentence: {sentence}\")\n",
    "    print(\"Top 3 predicted emotions:\")\n",
    "\n",
    "    # Get emotion scores as percentages\n",
    "    emotion_scores = {emotion: round(predictions[i][j] * 100, 2) for j, emotion in enumerate(emotion_columns)}\n",
    "\n",
    "    # Sort and get top 3\n",
    "    top_3 = sorted(emotion_scores.items(), key=lambda x: x[1], reverse=True)[:3]\n",
    "\n",
    "    for emotion, score in top_3:\n",
    "        print(f\"  {emotion}: {score}%\")\n"
   ]
  }
 ],
 "metadata": {
  "kernelspec": {
   "display_name": "Python (textenv)",
   "language": "python",
   "name": "textenv"
  },
  "language_info": {
   "codemirror_mode": {
    "name": "ipython",
    "version": 3
   },
   "file_extension": ".py",
   "mimetype": "text/x-python",
   "name": "python",
   "nbconvert_exporter": "python",
   "pygments_lexer": "ipython3",
   "version": "3.10.16"
  }
 },
 "nbformat": 4,
 "nbformat_minor": 5
}
