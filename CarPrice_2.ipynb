{
 "cells": [
  {
   "cell_type": "markdown",
   "metadata": {},
   "source": [
    "# Car Price Prediction Analysis"
   ]
  },
  {
   "cell_type": "markdown",
   "metadata": {},
   "source": [
    "## 1. Importing Necessary Libraries"
   ]
  },
  {
   "cell_type": "code",
   "execution_count": 38,
   "metadata": {},
   "outputs": [],
   "source": [
    "\n",
    "import pandas as pd\n",
    "import numpy as np\n",
    "import pprint\n",
    "import json\n",
    "import matplotlib.pyplot as plt\n",
    "\n",
    "from sklearn.preprocessing import StandardScaler, MinMaxScaler\n",
    "from sklearn.metrics import r2_score\n",
    "from sklearn.model_selection import train_test_split\n",
    "\n",
    "import tensorflow as tf\n",
    "import tensorflow_docs as tfdocs\n",
    "from tensorflow import keras\n",
    "from tensorflow.keras import layers, activations, Sequential, Model\n",
    "from tensorflow.keras.layers import Dense, Dropout, Input\n",
    "from tensorflow.keras.optimizers import Adam, RMSprop\n",
    "from tensorflow.keras.callbacks import EarlyStopping\n"
   ]
  },
  {
   "cell_type": "markdown",
   "metadata": {},
   "source": [
    "## 2. Loading the Datasee\n"
   ]
  },
  {
   "cell_type": "code",
   "execution_count": 39,
   "metadata": {},
   "outputs": [
    {
     "data": {
      "text/html": [
       "<div>\n",
       "<style scoped>\n",
       "    .dataframe tbody tr th:only-of-type {\n",
       "        vertical-align: middle;\n",
       "    }\n",
       "\n",
       "    .dataframe tbody tr th {\n",
       "        vertical-align: top;\n",
       "    }\n",
       "\n",
       "    .dataframe thead th {\n",
       "        text-align: right;\n",
       "    }\n",
       "</style>\n",
       "<table border=\"1\" class=\"dataframe\">\n",
       "  <thead>\n",
       "    <tr style=\"text-align: right;\">\n",
       "      <th></th>\n",
       "      <th>ID</th>\n",
       "      <th>Price</th>\n",
       "      <th>Levy</th>\n",
       "      <th>Manufacturer</th>\n",
       "      <th>Model</th>\n",
       "      <th>Prod. year</th>\n",
       "      <th>Category</th>\n",
       "      <th>Leather interior</th>\n",
       "      <th>Fuel type</th>\n",
       "      <th>Engine volume</th>\n",
       "      <th>Mileage</th>\n",
       "      <th>Cylinders</th>\n",
       "      <th>Gear box type</th>\n",
       "      <th>Drive wheels</th>\n",
       "      <th>Doors</th>\n",
       "      <th>Wheel</th>\n",
       "      <th>Color</th>\n",
       "      <th>Airbags</th>\n",
       "    </tr>\n",
       "  </thead>\n",
       "  <tbody>\n",
       "    <tr>\n",
       "      <th>5580</th>\n",
       "      <td>45667168</td>\n",
       "      <td>12858</td>\n",
       "      <td>1408</td>\n",
       "      <td>FORD</td>\n",
       "      <td>Transit</td>\n",
       "      <td>2007</td>\n",
       "      <td>Microbus</td>\n",
       "      <td>No</td>\n",
       "      <td>Diesel</td>\n",
       "      <td>2.2 Turbo</td>\n",
       "      <td>175000 km</td>\n",
       "      <td>4.0</td>\n",
       "      <td>Manual</td>\n",
       "      <td>Front</td>\n",
       "      <td>04-May</td>\n",
       "      <td>Left wheel</td>\n",
       "      <td>White</td>\n",
       "      <td>2</td>\n",
       "    </tr>\n",
       "    <tr>\n",
       "      <th>2807</th>\n",
       "      <td>45810634</td>\n",
       "      <td>10697</td>\n",
       "      <td>363</td>\n",
       "      <td>CHEVROLET</td>\n",
       "      <td>Spark</td>\n",
       "      <td>2014</td>\n",
       "      <td>Hatchback</td>\n",
       "      <td>Yes</td>\n",
       "      <td>Petrol</td>\n",
       "      <td>1</td>\n",
       "      <td>95100 km</td>\n",
       "      <td>4.0</td>\n",
       "      <td>Automatic</td>\n",
       "      <td>Front</td>\n",
       "      <td>04-May</td>\n",
       "      <td>Left wheel</td>\n",
       "      <td>Grey</td>\n",
       "      <td>4</td>\n",
       "    </tr>\n",
       "    <tr>\n",
       "      <th>13930</th>\n",
       "      <td>45795977</td>\n",
       "      <td>23521</td>\n",
       "      <td>-</td>\n",
       "      <td>JEEP</td>\n",
       "      <td>Compass</td>\n",
       "      <td>2011</td>\n",
       "      <td>Jeep</td>\n",
       "      <td>No</td>\n",
       "      <td>LPG</td>\n",
       "      <td>2.4</td>\n",
       "      <td>104000 km</td>\n",
       "      <td>4.0</td>\n",
       "      <td>Automatic</td>\n",
       "      <td>4x4</td>\n",
       "      <td>04-May</td>\n",
       "      <td>Left wheel</td>\n",
       "      <td>Grey</td>\n",
       "      <td>10</td>\n",
       "    </tr>\n",
       "    <tr>\n",
       "      <th>15548</th>\n",
       "      <td>45732744</td>\n",
       "      <td>10349</td>\n",
       "      <td>639</td>\n",
       "      <td>HYUNDAI</td>\n",
       "      <td>Sonata</td>\n",
       "      <td>2014</td>\n",
       "      <td>Sedan</td>\n",
       "      <td>Yes</td>\n",
       "      <td>LPG</td>\n",
       "      <td>2</td>\n",
       "      <td>406314 km</td>\n",
       "      <td>4.0</td>\n",
       "      <td>Automatic</td>\n",
       "      <td>Front</td>\n",
       "      <td>04-May</td>\n",
       "      <td>Left wheel</td>\n",
       "      <td>White</td>\n",
       "      <td>4</td>\n",
       "    </tr>\n",
       "    <tr>\n",
       "      <th>13384</th>\n",
       "      <td>45797532</td>\n",
       "      <td>7840</td>\n",
       "      <td>-</td>\n",
       "      <td>OPEL</td>\n",
       "      <td>Vectra</td>\n",
       "      <td>2000</td>\n",
       "      <td>Universal</td>\n",
       "      <td>No</td>\n",
       "      <td>Petrol</td>\n",
       "      <td>1.8</td>\n",
       "      <td>217500 km</td>\n",
       "      <td>4.0</td>\n",
       "      <td>Manual</td>\n",
       "      <td>Front</td>\n",
       "      <td>04-May</td>\n",
       "      <td>Left wheel</td>\n",
       "      <td>Silver</td>\n",
       "      <td>4</td>\n",
       "    </tr>\n",
       "    <tr>\n",
       "      <th>6704</th>\n",
       "      <td>45792577</td>\n",
       "      <td>4077</td>\n",
       "      <td>-</td>\n",
       "      <td>OPEL</td>\n",
       "      <td>Vectra</td>\n",
       "      <td>1997</td>\n",
       "      <td>Sedan</td>\n",
       "      <td>No</td>\n",
       "      <td>CNG</td>\n",
       "      <td>1.6</td>\n",
       "      <td>0 km</td>\n",
       "      <td>4.0</td>\n",
       "      <td>Manual</td>\n",
       "      <td>Front</td>\n",
       "      <td>04-May</td>\n",
       "      <td>Left wheel</td>\n",
       "      <td>Carnelian red</td>\n",
       "      <td>2</td>\n",
       "    </tr>\n",
       "    <tr>\n",
       "      <th>12417</th>\n",
       "      <td>45647997</td>\n",
       "      <td>3136</td>\n",
       "      <td>781</td>\n",
       "      <td>TOYOTA</td>\n",
       "      <td>Camry</td>\n",
       "      <td>2012</td>\n",
       "      <td>Sedan</td>\n",
       "      <td>Yes</td>\n",
       "      <td>Hybrid</td>\n",
       "      <td>2.5</td>\n",
       "      <td>159379 km</td>\n",
       "      <td>4.0</td>\n",
       "      <td>Automatic</td>\n",
       "      <td>Front</td>\n",
       "      <td>04-May</td>\n",
       "      <td>Left wheel</td>\n",
       "      <td>White</td>\n",
       "      <td>12</td>\n",
       "    </tr>\n",
       "    <tr>\n",
       "      <th>11652</th>\n",
       "      <td>45814828</td>\n",
       "      <td>1882</td>\n",
       "      <td>862</td>\n",
       "      <td>TOYOTA</td>\n",
       "      <td>Camry</td>\n",
       "      <td>2011</td>\n",
       "      <td>Sedan</td>\n",
       "      <td>Yes</td>\n",
       "      <td>Petrol</td>\n",
       "      <td>2.5</td>\n",
       "      <td>236936 km</td>\n",
       "      <td>4.0</td>\n",
       "      <td>Automatic</td>\n",
       "      <td>Front</td>\n",
       "      <td>04-May</td>\n",
       "      <td>Left wheel</td>\n",
       "      <td>Blue</td>\n",
       "      <td>12</td>\n",
       "    </tr>\n",
       "    <tr>\n",
       "      <th>4105</th>\n",
       "      <td>45771649</td>\n",
       "      <td>862</td>\n",
       "      <td>584</td>\n",
       "      <td>KIA</td>\n",
       "      <td>Avella</td>\n",
       "      <td>2014</td>\n",
       "      <td>Sedan</td>\n",
       "      <td>Yes</td>\n",
       "      <td>Petrol</td>\n",
       "      <td>1.8</td>\n",
       "      <td>185334 km</td>\n",
       "      <td>4.0</td>\n",
       "      <td>Automatic</td>\n",
       "      <td>Front</td>\n",
       "      <td>04-May</td>\n",
       "      <td>Left wheel</td>\n",
       "      <td>Silver</td>\n",
       "      <td>11</td>\n",
       "    </tr>\n",
       "    <tr>\n",
       "      <th>3246</th>\n",
       "      <td>44825564</td>\n",
       "      <td>9722</td>\n",
       "      <td>1032</td>\n",
       "      <td>NISSAN</td>\n",
       "      <td>Note</td>\n",
       "      <td>2012</td>\n",
       "      <td>Hatchback</td>\n",
       "      <td>No</td>\n",
       "      <td>Petrol</td>\n",
       "      <td>1.2</td>\n",
       "      <td>69000 km</td>\n",
       "      <td>4.0</td>\n",
       "      <td>Automatic</td>\n",
       "      <td>Front</td>\n",
       "      <td>04-May</td>\n",
       "      <td>Right-hand drive</td>\n",
       "      <td>Black</td>\n",
       "      <td>6</td>\n",
       "    </tr>\n",
       "  </tbody>\n",
       "</table>\n",
       "</div>"
      ],
      "text/plain": [
       "             ID  Price  Levy Manufacturer    Model  Prod. year   Category  \\\n",
       "5580   45667168  12858  1408         FORD  Transit        2007   Microbus   \n",
       "2807   45810634  10697   363    CHEVROLET    Spark        2014  Hatchback   \n",
       "13930  45795977  23521     -         JEEP  Compass        2011       Jeep   \n",
       "15548  45732744  10349   639      HYUNDAI   Sonata        2014      Sedan   \n",
       "13384  45797532   7840     -         OPEL   Vectra        2000  Universal   \n",
       "6704   45792577   4077     -         OPEL   Vectra        1997      Sedan   \n",
       "12417  45647997   3136   781       TOYOTA    Camry        2012      Sedan   \n",
       "11652  45814828   1882   862       TOYOTA    Camry        2011      Sedan   \n",
       "4105   45771649    862   584          KIA   Avella        2014      Sedan   \n",
       "3246   44825564   9722  1032       NISSAN     Note        2012  Hatchback   \n",
       "\n",
       "      Leather interior Fuel type Engine volume    Mileage  Cylinders  \\\n",
       "5580                No    Diesel     2.2 Turbo  175000 km        4.0   \n",
       "2807               Yes    Petrol             1   95100 km        4.0   \n",
       "13930               No       LPG           2.4  104000 km        4.0   \n",
       "15548              Yes       LPG             2  406314 km        4.0   \n",
       "13384               No    Petrol           1.8  217500 km        4.0   \n",
       "6704                No       CNG           1.6       0 km        4.0   \n",
       "12417              Yes    Hybrid           2.5  159379 km        4.0   \n",
       "11652              Yes    Petrol           2.5  236936 km        4.0   \n",
       "4105               Yes    Petrol           1.8  185334 km        4.0   \n",
       "3246                No    Petrol           1.2   69000 km        4.0   \n",
       "\n",
       "      Gear box type Drive wheels   Doors             Wheel          Color  \\\n",
       "5580         Manual        Front  04-May        Left wheel          White   \n",
       "2807      Automatic        Front  04-May        Left wheel           Grey   \n",
       "13930     Automatic          4x4  04-May        Left wheel           Grey   \n",
       "15548     Automatic        Front  04-May        Left wheel          White   \n",
       "13384        Manual        Front  04-May        Left wheel         Silver   \n",
       "6704         Manual        Front  04-May        Left wheel  Carnelian red   \n",
       "12417     Automatic        Front  04-May        Left wheel          White   \n",
       "11652     Automatic        Front  04-May        Left wheel           Blue   \n",
       "4105      Automatic        Front  04-May        Left wheel         Silver   \n",
       "3246      Automatic        Front  04-May  Right-hand drive          Black   \n",
       "\n",
       "       Airbags  \n",
       "5580         2  \n",
       "2807         4  \n",
       "13930       10  \n",
       "15548        4  \n",
       "13384        4  \n",
       "6704         2  \n",
       "12417       12  \n",
       "11652       12  \n",
       "4105        11  \n",
       "3246         6  "
      ]
     },
     "execution_count": 39,
     "metadata": {},
     "output_type": "execute_result"
    }
   ],
   "source": [
    "dataset = pd.read_csv('car_price_prediction.csv')\n",
    "dataset.sample(10)"
   ]
  },
  {
   "cell_type": "markdown",
   "metadata": {},
   "source": [
    "## 3. Exploratory Data Analysis (EDA)"
   ]
  },
  {
   "cell_type": "code",
   "execution_count": 40,
   "metadata": {},
   "outputs": [
    {
     "data": {
      "text/plain": [
       "(19237, 18)"
      ]
     },
     "execution_count": 40,
     "metadata": {},
     "output_type": "execute_result"
    }
   ],
   "source": [
    "dataset.shape"
   ]
  },
  {
   "cell_type": "code",
   "execution_count": 41,
   "metadata": {},
   "outputs": [
    {
     "data": {
      "text/plain": [
       "ID                  0\n",
       "Price               0\n",
       "Levy                0\n",
       "Manufacturer        0\n",
       "Model               0\n",
       "Prod. year          0\n",
       "Category            0\n",
       "Leather interior    0\n",
       "Fuel type           0\n",
       "Engine volume       0\n",
       "Mileage             0\n",
       "Cylinders           0\n",
       "Gear box type       0\n",
       "Drive wheels        0\n",
       "Doors               0\n",
       "Wheel               0\n",
       "Color               0\n",
       "Airbags             0\n",
       "dtype: int64"
      ]
     },
     "execution_count": 41,
     "metadata": {},
     "output_type": "execute_result"
    }
   ],
   "source": [
    "dataset.isna().sum()\n"
   ]
  },
  {
   "cell_type": "code",
   "execution_count": 42,
   "metadata": {},
   "outputs": [
    {
     "data": {
      "text/html": [
       "<div>\n",
       "<style scoped>\n",
       "    .dataframe tbody tr th:only-of-type {\n",
       "        vertical-align: middle;\n",
       "    }\n",
       "\n",
       "    .dataframe tbody tr th {\n",
       "        vertical-align: top;\n",
       "    }\n",
       "\n",
       "    .dataframe thead th {\n",
       "        text-align: right;\n",
       "    }\n",
       "</style>\n",
       "<table border=\"1\" class=\"dataframe\">\n",
       "  <thead>\n",
       "    <tr style=\"text-align: right;\">\n",
       "      <th></th>\n",
       "      <th>Cylinders</th>\n",
       "    </tr>\n",
       "  </thead>\n",
       "  <tbody>\n",
       "    <tr>\n",
       "      <th>count</th>\n",
       "      <td>19237.000000</td>\n",
       "    </tr>\n",
       "    <tr>\n",
       "      <th>mean</th>\n",
       "      <td>4.582991</td>\n",
       "    </tr>\n",
       "    <tr>\n",
       "      <th>std</th>\n",
       "      <td>1.199933</td>\n",
       "    </tr>\n",
       "    <tr>\n",
       "      <th>min</th>\n",
       "      <td>1.000000</td>\n",
       "    </tr>\n",
       "    <tr>\n",
       "      <th>25%</th>\n",
       "      <td>4.000000</td>\n",
       "    </tr>\n",
       "    <tr>\n",
       "      <th>50%</th>\n",
       "      <td>4.000000</td>\n",
       "    </tr>\n",
       "    <tr>\n",
       "      <th>75%</th>\n",
       "      <td>4.000000</td>\n",
       "    </tr>\n",
       "    <tr>\n",
       "      <th>max</th>\n",
       "      <td>16.000000</td>\n",
       "    </tr>\n",
       "  </tbody>\n",
       "</table>\n",
       "</div>"
      ],
      "text/plain": [
       "          Cylinders\n",
       "count  19237.000000\n",
       "mean       4.582991\n",
       "std        1.199933\n",
       "min        1.000000\n",
       "25%        4.000000\n",
       "50%        4.000000\n",
       "75%        4.000000\n",
       "max       16.000000"
      ]
     },
     "execution_count": 42,
     "metadata": {},
     "output_type": "execute_result"
    }
   ],
   "source": [
    "dataset[['Levy', 'Engine volume', 'Cylinders']].describe()\n"
   ]
  },
  {
   "cell_type": "markdown",
   "metadata": {},
   "source": [
    "### Checking the Most Common Manufacturers"
   ]
  },
  {
   "cell_type": "code",
   "execution_count": 43,
   "metadata": {},
   "outputs": [
    {
     "data": {
      "text/plain": [
       "Manufacturer\n",
       "HYUNDAI          3769\n",
       "TOYOTA           3662\n",
       "MERCEDES-BENZ    2076\n",
       "FORD             1111\n",
       "CHEVROLET        1069\n",
       "                 ... \n",
       "TESLA               1\n",
       "PONTIAC             1\n",
       "SATURN              1\n",
       "ASTON MARTIN        1\n",
       "GREATWALL           1\n",
       "Name: count, Length: 65, dtype: int64"
      ]
     },
     "execution_count": 43,
     "metadata": {},
     "output_type": "execute_result"
    }
   ],
   "source": [
    "dataset['Manufacturer'].value_counts()\n"
   ]
  },
  {
   "cell_type": "markdown",
   "metadata": {},
   "source": [
    "### Price Distribution - Boxplot"
   ]
  },
  {
   "cell_type": "code",
   "execution_count": 44,
   "metadata": {},
   "outputs": [
    {
     "data": {
      "image/png": "[encoded data removed]",
      "text/plain": [
       "<Figure size 1000x800 with 1 Axes>"
      ]
     },
     "metadata": {},
     "output_type": "display_data"
    }
   ],
   "source": [
    "plt.figure(figsize=(10, 8))\n",
    "dataset.boxplot('Price')\n",
    "plt.show()\n"
   ]
  },
  {
   "cell_type": "markdown",
   "metadata": {},
   "source": [
    "### Price Distribution - Kernel Density Estimate (KDE)"
   ]
  },
  {
   "cell_type": "code",
   "execution_count": 45,
   "metadata": {},
   "outputs": [
    {
     "data": {
      "image/png": "[encoded data removed]",
      "text/plain": [
       "<Figure size 1000x800 with 1 Axes>"
      ]
     },
     "metadata": {},
     "output_type": "display_data"
    }
   ],
   "source": [
    "plt.figure(figsize=(10, 8))\n",
    "dataset['Price'].plot.kde()\n",
    "plt.show()\n"
   ]
  },
  {
   "cell_type": "markdown",
   "metadata": {},
   "source": [
    "### Price vs Manufacturer - Scatter Plot"
   ]
  },
  {
   "cell_type": "code",
   "execution_count": 46,
   "metadata": {},
   "outputs": [
    {
     "data": {
      "image/png": "[encoded data removed]",
      "text/plain": [
       "<Figure size 1000x800 with 1 Axes>"
      ]
     },
     "metadata": {},
     "output_type": "display_data"
    }
   ],
   "source": [
    "plt.figure(figsize=(10, 8))\n",
    "plt.scatter(dataset['Manufacturer'], dataset['Price'], s=200)\n",
    "plt.xlabel('Manufacturer', fontsize=20)\n",
    "plt.ylabel('Car costs in function of Manufacturer', fontsize=20)\n",
    "plt.show()\n"
   ]
  },
  {
   "cell_type": "markdown",
   "metadata": {},
   "source": [
    "## 4. Data Preprocessing\n",
    "### 4.1 Handling Missing and Non-Numeric Values\n"
   ]
  },
  {
   "cell_type": "code",
   "execution_count": 47,
   "metadata": {},
   "outputs": [],
   "source": [
    "\n",
    "dataset['Levy'] = pd.to_numeric(dataset['Levy'], errors='coerce').fillna(0)\n",
    "dataset['Engine volume'] = dataset['Engine volume'].str.extract(r'(\\d+\\.?\\d*)').astype(float)\n",
    "dataset['Mileage'] = dataset['Mileage'].str.replace(' km', '').astype(int)\n"
   ]
  },
  {
   "cell_type": "markdown",
   "metadata": {},
   "source": [
    "### One-Hot Encoding Categorical Features"
   ]
  },
  {
   "cell_type": "code",
   "execution_count": 48,
   "metadata": {},
   "outputs": [],
   "source": [
    "categorical_features = [\n",
    "    'Manufacturer', 'Model', 'Category', 'Leather interior',\n",
    "    'Fuel type', 'Gear box type', 'Drive wheels', 'Doors', 'Wheel', 'Color'\n",
    "]\n",
    "dataset = pd.get_dummies(dataset, columns=categorical_features, drop_first=True)\n"
   ]
  },
  {
   "cell_type": "markdown",
   "metadata": {},
   "source": [
    "### Normalizing Numeric Features"
   ]
  },
  {
   "cell_type": "code",
   "execution_count": 49,
   "metadata": {},
   "outputs": [],
   "source": [
    "numeric_features = ['Levy', 'Prod. year', 'Engine volume', 'Mileage', 'Cylinders', 'Airbags']\n",
    "scaler = MinMaxScaler()\n",
    "dataset[numeric_features] = scaler.fit_transform(dataset[numeric_features])\n"
   ]
  },
  {
   "cell_type": "markdown",
   "metadata": {},
   "source": [
    "### Splitting the Data into Features and Labels"
   ]
  },
  {
   "cell_type": "code",
   "execution_count": 50,
   "metadata": {},
   "outputs": [],
   "source": [
    "X = dataset.drop(columns=['ID', 'Price'])\n",
    "y = dataset['Price']\n",
    "\n",
    "X_train, X_test, y_train, y_test = train_test_split(X, y, test_size=0.2, random_state=42)\n"
   ]
  },
  {
   "cell_type": "markdown",
   "metadata": {},
   "source": [
    "## 5. Building the Base Model\n"
   ]
  },
  {
   "cell_type": "code",
   "execution_count": 51,
   "metadata": {},
   "outputs": [],
   "source": [
    "base_model = Sequential([\n",
    "    Dense(64, activation='relu', input_shape=(X_train.shape[1],)),\n",
    "    Dense(32, activation='relu'),\n",
    "    Dense(1)\n",
    "])\n",
    "\n",
    "base_model.compile(optimizer='adam', loss='mean_squared_error', metrics=['mae'])"
   ]
  },
  {
   "cell_type": "code",
   "execution_count": 52,
   "metadata": {},
   "outputs": [
    {
     "name": "stdout",
     "output_type": "stream",
     "text": [
      "Levy              float64\n",
      "Prod. year        float64\n",
      "Engine volume     float64\n",
      "Mileage           float64\n",
      "Cylinders         float64\n",
      "                   ...   \n",
      "Color_Red            bool\n",
      "Color_Silver         bool\n",
      "Color_Sky blue       bool\n",
      "Color_White          bool\n",
      "Color_Yellow         bool\n",
      "Length: 1699, dtype: object\n",
      "int64\n"
     ]
    }
   ],
   "source": [
    "print(X_train.dtypes)\n",
    "print(y_train.dtypes)\n"
   ]
  },
  {
   "cell_type": "code",
   "execution_count": 53,
   "metadata": {},
   "outputs": [],
   "source": [
    "X_train = X_train.apply(pd.to_numeric, errors='coerce')\n",
    "y_train = pd.to_numeric(y_train, errors='coerce')\n"
   ]
  },
  {
   "cell_type": "code",
   "execution_count": 54,
   "metadata": {},
   "outputs": [
    {
     "name": "stdout",
     "output_type": "stream",
     "text": [
      "Levy              0\n",
      "Prod. year        0\n",
      "Engine volume     0\n",
      "Mileage           0\n",
      "Cylinders         0\n",
      "                 ..\n",
      "Color_Red         0\n",
      "Color_Silver      0\n",
      "Color_Sky blue    0\n",
      "Color_White       0\n",
      "Color_Yellow      0\n",
      "Length: 1699, dtype: int64\n",
      "0\n"
     ]
    }
   ],
   "source": [
    "print(X_train.isna().sum())  # Check missing values\n",
    "print(y_train.isna().sum())\n",
    "\n",
    "X_train.fillna(0, inplace=True)  # Replace NaNs with 0 (or use another strategy)\n",
    "y_train.fillna(0, inplace=True)\n"
   ]
  },
  {
   "cell_type": "markdown",
   "metadata": {},
   "source": [
    "Convert to NumPy Array with Correct Data Type"
   ]
  },
  {
   "cell_type": "code",
   "execution_count": 55,
   "metadata": {},
   "outputs": [],
   "source": [
    "X_train = np.array(X_train, dtype=np.float32)\n",
    "y_train = np.array(y_train, dtype=np.float32)\n"
   ]
  },
  {
   "cell_type": "markdown",
   "metadata": {},
   "source": [
    "### 5.1 Training the Base Model\n"
   ]
  },
  {
   "cell_type": "code",
   "execution_count": 56,
   "metadata": {},
   "outputs": [
    {
     "name": "stdout",
     "output_type": "stream",
     "text": [
      "Epoch 1/50\n",
      "385/385 [==============================] - 2s 3ms/step - loss: 56938020864.0000 - mae: 19113.0488 - val_loss: 520616416.0000 - val_mae: 14998.0654\n",
      "Epoch 2/50\n",
      "385/385 [==============================] - 1s 3ms/step - loss: 56778629120.0000 - mae: 15863.7139 - val_loss: 361258240.0000 - val_mae: 11596.2676\n",
      "Epoch 3/50\n",
      "385/385 [==============================] - 1s 3ms/step - loss: 56648404992.0000 - mae: 13824.1152 - val_loss: 304076576.0000 - val_mae: 11099.6035\n",
      "Epoch 4/50\n",
      "385/385 [==============================] - 1s 3ms/step - loss: 56606208000.0000 - mae: 13692.2402 - val_loss: 290665504.0000 - val_mae: 11316.5459\n",
      "Epoch 5/50\n",
      "385/385 [==============================] - 1s 3ms/step - loss: 56589393920.0000 - mae: 13668.2666 - val_loss: 281759136.0000 - val_mae: 11146.0713\n",
      "Epoch 6/50\n",
      "385/385 [==============================] - 1s 3ms/step - loss: 56576671744.0000 - mae: 13483.3125 - val_loss: 273792384.0000 - val_mae: 10938.3018\n",
      "Epoch 7/50\n",
      "385/385 [==============================] - 1s 3ms/step - loss: 56565276672.0000 - mae: 13228.0117 - val_loss: 268078944.0000 - val_mae: 10898.7930\n",
      "Epoch 8/50\n",
      "385/385 [==============================] - 1s 3ms/step - loss: 56555155456.0000 - mae: 13140.1533 - val_loss: 262050288.0000 - val_mae: 10690.9912\n",
      "Epoch 9/50\n",
      "385/385 [==============================] - 1s 3ms/step - loss: 56546512896.0000 - mae: 12970.7256 - val_loss: 257256624.0000 - val_mae: 10557.6982\n",
      "Epoch 10/50\n",
      "385/385 [==============================] - 1s 3ms/step - loss: 56538550272.0000 - mae: 12829.6592 - val_loss: 253422544.0000 - val_mae: 10472.3730\n",
      "Epoch 11/50\n",
      "385/385 [==============================] - 1s 3ms/step - loss: 56530993152.0000 - mae: 12737.4424 - val_loss: 250439760.0000 - val_mae: 10443.3896\n",
      "Epoch 12/50\n",
      "385/385 [==============================] - 1s 3ms/step - loss: 56523776000.0000 - mae: 12634.4326 - val_loss: 247855520.0000 - val_mae: 10411.3262\n",
      "Epoch 13/50\n",
      "385/385 [==============================] - 1s 3ms/step - loss: 56517148672.0000 - mae: 12575.6416 - val_loss: 245603248.0000 - val_mae: 10376.9590\n",
      "Epoch 14/50\n",
      "385/385 [==============================] - 1s 3ms/step - loss: 56510849024.0000 - mae: 12522.2480 - val_loss: 243125152.0000 - val_mae: 10298.8291\n",
      "Epoch 15/50\n",
      "385/385 [==============================] - 1s 3ms/step - loss: 56504889344.0000 - mae: 12474.4805 - val_loss: 240622832.0000 - val_mae: 10196.1484\n",
      "Epoch 16/50\n",
      "385/385 [==============================] - 1s 3ms/step - loss: 56499367936.0000 - mae: 12399.1680 - val_loss: 238804704.0000 - val_mae: 10160.7432\n",
      "Epoch 17/50\n",
      "385/385 [==============================] - 1s 3ms/step - loss: 56493604864.0000 - mae: 12333.9219 - val_loss: 237463712.0000 - val_mae: 10165.3379\n",
      "Epoch 18/50\n",
      "385/385 [==============================] - 1s 3ms/step - loss: 56488013824.0000 - mae: 12335.4375 - val_loss: 235441408.0000 - val_mae: 10085.0244\n",
      "Epoch 19/50\n",
      "385/385 [==============================] - 1s 3ms/step - loss: 56482525184.0000 - mae: 12216.3516 - val_loss: 235044928.0000 - val_mae: 10163.6289\n",
      "Epoch 20/50\n",
      "385/385 [==============================] - 1s 3ms/step - loss: 56477057024.0000 - mae: 12264.4775 - val_loss: 233200592.0000 - val_mae: 10092.4678\n",
      "Epoch 21/50\n",
      "385/385 [==============================] - 1s 3ms/step - loss: 56471601152.0000 - mae: 12213.2783 - val_loss: 231585504.0000 - val_mae: 10027.4316\n",
      "Epoch 22/50\n",
      "385/385 [==============================] - 1s 3ms/step - loss: 56466231296.0000 - mae: 12186.4414 - val_loss: 230548800.0000 - val_mae: 10014.7354\n",
      "Epoch 23/50\n",
      "385/385 [==============================] - 1s 3ms/step - loss: 56460828672.0000 - mae: 12111.4268 - val_loss: 230043072.0000 - val_mae: 10045.6426\n",
      "Epoch 24/50\n",
      "385/385 [==============================] - 1s 3ms/step - loss: 56455475200.0000 - mae: 12147.1143 - val_loss: 228902896.0000 - val_mae: 10008.0205\n",
      "Epoch 25/50\n",
      "385/385 [==============================] - 1s 3ms/step - loss: 56450170880.0000 - mae: 12086.9111 - val_loss: 228204032.0000 - val_mae: 10005.7793\n",
      "Epoch 26/50\n",
      "385/385 [==============================] - 1s 3ms/step - loss: 56444821504.0000 - mae: 12073.3428 - val_loss: 227444576.0000 - val_mae: 9990.4814\n",
      "Epoch 27/50\n",
      "385/385 [==============================] - 1s 3ms/step - loss: 56439508992.0000 - mae: 12068.6084 - val_loss: 226443040.0000 - val_mae: 9937.8223\n",
      "Epoch 28/50\n",
      "385/385 [==============================] - 1s 3ms/step - loss: 56434286592.0000 - mae: 12047.3545 - val_loss: 225839440.0000 - val_mae: 9929.5732\n",
      "Epoch 29/50\n",
      "385/385 [==============================] - 1s 3ms/step - loss: 56429051904.0000 - mae: 11977.9219 - val_loss: 226234464.0000 - val_mae: 10013.8096\n",
      "Epoch 30/50\n",
      "385/385 [==============================] - 1s 3ms/step - loss: 56423383040.0000 - mae: 12043.0352 - val_loss: 225211360.0000 - val_mae: 9939.9844\n",
      "Epoch 31/50\n",
      "385/385 [==============================] - 1s 3ms/step - loss: 56418144256.0000 - mae: 11961.1504 - val_loss: 225375408.0000 - val_mae: 9996.1504\n",
      "Epoch 32/50\n",
      "385/385 [==============================] - 1s 3ms/step - loss: 56412684288.0000 - mae: 12004.5654 - val_loss: 224539936.0000 - val_mae: 9933.1543\n",
      "Epoch 33/50\n",
      "385/385 [==============================] - 1s 3ms/step - loss: 56407347200.0000 - mae: 11917.6494 - val_loss: 224744080.0000 - val_mae: 9994.4346\n",
      "Epoch 34/50\n",
      "385/385 [==============================] - 1s 3ms/step - loss: 56401498112.0000 - mae: 11993.7979 - val_loss: 224268256.0000 - val_mae: 9946.2275\n",
      "Epoch 35/50\n",
      "385/385 [==============================] - 1s 3ms/step - loss: 56396328960.0000 - mae: 11931.5205 - val_loss: 224329536.0000 - val_mae: 9967.8213\n",
      "Epoch 36/50\n",
      "385/385 [==============================] - 1s 3ms/step - loss: 56390823936.0000 - mae: 11892.2266 - val_loss: 225324720.0000 - val_mae: 10073.1719\n",
      "Epoch 37/50\n",
      "385/385 [==============================] - 1s 3ms/step - loss: 56384942080.0000 - mae: 11899.3408 - val_loss: 225534544.0000 - val_mae: 10091.8164\n",
      "Epoch 38/50\n",
      "385/385 [==============================] - 1s 3ms/step - loss: 56379076608.0000 - mae: 11967.8037 - val_loss: 224170000.0000 - val_mae: 9975.4014\n",
      "Epoch 39/50\n",
      "385/385 [==============================] - 1s 3ms/step - loss: 56374054912.0000 - mae: 11887.2432 - val_loss: 224586528.0000 - val_mae: 10013.0400\n",
      "Epoch 40/50\n",
      "385/385 [==============================] - 1s 3ms/step - loss: 56368218112.0000 - mae: 11876.2070 - val_loss: 224862896.0000 - val_mae: 10040.5137\n",
      "Epoch 41/50\n",
      "385/385 [==============================] - 1s 3ms/step - loss: 56362303488.0000 - mae: 11873.8750 - val_loss: 225052512.0000 - val_mae: 10050.1816\n",
      "Epoch 42/50\n",
      "385/385 [==============================] - 1s 3ms/step - loss: 56356446208.0000 - mae: 11857.3818 - val_loss: 224411984.0000 - val_mae: 10012.3623\n",
      "Epoch 43/50\n",
      "385/385 [==============================] - 1s 3ms/step - loss: 56350416896.0000 - mae: 11877.1816 - val_loss: 225354800.0000 - val_mae: 10053.0400\n",
      "Epoch 44/50\n",
      "385/385 [==============================] - 1s 3ms/step - loss: 56344248320.0000 - mae: 11873.2373 - val_loss: 224981552.0000 - val_mae: 10005.5566\n",
      "Epoch 45/50\n",
      "385/385 [==============================] - 1s 3ms/step - loss: 56338804736.0000 - mae: 11818.9561 - val_loss: 226472144.0000 - val_mae: 10123.3369\n",
      "Epoch 46/50\n",
      "385/385 [==============================] - 1s 3ms/step - loss: 56332414976.0000 - mae: 11812.8516 - val_loss: 226375888.0000 - val_mae: 10119.0713\n",
      "Epoch 47/50\n",
      "385/385 [==============================] - 1s 3ms/step - loss: 56325910528.0000 - mae: 11875.1777 - val_loss: 226192880.0000 - val_mae: 10057.5010\n",
      "Epoch 48/50\n",
      "385/385 [==============================] - 1s 3ms/step - loss: 56320200704.0000 - mae: 11811.4531 - val_loss: 227186224.0000 - val_mae: 10124.8848\n",
      "Epoch 49/50\n",
      "385/385 [==============================] - 1s 3ms/step - loss: 56313872384.0000 - mae: 11829.2783 - val_loss: 227349072.0000 - val_mae: 10108.9268\n",
      "Epoch 50/50\n",
      "385/385 [==============================] - 1s 3ms/step - loss: 56307687424.0000 - mae: 11793.0264 - val_loss: 228690576.0000 - val_mae: 10191.3965\n"
     ]
    }
   ],
   "source": [
    "base_history = base_model.fit(\n",
    "    X_train, y_train,\n",
    "    validation_split=0.2,\n",
    "    epochs=50,\n",
    "    batch_size=32,\n",
    "    verbose=1\n",
    ")\n"
   ]
  },
  {
   "cell_type": "code",
   "execution_count": 58,
   "metadata": {},
   "outputs": [
    {
     "name": "stdout",
     "output_type": "stream",
     "text": [
      "Levy              float64\n",
      "Prod. year        float64\n",
      "Engine volume     float64\n",
      "Mileage           float64\n",
      "Cylinders         float64\n",
      "                   ...   \n",
      "Color_Red            bool\n",
      "Color_Silver         bool\n",
      "Color_Sky blue       bool\n",
      "Color_White          bool\n",
      "Color_Yellow         bool\n",
      "Length: 1699, dtype: object\n",
      "int64\n",
      "Levy              0\n",
      "Prod. year        0\n",
      "Engine volume     0\n",
      "Mileage           0\n",
      "Cylinders         0\n",
      "                 ..\n",
      "Color_Red         0\n",
      "Color_Silver      0\n",
      "Color_Sky blue    0\n",
      "Color_White       0\n",
      "Color_Yellow      0\n",
      "Length: 1699, dtype: int64\n",
      "0\n"
     ]
    }
   ],
   "source": [
    "print(X_test.dtypes)\n",
    "print(y_test.dtypes)\n",
    "X_test = X_test.apply(pd.to_numeric, errors='coerce')\n",
    "y_test = pd.to_numeric(y_test, errors='coerce')\n",
    "print(X_test.isna().sum())  # Check missing values\n",
    "print(y_test.isna().sum())\n",
    "X_test.fillna(0, inplace=True)  # Replace NaNs with 0 (or another strategy)\n",
    "y_test.fillna(0, inplace=True)\n",
    "X_test = np.array(X_test, dtype=np.float32)\n",
    "y_test = np.array(y_test, dtype=np.float32)\n"
   ]
  },
  {
   "cell_type": "markdown",
   "metadata": {},
   "source": [
    "### Evaluating the Base Model"
   ]
  },
  {
   "cell_type": "code",
   "execution_count": 59,
   "metadata": {},
   "outputs": [
    {
     "name": "stdout",
     "output_type": "stream",
     "text": [
      "Base Model - Mean Absolute Error: 9860.1962890625\n"
     ]
    }
   ],
   "source": [
    "base_loss, base_mae = base_model.evaluate(X_test, y_test, verbose=0)\n",
    "print(f\"Base Model - Mean Absolute Error: {base_mae}\")\n"
   ]
  },
  {
   "cell_type": "markdown",
   "metadata": {},
   "source": [
    "## 6. Building an Enhanced Model with Dropout Layers\n"
   ]
  },
  {
   "cell_type": "code",
   "execution_count": 61,
   "metadata": {},
   "outputs": [],
   "source": [
    "def build_custom_model(input_shape):\n",
    "    inputs = Input(shape=(input_shape,))\n",
    "    x = Dense(128, activation='relu')(inputs)\n",
    "    x = Dropout(0.3)(x)\n",
    "    x = Dense(64, activation='relu')(x)\n",
    "    x = Dense(32, activation='relu')(x)\n",
    "    outputs = Dense(1)(x)\n",
    "    return Model(inputs, outputs)\n",
    "\n",
    "enhanced_model = build_custom_model(X_train.shape[1])\n",
    "\n",
    "enhanced_model.compile(optimizer=Adam(learning_rate=0.001), loss='mean_squared_error', metrics=['mae'])"
   ]
  },
  {
   "cell_type": "markdown",
   "metadata": {},
   "source": [
    "### Training the Enhanced Model"
   ]
  },
  {
   "cell_type": "code",
   "execution_count": 62,
   "metadata": {},
   "outputs": [
    {
     "name": "stdout",
     "output_type": "stream",
     "text": [
      "Epoch 1/100\n",
      "385/385 [==============================] - 3s 5ms/step - loss: 56797122560.0000 - mae: 16521.2109 - val_loss: 295499968.0000 - val_mae: 11576.8516\n",
      "Epoch 2/100\n",
      "385/385 [==============================] - 2s 4ms/step - loss: 56570204160.0000 - mae: 13602.9629 - val_loss: 262815568.0000 - val_mae: 10803.3154\n",
      "Epoch 3/100\n",
      "385/385 [==============================] - 2s 4ms/step - loss: 56539541504.0000 - mae: 12950.8516 - val_loss: 247675424.0000 - val_mae: 10269.6650\n",
      "Epoch 4/100\n",
      "385/385 [==============================] - 2s 4ms/step - loss: 56519602176.0000 - mae: 12635.6289 - val_loss: 241443584.0000 - val_mae: 10344.8965\n",
      "Epoch 5/100\n",
      "385/385 [==============================] - 2s 4ms/step - loss: 56495755264.0000 - mae: 12501.4785 - val_loss: 232687008.0000 - val_mae: 9981.2529\n",
      "Epoch 6/100\n",
      "385/385 [==============================] - 2s 4ms/step - loss: 56470011904.0000 - mae: 12326.4023 - val_loss: 228252768.0000 - val_mae: 9934.9346\n",
      "Epoch 7/100\n",
      "385/385 [==============================] - 2s 4ms/step - loss: 56456810496.0000 - mae: 12191.2178 - val_loss: 229965104.0000 - val_mae: 10233.1504\n",
      "Epoch 8/100\n",
      "385/385 [==============================] - 1s 4ms/step - loss: 56433815552.0000 - mae: 12210.3018 - val_loss: 222901584.0000 - val_mae: 9863.2744\n",
      "Epoch 9/100\n",
      "385/385 [==============================] - 2s 4ms/step - loss: 56399060992.0000 - mae: 12074.2168 - val_loss: 222640448.0000 - val_mae: 9846.5029\n",
      "Epoch 10/100\n",
      "385/385 [==============================] - 2s 4ms/step - loss: 56385597440.0000 - mae: 11993.2012 - val_loss: 224343008.0000 - val_mae: 10028.7422\n",
      "Epoch 11/100\n",
      "385/385 [==============================] - 1s 4ms/step - loss: 56362016768.0000 - mae: 11988.4443 - val_loss: 222722656.0000 - val_mae: 9894.5654\n",
      "Epoch 12/100\n",
      "385/385 [==============================] - 2s 4ms/step - loss: 56317870080.0000 - mae: 11932.0752 - val_loss: 225501280.0000 - val_mae: 9996.2148\n",
      "Epoch 13/100\n",
      "385/385 [==============================] - 2s 5ms/step - loss: 56305766400.0000 - mae: 11972.2148 - val_loss: 224695776.0000 - val_mae: 9897.5703\n",
      "Epoch 14/100\n",
      "385/385 [==============================] - 2s 4ms/step - loss: 56235827200.0000 - mae: 11850.8379 - val_loss: 228915808.0000 - val_mae: 10003.9023\n",
      "Epoch 15/100\n",
      "385/385 [==============================] - 2s 4ms/step - loss: 56196972544.0000 - mae: 11811.8174 - val_loss: 232929040.0000 - val_mae: 10018.8047\n",
      "Epoch 16/100\n",
      "385/385 [==============================] - 2s 4ms/step - loss: 56218746880.0000 - mae: 11855.0410 - val_loss: 232230528.0000 - val_mae: 9926.9141\n",
      "Epoch 17/100\n",
      "385/385 [==============================] - 1s 4ms/step - loss: 56111452160.0000 - mae: 11810.3008 - val_loss: 237657552.0000 - val_mae: 9999.9424\n",
      "Epoch 18/100\n",
      "385/385 [==============================] - 2s 4ms/step - loss: 56092860416.0000 - mae: 11740.6064 - val_loss: 244607392.0000 - val_mae: 10054.6045\n",
      "Epoch 19/100\n",
      "385/385 [==============================] - 2s 4ms/step - loss: 56005849088.0000 - mae: 11930.5898 - val_loss: 250147680.0000 - val_mae: 10210.0205\n"
     ]
    }
   ],
   "source": [
    "early_stopping = EarlyStopping(monitor='val_loss', patience=10, restore_best_weights=True)\n",
    "\n",
    "enhanced_history = enhanced_model.fit(\n",
    "    X_train, y_train,\n",
    "    validation_split=0.2,\n",
    "    epochs=100,\n",
    "    batch_size=32,\n",
    "    callbacks=[early_stopping],\n",
    "    verbose=1\n",
    ")\n"
   ]
  },
  {
   "cell_type": "markdown",
   "metadata": {},
   "source": [
    "### Evaluating the Enhanced Model"
   ]
  },
  {
   "cell_type": "code",
   "execution_count": 63,
   "metadata": {},
   "outputs": [
    {
     "name": "stdout",
     "output_type": "stream",
     "text": [
      "Enhanced Model - Mean Absolute Error: 9640.529296875\n"
     ]
    }
   ],
   "source": [
    "enhanced_loss, enhanced_mae = enhanced_model.evaluate(X_test, y_test, verbose=0)\n",
    "print(f\"Enhanced Model - Mean Absolute Error: {enhanced_mae}\")\n"
   ]
  },
  {
   "cell_type": "markdown",
   "metadata": {},
   "source": [
    "### Comparing Model Performance"
   ]
  },
  {
   "cell_type": "code",
   "execution_count": 64,
   "metadata": {},
   "outputs": [
    {
     "data": {
      "image/png": "[encoded data removed]",
      "text/plain": [
       "<Figure size 1200x600 with 1 Axes>"
      ]
     },
     "metadata": {},
     "output_type": "display_data"
    }
   ],
   "source": [
    "plt.figure(figsize=(12, 6))\n",
    "plt.plot(base_history.history['loss'], label='Base Model - Training Loss')\n",
    "plt.plot(base_history.history['val_loss'], label='Base Model - Validation Loss')\n",
    "plt.plot(enhanced_history.history['loss'], label='Enhanced Model - Training Loss')\n",
    "plt.plot(enhanced_history.history['val_loss'], label='Enhanced Model - Validation Loss')\n",
    "plt.xlabel('Epochs')\n",
    "plt.ylabel('Loss')\n",
    "plt.legend()\n",
    "plt.title('Comparison of Training and Validation Loss')\n",
    "plt.show()\n"
   ]
  },
  {
   "cell_type": "code",
   "execution_count": 66,
   "metadata": {},
   "outputs": [
    {
     "name": "stdout",
     "output_type": "stream",
     "text": [
      "Base Model MAE: 9860.1962890625\n",
      "Enhanced Model MAE: 9640.529296875\n"
     ]
    }
   ],
   "source": [
    "print(f\"Base Model MAE: {base_mae}\")\n",
    "print(f\"Enhanced Model MAE: {enhanced_mae}\")"
   ]
  },
  {
   "cell_type": "markdown",
   "metadata": {},
   "source": [
    "## 7. Creating a Custom Dense Layer"
   ]
  },
  {
   "cell_type": "code",
   "execution_count": 65,
   "metadata": {},
   "outputs": [],
   "source": [
    "class MyDense(layers.Layer):\n",
    "    def __init__(self, units, activation=None, **kwargs):\n",
    "        super(MyDense, self).__init__(**kwargs)\n",
    "        self.units = units\n",
    "        self.activation = activations.get(activation)\n",
    "\n",
    "    def build(self, input_shape):\n",
    "        input_dim = input_shape[-1]\n",
    "        self.kernel = self.add_weight(shape=(input_dim, self.units))\n",
    "\n",
    "    def call(self, inputs):\n",
    "        output = tf.matmul(inputs, self.kernel)\n",
    "        if self.activation is not None:\n",
    "            output = self.activation(output)\n",
    "        return output"
   ]
  }
 ],
 "metadata": {
  "kernelspec": {
   "display_name": "ml_env_3",
   "language": "python",
   "name": "python3"
  },
  "language_info": {
   "codemirror_mode": {
    "name": "ipython",
    "version": 3
   },
   "file_extension": ".py",
   "mimetype": "text/x-python",
   "name": "python",
   "nbconvert_exporter": "python",
   "pygments_lexer": "ipython3",
   "version": "3.10.16"
  }
 },
 "nbformat": 4,
 "nbformat_minor": 2
}
